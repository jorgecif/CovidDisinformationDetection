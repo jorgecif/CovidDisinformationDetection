{
  "nbformat": 4,
  "nbformat_minor": 0,
  "metadata": {
    "colab": {
      "name": " TFM_ScrapingReuters",
      "provenance": [],
      "mount_file_id": "1tMlWEb2gO8OiiQpQubixMBi6-qBepKzY",
      "authorship_tag": "ABX9TyNOP7MYL1c8PRCW5N3Zj1Ba",
      "include_colab_link": true
    },
    "kernelspec": {
      "name": "python3",
      "display_name": "Python 3"
    }
  },
  "cells": [
    {
      "cell_type": "markdown",
      "metadata": {
        "id": "view-in-github",
        "colab_type": "text"
      },
      "source": [
        "<a href=\"https://colab.research.google.com/github/jorgecif/CovidMisinformationDetection/blob/main/TFM_ScrapingReuters.ipynb\" target=\"_parent\"><img src=\"https://colab.research.google.com/assets/colab-badge.svg\" alt=\"Open In Colab\"/></a>"
      ]
    },
    {
      "cell_type": "markdown",
      "metadata": {
        "id": "duQYHT7sgsGP"
      },
      "source": [
        "# **Scraping de noticias desde Reuters.com** - Captura del titular de la noticia y su categoría\n",
        "\n",
        "\n",
        "> Por: Jorge Orlando Cifuentes Cifuentes."
      ]
    },
    {
      "cell_type": "code",
      "metadata": {
        "id": "IJT9S3h9g0eY"
      },
      "source": [
        "# Librerías\n",
        "import pandas as pd\n",
        "import numpy as np\n",
        "import lxml\n",
        "import requests\n",
        "import bs4\n",
        "from lxml import etree # Uso de LXML \n",
        "import time\n",
        "start = time.time()"
      ],
      "execution_count": null,
      "outputs": []
    },
    {
      "cell_type": "code",
      "metadata": {
        "id": "HHanBn29sDuD",
        "colab": {
          "base_uri": "https://localhost:8080/",
          "height": 1000
        },
        "outputId": "d677ee13-dcea-4a53-a274-7b4b6329bc2e"
      },
      "source": [
        "# Función para construir lista de páginas para hacer scraping\n",
        "\n",
        "def lista_de_paginas(numero, pagina):\n",
        "  feeds_list = []\n",
        "  for i in range(1,numero+1):\n",
        "    item=pagina+\"?view=page&page=\"+str(i)\n",
        "    feeds_list.append(item)\n",
        "  return feeds_list\n",
        "\n",
        "# Lista de páginas \n",
        "N_paginas=100\n",
        "\n",
        "#Pag_ini=\"https://www.reuters.com/news/archive/politicsnews\" # Politics\n",
        "#Pag_ini=\"https://www.reuters.com/news/health\" # Health\n",
        "#Pag_ini=\"https://www.reuters.com/subjects/environment\" # Enviroment\n",
        "#Pag_ini=\"https://www.reuters.com/news/technology\" # Technology\n",
        "#Pag_ini=\"https://www.reuters.com/subjects/banks\" # Finance\n",
        "#Pag_ini=\"https://www.reuters.com/news/lifestyle\" # Lifestyle\n",
        "#Pag_ini=\"https://www.reuters.com/news/science\" # Science\n",
        "Pag_ini=\"https://www.reuters.com/news/archive/sportsnews\" # Sports\n",
        "#Pag_ini=\"https://www.reuters.com/world/us-election2020\" # US elections 2020\n",
        "\n",
        "\n",
        "lista_paginas_cat1=lista_de_paginas(N_paginas, Pag_ini)\n",
        "display(lista_paginas_cat1)"
      ],
      "execution_count": null,
      "outputs": [
        {
          "output_type": "display_data",
          "data": {
            "text/plain": [
              "['https://www.reuters.com/news/archive/sportsnews?view=page&page=1',\n",
              " 'https://www.reuters.com/news/archive/sportsnews?view=page&page=2',\n",
              " 'https://www.reuters.com/news/archive/sportsnews?view=page&page=3',\n",
              " 'https://www.reuters.com/news/archive/sportsnews?view=page&page=4',\n",
              " 'https://www.reuters.com/news/archive/sportsnews?view=page&page=5',\n",
              " 'https://www.reuters.com/news/archive/sportsnews?view=page&page=6',\n",
              " 'https://www.reuters.com/news/archive/sportsnews?view=page&page=7',\n",
              " 'https://www.reuters.com/news/archive/sportsnews?view=page&page=8',\n",
              " 'https://www.reuters.com/news/archive/sportsnews?view=page&page=9',\n",
              " 'https://www.reuters.com/news/archive/sportsnews?view=page&page=10',\n",
              " 'https://www.reuters.com/news/archive/sportsnews?view=page&page=11',\n",
              " 'https://www.reuters.com/news/archive/sportsnews?view=page&page=12',\n",
              " 'https://www.reuters.com/news/archive/sportsnews?view=page&page=13',\n",
              " 'https://www.reuters.com/news/archive/sportsnews?view=page&page=14',\n",
              " 'https://www.reuters.com/news/archive/sportsnews?view=page&page=15',\n",
              " 'https://www.reuters.com/news/archive/sportsnews?view=page&page=16',\n",
              " 'https://www.reuters.com/news/archive/sportsnews?view=page&page=17',\n",
              " 'https://www.reuters.com/news/archive/sportsnews?view=page&page=18',\n",
              " 'https://www.reuters.com/news/archive/sportsnews?view=page&page=19',\n",
              " 'https://www.reuters.com/news/archive/sportsnews?view=page&page=20',\n",
              " 'https://www.reuters.com/news/archive/sportsnews?view=page&page=21',\n",
              " 'https://www.reuters.com/news/archive/sportsnews?view=page&page=22',\n",
              " 'https://www.reuters.com/news/archive/sportsnews?view=page&page=23',\n",
              " 'https://www.reuters.com/news/archive/sportsnews?view=page&page=24',\n",
              " 'https://www.reuters.com/news/archive/sportsnews?view=page&page=25',\n",
              " 'https://www.reuters.com/news/archive/sportsnews?view=page&page=26',\n",
              " 'https://www.reuters.com/news/archive/sportsnews?view=page&page=27',\n",
              " 'https://www.reuters.com/news/archive/sportsnews?view=page&page=28',\n",
              " 'https://www.reuters.com/news/archive/sportsnews?view=page&page=29',\n",
              " 'https://www.reuters.com/news/archive/sportsnews?view=page&page=30',\n",
              " 'https://www.reuters.com/news/archive/sportsnews?view=page&page=31',\n",
              " 'https://www.reuters.com/news/archive/sportsnews?view=page&page=32',\n",
              " 'https://www.reuters.com/news/archive/sportsnews?view=page&page=33',\n",
              " 'https://www.reuters.com/news/archive/sportsnews?view=page&page=34',\n",
              " 'https://www.reuters.com/news/archive/sportsnews?view=page&page=35',\n",
              " 'https://www.reuters.com/news/archive/sportsnews?view=page&page=36',\n",
              " 'https://www.reuters.com/news/archive/sportsnews?view=page&page=37',\n",
              " 'https://www.reuters.com/news/archive/sportsnews?view=page&page=38',\n",
              " 'https://www.reuters.com/news/archive/sportsnews?view=page&page=39',\n",
              " 'https://www.reuters.com/news/archive/sportsnews?view=page&page=40',\n",
              " 'https://www.reuters.com/news/archive/sportsnews?view=page&page=41',\n",
              " 'https://www.reuters.com/news/archive/sportsnews?view=page&page=42',\n",
              " 'https://www.reuters.com/news/archive/sportsnews?view=page&page=43',\n",
              " 'https://www.reuters.com/news/archive/sportsnews?view=page&page=44',\n",
              " 'https://www.reuters.com/news/archive/sportsnews?view=page&page=45',\n",
              " 'https://www.reuters.com/news/archive/sportsnews?view=page&page=46',\n",
              " 'https://www.reuters.com/news/archive/sportsnews?view=page&page=47',\n",
              " 'https://www.reuters.com/news/archive/sportsnews?view=page&page=48',\n",
              " 'https://www.reuters.com/news/archive/sportsnews?view=page&page=49',\n",
              " 'https://www.reuters.com/news/archive/sportsnews?view=page&page=50',\n",
              " 'https://www.reuters.com/news/archive/sportsnews?view=page&page=51',\n",
              " 'https://www.reuters.com/news/archive/sportsnews?view=page&page=52',\n",
              " 'https://www.reuters.com/news/archive/sportsnews?view=page&page=53',\n",
              " 'https://www.reuters.com/news/archive/sportsnews?view=page&page=54',\n",
              " 'https://www.reuters.com/news/archive/sportsnews?view=page&page=55',\n",
              " 'https://www.reuters.com/news/archive/sportsnews?view=page&page=56',\n",
              " 'https://www.reuters.com/news/archive/sportsnews?view=page&page=57',\n",
              " 'https://www.reuters.com/news/archive/sportsnews?view=page&page=58',\n",
              " 'https://www.reuters.com/news/archive/sportsnews?view=page&page=59',\n",
              " 'https://www.reuters.com/news/archive/sportsnews?view=page&page=60',\n",
              " 'https://www.reuters.com/news/archive/sportsnews?view=page&page=61',\n",
              " 'https://www.reuters.com/news/archive/sportsnews?view=page&page=62',\n",
              " 'https://www.reuters.com/news/archive/sportsnews?view=page&page=63',\n",
              " 'https://www.reuters.com/news/archive/sportsnews?view=page&page=64',\n",
              " 'https://www.reuters.com/news/archive/sportsnews?view=page&page=65',\n",
              " 'https://www.reuters.com/news/archive/sportsnews?view=page&page=66',\n",
              " 'https://www.reuters.com/news/archive/sportsnews?view=page&page=67',\n",
              " 'https://www.reuters.com/news/archive/sportsnews?view=page&page=68',\n",
              " 'https://www.reuters.com/news/archive/sportsnews?view=page&page=69',\n",
              " 'https://www.reuters.com/news/archive/sportsnews?view=page&page=70',\n",
              " 'https://www.reuters.com/news/archive/sportsnews?view=page&page=71',\n",
              " 'https://www.reuters.com/news/archive/sportsnews?view=page&page=72',\n",
              " 'https://www.reuters.com/news/archive/sportsnews?view=page&page=73',\n",
              " 'https://www.reuters.com/news/archive/sportsnews?view=page&page=74',\n",
              " 'https://www.reuters.com/news/archive/sportsnews?view=page&page=75',\n",
              " 'https://www.reuters.com/news/archive/sportsnews?view=page&page=76',\n",
              " 'https://www.reuters.com/news/archive/sportsnews?view=page&page=77',\n",
              " 'https://www.reuters.com/news/archive/sportsnews?view=page&page=78',\n",
              " 'https://www.reuters.com/news/archive/sportsnews?view=page&page=79',\n",
              " 'https://www.reuters.com/news/archive/sportsnews?view=page&page=80',\n",
              " 'https://www.reuters.com/news/archive/sportsnews?view=page&page=81',\n",
              " 'https://www.reuters.com/news/archive/sportsnews?view=page&page=82',\n",
              " 'https://www.reuters.com/news/archive/sportsnews?view=page&page=83',\n",
              " 'https://www.reuters.com/news/archive/sportsnews?view=page&page=84',\n",
              " 'https://www.reuters.com/news/archive/sportsnews?view=page&page=85',\n",
              " 'https://www.reuters.com/news/archive/sportsnews?view=page&page=86',\n",
              " 'https://www.reuters.com/news/archive/sportsnews?view=page&page=87',\n",
              " 'https://www.reuters.com/news/archive/sportsnews?view=page&page=88',\n",
              " 'https://www.reuters.com/news/archive/sportsnews?view=page&page=89',\n",
              " 'https://www.reuters.com/news/archive/sportsnews?view=page&page=90',\n",
              " 'https://www.reuters.com/news/archive/sportsnews?view=page&page=91',\n",
              " 'https://www.reuters.com/news/archive/sportsnews?view=page&page=92',\n",
              " 'https://www.reuters.com/news/archive/sportsnews?view=page&page=93',\n",
              " 'https://www.reuters.com/news/archive/sportsnews?view=page&page=94',\n",
              " 'https://www.reuters.com/news/archive/sportsnews?view=page&page=95',\n",
              " 'https://www.reuters.com/news/archive/sportsnews?view=page&page=96',\n",
              " 'https://www.reuters.com/news/archive/sportsnews?view=page&page=97',\n",
              " 'https://www.reuters.com/news/archive/sportsnews?view=page&page=98',\n",
              " 'https://www.reuters.com/news/archive/sportsnews?view=page&page=99',\n",
              " 'https://www.reuters.com/news/archive/sportsnews?view=page&page=100']"
            ]
          },
          "metadata": {
            "tags": []
          }
        }
      ]
    },
    {
      "cell_type": "code",
      "metadata": {
        "id": "bqodm19FaVpv",
        "colab": {
          "base_uri": "https://localhost:8080/"
        },
        "outputId": "5e671240-d68e-4750-e67c-d59b4c03345f"
      },
      "source": [
        "# Ejecución del scraping y parseo de datos de la lista de páginas\n",
        "datafeedsHTML = []\n",
        "title_list = []\n",
        "description_list = []\n",
        "timestamp_list =[]\n",
        "n_news=12 # Número de noticias por página\n",
        "for feed in lista_paginas_cat1:\n",
        "    response = requests.get(feed)\n",
        "    xml_page = bs4.BeautifulSoup(response.text, \"lxml\")\n",
        "    val=0\n",
        "    for sub_heading in xml_page.find_all('p'):\n",
        "        val=val+1\n",
        "        if val <= n_news:\n",
        "          description_list.append(sub_heading.contents)\n",
        "\n",
        "stop = time.time()\n",
        "tiempo_scraping=stop - start\n",
        "print(f\"Tiempo de scraping: {tiempo_scraping}s\")"
      ],
      "execution_count": null,
      "outputs": [
        {
          "output_type": "stream",
          "text": [
            "Tiempo de scraping: 78.96395564079285s\n"
          ],
          "name": "stdout"
        }
      ]
    },
    {
      "cell_type": "code",
      "metadata": {
        "id": "GxIFO9C1aoAv"
      },
      "source": [
        "# Creo el dataframe con las listas\n",
        "news_df = pd.DataFrame(description_list)\n"
      ],
      "execution_count": null,
      "outputs": []
    },
    {
      "cell_type": "code",
      "metadata": {
        "id": "4owEC7gAZqzX"
      },
      "source": [
        "# Creo archivo csv a partir de dataframe\n",
        "\n",
        "news_df[0].to_csv ('dataframe.csv', index = True, header=True)\n"
      ],
      "execution_count": null,
      "outputs": []
    },
    {
      "cell_type": "code",
      "metadata": {
        "id": "YDM908HhfchO",
        "colab": {
          "base_uri": "https://localhost:8080/",
          "height": 419
        },
        "outputId": "61daecc1-2a6c-43db-f3d2-2fc19901c7ea"
      },
      "source": [
        "news_df"
      ],
      "execution_count": null,
      "outputs": [
        {
          "output_type": "execute_result",
          "data": {
            "text/html": [
              "<div>\n",
              "<style scoped>\n",
              "    .dataframe tbody tr th:only-of-type {\n",
              "        vertical-align: middle;\n",
              "    }\n",
              "\n",
              "    .dataframe tbody tr th {\n",
              "        vertical-align: top;\n",
              "    }\n",
              "\n",
              "    .dataframe thead th {\n",
              "        text-align: right;\n",
              "    }\n",
              "</style>\n",
              "<table border=\"1\" class=\"dataframe\">\n",
              "  <thead>\n",
              "    <tr style=\"text-align: right;\">\n",
              "      <th></th>\n",
              "      <th>0</th>\n",
              "    </tr>\n",
              "  </thead>\n",
              "  <tbody>\n",
              "    <tr>\n",
              "      <th>0</th>\n",
              "      <td>Diego Maradona has been admitted to hospital i...</td>\n",
              "    </tr>\n",
              "    <tr>\n",
              "      <th>1</th>\n",
              "      <td>The United States Golf Association added 10 pl...</td>\n",
              "    </tr>\n",
              "    <tr>\n",
              "      <th>2</th>\n",
              "      <td>Mainland China reported 49 new COVID-19 cases ...</td>\n",
              "    </tr>\n",
              "    <tr>\n",
              "      <th>3</th>\n",
              "      <td>The Danny O'Brien-trained King of Leogrance ha...</td>\n",
              "    </tr>\n",
              "    <tr>\n",
              "      <th>4</th>\n",
              "      <td>Chicago Bears wide receiver Javon Wims was sus...</td>\n",
              "    </tr>\n",
              "    <tr>\n",
              "      <th>...</th>\n",
              "      <td>...</td>\n",
              "    </tr>\n",
              "    <tr>\n",
              "      <th>1195</th>\n",
              "      <td>Following are facts and records ahead of the 1...</td>\n",
              "    </tr>\n",
              "    <tr>\n",
              "      <th>1196</th>\n",
              "      <td>Penpix of the top women's contenders at the 20...</td>\n",
              "    </tr>\n",
              "    <tr>\n",
              "      <th>1197</th>\n",
              "      <td>Novak Djokovic will release any pent up frustr...</td>\n",
              "    </tr>\n",
              "    <tr>\n",
              "      <th>1198</th>\n",
              "      <td>As a polarizing campaign that has shattered ea...</td>\n",
              "    </tr>\n",
              "    <tr>\n",
              "      <th>1199</th>\n",
              "      <td>Democratic presidential candidate Joe Biden sa...</td>\n",
              "    </tr>\n",
              "  </tbody>\n",
              "</table>\n",
              "<p>1200 rows × 1 columns</p>\n",
              "</div>"
            ],
            "text/plain": [
              "                                                      0\n",
              "0     Diego Maradona has been admitted to hospital i...\n",
              "1     The United States Golf Association added 10 pl...\n",
              "2     Mainland China reported 49 new COVID-19 cases ...\n",
              "3     The Danny O'Brien-trained King of Leogrance ha...\n",
              "4     Chicago Bears wide receiver Javon Wims was sus...\n",
              "...                                                 ...\n",
              "1195  Following are facts and records ahead of the 1...\n",
              "1196  Penpix of the top women's contenders at the 20...\n",
              "1197  Novak Djokovic will release any pent up frustr...\n",
              "1198  As a polarizing campaign that has shattered ea...\n",
              "1199  Democratic presidential candidate Joe Biden sa...\n",
              "\n",
              "[1200 rows x 1 columns]"
            ]
          },
          "metadata": {
            "tags": []
          },
          "execution_count": 12
        }
      ]
    },
    {
      "cell_type": "code",
      "metadata": {
        "id": "5I9vZUp138oi"
      },
      "source": [
        ""
      ],
      "execution_count": null,
      "outputs": []
    }
  ]
}