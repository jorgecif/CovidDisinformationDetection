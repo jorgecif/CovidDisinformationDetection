{
  "nbformat": 4,
  "nbformat_minor": 0,
  "metadata": {
    "colab": {
      "name": "TFM_Modelo2_FN_Comparacion_NB-RF-LOG-SVM_v1",
      "provenance": [],
      "collapsed_sections": [
        "P2No5GI7ZpcV",
        "6hEMsv62bV8F",
        "vU2VJGUsbmMf",
        "3qL2QQ3Qdp_-",
        "D8LNbfpQef_a",
        "hRq6NjjQGqVQ",
        "2ZKbz3j-e8hO",
        "dFkayjTyf1N1",
        "MNogsmYdgyUU",
        "tXjbtwuyg1JM"
      ],
      "mount_file_id": "1CinOxTVpDT-25XKQKX3W9lH7hCeQzOYd",
      "authorship_tag": "ABX9TyMq22/5o5WYOKdxxDYzZ2HW",
      "include_colab_link": true
    },
    "kernelspec": {
      "name": "python3",
      "display_name": "Python 3"
    }
  },
  "cells": [
    {
      "cell_type": "markdown",
      "metadata": {
        "id": "view-in-github",
        "colab_type": "text"
      },
      "source": [
        "<a href=\"https://colab.research.google.com/github/jorgecif/CovidMisinformationDetection/blob/main/ComparacionMetodosDeteccionDesinformacionCOVID.ipynb\" target=\"_parent\"><img src=\"https://colab.research.google.com/assets/colab-badge.svg\" alt=\"Open In Colab\"/></a>"
      ]
    },
    {
      "cell_type": "markdown",
      "metadata": {
        "id": "lKRG-YkxAAh5"
      },
      "source": [
        "# **Detección de noticias falsas por medio de técnicas de aprendizaje automático y procesamiento de lenguaje natural** - Comparación de modelos de detección de noticias falsas (Naive Bayes, Logistic, RandomForest, SVM)\n",
        "\n",
        "\n",
        "> Por: Jorge Orlando Cifuentes Cifuentes\n",
        "\n",
        "\n"
      ]
    },
    {
      "cell_type": "markdown",
      "metadata": {
        "id": "yx7FUXUlCBtf"
      },
      "source": [
        "### Librerías"
      ]
    },
    {
      "cell_type": "code",
      "metadata": {
        "id": "n7FiZIspB_9s"
      },
      "source": [
        "# Generales\n",
        "import warnings\n",
        "warnings.filterwarnings('ignore')\n",
        "#import csv\n",
        "#import tensorflow as tf\n",
        "import pandas as pd\n",
        "import numpy as np\n",
        "import joblib # Para exportar el modelo\n",
        "\n",
        "\n",
        "# Gráficas\n",
        "import matplotlib.pyplot as plt\n",
        "import seaborn as sns\n",
        "\n",
        "\n",
        "# Preprocesamiento\n",
        "#import nltk\n",
        "#nltk.download('stopwords')\n",
        "#from nltk.corpus import stopwords\n",
        "\n",
        "\n",
        "# Machine learning\n",
        "from sklearn.feature_extraction.text import CountVectorizer\n",
        "from sklearn.linear_model import LogisticRegression # Logistic\n",
        "from sklearn.ensemble import RandomForestClassifier # Random Forest\n",
        "from sklearn.svm import LinearSVC # Support Vector\n",
        "from sklearn.naive_bayes import MultinomialNB # Naive Bayes\n",
        "from sklearn.model_selection import cross_val_score\n",
        "from sklearn.model_selection import train_test_split\n",
        "\n",
        "\n",
        "\n",
        "#from tensorflow.keras.preprocessing.text import Tokenizer\n",
        "#from tensorflow.keras.preprocessing.sequence import pad_sequences\n",
        "#from sklearn.naive_bayes import MultinomialNB # Naive Bayes\n",
        "#from sklearn.ensemble import RandomForestClassifier # Random Forest\n",
        "#from sklearn.svm import LinearSVC # Support Vector\n",
        "#from sklearn.metrics import confusion_matrix, classification_report\n",
        "\n",
        "# Machine learning\n",
        "from sklearn.feature_extraction.text import CountVectorizer\n",
        "from sklearn.model_selection import cross_val_score\n",
        "from sklearn.model_selection import train_test_split\n",
        "from keras.layers import Input, Dense, Embedding, LSTM, SpatialDropout1D, Flatten, Dropout\n",
        "from sklearn.feature_extraction.text import CountVectorizer\n",
        "from keras.preprocessing.text import Tokenizer\n",
        "from keras.preprocessing.sequence import pad_sequences\n",
        "from keras.utils.np_utils import to_categorical\n",
        "from keras.models import Model\n",
        "from keras.models import Sequential\n",
        "from keras.callbacks import EarlyStopping\n",
        "\n",
        "\n",
        "import tensorflow as tf\n",
        "from tensorflow.keras import layers\n",
        "from tensorflow.keras import Model\n",
        "\n",
        "\n",
        "\n",
        "# Parámetros\n",
        "#STOPWORDS = set(stopwords.words('english'))\n",
        "#vocab_size = 5000\n",
        "##embedding_dim = 64\n",
        "#max_length = 200\n",
        "#trunc_type = 'post'\n",
        "#padding_type = 'post'\n",
        "#oov_tok = '<OOV>'\n"
      ],
      "execution_count": 2,
      "outputs": []
    },
    {
      "cell_type": "markdown",
      "metadata": {
        "id": "ZfmfhxSOCH_f"
      },
      "source": [
        "### Carga de datos"
      ]
    },
    {
      "cell_type": "code",
      "metadata": {
        "id": "r4Gu6usy63PS",
        "colab": {
          "base_uri": "https://localhost:8080/",
          "height": 553
        },
        "outputId": "a460e8ce-f238-4b69-e681-d04a44078a31"
      },
      "source": [
        "# Carga de datos\n",
        "# Para efectos de prueba cargo las 1000 primeras líneas\n",
        "\n",
        "#nrows= 1000 # número de registros a cargar\n",
        "\n",
        "datos = pd.read_excel('/content/drive/My Drive/MaestriaAI2020/TFM/Datos/DatosTFM/News_Covid_v3.xlsx')\n",
        "\n",
        "\n",
        "\n",
        "print(\"Se han cargado \", datos.shape[0], \" noticias\")\n",
        "\n",
        "\n",
        "# Muestra de los datos\n",
        "print(len(datos))\n",
        "datos.head()\n"
      ],
      "execution_count": 3,
      "outputs": [
        {
          "output_type": "stream",
          "text": [
            "Se han cargado  21721  noticias\n",
            "21721\n"
          ],
          "name": "stdout"
        },
        {
          "output_type": "execute_result",
          "data": {
            "text/html": [
              "<div>\n",
              "<style scoped>\n",
              "    .dataframe tbody tr th:only-of-type {\n",
              "        vertical-align: middle;\n",
              "    }\n",
              "\n",
              "    .dataframe tbody tr th {\n",
              "        vertical-align: top;\n",
              "    }\n",
              "\n",
              "    .dataframe thead th {\n",
              "        text-align: right;\n",
              "    }\n",
              "</style>\n",
              "<table border=\"1\" class=\"dataframe\">\n",
              "  <thead>\n",
              "    <tr style=\"text-align: right;\">\n",
              "      <th></th>\n",
              "      <th>Text</th>\n",
              "      <th>country</th>\n",
              "      <th>lang</th>\n",
              "      <th>label</th>\n",
              "      <th>URL</th>\n",
              "      <th>date</th>\n",
              "      <th>verificado_por</th>\n",
              "    </tr>\n",
              "  </thead>\n",
              "  <tbody>\n",
              "    <tr>\n",
              "      <th>0</th>\n",
              "      <td>Britain’s Death Toll from the Coronavirus Riva...</td>\n",
              "      <td>United Kingdom</td>\n",
              "      <td>English</td>\n",
              "      <td>True</td>\n",
              "      <td>https://www.snopes.com/ap/2020/05/05/britains-...</td>\n",
              "      <td>2020-02-02 00:00:00</td>\n",
              "      <td>snopes</td>\n",
              "    </tr>\n",
              "    <tr>\n",
              "      <th>1</th>\n",
              "      <td>Timeline Reset: CDC Confirms Weeks-Earlier Cal...</td>\n",
              "      <td>United States</td>\n",
              "      <td>English</td>\n",
              "      <td>True</td>\n",
              "      <td>https://www.snopes.com/ap/2020/04/22/timeline-...</td>\n",
              "      <td>2020-06-03 00:00:00</td>\n",
              "      <td>snopes</td>\n",
              "    </tr>\n",
              "    <tr>\n",
              "      <th>2</th>\n",
              "      <td>Dentists, Hair Salons, Beaches: Lockdowns Ease...</td>\n",
              "      <td>United States</td>\n",
              "      <td>English</td>\n",
              "      <td>True</td>\n",
              "      <td>https://www.snopes.com/ap/2020/04/20/dentists-...</td>\n",
              "      <td>2020-08-03 00:00:00</td>\n",
              "      <td>snopes</td>\n",
              "    </tr>\n",
              "    <tr>\n",
              "      <th>3</th>\n",
              "      <td>33 Million Have Sought US Unemployment Aid Sin...</td>\n",
              "      <td>United States</td>\n",
              "      <td>English</td>\n",
              "      <td>True</td>\n",
              "      <td>https://www.snopes.com/ap/2020/05/07/33-millio...</td>\n",
              "      <td>2020-09-03 00:00:00</td>\n",
              "      <td>snopes</td>\n",
              "    </tr>\n",
              "    <tr>\n",
              "      <th>4</th>\n",
              "      <td>United States ‘Wasted’ Months Before Preparing...</td>\n",
              "      <td>United States</td>\n",
              "      <td>English</td>\n",
              "      <td>True</td>\n",
              "      <td>https://www.snopes.com/ap/2020/04/05/u-s-waste...</td>\n",
              "      <td>2020-03-04 00:00:00</td>\n",
              "      <td>snopes</td>\n",
              "    </tr>\n",
              "  </tbody>\n",
              "</table>\n",
              "</div>"
            ],
            "text/plain": [
              "                                                Text  ... verificado_por\n",
              "0  Britain’s Death Toll from the Coronavirus Riva...  ...         snopes\n",
              "1  Timeline Reset: CDC Confirms Weeks-Earlier Cal...  ...         snopes\n",
              "2  Dentists, Hair Salons, Beaches: Lockdowns Ease...  ...         snopes\n",
              "3  33 Million Have Sought US Unemployment Aid Sin...  ...         snopes\n",
              "4  United States ‘Wasted’ Months Before Preparing...  ...         snopes\n",
              "\n",
              "[5 rows x 7 columns]"
            ]
          },
          "metadata": {
            "tags": []
          },
          "execution_count": 3
        }
      ]
    },
    {
      "cell_type": "code",
      "metadata": {
        "id": "jXwKQcHdbscV",
        "colab": {
          "base_uri": "https://localhost:8080/"
        },
        "outputId": "8df82158-4622-4a47-99fc-294fe7281071"
      },
      "source": [
        "# Verifico si hay valores nulos\n",
        "datos.info() "
      ],
      "execution_count": 4,
      "outputs": [
        {
          "output_type": "stream",
          "text": [
            "<class 'pandas.core.frame.DataFrame'>\n",
            "RangeIndex: 21721 entries, 0 to 21720\n",
            "Data columns (total 7 columns):\n",
            " #   Column          Non-Null Count  Dtype \n",
            "---  ------          --------------  ----- \n",
            " 0   Text            21721 non-null  object\n",
            " 1   country         21721 non-null  object\n",
            " 2   lang            21721 non-null  object\n",
            " 3   label           21721 non-null  bool  \n",
            " 4   URL             21623 non-null  object\n",
            " 5   date            15183 non-null  object\n",
            " 6   verificado_por  21721 non-null  object\n",
            "dtypes: bool(1), object(6)\n",
            "memory usage: 1.0+ MB\n"
          ],
          "name": "stdout"
        }
      ]
    },
    {
      "cell_type": "code",
      "metadata": {
        "id": "fZcw5Y39bsgr",
        "colab": {
          "base_uri": "https://localhost:8080/"
        },
        "outputId": "473272b1-deef-4808-8cb0-1eac8341f413"
      },
      "source": [
        "#Elimino duplicados de todas las columnas\n",
        "\n",
        "datos2 = datos.drop_duplicates()\n",
        "print(len(datos2))\n",
        "\n",
        "# Elimino ambiguedades\n",
        "\n",
        "datos3=datos2.drop_duplicates(['Text'], keep='first') # Elimino ambieguedades\n",
        "print(len(datos3))"
      ],
      "execution_count": 5,
      "outputs": [
        {
          "output_type": "stream",
          "text": [
            "20966\n",
            "18696\n"
          ],
          "name": "stdout"
        }
      ]
    },
    {
      "cell_type": "code",
      "metadata": {
        "id": "w35gYmHRbxoV",
        "colab": {
          "base_uri": "https://localhost:8080/",
          "height": 1000
        },
        "outputId": "a3c75cf4-0cd9-49c5-b38f-347a05c93be2"
      },
      "source": [
        "# Revuelvo los registros\n",
        "datos3 = datos3.sample(frac = 1, random_state= 88) \n",
        "datos3=datos3.reset_index()\n",
        "datos3=datos3.drop([\"index\"], axis=1)\n",
        "\n",
        "# Muestra de los datos\n",
        "datos3.head(10)\n",
        "#print(len(datos))"
      ],
      "execution_count": 6,
      "outputs": [
        {
          "output_type": "execute_result",
          "data": {
            "text/html": [
              "<div>\n",
              "<style scoped>\n",
              "    .dataframe tbody tr th:only-of-type {\n",
              "        vertical-align: middle;\n",
              "    }\n",
              "\n",
              "    .dataframe tbody tr th {\n",
              "        vertical-align: top;\n",
              "    }\n",
              "\n",
              "    .dataframe thead th {\n",
              "        text-align: right;\n",
              "    }\n",
              "</style>\n",
              "<table border=\"1\" class=\"dataframe\">\n",
              "  <thead>\n",
              "    <tr style=\"text-align: right;\">\n",
              "      <th></th>\n",
              "      <th>Text</th>\n",
              "      <th>country</th>\n",
              "      <th>lang</th>\n",
              "      <th>label</th>\n",
              "      <th>URL</th>\n",
              "      <th>date</th>\n",
              "      <th>verificado_por</th>\n",
              "    </tr>\n",
              "  </thead>\n",
              "  <tbody>\n",
              "    <tr>\n",
              "      <th>0</th>\n",
              "      <td>A Chinese woman in Mombasa was attacked and ki...</td>\n",
              "      <td>Kenya</td>\n",
              "      <td>English</td>\n",
              "      <td>False</td>\n",
              "      <td>https://pesacheck.org/hoax-reports-that-a-chin...</td>\n",
              "      <td>2020-03-21 00:00:00</td>\n",
              "      <td>PesaCheck</td>\n",
              "    </tr>\n",
              "    <tr>\n",
              "      <th>1</th>\n",
              "      <td>This video shows fishes overflowing out of th...</td>\n",
              "      <td>India</td>\n",
              "      <td>Marathi</td>\n",
              "      <td>False</td>\n",
              "      <td>https://marathi.factcrescendo.com/old-video-fr...</td>\n",
              "      <td>2020/04/22</td>\n",
              "      <td>FactCrescendo</td>\n",
              "    </tr>\n",
              "    <tr>\n",
              "      <th>2</th>\n",
              "      <td>Initial data from clinical trials testing whet...</td>\n",
              "      <td>United States</td>\n",
              "      <td>English</td>\n",
              "      <td>True</td>\n",
              "      <td>https://reuters.com</td>\n",
              "      <td>NaN</td>\n",
              "      <td>Reuters</td>\n",
              "    </tr>\n",
              "    <tr>\n",
              "      <th>3</th>\n",
              "      <td>Authorities in Moscow said a QR-code system wo...</td>\n",
              "      <td>United States</td>\n",
              "      <td>English</td>\n",
              "      <td>True</td>\n",
              "      <td>https://reuters.com</td>\n",
              "      <td>NaN</td>\n",
              "      <td>Reuters</td>\n",
              "    </tr>\n",
              "    <tr>\n",
              "      <th>4</th>\n",
              "      <td>Studies show the coronavirus was engineered t...</td>\n",
              "      <td>United States</td>\n",
              "      <td>English</td>\n",
              "      <td>False</td>\n",
              "      <td>https://leadstories.com/hoax-alert/2020/03/Fac...</td>\n",
              "      <td>2020/02/19</td>\n",
              "      <td>LeadStories</td>\n",
              "    </tr>\n",
              "    <tr>\n",
              "      <th>5</th>\n",
              "      <td>As the architect of Sweden's unorthodox respon...</td>\n",
              "      <td>United States</td>\n",
              "      <td>English</td>\n",
              "      <td>True</td>\n",
              "      <td>https://reuters.com</td>\n",
              "      <td>NaN</td>\n",
              "      <td>Reuters</td>\n",
              "    </tr>\n",
              "    <tr>\n",
              "      <th>6</th>\n",
              "      <td>New York schools add a COVID-19 vaccine to th...</td>\n",
              "      <td>United States</td>\n",
              "      <td>English</td>\n",
              "      <td>False</td>\n",
              "      <td>https://leadstories.com/hoax-alert/2020/05/fac...</td>\n",
              "      <td>2020/04/19</td>\n",
              "      <td>LeadStories</td>\n",
              "    </tr>\n",
              "    <tr>\n",
              "      <th>7</th>\n",
              "      <td>Dr Anil Jasinghe is appointed as the Vice Chai...</td>\n",
              "      <td>Sri Lanka</td>\n",
              "      <td>Sinhala</td>\n",
              "      <td>False</td>\n",
              "      <td>https://srilanka.factcrescendo.com/2020/04/06/...</td>\n",
              "      <td>2020-04-06 00:00:00</td>\n",
              "      <td>FactCrescendo</td>\n",
              "    </tr>\n",
              "    <tr>\n",
              "      <th>8</th>\n",
              "      <td>Diagnostic services provider LabCorp said on T...</td>\n",
              "      <td>United States</td>\n",
              "      <td>English</td>\n",
              "      <td>True</td>\n",
              "      <td>https://reuters.com</td>\n",
              "      <td>NaN</td>\n",
              "      <td>Reuters</td>\n",
              "    </tr>\n",
              "    <tr>\n",
              "      <th>9</th>\n",
              "      <td>Equity indices in the green, FMCG and IT stock...</td>\n",
              "      <td>India</td>\n",
              "      <td>English</td>\n",
              "      <td>True</td>\n",
              "      <td>https://www.afghanistannews.net/news/264217872...</td>\n",
              "      <td>2020-01-22 00:00:00</td>\n",
              "      <td>afghanistannews.net</td>\n",
              "    </tr>\n",
              "  </tbody>\n",
              "</table>\n",
              "</div>"
            ],
            "text/plain": [
              "                                                Text  ...       verificado_por\n",
              "0  A Chinese woman in Mombasa was attacked and ki...  ...            PesaCheck\n",
              "1   This video shows fishes overflowing out of th...  ...        FactCrescendo\n",
              "2  Initial data from clinical trials testing whet...  ...              Reuters\n",
              "3  Authorities in Moscow said a QR-code system wo...  ...              Reuters\n",
              "4   Studies show the coronavirus was engineered t...  ...          LeadStories\n",
              "5  As the architect of Sweden's unorthodox respon...  ...              Reuters\n",
              "6   New York schools add a COVID-19 vaccine to th...  ...          LeadStories\n",
              "7  Dr Anil Jasinghe is appointed as the Vice Chai...  ...        FactCrescendo\n",
              "8  Diagnostic services provider LabCorp said on T...  ...              Reuters\n",
              "9  Equity indices in the green, FMCG and IT stock...  ...  afghanistannews.net\n",
              "\n",
              "[10 rows x 7 columns]"
            ]
          },
          "metadata": {
            "tags": []
          },
          "execution_count": 6
        }
      ]
    },
    {
      "cell_type": "code",
      "metadata": {
        "colab": {
          "base_uri": "https://localhost:8080/",
          "height": 198
        },
        "id": "pMVIwcbR9CG9",
        "outputId": "24fc1134-a504-4790-fd3c-32f7aea984b5"
      },
      "source": [
        "# Desripción de los datos\n",
        "\n",
        "datos3.describe(include=\"all\")"
      ],
      "execution_count": 7,
      "outputs": [
        {
          "output_type": "execute_result",
          "data": {
            "text/html": [
              "<div>\n",
              "<style scoped>\n",
              "    .dataframe tbody tr th:only-of-type {\n",
              "        vertical-align: middle;\n",
              "    }\n",
              "\n",
              "    .dataframe tbody tr th {\n",
              "        vertical-align: top;\n",
              "    }\n",
              "\n",
              "    .dataframe thead th {\n",
              "        text-align: right;\n",
              "    }\n",
              "</style>\n",
              "<table border=\"1\" class=\"dataframe\">\n",
              "  <thead>\n",
              "    <tr style=\"text-align: right;\">\n",
              "      <th></th>\n",
              "      <th>Text</th>\n",
              "      <th>country</th>\n",
              "      <th>lang</th>\n",
              "      <th>label</th>\n",
              "      <th>URL</th>\n",
              "      <th>date</th>\n",
              "      <th>verificado_por</th>\n",
              "    </tr>\n",
              "  </thead>\n",
              "  <tbody>\n",
              "    <tr>\n",
              "      <th>count</th>\n",
              "      <td>18696</td>\n",
              "      <td>18696</td>\n",
              "      <td>18696</td>\n",
              "      <td>18696</td>\n",
              "      <td>18619</td>\n",
              "      <td>12894</td>\n",
              "      <td>18696</td>\n",
              "    </tr>\n",
              "    <tr>\n",
              "      <th>unique</th>\n",
              "      <td>18696</td>\n",
              "      <td>127</td>\n",
              "      <td>50</td>\n",
              "      <td>2</td>\n",
              "      <td>8226</td>\n",
              "      <td>315</td>\n",
              "      <td>130</td>\n",
              "    </tr>\n",
              "    <tr>\n",
              "      <th>top</th>\n",
              "      <td>Emmanuel Macron spent the first week-end of A...</td>\n",
              "      <td>United States</td>\n",
              "      <td>English</td>\n",
              "      <td>False</td>\n",
              "      <td>https://reuters.com</td>\n",
              "      <td>2020-04-03 00:00:00</td>\n",
              "      <td>Reuters</td>\n",
              "    </tr>\n",
              "    <tr>\n",
              "      <th>freq</th>\n",
              "      <td>1</td>\n",
              "      <td>7637</td>\n",
              "      <td>12468</td>\n",
              "      <td>11921</td>\n",
              "      <td>5651</td>\n",
              "      <td>680</td>\n",
              "      <td>5651</td>\n",
              "    </tr>\n",
              "  </tbody>\n",
              "</table>\n",
              "</div>"
            ],
            "text/plain": [
              "                                                     Text  ... verificado_por\n",
              "count                                               18696  ...          18696\n",
              "unique                                              18696  ...            130\n",
              "top      Emmanuel Macron spent the first week-end of A...  ...        Reuters\n",
              "freq                                                    1  ...           5651\n",
              "\n",
              "[4 rows x 7 columns]"
            ]
          },
          "metadata": {
            "tags": []
          },
          "execution_count": 7
        }
      ]
    },
    {
      "cell_type": "markdown",
      "metadata": {
        "id": "iwbD8NQy0iD8"
      },
      "source": [
        "### Exploración inicial de los datos"
      ]
    },
    {
      "cell_type": "code",
      "metadata": {
        "colab": {
          "base_uri": "https://localhost:8080/",
          "height": 1000
        },
        "id": "aXesedXt3WzO",
        "outputId": "7838d67c-21d0-4310-c40a-af6faa4e30ee"
      },
      "source": [
        "# Reviso las 10 primeras categorías de cada variable categórica\n",
        "\n",
        "for col in datos3.columns:\n",
        "    print('-' * 40 + col + '-' * 40 , end=' - ')\n",
        "    display(datos3[col].value_counts().head(10))"
      ],
      "execution_count": 8,
      "outputs": [
        {
          "output_type": "stream",
          "text": [
            "----------------------------------------Text---------------------------------------- - "
          ],
          "name": "stdout"
        },
        {
          "output_type": "display_data",
          "data": {
            "text/plain": [
              " Emmanuel Macron spent the first week-end of April in his residency of Bregançon in the South of France.                                                                                                                                                               1\n",
              "U.S. coronavirus deaths topped 47,000 on Wednesday after rising by a near-record single-day number the previous day, according to a Reuters tally.                                                                                                                     1\n",
              "Dr. Manish Patil died due to coronavirus in Maharasthra.                                                                                                                                                                                                               1\n",
              "After weeks with almost no new coronavirus infections, Beijing has recorded dozens of new cases in recent days, all linked to a major wholesale food market, raising concerns about a resurgence of the disease.                                                       1\n",
              " A picture of a newspaper article which states that “when the only person inside a car is the driver, he should sit in the front seat, in front of the steering wheel”. This would allegedly be a quote from an Italian law decree aimed at fighting coronavirus.      1\n",
              "Malaysia's health ministry reported 801 new coronavirus cases on Wednesday, raising the cumulative total to 29,441 infections.                                                                                                                                         1\n",
              " â€śThe coronavirus has made it to Mississippi and the lady that caught it wasnâ€™t around anybody with it, which means it is airborne. If the wind blows it in your direction, youâ€™ll have it also.â€ť                                                              1\n",
              " A picture of an empty field hospital in Brazil. Post claims that COVID-19 crisis is not real.                                                                                                                                                                         1\n",
              "Indian Police personel beaten by a person while enforcing lockdown. Claim made through an image.                                                                                                                                                                       1\n",
              " “Due to the large number of people who will refuse the forthcoming COVID-19 vaccine because it will include tracking microchips, the Gates Foundation is now spending billions to ensure that all medical and dental injections and procedures include the chips.”    1\n",
              "Name: Text, dtype: int64"
            ]
          },
          "metadata": {
            "tags": []
          }
        },
        {
          "output_type": "stream",
          "text": [
            "----------------------------------------country---------------------------------------- - "
          ],
          "name": "stdout"
        },
        {
          "output_type": "display_data",
          "data": {
            "text/plain": [
              "United States    7637\n",
              "India            2380\n",
              "Spain             889\n",
              "Brazil            714\n",
              "France            500\n",
              "Philippines       385\n",
              "Colombia          340\n",
              "Australia         302\n",
              "Italy             298\n",
              "China             289\n",
              "Name: country, dtype: int64"
            ]
          },
          "metadata": {
            "tags": []
          }
        },
        {
          "output_type": "stream",
          "text": [
            "----------------------------------------lang---------------------------------------- - "
          ],
          "name": "stdout"
        },
        {
          "output_type": "display_data",
          "data": {
            "text/plain": [
              "English       12468\n",
              "Spanish        1808\n",
              "Portuguese      690\n",
              "French          601\n",
              "tl              505\n",
              "Hindi           280\n",
              "Italian         222\n",
              "Arabic          136\n",
              "Indonesian      115\n",
              "Malayalam       114\n",
              "Name: lang, dtype: int64"
            ]
          },
          "metadata": {
            "tags": []
          }
        },
        {
          "output_type": "stream",
          "text": [
            "----------------------------------------label---------------------------------------- - "
          ],
          "name": "stdout"
        },
        {
          "output_type": "display_data",
          "data": {
            "text/plain": [
              "False    11921\n",
              "True      6775\n",
              "Name: label, dtype: int64"
            ]
          },
          "metadata": {
            "tags": []
          }
        },
        {
          "output_type": "stream",
          "text": [
            "----------------------------------------URL---------------------------------------- - "
          ],
          "name": "stdout"
        },
        {
          "output_type": "display_data",
          "data": {
            "text/plain": [
              "https://reuters.com                                                                                                                              5651\n",
              "http://www.ecuadorchequea.com/las-mentiras-sobre-el-covid-19-en-ecuador/                                                                           14\n",
              "https://observers.france24.com/fr/20200130-intox-chine-soupe-chauve-souris-rumeur-origine-coronavirus                                               7\n",
              "http://news.jtbc.joins.com/html/040/NB11932040.html                                                                                                 5\n",
              "http://www.ecuadorchequea.com/las-mentiras-sobre-el-covid-19-en-ecuador/?fbclid=IwAR3bwAz0dMLw03No-V2hs3mNm5Nvl8V_p0AnNV7GbLCEh9do16WHgMrsBiE       4\n",
              "https://factcheck.afp.com/graphic-purported-quote-philippine-vice-president-leni-robredo-has-been-doctored                                          4\n",
              "https://piaui.folha.uol.com.br/lupa/2020/01/27/verificamos-coronavirus-infectou-28-milhoes-matou-112-mil-china/                                     4\n",
              "https://factcheck.afp.com/story-originated-parody-account-no-driver-threatening-spread-covid-19-across-nigeria                                      4\n",
              "https://www.newtral.es/el-washington-post-no-ha-confirmado-el-origen-del-paciente-cero-del-coronavirus/20200418/                                    4\n",
              "https://www.newtral.es/es-falso-que-se-haya-detectado-un-caso-de-coronavirus-en-huelva/20200204/                                                    3\n",
              "Name: URL, dtype: int64"
            ]
          },
          "metadata": {
            "tags": []
          }
        },
        {
          "output_type": "stream",
          "text": [
            "----------------------------------------date---------------------------------------- - "
          ],
          "name": "stdout"
        },
        {
          "output_type": "display_data",
          "data": {
            "text/plain": [
              "2020-04-03 00:00:00    680\n",
              "2020-04-02 00:00:00    126\n",
              "2020/03/17             126\n",
              "2020-03-17 00:00:00    126\n",
              "2020-03-23 00:00:00    125\n",
              "2020-03-16 00:00:00    124\n",
              "2020/03/23             117\n",
              "2020-03-27 00:00:00    114\n",
              "2020-03-24 00:00:00    113\n",
              "2020/04/02             111\n",
              "Name: date, dtype: int64"
            ]
          },
          "metadata": {
            "tags": []
          }
        },
        {
          "output_type": "stream",
          "text": [
            "----------------------------------------verificado_por---------------------------------------- - "
          ],
          "name": "stdout"
        },
        {
          "output_type": "display_data",
          "data": {
            "text/plain": [
              "Reuters                5651\n",
              "AFP                     971\n",
              "FactCrescendo           759\n",
              "PolitiFact              543\n",
              "Factly                  428\n",
              "adelaidenow.au          413\n",
              "BOOM FactCheck          404\n",
              "LeadStories             399\n",
              "Maldita.es              386\n",
              "afghanistannews.net     355\n",
              "Name: verificado_por, dtype: int64"
            ]
          },
          "metadata": {
            "tags": []
          }
        }
      ]
    },
    {
      "cell_type": "code",
      "metadata": {
        "id": "vqQvSFW8Udjd"
      },
      "source": [
        "# Filtro primeros 10 de cada variable \n",
        "\n",
        "verificado_10=datos3[\"verificado_por\"].value_counts().head(10)\n",
        "lang_10=datos3[\"lang\"].value_counts().head(10)\n",
        "country_10=datos3[\"country\"].value_counts().head(10)"
      ],
      "execution_count": 9,
      "outputs": []
    },
    {
      "cell_type": "code",
      "metadata": {
        "colab": {
          "base_uri": "https://localhost:8080/",
          "height": 956
        },
        "id": "OMqgTgcBaelW",
        "outputId": "7e82e409-6dd6-4927-8cc2-b815d8f1e62e"
      },
      "source": [
        "# Grafico datos\n",
        "\n",
        "fig = plt.figure(figsize=(12,5))\n",
        "ax = fig.add_axes([0,0,1,1])\n",
        "ax = verificado_10.plot.bar(x='lab', y='val', rot=0)\n",
        "\n",
        "fig = plt.figure(figsize=(12,5))\n",
        "ax = fig.add_axes([0,0,1,1])\n",
        "ax = lang_10.plot.bar(x='lab', y='val', rot=0)\n",
        "\n",
        "fig = plt.figure(figsize=(12,5))\n",
        "ax = fig.add_axes([0,0,1,1])\n",
        "ax = country_10.plot.bar(x='lab', y='val', rot=0)"
      ],
      "execution_count": 10,
      "outputs": [
        {
          "output_type": "display_data",
          "data": {
            "image/png": "[encoded data removed]",
            "text/plain": [
              "<Figure size 864x360 with 1 Axes>"
            ]
          },
          "metadata": {
            "tags": [],
            "needs_background": "light"
          }
        },
        {
          "output_type": "display_data",
          "data": {
            "image/png": "[encoded data removed]",
            "text/plain": [
              "<Figure size 864x360 with 1 Axes>"
            ]
          },
          "metadata": {
            "tags": [],
            "needs_background": "light"
          }
        },
        {
          "output_type": "display_data",
          "data": {
            "image/png": "[encoded data removed]",
            "text/plain": [
              "<Figure size 864x360 with 1 Axes>"
            ]
          },
          "metadata": {
            "tags": [],
            "needs_background": "light"
          }
        }
      ]
    },
    {
      "cell_type": "code",
      "metadata": {
        "colab": {
          "base_uri": "https://localhost:8080/",
          "height": 332
        },
        "id": "d5LTbxp42JtG",
        "outputId": "08e89eb1-8cb7-4ffa-ad96-efc7c81af09f"
      },
      "source": [
        "# Distribución de las categorías datos de trabajo\n",
        "plt.figure(figsize=(12,5))\n",
        "sns.countplot(\"label\", data=datos3)\n",
        "plt.show()"
      ],
      "execution_count": 11,
      "outputs": [
        {
          "output_type": "display_data",
          "data": {
            "image/png": "[encoded data removed]",
            "text/plain": [
              "<Figure size 864x360 with 1 Axes>"
            ]
          },
          "metadata": {
            "tags": [],
            "needs_background": "light"
          }
        }
      ]
    },
    {
      "cell_type": "code",
      "metadata": {
        "colab": {
          "base_uri": "https://localhost:8080/"
        },
        "id": "lVjgOesGxR0e",
        "outputId": "bf2a72e5-def3-4c62-a8a5-e57123f23b19"
      },
      "source": [
        "# Filtro datos sólo en inglés\n",
        "datos_ingles=datos3[datos3['lang']==\"English\"]\n",
        "len(datos_ingles)"
      ],
      "execution_count": 12,
      "outputs": [
        {
          "output_type": "execute_result",
          "data": {
            "text/plain": [
              "12468"
            ]
          },
          "metadata": {
            "tags": []
          },
          "execution_count": 12
        }
      ]
    },
    {
      "cell_type": "code",
      "metadata": {
        "colab": {
          "base_uri": "https://localhost:8080/",
          "height": 334
        },
        "id": "qdkmMzh4xRw7",
        "outputId": "0f6d41f3-ecdf-4196-efed-12d4dbcf47c1"
      },
      "source": [
        "# Distribución de las categorías datos de trabajo filtrados en idioma inglés\n",
        "plt.figure(figsize=(12,5))\n",
        "sns.countplot(\"label\", data=datos_ingles)\n",
        "plt.show()"
      ],
      "execution_count": 13,
      "outputs": [
        {
          "output_type": "display_data",
          "data": {
            "image/png": "[encoded data removed]",
            "text/plain": [
              "<Figure size 864x360 with 1 Axes>"
            ]
          },
          "metadata": {
            "tags": [],
            "needs_background": "light"
          }
        }
      ]
    },
    {
      "cell_type": "markdown",
      "metadata": {
        "id": "b0YxikXhadx4"
      },
      "source": [
        "### Creación de conjuntos de datos"
      ]
    },
    {
      "cell_type": "code",
      "metadata": {
        "id": "h82UN9hVlTV8",
        "colab": {
          "base_uri": "https://localhost:8080/"
        },
        "outputId": "1eb3637b-0900-4670-b384-5271c3023eb3"
      },
      "source": [
        "# Reservo unos datos para pruebas finales (datos que no se tocan)\n",
        "\n",
        "datos_trabajo,datos_reserva = train_test_split(datos_ingles, test_size=0.1, random_state=88 )\n",
        "datos_trabajo=datos_trabajo.reset_index()\n",
        "datos_trabajo=datos_trabajo.drop([\"index\"], axis=1)\n",
        "\n",
        "datos_reserva=datos_reserva.reset_index()\n",
        "datos_reserva=datos_reserva.drop([\"index\"], axis=1)\n",
        "\n",
        "print(\"Datos para trabajar: \", len(datos_trabajo))\n",
        "print(\"Datos reservados para pruebas finales \", len(datos_reserva))\n",
        "\n"
      ],
      "execution_count": 14,
      "outputs": [
        {
          "output_type": "stream",
          "text": [
            "Datos para trabajar:  11221\n",
            "Datos reservados para pruebas finales  1247\n"
          ],
          "name": "stdout"
        }
      ]
    },
    {
      "cell_type": "code",
      "metadata": {
        "colab": {
          "base_uri": "https://localhost:8080/",
          "height": 334
        },
        "id": "af4c1x4YvUzI",
        "outputId": "c34ba577-9593-48b3-e790-736094d9e063"
      },
      "source": [
        "# Distribución de las categorías datos de trabajo\n",
        "plt.figure(figsize=(12,5))\n",
        "sns.countplot(\"label\", data=datos_trabajo)\n",
        "plt.show()"
      ],
      "execution_count": 15,
      "outputs": [
        {
          "output_type": "display_data",
          "data": {
            "image/png": "[encoded data removed]",
            "text/plain": [
              "<Figure size 864x360 with 1 Axes>"
            ]
          },
          "metadata": {
            "tags": [],
            "needs_background": "light"
          }
        }
      ]
    },
    {
      "cell_type": "code",
      "metadata": {
        "id": "o7XwsgoynpFV",
        "colab": {
          "base_uri": "https://localhost:8080/",
          "height": 334
        },
        "outputId": "5320885c-70b6-4985-989b-aa36f2fe902a"
      },
      "source": [
        "# Distribución de las categorías datos reservados\n",
        "plt.figure(figsize=(12,5))\n",
        "sns.countplot(\"label\", data=datos_reserva)\n",
        "plt.show()"
      ],
      "execution_count": 16,
      "outputs": [
        {
          "output_type": "display_data",
          "data": {
            "image/png": "[encoded data removed]",
            "text/plain": [
              "<Figure size 864x360 with 1 Axes>"
            ]
          },
          "metadata": {
            "tags": [],
            "needs_background": "light"
          }
        }
      ]
    },
    {
      "cell_type": "code",
      "metadata": {
        "colab": {
          "base_uri": "https://localhost:8080/",
          "height": 1000
        },
        "id": "xwucc8uoEw6O",
        "outputId": "18007f4c-d987-4920-a2d6-876deb0b5115"
      },
      "source": [
        "datos_trabajo.head(10)"
      ],
      "execution_count": 19,
      "outputs": [
        {
          "output_type": "execute_result",
          "data": {
            "text/html": [
              "<div>\n",
              "<style scoped>\n",
              "    .dataframe tbody tr th:only-of-type {\n",
              "        vertical-align: middle;\n",
              "    }\n",
              "\n",
              "    .dataframe tbody tr th {\n",
              "        vertical-align: top;\n",
              "    }\n",
              "\n",
              "    .dataframe thead th {\n",
              "        text-align: right;\n",
              "    }\n",
              "</style>\n",
              "<table border=\"1\" class=\"dataframe\">\n",
              "  <thead>\n",
              "    <tr style=\"text-align: right;\">\n",
              "      <th></th>\n",
              "      <th>Text</th>\n",
              "      <th>country</th>\n",
              "      <th>lang</th>\n",
              "      <th>label</th>\n",
              "      <th>URL</th>\n",
              "      <th>date</th>\n",
              "      <th>verificado_por</th>\n",
              "    </tr>\n",
              "  </thead>\n",
              "  <tbody>\n",
              "    <tr>\n",
              "      <th>0</th>\n",
              "      <td>Britain is not \"anywhere close\" to the scenari...</td>\n",
              "      <td>United States</td>\n",
              "      <td>English</td>\n",
              "      <td>True</td>\n",
              "      <td>https://reuters.com</td>\n",
              "      <td>NaN</td>\n",
              "      <td>Reuters</td>\n",
              "    </tr>\n",
              "    <tr>\n",
              "      <th>1</th>\n",
              "      <td>A video of Chinese people fighting for Muslim...</td>\n",
              "      <td>Indonesia</td>\n",
              "      <td>English</td>\n",
              "      <td>False</td>\n",
              "      <td>https://s.id/fhqAe</td>\n",
              "      <td>2020/03/12</td>\n",
              "      <td>TEMPO</td>\n",
              "    </tr>\n",
              "    <tr>\n",
              "      <th>2</th>\n",
              "      <td>The reproductive number of COVID-19 in England...</td>\n",
              "      <td>United States</td>\n",
              "      <td>English</td>\n",
              "      <td>True</td>\n",
              "      <td>https://reuters.com</td>\n",
              "      <td>NaN</td>\n",
              "      <td>Reuters</td>\n",
              "    </tr>\n",
              "    <tr>\n",
              "      <th>3</th>\n",
              "      <td>Peru's miners are revving up stalled operation...</td>\n",
              "      <td>United States</td>\n",
              "      <td>English</td>\n",
              "      <td>True</td>\n",
              "      <td>https://reuters.com</td>\n",
              "      <td>NaN</td>\n",
              "      <td>Reuters</td>\n",
              "    </tr>\n",
              "    <tr>\n",
              "      <th>4</th>\n",
              "      <td>More than 150 patients were evacuated on Satur...</td>\n",
              "      <td>United States</td>\n",
              "      <td>English</td>\n",
              "      <td>True</td>\n",
              "      <td>https://reuters.com</td>\n",
              "      <td>NaN</td>\n",
              "      <td>Reuters</td>\n",
              "    </tr>\n",
              "    <tr>\n",
              "      <th>5</th>\n",
              "      <td>Thai department of health published an infogr...</td>\n",
              "      <td>Thailand</td>\n",
              "      <td>English</td>\n",
              "      <td>False</td>\n",
              "      <td>http://u.afp.com/ThaiFaceMasks</td>\n",
              "      <td>2020/02/07</td>\n",
              "      <td>AFP</td>\n",
              "    </tr>\n",
              "    <tr>\n",
              "      <th>6</th>\n",
              "      <td>A picture claims that an Italian man committe...</td>\n",
              "      <td>India</td>\n",
              "      <td>English</td>\n",
              "      <td>False</td>\n",
              "      <td>https://www.boomlive.in/fake-news/dated-photos...</td>\n",
              "      <td>2020/03/26</td>\n",
              "      <td>BOOM FactCheck</td>\n",
              "    </tr>\n",
              "    <tr>\n",
              "      <th>7</th>\n",
              "      <td>Viral picture message in Nigeria suggests form...</td>\n",
              "      <td>Nigeria</td>\n",
              "      <td>English</td>\n",
              "      <td>False</td>\n",
              "      <td>https://dubawa.org/and-another-one-what-did-ob...</td>\n",
              "      <td>2020-03-02 00:00:00</td>\n",
              "      <td>Dubawa</td>\n",
              "    </tr>\n",
              "    <tr>\n",
              "      <th>8</th>\n",
              "      <td>Publication broadcasts a video of “the market ...</td>\n",
              "      <td>North Macedonia</td>\n",
              "      <td>English</td>\n",
              "      <td>False</td>\n",
              "      <td>https://truthmeter.mk/the-market-of-terror-is-...</td>\n",
              "      <td>2020-01-30 00:00:00</td>\n",
              "      <td>Vistinomer</td>\n",
              "    </tr>\n",
              "    <tr>\n",
              "      <th>9</th>\n",
              "      <td>Diagnostic services provider LabCorp said on T...</td>\n",
              "      <td>United States</td>\n",
              "      <td>English</td>\n",
              "      <td>True</td>\n",
              "      <td>https://reuters.com</td>\n",
              "      <td>NaN</td>\n",
              "      <td>Reuters</td>\n",
              "    </tr>\n",
              "  </tbody>\n",
              "</table>\n",
              "</div>"
            ],
            "text/plain": [
              "                                                Text  ...  verificado_por\n",
              "0  Britain is not \"anywhere close\" to the scenari...  ...         Reuters\n",
              "1   A video of Chinese people fighting for Muslim...  ...           TEMPO\n",
              "2  The reproductive number of COVID-19 in England...  ...         Reuters\n",
              "3  Peru's miners are revving up stalled operation...  ...         Reuters\n",
              "4  More than 150 patients were evacuated on Satur...  ...         Reuters\n",
              "5   Thai department of health published an infogr...  ...             AFP\n",
              "6   A picture claims that an Italian man committe...  ...  BOOM FactCheck\n",
              "7  Viral picture message in Nigeria suggests form...  ...          Dubawa\n",
              "8  Publication broadcasts a video of “the market ...  ...      Vistinomer\n",
              "9  Diagnostic services provider LabCorp said on T...  ...         Reuters\n",
              "\n",
              "[10 rows x 7 columns]"
            ]
          },
          "metadata": {
            "tags": []
          },
          "execution_count": 19
        }
      ]
    },
    {
      "cell_type": "markdown",
      "metadata": {
        "id": "P2No5GI7ZpcV"
      },
      "source": [
        "###  Preparación de los datos"
      ]
    },
    {
      "cell_type": "code",
      "metadata": {
        "id": "m63fl0tFxGhF",
        "colab": {
          "base_uri": "https://localhost:8080/"
        },
        "outputId": "f20886dc-fe7d-48de-8d70-8e9e393f6c5e"
      },
      "source": [
        "# Convierto categorías en números - datos de trabajo\n",
        "\n",
        "category_dict = {value:index for index, value in enumerate(datos_trabajo[\"label\"].unique())} # Extraigo categorías de todos los datos\n",
        "\n",
        "\n",
        "# Extraigo datos de titulares\n",
        "corpus_trabajo = datos_trabajo[\"Text\"]\n",
        "results_trabajo = datos_trabajo[\"label\"].map(category_dict)\n",
        "#category_dict_trabajo\n",
        "datos_trabajo[\"label\"]"
      ],
      "execution_count": 20,
      "outputs": [
        {
          "output_type": "execute_result",
          "data": {
            "text/plain": [
              "0         True\n",
              "1        False\n",
              "2         True\n",
              "3         True\n",
              "4         True\n",
              "         ...  \n",
              "11216    False\n",
              "11217    False\n",
              "11218    False\n",
              "11219     True\n",
              "11220     True\n",
              "Name: label, Length: 11221, dtype: bool"
            ]
          },
          "metadata": {
            "tags": []
          },
          "execution_count": 20
        }
      ]
    },
    {
      "cell_type": "code",
      "metadata": {
        "colab": {
          "base_uri": "https://localhost:8080/"
        },
        "id": "SB4fudC6x0bn",
        "outputId": "12218618-3071-48e6-89ea-105a62a23140"
      },
      "source": [
        "category_dict"
      ],
      "execution_count": 21,
      "outputs": [
        {
          "output_type": "execute_result",
          "data": {
            "text/plain": [
              "{False: 1, True: 0}"
            ]
          },
          "metadata": {
            "tags": []
          },
          "execution_count": 21
        }
      ]
    },
    {
      "cell_type": "code",
      "metadata": {
        "colab": {
          "base_uri": "https://localhost:8080/"
        },
        "id": "qUUrUfAraIBy",
        "outputId": "d37937e0-3b7f-4788-bb60-c61faa8d4df5"
      },
      "source": [
        "corpus_trabajo"
      ],
      "execution_count": null,
      "outputs": [
        {
          "output_type": "execute_result",
          "data": {
            "text/plain": [
              "0        Britain is not \"anywhere close\" to the scenari...\n",
              "1         A video of Chinese people fighting for Muslim...\n",
              "2        The reproductive number of COVID-19 in England...\n",
              "3        Peru's miners are revving up stalled operation...\n",
              "4        More than 150 patients were evacuated on Satur...\n",
              "                               ...                        \n",
              "11216    A Twitter post claimed Cristiano Ronaldo is tr...\n",
              "11217     News graphic saying Indian prime minister has...\n",
              "11218     The WHO declared COVID-19 is the abbreviation...\n",
              "11219    The toilet paper panic has officially spread.W...\n",
              "11220    The U.S. government on Wednesday said it will ...\n",
              "Name: Text, Length: 11221, dtype: object"
            ]
          },
          "metadata": {
            "tags": []
          },
          "execution_count": 51
        }
      ]
    },
    {
      "cell_type": "code",
      "metadata": {
        "colab": {
          "base_uri": "https://localhost:8080/"
        },
        "id": "zCIiNwX4aH-i",
        "outputId": "c34fdb24-29b6-4ef4-90c1-9674eaae06d8"
      },
      "source": [
        "# Convierto categorías en números - datos de trabajo\n",
        "\n",
        "# Extraigo datos de titulares\n",
        "corpus_trabajo = datos_trabajo[\"Text\"]\n",
        "results_trabajo = datos_trabajo[\"label\"].map(category_dict)\n",
        "#category_dict_trabajo\n",
        "datos_trabajo[\"label\"]"
      ],
      "execution_count": 22,
      "outputs": [
        {
          "output_type": "execute_result",
          "data": {
            "text/plain": [
              "0         True\n",
              "1        False\n",
              "2         True\n",
              "3         True\n",
              "4         True\n",
              "         ...  \n",
              "11216    False\n",
              "11217    False\n",
              "11218    False\n",
              "11219     True\n",
              "11220     True\n",
              "Name: label, Length: 11221, dtype: bool"
            ]
          },
          "metadata": {
            "tags": []
          },
          "execution_count": 22
        }
      ]
    },
    {
      "cell_type": "code",
      "metadata": {
        "colab": {
          "base_uri": "https://localhost:8080/"
        },
        "id": "fSSzkm2Mad4A",
        "outputId": "84cfc8f5-ffef-434f-8d34-eb7fdb3d071e"
      },
      "source": [
        "results_trabajo"
      ],
      "execution_count": 23,
      "outputs": [
        {
          "output_type": "execute_result",
          "data": {
            "text/plain": [
              "0        0\n",
              "1        1\n",
              "2        0\n",
              "3        0\n",
              "4        0\n",
              "        ..\n",
              "11216    1\n",
              "11217    1\n",
              "11218    1\n",
              "11219    0\n",
              "11220    0\n",
              "Name: label, Length: 11221, dtype: int64"
            ]
          },
          "metadata": {
            "tags": []
          },
          "execution_count": 23
        }
      ]
    },
    {
      "cell_type": "code",
      "metadata": {
        "id": "cGJA4sYvady2"
      },
      "source": [
        "# Convierto categorías en números - datos de reserva\n",
        "\n",
        "# Extraigo datos de titulares\n",
        "corpus_reserva = datos_reserva[\"Text\"]\n",
        "\n",
        "# Construyo mapa de categorías\n",
        "results_reserva = datos_reserva[\"label\"].map(category_dict) # Mapeo categorías con el mismo diccionario (category_dict)"
      ],
      "execution_count": 24,
      "outputs": []
    },
    {
      "cell_type": "code",
      "metadata": {
        "colab": {
          "base_uri": "https://localhost:8080/"
        },
        "id": "HwfnYtfeadwA",
        "outputId": "3b67fe0c-c626-435f-9f56-1b5e4c333b5d"
      },
      "source": [
        "datos_reserva[\"label\"]"
      ],
      "execution_count": 25,
      "outputs": [
        {
          "output_type": "execute_result",
          "data": {
            "text/plain": [
              "0       False\n",
              "1        True\n",
              "2       False\n",
              "3       False\n",
              "4       False\n",
              "        ...  \n",
              "1242     True\n",
              "1243     True\n",
              "1244    False\n",
              "1245     True\n",
              "1246     True\n",
              "Name: label, Length: 1247, dtype: bool"
            ]
          },
          "metadata": {
            "tags": []
          },
          "execution_count": 25
        }
      ]
    },
    {
      "cell_type": "code",
      "metadata": {
        "colab": {
          "base_uri": "https://localhost:8080/"
        },
        "id": "w8_9UlqVadsq",
        "outputId": "dee4ddee-8073-4247-bf24-bd4120cbb963"
      },
      "source": [
        "results_reserva"
      ],
      "execution_count": null,
      "outputs": [
        {
          "output_type": "execute_result",
          "data": {
            "text/plain": [
              "0       1\n",
              "1       0\n",
              "2       1\n",
              "3       1\n",
              "4       1\n",
              "       ..\n",
              "1242    0\n",
              "1243    0\n",
              "1244    1\n",
              "1245    0\n",
              "1246    0\n",
              "Name: label, Length: 1247, dtype: int64"
            ]
          },
          "metadata": {
            "tags": []
          },
          "execution_count": 56
        }
      ]
    },
    {
      "cell_type": "code",
      "metadata": {
        "colab": {
          "base_uri": "https://localhost:8080/"
        },
        "id": "YFqiwQrpaH63",
        "outputId": "92d9e94e-ee2b-46e6-ab14-33d817cda03e"
      },
      "source": [
        "# Parámetros\n",
        "n_most_common_words = 8000\n",
        "max_len = 130\n",
        "\n",
        "\n",
        "# Creo tokenizador con todos los datos\n",
        "corpus = datos3[\"Text\"]\n",
        "tokenizer = Tokenizer(num_words=n_most_common_words, filters='!\"#$%&()*+,-./:;<=>?@[\\]^_`{|}~', lower=True)\n",
        "tokenizer.fit_on_texts(corpus.values)\n",
        "word_index = tokenizer.word_index\n",
        "print('Se encontraron %s tokens únicos' % len(word_index))"
      ],
      "execution_count": 26,
      "outputs": [
        {
          "output_type": "stream",
          "text": [
            "Se encontraron 28811 tokens únicos\n"
          ],
          "name": "stdout"
        }
      ]
    },
    {
      "cell_type": "code",
      "metadata": {
        "id": "JM_iB75Haxo-"
      },
      "source": [
        "# Tokenización datos de trabajo\n",
        "\n",
        "corpus_trabajo = datos_trabajo[\"Text\"]\n",
        "sequences = tokenizer.texts_to_sequences(corpus_trabajo.values)\n",
        "X = pad_sequences(sequences, maxlen=max_len)"
      ],
      "execution_count": 27,
      "outputs": []
    },
    {
      "cell_type": "code",
      "metadata": {
        "id": "XGpCjsSFaxmc"
      },
      "source": [
        "# Tokenización datos de reserva para pruebas\n",
        "\n",
        "corpus_reserva = datos_reserva[\"Text\"]\n",
        "sequences_reserva = tokenizer.texts_to_sequences(corpus_reserva.values)\n",
        "X_reserva = pad_sequences(sequences_reserva, maxlen=max_len)"
      ],
      "execution_count": 28,
      "outputs": []
    },
    {
      "cell_type": "code",
      "metadata": {
        "colab": {
          "base_uri": "https://localhost:8080/"
        },
        "id": "0-8X2HFGaxjD",
        "outputId": "9ff52e86-e68a-44d9-96b2-a74b600772d1"
      },
      "source": [
        "X_reserva[120]"
      ],
      "execution_count": null,
      "outputs": [
        {
          "output_type": "execute_result",
          "data": {
            "text/plain": [
              "array([   0,    0,    0,    0,    0,    0,    0,    0,    0,    0,    0,\n",
              "          0,    0,    0,    0,    0,    0,    0,    0,    0,    0,    0,\n",
              "          0,    0,    0,    0,    0,    0,    0,    0,    0,    0,    0,\n",
              "          0,    0,    0,    0,    0,    0,    0,    0,    0,    0,    0,\n",
              "          0,    0,    0,    0,    0,    0,    0,    0,    0,    0,    0,\n",
              "          0,    0,    0,    0,    0,    0,    0,    0,    0,    0,    0,\n",
              "          0,    0,    0,    0,    0,    0,    0,    0,    0,    0,    0,\n",
              "          0,    0,    0,    0,    0,    0,    0,  562, 1228,   95,   35,\n",
              "         24,   21,  157,    4,    1,  156,  131,    4,  312,  102,    1,\n",
              "          7,   61,   51,   80,   22,  700,  388,    8, 6242,   16,   23,\n",
              "        351,   63, 4467,  119,    2,   15,   14,    5,   46,  582,  584,\n",
              "          8,   85,  243,  892,   11,   15,   83,  383,   47], dtype=int32)"
            ]
          },
          "metadata": {
            "tags": []
          },
          "execution_count": 60
        }
      ]
    },
    {
      "cell_type": "code",
      "metadata": {
        "id": "RjjumEDQtfRw"
      },
      "source": [
        ""
      ],
      "execution_count": null,
      "outputs": []
    },
    {
      "cell_type": "code",
      "metadata": {
        "id": "I30pNGEFuUiB"
      },
      "source": [
        ""
      ],
      "execution_count": null,
      "outputs": []
    },
    {
      "cell_type": "markdown",
      "metadata": {
        "id": "6hEMsv62bV8F"
      },
      "source": [
        "### Train - Test split"
      ]
    },
    {
      "cell_type": "code",
      "metadata": {
        "id": "YER0INmkbJfE"
      },
      "source": [
        "# Train - Test Split\n",
        "\n",
        "x_train,x_test, y_train,y_test = train_test_split(X, results_trabajo, test_size=0.2, random_state=88 )"
      ],
      "execution_count": 29,
      "outputs": []
    },
    {
      "cell_type": "code",
      "metadata": {
        "colab": {
          "base_uri": "https://localhost:8080/",
          "height": 236
        },
        "id": "qXf_GRQgbJbj",
        "outputId": "922a1132-8a51-4c81-aef4-8f3773f212b6"
      },
      "source": [
        "# Visualizo el balance de las clases luego de la división para verificar que no exista un desbalance\n",
        "df_y_train = pd.DataFrame({'yTrain': y_train})\n",
        "\n",
        "df_y_test = pd.DataFrame({'yTest': y_test})\n",
        "\n",
        "\n",
        "fig, axes = plt.subplots(ncols=2, nrows=1, figsize=(18, 10))\n",
        "plt.subplot(2, 2, 1).set_title('yTrain')\n",
        "df_y_train[\"yTrain\"].value_counts().plot(kind='bar')\n",
        "\n",
        "plt.subplot(2, 2, 2).set_title('yTest')\n",
        "df_y_test[\"yTest\"].value_counts().plot(kind='bar')"
      ],
      "execution_count": 30,
      "outputs": [
        {
          "output_type": "execute_result",
          "data": {
            "text/plain": [
              "<matplotlib.axes._subplots.AxesSubplot at 0x7fdc7ec18e80>"
            ]
          },
          "metadata": {
            "tags": []
          },
          "execution_count": 30
        },
        {
          "output_type": "display_data",
          "data": {
            "image/png": "[encoded data removed]",
            "text/plain": [
              "<Figure size 1296x720 with 2 Axes>"
            ]
          },
          "metadata": {
            "tags": [],
            "needs_background": "light"
          }
        }
      ]
    },
    {
      "cell_type": "markdown",
      "metadata": {
        "id": "vU2VJGUsbmMf"
      },
      "source": [
        "### Comparación de los modelos\n"
      ]
    },
    {
      "cell_type": "code",
      "metadata": {
        "id": "s3ETvEccbXzB"
      },
      "source": [
        "# Comparación de modelos\n",
        "# Listado de modelos\n",
        "models = [\n",
        "    RandomForestClassifier(n_estimators=200, max_depth=3, random_state=0),\n",
        "    LinearSVC(),\n",
        "    MultinomialNB(),\n",
        "    LogisticRegression(random_state=0),\n",
        "    ]"
      ],
      "execution_count": 31,
      "outputs": []
    },
    {
      "cell_type": "code",
      "metadata": {
        "id": "vvk93kQ-bXvv"
      },
      "source": [
        "CV = 5\n",
        "cv_df = pd.DataFrame(index=range(CV * len(models)))\n",
        "entries = []\n",
        "for model in models:\n",
        "  model_name = model.__class__.__name__\n",
        "  accuracies = cross_val_score(model, x_train, y_train, scoring='accuracy', cv=CV)\n",
        "  for fold_idx, accuracy in enumerate(accuracies):\n",
        "    entries.append((model_name, fold_idx, accuracy))\n",
        "cv_df = pd.DataFrame(entries, columns=['model_name', 'fold_idx', 'accuracy'])"
      ],
      "execution_count": 32,
      "outputs": []
    },
    {
      "cell_type": "markdown",
      "metadata": {
        "id": "3qL2QQ3Qdp_-"
      },
      "source": [
        "### Comparación de modelos"
      ]
    },
    {
      "cell_type": "code",
      "metadata": {
        "colab": {
          "base_uri": "https://localhost:8080/",
          "height": 280
        },
        "id": "i2nXD3i2bXsp",
        "outputId": "bd5ddb4a-e95c-4701-aacd-4e19981ae3cc"
      },
      "source": [
        "# Gráfico comparativo de la precisión estimada de los modelos\n",
        "import seaborn as sns\n",
        "sns.boxplot(x='model_name', y='accuracy', data=cv_df)\n",
        "sns.stripplot(x='model_name', y='accuracy', data=cv_df, \n",
        "              size=8, jitter=True, edgecolor=\"gray\", linewidth=2)\n",
        "plt.show()"
      ],
      "execution_count": 33,
      "outputs": [
        {
          "output_type": "display_data",
          "data": {
            "image/png": "[encoded data removed]",
            "text/plain": [
              "<Figure size 432x288 with 1 Axes>"
            ]
          },
          "metadata": {
            "tags": [],
            "needs_background": "light"
          }
        }
      ]
    },
    {
      "cell_type": "code",
      "metadata": {
        "colab": {
          "base_uri": "https://localhost:8080/",
          "height": 442
        },
        "id": "XqxGhMQlbXpp",
        "outputId": "b84fd3ad-6495-4bd2-c6e0-50f78fdfa1bd"
      },
      "source": [
        "# Modelo RandomForest\n",
        "from sklearn.metrics import confusion_matrix\n",
        "\n",
        "modelRF = RandomForestClassifier(n_estimators=200, max_depth=3, random_state=0)\n",
        "modelRF.fit(x_train, y_train)\n",
        "y_pred = modelRF.predict(x_test)\n",
        "\n",
        "conf_mat = confusion_matrix(y_test, y_pred)\n",
        "fig, ax = plt.subplots(figsize=(10,7))\n",
        "sns.heatmap(conf_mat, annot=True, fmt='d',\n",
        "            xticklabels=category_dict, yticklabels=category_dict)\n",
        "plt.ylabel('Actual')\n",
        "plt.xlabel('Predicted')\n",
        "plt.show()"
      ],
      "execution_count": 34,
      "outputs": [
        {
          "output_type": "display_data",
          "data": {
            "image/png": "[encoded data removed]",
            "text/plain": [
              "<Figure size 720x504 with 2 Axes>"
            ]
          },
          "metadata": {
            "tags": [],
            "needs_background": "light"
          }
        }
      ]
    },
    {
      "cell_type": "code",
      "metadata": {
        "colab": {
          "base_uri": "https://localhost:8080/",
          "height": 442
        },
        "id": "yvEzs_Hpduto",
        "outputId": "af3bee74-09a7-47d0-9817-a20fc2fe0760"
      },
      "source": [
        "# Modelo Logistic\n",
        "from sklearn.metrics import confusion_matrix\n",
        "\n",
        "modelLOG = LogisticRegression(random_state=0)\n",
        "modelLOG.fit(x_train, y_train)\n",
        "y_pred = modelLOG.predict(x_test)\n",
        "\n",
        "conf_mat = confusion_matrix(y_test, y_pred)\n",
        "fig, ax = plt.subplots(figsize=(10,7))\n",
        "sns.heatmap(conf_mat, annot=True, fmt='d',\n",
        "            xticklabels=category_dict, yticklabels=category_dict)\n",
        "plt.ylabel('Actual')\n",
        "plt.xlabel('Predicted')\n",
        "plt.show()"
      ],
      "execution_count": 35,
      "outputs": [
        {
          "output_type": "display_data",
          "data": {
            "image/png": "[encoded data removed]",
            "text/plain": [
              "<Figure size 720x504 with 2 Axes>"
            ]
          },
          "metadata": {
            "tags": [],
            "needs_background": "light"
          }
        }
      ]
    },
    {
      "cell_type": "code",
      "metadata": {
        "colab": {
          "base_uri": "https://localhost:8080/",
          "height": 442
        },
        "id": "cekRRPGqdumR",
        "outputId": "1c6a776f-f552-490d-935e-488d81dbe019"
      },
      "source": [
        "# Modelo Vector Soporte Lineal\n",
        "from sklearn.metrics import confusion_matrix\n",
        "\n",
        "modelSVC = LinearSVC()\n",
        "modelSVC.fit(x_train, y_train)\n",
        "y_pred = modelSVC.predict(x_test)\n",
        "\n",
        "conf_mat = confusion_matrix(y_test, y_pred)\n",
        "fig, ax = plt.subplots(figsize=(10,7))\n",
        "sns.heatmap(conf_mat, annot=True, fmt='d',\n",
        "            xticklabels=category_dict, yticklabels=category_dict)\n",
        "plt.ylabel('Actual')\n",
        "plt.xlabel('Predicted')\n",
        "plt.show()"
      ],
      "execution_count": 36,
      "outputs": [
        {
          "output_type": "display_data",
          "data": {
            "image/png": "[encoded data removed]",
            "text/plain": [
              "<Figure size 720x504 with 2 Axes>"
            ]
          },
          "metadata": {
            "tags": [],
            "needs_background": "light"
          }
        }
      ]
    },
    {
      "cell_type": "code",
      "metadata": {
        "colab": {
          "base_uri": "https://localhost:8080/",
          "height": 442
        },
        "id": "QTmpFRv9duiu",
        "outputId": "21f00fca-8241-4437-9989-6462b5826b1c"
      },
      "source": [
        "# Modelo Multinomial Naive Bayes\n",
        "from sklearn.metrics import confusion_matrix\n",
        "\n",
        "modelNB = MultinomialNB()\n",
        "modelNB.fit(x_train, y_train)\n",
        "y_pred = modelNB.predict(x_test)\n",
        "\n",
        "conf_mat = confusion_matrix(y_test, y_pred)\n",
        "fig, ax = plt.subplots(figsize=(10,7))\n",
        "sns.heatmap(conf_mat, annot=True, fmt='d',\n",
        "            xticklabels=category_dict, yticklabels=category_dict)\n",
        "plt.ylabel('Actual')\n",
        "plt.xlabel('Predicted')\n",
        "plt.show()"
      ],
      "execution_count": 37,
      "outputs": [
        {
          "output_type": "display_data",
          "data": {
            "image/png": "[encoded data removed]",
            "text/plain": [
              "<Figure size 720x504 with 2 Axes>"
            ]
          },
          "metadata": {
            "tags": [],
            "needs_background": "light"
          }
        }
      ]
    },
    {
      "cell_type": "code",
      "metadata": {
        "id": "2fKAyuzOxGc-"
      },
      "source": [
        ""
      ],
      "execution_count": null,
      "outputs": []
    },
    {
      "cell_type": "markdown",
      "metadata": {
        "id": "D8LNbfpQef_a"
      },
      "source": [
        "### Prueba del modelo"
      ]
    },
    {
      "cell_type": "code",
      "metadata": {
        "colab": {
          "base_uri": "https://localhost:8080/",
          "height": 898
        },
        "id": "GpQLduLC8DxM",
        "outputId": "044f07c8-003d-4f99-f701-dc1890669413"
      },
      "source": [
        "datos_reserva[datos_reserva[\"label\"]==True].head(29)"
      ],
      "execution_count": 38,
      "outputs": [
        {
          "output_type": "execute_result",
          "data": {
            "text/html": [
              "<div>\n",
              "<style scoped>\n",
              "    .dataframe tbody tr th:only-of-type {\n",
              "        vertical-align: middle;\n",
              "    }\n",
              "\n",
              "    .dataframe tbody tr th {\n",
              "        vertical-align: top;\n",
              "    }\n",
              "\n",
              "    .dataframe thead th {\n",
              "        text-align: right;\n",
              "    }\n",
              "</style>\n",
              "<table border=\"1\" class=\"dataframe\">\n",
              "  <thead>\n",
              "    <tr style=\"text-align: right;\">\n",
              "      <th></th>\n",
              "      <th>Text</th>\n",
              "      <th>country</th>\n",
              "      <th>lang</th>\n",
              "      <th>label</th>\n",
              "      <th>URL</th>\n",
              "      <th>date</th>\n",
              "      <th>verificado_por</th>\n",
              "    </tr>\n",
              "  </thead>\n",
              "  <tbody>\n",
              "    <tr>\n",
              "      <th>1</th>\n",
              "      <td>The reproduction rate for the coronavirus in G...</td>\n",
              "      <td>United States</td>\n",
              "      <td>English</td>\n",
              "      <td>True</td>\n",
              "      <td>https://reuters.com</td>\n",
              "      <td>NaN</td>\n",
              "      <td>Reuters</td>\n",
              "    </tr>\n",
              "    <tr>\n",
              "      <th>5</th>\n",
              "      <td>The U.S. Centers for Disease Control and Preve...</td>\n",
              "      <td>United States</td>\n",
              "      <td>English</td>\n",
              "      <td>True</td>\n",
              "      <td>https://reuters.com</td>\n",
              "      <td>NaN</td>\n",
              "      <td>Reuters</td>\n",
              "    </tr>\n",
              "    <tr>\n",
              "      <th>6</th>\n",
              "      <td>Brazil's health regulator Anvisa on Tuesday au...</td>\n",
              "      <td>United States</td>\n",
              "      <td>English</td>\n",
              "      <td>True</td>\n",
              "      <td>https://reuters.com</td>\n",
              "      <td>NaN</td>\n",
              "      <td>Reuters</td>\n",
              "    </tr>\n",
              "    <tr>\n",
              "      <th>13</th>\n",
              "      <td>Southwest Airlines  said on Wednesday it was e...</td>\n",
              "      <td>United States</td>\n",
              "      <td>English</td>\n",
              "      <td>True</td>\n",
              "      <td>https://reuters.com</td>\n",
              "      <td>NaN</td>\n",
              "      <td>Reuters</td>\n",
              "    </tr>\n",
              "    <tr>\n",
              "      <th>16</th>\n",
              "      <td>The United Kingdom's chief medical officers ha...</td>\n",
              "      <td>United States</td>\n",
              "      <td>English</td>\n",
              "      <td>True</td>\n",
              "      <td>https://reuters.com</td>\n",
              "      <td>NaN</td>\n",
              "      <td>Reuters</td>\n",
              "    </tr>\n",
              "    <tr>\n",
              "      <th>19</th>\n",
              "      <td>One January lunchtime in a car parts company, ...</td>\n",
              "      <td>United States</td>\n",
              "      <td>English</td>\n",
              "      <td>True</td>\n",
              "      <td>https://reuters.com</td>\n",
              "      <td>NaN</td>\n",
              "      <td>Reuters</td>\n",
              "    </tr>\n",
              "    <tr>\n",
              "      <th>20</th>\n",
              "      <td>China Virus Toll Rises to Nine As Pandemic Fea...</td>\n",
              "      <td>China</td>\n",
              "      <td>English</td>\n",
              "      <td>True</td>\n",
              "      <td>https://www.afghanistannews.net/news/263789036...</td>\n",
              "      <td>2020-03-02 00:00:00</td>\n",
              "      <td>afghanistannews.net</td>\n",
              "    </tr>\n",
              "    <tr>\n",
              "      <th>23</th>\n",
              "      <td>French healthcare workers protested against ex...</td>\n",
              "      <td>United States</td>\n",
              "      <td>English</td>\n",
              "      <td>True</td>\n",
              "      <td>https://reuters.com</td>\n",
              "      <td>NaN</td>\n",
              "      <td>Reuters</td>\n",
              "    </tr>\n",
              "    <tr>\n",
              "      <th>24</th>\n",
              "      <td>Several large drugmakers including Merck &amp; Co ...</td>\n",
              "      <td>United States</td>\n",
              "      <td>English</td>\n",
              "      <td>True</td>\n",
              "      <td>https://reuters.com</td>\n",
              "      <td>NaN</td>\n",
              "      <td>Reuters</td>\n",
              "    </tr>\n",
              "    <tr>\n",
              "      <th>26</th>\n",
              "      <td>Singapore's Tychan, a biotechnology firm backe...</td>\n",
              "      <td>United States</td>\n",
              "      <td>English</td>\n",
              "      <td>True</td>\n",
              "      <td>https://reuters.com</td>\n",
              "      <td>NaN</td>\n",
              "      <td>Reuters</td>\n",
              "    </tr>\n",
              "    <tr>\n",
              "      <th>27</th>\n",
              "      <td>Georgia declared a state of emergency on Satur...</td>\n",
              "      <td>United States</td>\n",
              "      <td>English</td>\n",
              "      <td>True</td>\n",
              "      <td>https://reuters.com</td>\n",
              "      <td>NaN</td>\n",
              "      <td>Reuters</td>\n",
              "    </tr>\n",
              "    <tr>\n",
              "      <th>32</th>\n",
              "      <td>400,000 dead: nightmare virus scenarioHow coro...</td>\n",
              "      <td>China</td>\n",
              "      <td>English</td>\n",
              "      <td>True</td>\n",
              "      <td>https://www.adelaidenow.com.au/lifestyle/healt...</td>\n",
              "      <td>2020-10-03 00:00:00</td>\n",
              "      <td>adelaidenow.au</td>\n",
              "    </tr>\n",
              "    <tr>\n",
              "      <th>34</th>\n",
              "      <td>Dow Jones drops 969 points as investors flee m...</td>\n",
              "      <td>United States</td>\n",
              "      <td>English</td>\n",
              "      <td>True</td>\n",
              "      <td>https://www.afghanistannews.net/news/264225195...</td>\n",
              "      <td>2020-02-03 00:00:00</td>\n",
              "      <td>afghanistannews.net</td>\n",
              "    </tr>\n",
              "    <tr>\n",
              "      <th>35</th>\n",
              "      <td>On the day he nearly lost his job for supporti...</td>\n",
              "      <td>United States</td>\n",
              "      <td>English</td>\n",
              "      <td>True</td>\n",
              "      <td>https://reuters.com</td>\n",
              "      <td>NaN</td>\n",
              "      <td>Reuters</td>\n",
              "    </tr>\n",
              "    <tr>\n",
              "      <th>36</th>\n",
              "      <td>The problem of increasing COVID-19 cases in En...</td>\n",
              "      <td>United States</td>\n",
              "      <td>English</td>\n",
              "      <td>True</td>\n",
              "      <td>https://reuters.com</td>\n",
              "      <td>NaN</td>\n",
              "      <td>Reuters</td>\n",
              "    </tr>\n",
              "    <tr>\n",
              "      <th>37</th>\n",
              "      <td>The city of Jena in eastern Germany has decide...</td>\n",
              "      <td>United States</td>\n",
              "      <td>English</td>\n",
              "      <td>True</td>\n",
              "      <td>https://reuters.com</td>\n",
              "      <td>NaN</td>\n",
              "      <td>Reuters</td>\n",
              "    </tr>\n",
              "    <tr>\n",
              "      <th>38</th>\n",
              "      <td>England's test and trace scheme needs improvem...</td>\n",
              "      <td>United States</td>\n",
              "      <td>English</td>\n",
              "      <td>True</td>\n",
              "      <td>https://reuters.com</td>\n",
              "      <td>NaN</td>\n",
              "      <td>Reuters</td>\n",
              "    </tr>\n",
              "    <tr>\n",
              "      <th>40</th>\n",
              "      <td>Chinese health authorities began on Wednesday ...</td>\n",
              "      <td>United States</td>\n",
              "      <td>English</td>\n",
              "      <td>True</td>\n",
              "      <td>https://reuters.com</td>\n",
              "      <td>NaN</td>\n",
              "      <td>Reuters</td>\n",
              "    </tr>\n",
              "    <tr>\n",
              "      <th>43</th>\n",
              "      <td>Italian Prime Minister Giuseppe Conte said tig...</td>\n",
              "      <td>United States</td>\n",
              "      <td>English</td>\n",
              "      <td>True</td>\n",
              "      <td>https://reuters.com</td>\n",
              "      <td>NaN</td>\n",
              "      <td>Reuters</td>\n",
              "    </tr>\n",
              "    <tr>\n",
              "      <th>47</th>\n",
              "      <td>Was March 2020 the First March Since 2002 With...</td>\n",
              "      <td>United States</td>\n",
              "      <td>English</td>\n",
              "      <td>True</td>\n",
              "      <td>https://www.snopes.com/fact-check/march-2020-s...</td>\n",
              "      <td>2020-03-04 00:00:00</td>\n",
              "      <td>snopes</td>\n",
              "    </tr>\n",
              "    <tr>\n",
              "      <th>49</th>\n",
              "      <td>British Prime Minister Boris Johnson said on W...</td>\n",
              "      <td>United States</td>\n",
              "      <td>English</td>\n",
              "      <td>True</td>\n",
              "      <td>https://reuters.com</td>\n",
              "      <td>NaN</td>\n",
              "      <td>Reuters</td>\n",
              "    </tr>\n",
              "    <tr>\n",
              "      <th>51</th>\n",
              "      <td>Italy will likely extend a state of emergency ...</td>\n",
              "      <td>United States</td>\n",
              "      <td>English</td>\n",
              "      <td>True</td>\n",
              "      <td>https://reuters.com</td>\n",
              "      <td>NaN</td>\n",
              "      <td>Reuters</td>\n",
              "    </tr>\n",
              "    <tr>\n",
              "      <th>52</th>\n",
              "      <td>Grace Dowell, a 63-year-old grandmother, has s...</td>\n",
              "      <td>United States</td>\n",
              "      <td>English</td>\n",
              "      <td>True</td>\n",
              "      <td>https://reuters.com</td>\n",
              "      <td>NaN</td>\n",
              "      <td>Reuters</td>\n",
              "    </tr>\n",
              "    <tr>\n",
              "      <th>53</th>\n",
              "      <td>President Donald Trump said on Friday the U.S....</td>\n",
              "      <td>United States</td>\n",
              "      <td>English</td>\n",
              "      <td>True</td>\n",
              "      <td>https://reuters.com</td>\n",
              "      <td>NaN</td>\n",
              "      <td>Reuters</td>\n",
              "    </tr>\n",
              "    <tr>\n",
              "      <th>55</th>\n",
              "      <td>Initial tests in mice of a potential COVID-19 ...</td>\n",
              "      <td>United States</td>\n",
              "      <td>English</td>\n",
              "      <td>True</td>\n",
              "      <td>https://reuters.com</td>\n",
              "      <td>NaN</td>\n",
              "      <td>Reuters</td>\n",
              "    </tr>\n",
              "    <tr>\n",
              "      <th>57</th>\n",
              "      <td>India reported a record daily increase of nove...</td>\n",
              "      <td>United States</td>\n",
              "      <td>English</td>\n",
              "      <td>True</td>\n",
              "      <td>https://reuters.com</td>\n",
              "      <td>NaN</td>\n",
              "      <td>Reuters</td>\n",
              "    </tr>\n",
              "    <tr>\n",
              "      <th>58</th>\n",
              "      <td>Shares of Norway's BerGenBio more than doubled...</td>\n",
              "      <td>United States</td>\n",
              "      <td>English</td>\n",
              "      <td>True</td>\n",
              "      <td>https://reuters.com</td>\n",
              "      <td>NaN</td>\n",
              "      <td>Reuters</td>\n",
              "    </tr>\n",
              "    <tr>\n",
              "      <th>61</th>\n",
              "      <td>The city of Moscow's health department said on...</td>\n",
              "      <td>United States</td>\n",
              "      <td>English</td>\n",
              "      <td>True</td>\n",
              "      <td>https://reuters.com</td>\n",
              "      <td>NaN</td>\n",
              "      <td>Reuters</td>\n",
              "    </tr>\n",
              "    <tr>\n",
              "      <th>62</th>\n",
              "      <td>Britain’s Death Toll from the Coronavirus Riva...</td>\n",
              "      <td>United Kingdom</td>\n",
              "      <td>English</td>\n",
              "      <td>True</td>\n",
              "      <td>https://www.snopes.com/ap/2020/05/05/britains-...</td>\n",
              "      <td>2020-02-02 00:00:00</td>\n",
              "      <td>snopes</td>\n",
              "    </tr>\n",
              "  </tbody>\n",
              "</table>\n",
              "</div>"
            ],
            "text/plain": [
              "                                                 Text  ...       verificado_por\n",
              "1   The reproduction rate for the coronavirus in G...  ...              Reuters\n",
              "5   The U.S. Centers for Disease Control and Preve...  ...              Reuters\n",
              "6   Brazil's health regulator Anvisa on Tuesday au...  ...              Reuters\n",
              "13  Southwest Airlines  said on Wednesday it was e...  ...              Reuters\n",
              "16  The United Kingdom's chief medical officers ha...  ...              Reuters\n",
              "19  One January lunchtime in a car parts company, ...  ...              Reuters\n",
              "20  China Virus Toll Rises to Nine As Pandemic Fea...  ...  afghanistannews.net\n",
              "23  French healthcare workers protested against ex...  ...              Reuters\n",
              "24  Several large drugmakers including Merck & Co ...  ...              Reuters\n",
              "26  Singapore's Tychan, a biotechnology firm backe...  ...              Reuters\n",
              "27  Georgia declared a state of emergency on Satur...  ...              Reuters\n",
              "32  400,000 dead: nightmare virus scenarioHow coro...  ...       adelaidenow.au\n",
              "34  Dow Jones drops 969 points as investors flee m...  ...  afghanistannews.net\n",
              "35  On the day he nearly lost his job for supporti...  ...              Reuters\n",
              "36  The problem of increasing COVID-19 cases in En...  ...              Reuters\n",
              "37  The city of Jena in eastern Germany has decide...  ...              Reuters\n",
              "38  England's test and trace scheme needs improvem...  ...              Reuters\n",
              "40  Chinese health authorities began on Wednesday ...  ...              Reuters\n",
              "43  Italian Prime Minister Giuseppe Conte said tig...  ...              Reuters\n",
              "47  Was March 2020 the First March Since 2002 With...  ...               snopes\n",
              "49  British Prime Minister Boris Johnson said on W...  ...              Reuters\n",
              "51  Italy will likely extend a state of emergency ...  ...              Reuters\n",
              "52  Grace Dowell, a 63-year-old grandmother, has s...  ...              Reuters\n",
              "53  President Donald Trump said on Friday the U.S....  ...              Reuters\n",
              "55  Initial tests in mice of a potential COVID-19 ...  ...              Reuters\n",
              "57  India reported a record daily increase of nove...  ...              Reuters\n",
              "58  Shares of Norway's BerGenBio more than doubled...  ...              Reuters\n",
              "61  The city of Moscow's health department said on...  ...              Reuters\n",
              "62  Britain’s Death Toll from the Coronavirus Riva...  ...               snopes\n",
              "\n",
              "[29 rows x 7 columns]"
            ]
          },
          "metadata": {
            "tags": []
          },
          "execution_count": 38
        }
      ]
    },
    {
      "cell_type": "code",
      "metadata": {
        "colab": {
          "base_uri": "https://localhost:8080/",
          "height": 898
        },
        "id": "A62AVGXnze38",
        "outputId": "deeac4f9-89c3-4f8a-8351-edbc4e9d1aee"
      },
      "source": [
        "datos_reserva.head(29)"
      ],
      "execution_count": 39,
      "outputs": [
        {
          "output_type": "execute_result",
          "data": {
            "text/html": [
              "<div>\n",
              "<style scoped>\n",
              "    .dataframe tbody tr th:only-of-type {\n",
              "        vertical-align: middle;\n",
              "    }\n",
              "\n",
              "    .dataframe tbody tr th {\n",
              "        vertical-align: top;\n",
              "    }\n",
              "\n",
              "    .dataframe thead th {\n",
              "        text-align: right;\n",
              "    }\n",
              "</style>\n",
              "<table border=\"1\" class=\"dataframe\">\n",
              "  <thead>\n",
              "    <tr style=\"text-align: right;\">\n",
              "      <th></th>\n",
              "      <th>Text</th>\n",
              "      <th>country</th>\n",
              "      <th>lang</th>\n",
              "      <th>label</th>\n",
              "      <th>URL</th>\n",
              "      <th>date</th>\n",
              "      <th>verificado_por</th>\n",
              "    </tr>\n",
              "  </thead>\n",
              "  <tbody>\n",
              "    <tr>\n",
              "      <th>0</th>\n",
              "      <td>Existence of a vaccination summit may be a si...</td>\n",
              "      <td>Georgia</td>\n",
              "      <td>English</td>\n",
              "      <td>False</td>\n",
              "      <td>http://mythdetector.ge/en/myth/are-vaccines-te...</td>\n",
              "      <td>2020/06/11</td>\n",
              "      <td>Myth Detector</td>\n",
              "    </tr>\n",
              "    <tr>\n",
              "      <th>1</th>\n",
              "      <td>The reproduction rate for the coronavirus in G...</td>\n",
              "      <td>United States</td>\n",
              "      <td>English</td>\n",
              "      <td>True</td>\n",
              "      <td>https://reuters.com</td>\n",
              "      <td>NaN</td>\n",
              "      <td>Reuters</td>\n",
              "    </tr>\n",
              "    <tr>\n",
              "      <th>2</th>\n",
              "      <td>3,500 Italians potentially infected with the n...</td>\n",
              "      <td>Brazil</td>\n",
              "      <td>English</td>\n",
              "      <td>False</td>\n",
              "      <td>https://aosfatos.org/noticias/e-falso-que-3500...</td>\n",
              "      <td>2020-02-29 00:00:00</td>\n",
              "      <td>Aos Fatos</td>\n",
              "    </tr>\n",
              "    <tr>\n",
              "      <th>3</th>\n",
              "      <td>The Indian Army has been called to control sev...</td>\n",
              "      <td>India</td>\n",
              "      <td>English</td>\n",
              "      <td>False</td>\n",
              "      <td>https://www.boomlive.in/fake-news/false-army-c...</td>\n",
              "      <td>2020-04-03 00:00:00</td>\n",
              "      <td>BOOM FactCheck</td>\n",
              "    </tr>\n",
              "    <tr>\n",
              "      <th>4</th>\n",
              "      <td>Says Queen Elizabeth said Philippine President...</td>\n",
              "      <td>United States</td>\n",
              "      <td>English</td>\n",
              "      <td>False</td>\n",
              "      <td>https://www.politifact.com/factchecks/2020/apr...</td>\n",
              "      <td>2020-04-06 00:00:00</td>\n",
              "      <td>PolitiFact</td>\n",
              "    </tr>\n",
              "    <tr>\n",
              "      <th>5</th>\n",
              "      <td>The U.S. Centers for Disease Control and Preve...</td>\n",
              "      <td>United States</td>\n",
              "      <td>English</td>\n",
              "      <td>True</td>\n",
              "      <td>https://reuters.com</td>\n",
              "      <td>NaN</td>\n",
              "      <td>Reuters</td>\n",
              "    </tr>\n",
              "    <tr>\n",
              "      <th>6</th>\n",
              "      <td>Brazil's health regulator Anvisa on Tuesday au...</td>\n",
              "      <td>United States</td>\n",
              "      <td>English</td>\n",
              "      <td>True</td>\n",
              "      <td>https://reuters.com</td>\n",
              "      <td>NaN</td>\n",
              "      <td>Reuters</td>\n",
              "    </tr>\n",
              "    <tr>\n",
              "      <th>7</th>\n",
              "      <td>Ugandan President Kaguta Museveni and Prime M...</td>\n",
              "      <td>Uganda</td>\n",
              "      <td>English</td>\n",
              "      <td>False</td>\n",
              "      <td>https://pesacheck.org/false-ugandan-president-...</td>\n",
              "      <td>2020/06/09</td>\n",
              "      <td>PesaCheck</td>\n",
              "    </tr>\n",
              "    <tr>\n",
              "      <th>8</th>\n",
              "      <td>A video has been viewed thousands of times on...</td>\n",
              "      <td>Malaysia</td>\n",
              "      <td>English</td>\n",
              "      <td>False</td>\n",
              "      <td>https://factcheck.afp.com/video-shows-safety-d...</td>\n",
              "      <td>2020/04/09</td>\n",
              "      <td>AFP</td>\n",
              "    </tr>\n",
              "    <tr>\n",
              "      <th>9</th>\n",
              "      <td>“Bill Gates Explains That The COVID Vaccine W...</td>\n",
              "      <td>United States</td>\n",
              "      <td>English</td>\n",
              "      <td>False</td>\n",
              "      <td>https://www.politifact.com/factchecks/2020/may...</td>\n",
              "      <td>2020/05/20</td>\n",
              "      <td>PolitiFact</td>\n",
              "    </tr>\n",
              "    <tr>\n",
              "      <th>10</th>\n",
              "      <td>The head of Coordinated Emergences, Fernando ...</td>\n",
              "      <td>Spain</td>\n",
              "      <td>English</td>\n",
              "      <td>False</td>\n",
              "      <td>https://maldita.es/malditobulo/2020/03/10/fern...</td>\n",
              "      <td>2020-02-25 00:00:00</td>\n",
              "      <td>maldita.es</td>\n",
              "    </tr>\n",
              "    <tr>\n",
              "      <th>11</th>\n",
              "      <td>Tokyo Olympics logo has been redesigned on th...</td>\n",
              "      <td>India</td>\n",
              "      <td>English</td>\n",
              "      <td>False</td>\n",
              "      <td>https://www.indiatoday.in/fact-check/story/no-...</td>\n",
              "      <td>2020/03/24</td>\n",
              "      <td>India Today</td>\n",
              "    </tr>\n",
              "    <tr>\n",
              "      <th>12</th>\n",
              "      <td>A graphic has been shared thousands of times ...</td>\n",
              "      <td>Australia</td>\n",
              "      <td>English</td>\n",
              "      <td>False</td>\n",
              "      <td>https://factcheck.afp.com/gargling-warm-salt-w...</td>\n",
              "      <td>2020/03/14</td>\n",
              "      <td>AFP</td>\n",
              "    </tr>\n",
              "    <tr>\n",
              "      <th>13</th>\n",
              "      <td>Southwest Airlines  said on Wednesday it was e...</td>\n",
              "      <td>United States</td>\n",
              "      <td>English</td>\n",
              "      <td>True</td>\n",
              "      <td>https://reuters.com</td>\n",
              "      <td>NaN</td>\n",
              "      <td>Reuters</td>\n",
              "    </tr>\n",
              "    <tr>\n",
              "      <th>14</th>\n",
              "      <td>The Indian Army has been called to control se...</td>\n",
              "      <td>India</td>\n",
              "      <td>English</td>\n",
              "      <td>False</td>\n",
              "      <td>https://www.boomlive.in/fake-news/false-army-c...</td>\n",
              "      <td>2020/03/29</td>\n",
              "      <td>BOOM FactCheck</td>\n",
              "    </tr>\n",
              "    <tr>\n",
              "      <th>15</th>\n",
              "      <td>Having a beard increases your chances of gett...</td>\n",
              "      <td>United States</td>\n",
              "      <td>English</td>\n",
              "      <td>False</td>\n",
              "      <td>https://youtu.be/2CBGeQmJuow</td>\n",
              "      <td>2020/03/17</td>\n",
              "      <td>MediaWise</td>\n",
              "    </tr>\n",
              "    <tr>\n",
              "      <th>16</th>\n",
              "      <td>The United Kingdom's chief medical officers ha...</td>\n",
              "      <td>United States</td>\n",
              "      <td>English</td>\n",
              "      <td>True</td>\n",
              "      <td>https://reuters.com</td>\n",
              "      <td>NaN</td>\n",
              "      <td>Reuters</td>\n",
              "    </tr>\n",
              "    <tr>\n",
              "      <th>17</th>\n",
              "      <td>Kenyan President Uhuru gives artists Sh 2 bill...</td>\n",
              "      <td>Kenya</td>\n",
              "      <td>English</td>\n",
              "      <td>False</td>\n",
              "      <td>https://pesacheck.org/false-kenyan-artists-wil...</td>\n",
              "      <td>2020-04-09 00:00:00</td>\n",
              "      <td>PesaCheck</td>\n",
              "    </tr>\n",
              "    <tr>\n",
              "      <th>18</th>\n",
              "      <td>A video purportedly showing COVID-19 victims i...</td>\n",
              "      <td>United States</td>\n",
              "      <td>English</td>\n",
              "      <td>False</td>\n",
              "      <td>https://factcheck.afp.com/covid-19-corpses-vid...</td>\n",
              "      <td>2020-04-01 00:00:00</td>\n",
              "      <td>AFP</td>\n",
              "    </tr>\n",
              "    <tr>\n",
              "      <th>19</th>\n",
              "      <td>One January lunchtime in a car parts company, ...</td>\n",
              "      <td>United States</td>\n",
              "      <td>English</td>\n",
              "      <td>True</td>\n",
              "      <td>https://reuters.com</td>\n",
              "      <td>NaN</td>\n",
              "      <td>Reuters</td>\n",
              "    </tr>\n",
              "    <tr>\n",
              "      <th>20</th>\n",
              "      <td>China Virus Toll Rises to Nine As Pandemic Fea...</td>\n",
              "      <td>China</td>\n",
              "      <td>English</td>\n",
              "      <td>True</td>\n",
              "      <td>https://www.afghanistannews.net/news/263789036...</td>\n",
              "      <td>2020-03-02 00:00:00</td>\n",
              "      <td>afghanistannews.net</td>\n",
              "    </tr>\n",
              "    <tr>\n",
              "      <th>21</th>\n",
              "      <td>South African food production company Unileve...</td>\n",
              "      <td>South Africa</td>\n",
              "      <td>English</td>\n",
              "      <td>False</td>\n",
              "      <td>https://verificado.com.mx/hidroxicloroquina-pa...</td>\n",
              "      <td>2020-04-22 00:00:00</td>\n",
              "      <td>AfricaCheck</td>\n",
              "    </tr>\n",
              "    <tr>\n",
              "      <th>22</th>\n",
              "      <td>Infected taxi driver demands money from his g...</td>\n",
              "      <td>Nigeria</td>\n",
              "      <td>English</td>\n",
              "      <td>False</td>\n",
              "      <td>https://factcheck.afp.com/story-originated-par...</td>\n",
              "      <td>2020/02/25</td>\n",
              "      <td>AFP</td>\n",
              "    </tr>\n",
              "    <tr>\n",
              "      <th>23</th>\n",
              "      <td>French healthcare workers protested against ex...</td>\n",
              "      <td>United States</td>\n",
              "      <td>English</td>\n",
              "      <td>True</td>\n",
              "      <td>https://reuters.com</td>\n",
              "      <td>NaN</td>\n",
              "      <td>Reuters</td>\n",
              "    </tr>\n",
              "    <tr>\n",
              "      <th>24</th>\n",
              "      <td>Several large drugmakers including Merck &amp; Co ...</td>\n",
              "      <td>United States</td>\n",
              "      <td>English</td>\n",
              "      <td>True</td>\n",
              "      <td>https://reuters.com</td>\n",
              "      <td>NaN</td>\n",
              "      <td>Reuters</td>\n",
              "    </tr>\n",
              "    <tr>\n",
              "      <th>25</th>\n",
              "      <td>China “stole coronavirus from Canada and weap...</td>\n",
              "      <td>United States</td>\n",
              "      <td>English</td>\n",
              "      <td>False</td>\n",
              "      <td>https://www.politifact.com/facebook-fact-check...</td>\n",
              "      <td>2020/01/27</td>\n",
              "      <td>PolitiFact</td>\n",
              "    </tr>\n",
              "    <tr>\n",
              "      <th>26</th>\n",
              "      <td>Singapore's Tychan, a biotechnology firm backe...</td>\n",
              "      <td>United States</td>\n",
              "      <td>English</td>\n",
              "      <td>True</td>\n",
              "      <td>https://reuters.com</td>\n",
              "      <td>NaN</td>\n",
              "      <td>Reuters</td>\n",
              "    </tr>\n",
              "    <tr>\n",
              "      <th>27</th>\n",
              "      <td>Georgia declared a state of emergency on Satur...</td>\n",
              "      <td>United States</td>\n",
              "      <td>English</td>\n",
              "      <td>True</td>\n",
              "      <td>https://reuters.com</td>\n",
              "      <td>NaN</td>\n",
              "      <td>Reuters</td>\n",
              "    </tr>\n",
              "    <tr>\n",
              "      <th>28</th>\n",
              "      <td>A news publication reports the Royal Palace c...</td>\n",
              "      <td>Nigeria</td>\n",
              "      <td>English</td>\n",
              "      <td>False</td>\n",
              "      <td>https://dubawa.org/what-is-the-queen-of-englan...</td>\n",
              "      <td>2020/03/28</td>\n",
              "      <td>Dubawa</td>\n",
              "    </tr>\n",
              "  </tbody>\n",
              "</table>\n",
              "</div>"
            ],
            "text/plain": [
              "                                                 Text  ...       verificado_por\n",
              "0    Existence of a vaccination summit may be a si...  ...        Myth Detector\n",
              "1   The reproduction rate for the coronavirus in G...  ...              Reuters\n",
              "2   3,500 Italians potentially infected with the n...  ...            Aos Fatos\n",
              "3   The Indian Army has been called to control sev...  ...       BOOM FactCheck\n",
              "4   Says Queen Elizabeth said Philippine President...  ...           PolitiFact\n",
              "5   The U.S. Centers for Disease Control and Preve...  ...              Reuters\n",
              "6   Brazil's health regulator Anvisa on Tuesday au...  ...              Reuters\n",
              "7    Ugandan President Kaguta Museveni and Prime M...  ...            PesaCheck\n",
              "8    A video has been viewed thousands of times on...  ...                  AFP\n",
              "9    “Bill Gates Explains That The COVID Vaccine W...  ...           PolitiFact\n",
              "10   The head of Coordinated Emergences, Fernando ...  ...           maldita.es\n",
              "11   Tokyo Olympics logo has been redesigned on th...  ...          India Today\n",
              "12   A graphic has been shared thousands of times ...  ...                  AFP\n",
              "13  Southwest Airlines  said on Wednesday it was e...  ...              Reuters\n",
              "14   The Indian Army has been called to control se...  ...       BOOM FactCheck\n",
              "15   Having a beard increases your chances of gett...  ...            MediaWise\n",
              "16  The United Kingdom's chief medical officers ha...  ...              Reuters\n",
              "17  Kenyan President Uhuru gives artists Sh 2 bill...  ...            PesaCheck\n",
              "18  A video purportedly showing COVID-19 victims i...  ...                  AFP\n",
              "19  One January lunchtime in a car parts company, ...  ...              Reuters\n",
              "20  China Virus Toll Rises to Nine As Pandemic Fea...  ...  afghanistannews.net\n",
              "21   South African food production company Unileve...  ...          AfricaCheck\n",
              "22   Infected taxi driver demands money from his g...  ...                  AFP\n",
              "23  French healthcare workers protested against ex...  ...              Reuters\n",
              "24  Several large drugmakers including Merck & Co ...  ...              Reuters\n",
              "25   China “stole coronavirus from Canada and weap...  ...           PolitiFact\n",
              "26  Singapore's Tychan, a biotechnology firm backe...  ...              Reuters\n",
              "27  Georgia declared a state of emergency on Satur...  ...              Reuters\n",
              "28   A news publication reports the Royal Palace c...  ...               Dubawa\n",
              "\n",
              "[29 rows x 7 columns]"
            ]
          },
          "metadata": {
            "tags": []
          },
          "execution_count": 39
        }
      ]
    },
    {
      "cell_type": "code",
      "metadata": {
        "colab": {
          "base_uri": "https://localhost:8080/"
        },
        "id": "QY9zyAXjefIf",
        "outputId": "dacd279e-4a60-45b4-ff8e-f490d3387eae"
      },
      "source": [
        "# Prueba con textos de datos de reserva\n",
        "\n",
        "text1=datos_reserva[\"Text\"][15]\n",
        "text2=datos_reserva[\"Text\"][25]\n",
        "text3=datos_reserva[\"Text\"][57]\n",
        "\n",
        "print(\"Texto 1: \", text1)\n",
        "print(\"Categoria real: \",datos_trabajo[\"label\"][15])\n",
        "\n",
        "print(\"Texto 2: \", text2)\n",
        "print(\"Categoria real: \",datos_reserva[\"label\"][25])\n",
        "\n",
        "print(\"Texto 3: \", text3)\n",
        "print(\"Categoria real: \",datos_reserva[\"label\"][57])"
      ],
      "execution_count": 44,
      "outputs": [
        {
          "output_type": "stream",
          "text": [
            "Texto 1:   Having a beard increases your chances of getting coronavirus.\n",
            "Categoria real:  False\n",
            "Texto 2:   China “stole coronavirus from Canada and weaponized it into a Bioweapon.”\n",
            "Categoria real:  False\n",
            "Texto 3:  India reported a record daily increase of novel coronavirus cases on Friday and became the world's fourth worst-hit country, raising the prospect of the return of a lockdown just days after it was lifted.\n",
            "Categoria real:  True\n"
          ],
          "name": "stdout"
        }
      ]
    },
    {
      "cell_type": "code",
      "metadata": {
        "colab": {
          "base_uri": "https://localhost:8080/",
          "height": 223
        },
        "id": "iVw_Ea2a9dT-",
        "outputId": "751a7ed7-ab8c-48b8-d7bc-3e938a274b28"
      },
      "source": [
        "datos_reserva.head(6)"
      ],
      "execution_count": 45,
      "outputs": [
        {
          "output_type": "execute_result",
          "data": {
            "text/html": [
              "<div>\n",
              "<style scoped>\n",
              "    .dataframe tbody tr th:only-of-type {\n",
              "        vertical-align: middle;\n",
              "    }\n",
              "\n",
              "    .dataframe tbody tr th {\n",
              "        vertical-align: top;\n",
              "    }\n",
              "\n",
              "    .dataframe thead th {\n",
              "        text-align: right;\n",
              "    }\n",
              "</style>\n",
              "<table border=\"1\" class=\"dataframe\">\n",
              "  <thead>\n",
              "    <tr style=\"text-align: right;\">\n",
              "      <th></th>\n",
              "      <th>Text</th>\n",
              "      <th>country</th>\n",
              "      <th>lang</th>\n",
              "      <th>label</th>\n",
              "      <th>URL</th>\n",
              "      <th>date</th>\n",
              "      <th>verificado_por</th>\n",
              "    </tr>\n",
              "  </thead>\n",
              "  <tbody>\n",
              "    <tr>\n",
              "      <th>0</th>\n",
              "      <td>Existence of a vaccination summit may be a si...</td>\n",
              "      <td>Georgia</td>\n",
              "      <td>English</td>\n",
              "      <td>False</td>\n",
              "      <td>http://mythdetector.ge/en/myth/are-vaccines-te...</td>\n",
              "      <td>2020/06/11</td>\n",
              "      <td>Myth Detector</td>\n",
              "    </tr>\n",
              "    <tr>\n",
              "      <th>1</th>\n",
              "      <td>The reproduction rate for the coronavirus in G...</td>\n",
              "      <td>United States</td>\n",
              "      <td>English</td>\n",
              "      <td>True</td>\n",
              "      <td>https://reuters.com</td>\n",
              "      <td>NaN</td>\n",
              "      <td>Reuters</td>\n",
              "    </tr>\n",
              "    <tr>\n",
              "      <th>2</th>\n",
              "      <td>3,500 Italians potentially infected with the n...</td>\n",
              "      <td>Brazil</td>\n",
              "      <td>English</td>\n",
              "      <td>False</td>\n",
              "      <td>https://aosfatos.org/noticias/e-falso-que-3500...</td>\n",
              "      <td>2020-02-29 00:00:00</td>\n",
              "      <td>Aos Fatos</td>\n",
              "    </tr>\n",
              "    <tr>\n",
              "      <th>3</th>\n",
              "      <td>The Indian Army has been called to control sev...</td>\n",
              "      <td>India</td>\n",
              "      <td>English</td>\n",
              "      <td>False</td>\n",
              "      <td>https://www.boomlive.in/fake-news/false-army-c...</td>\n",
              "      <td>2020-04-03 00:00:00</td>\n",
              "      <td>BOOM FactCheck</td>\n",
              "    </tr>\n",
              "    <tr>\n",
              "      <th>4</th>\n",
              "      <td>Says Queen Elizabeth said Philippine President...</td>\n",
              "      <td>United States</td>\n",
              "      <td>English</td>\n",
              "      <td>False</td>\n",
              "      <td>https://www.politifact.com/factchecks/2020/apr...</td>\n",
              "      <td>2020-04-06 00:00:00</td>\n",
              "      <td>PolitiFact</td>\n",
              "    </tr>\n",
              "    <tr>\n",
              "      <th>5</th>\n",
              "      <td>The U.S. Centers for Disease Control and Preve...</td>\n",
              "      <td>United States</td>\n",
              "      <td>English</td>\n",
              "      <td>True</td>\n",
              "      <td>https://reuters.com</td>\n",
              "      <td>NaN</td>\n",
              "      <td>Reuters</td>\n",
              "    </tr>\n",
              "  </tbody>\n",
              "</table>\n",
              "</div>"
            ],
            "text/plain": [
              "                                                Text  ...  verificado_por\n",
              "0   Existence of a vaccination summit may be a si...  ...   Myth Detector\n",
              "1  The reproduction rate for the coronavirus in G...  ...         Reuters\n",
              "2  3,500 Italians potentially infected with the n...  ...       Aos Fatos\n",
              "3  The Indian Army has been called to control sev...  ...  BOOM FactCheck\n",
              "4  Says Queen Elizabeth said Philippine President...  ...      PolitiFact\n",
              "5  The U.S. Centers for Disease Control and Preve...  ...         Reuters\n",
              "\n",
              "[6 rows x 7 columns]"
            ]
          },
          "metadata": {
            "tags": []
          },
          "execution_count": 45
        }
      ]
    },
    {
      "cell_type": "code",
      "metadata": {
        "id": "QWrl1avDefFm"
      },
      "source": [
        "# Función para prueba\n",
        "\n",
        "def news_alert(a, modelo_probar):\n",
        "    clf=modelo_probar\n",
        "    # Tokenizacion\n",
        "    corpus_1=[]\n",
        "    corpus_1.append(a)\n",
        "    corpus_2=pd.Series(corpus_1)\n",
        "    sequences_reserva = tokenizer.texts_to_sequences(corpus_2.values)\n",
        "    transform_vect_reserva= pad_sequences(sequences_reserva, maxlen=max_len)\n",
        "    #print(transform_vect_reserva)\n",
        "    \n",
        "    prediccion=clf.predict(transform_vect_reserva)\n",
        "    prediccion_a = [np.array(prediccion)]\n",
        "    print(prediccion)    \n",
        "\n",
        "    if prediccion == 1:\n",
        "       print(\"Alerta\")\n",
        "    else:\n",
        "      print(\"No alerta\")"
      ],
      "execution_count": 46,
      "outputs": []
    },
    {
      "cell_type": "code",
      "metadata": {
        "colab": {
          "base_uri": "https://localhost:8080/"
        },
        "id": "K9CtMgKSsRwI",
        "outputId": "2d12c47b-6a35-4c31-daee-54fd65b6fe6f"
      },
      "source": [
        "clasificar_texto=text2\n",
        "print(clasificar_texto)\n",
        "\n",
        "print(\"Modelo RF\")\n",
        "print(news_alert(clasificar_texto, modelRF))"
      ],
      "execution_count": 47,
      "outputs": [
        {
          "output_type": "stream",
          "text": [
            " China “stole coronavirus from Canada and weaponized it into a Bioweapon.”\n",
            "Modelo RF\n",
            "[1]\n",
            "Alerta\n",
            "None\n"
          ],
          "name": "stdout"
        }
      ]
    },
    {
      "cell_type": "code",
      "metadata": {
        "colab": {
          "base_uri": "https://localhost:8080/"
        },
        "id": "IZGYpf7BvnYT",
        "outputId": "cfbd7a7d-78c6-4249-846c-b3abf77d9b5d"
      },
      "source": [
        "# Prueba con función\n",
        "\n",
        "# 1 alerta\n",
        "# 0 no alerta\n",
        "\n",
        "clasificar_texto=text1\n",
        "print(clasificar_texto)\n",
        "\n",
        "print(\"Modelo RF\")\n",
        "print(news_alert(clasificar_texto, modelRF))\n",
        "\n",
        "print(\" \")\n",
        "print(\"Modelo LOG\")\n",
        "print(news_alert(clasificar_texto, modelLOG))\n",
        "\n",
        "print(\" \")\n",
        "print(\"Modelo SVC\")\n",
        "print(news_alert(clasificar_texto, modelSVC))\n",
        "\n",
        "print(\" \")\n",
        "print(\"Modelo NB\")\n",
        "print(news_alert(clasificar_texto, modelNB))\n"
      ],
      "execution_count": 48,
      "outputs": [
        {
          "output_type": "stream",
          "text": [
            " Having a beard increases your chances of getting coronavirus.\n",
            "Modelo RF\n",
            "[1]\n",
            "Alerta\n",
            "None\n",
            " \n",
            "Modelo LOG\n",
            "[1]\n",
            "Alerta\n",
            "None\n",
            " \n",
            "Modelo SVC\n",
            "[0]\n",
            "No alerta\n",
            "None\n",
            " \n",
            "Modelo NB\n",
            "[1]\n",
            "Alerta\n",
            "None\n"
          ],
          "name": "stdout"
        }
      ]
    },
    {
      "cell_type": "code",
      "metadata": {
        "colab": {
          "base_uri": "https://localhost:8080/"
        },
        "id": "73JmqazU-PTc",
        "outputId": "43dd88ee-aa72-4c42-f07c-db26983b3201"
      },
      "source": [
        "news_alert(clasificar_texto, modelLOG)"
      ],
      "execution_count": 49,
      "outputs": [
        {
          "output_type": "stream",
          "text": [
            "[1]\n",
            "Alerta\n"
          ],
          "name": "stdout"
        }
      ]
    },
    {
      "cell_type": "code",
      "metadata": {
        "id": "fjVf8HGp-POi"
      },
      "source": [
        ""
      ],
      "execution_count": null,
      "outputs": []
    },
    {
      "cell_type": "code",
      "metadata": {
        "id": "f9gqGKlp6Eu5"
      },
      "source": [
        "# voy aquí"
      ],
      "execution_count": null,
      "outputs": []
    },
    {
      "cell_type": "markdown",
      "metadata": {
        "id": "x1RIX7ynesF4"
      },
      "source": [
        "### Generación de archivo del modelo"
      ]
    },
    {
      "cell_type": "code",
      "metadata": {
        "id": "lII-nLIEee_V"
      },
      "source": [
        ""
      ],
      "execution_count": null,
      "outputs": []
    },
    {
      "cell_type": "code",
      "metadata": {
        "id": "ttGet7pbxGal"
      },
      "source": [
        "# voy aquí"
      ],
      "execution_count": null,
      "outputs": []
    },
    {
      "cell_type": "markdown",
      "metadata": {
        "id": "kon8-h4Ab4dy"
      },
      "source": [
        "# Voy aqui"
      ]
    },
    {
      "cell_type": "code",
      "metadata": {
        "id": "ywIC-l_wxGXw"
      },
      "source": [
        ""
      ],
      "execution_count": null,
      "outputs": []
    },
    {
      "cell_type": "code",
      "metadata": {
        "id": "F76ibw_7DV8g"
      },
      "source": [
        ""
      ],
      "execution_count": null,
      "outputs": []
    },
    {
      "cell_type": "code",
      "metadata": {
        "id": "oAV9197ucMjE",
        "colab": {
          "base_uri": "https://localhost:8080/"
        },
        "outputId": "752eeb6c-3153-4c41-8e50-0dee4a08302c"
      },
      "source": [
        "# Convierto categorías en números - datos de trabajo\n",
        "\n",
        "category_dict = {value:index for index, value in enumerate(datos_trabajo[\"label\"].unique())} # Extraigo categorías de todos los datos\n",
        "\n",
        "\n",
        "# Extraigo datos de titulares\n",
        "corpus_trabajo = datos_trabajo[\"Text\"]\n",
        "results_trabajo = datos_trabajo[\"label\"].map(category_dict)\n",
        "#category_dict_trabajo\n",
        "datos_trabajo[\"label\"]"
      ],
      "execution_count": null,
      "outputs": [
        {
          "output_type": "execute_result",
          "data": {
            "text/plain": [
              "0       False\n",
              "1       False\n",
              "2       False\n",
              "3       False\n",
              "4       False\n",
              "        ...  \n",
              "6171    False\n",
              "6172    False\n",
              "6173    False\n",
              "6174    False\n",
              "6175    False\n",
              "Name: label, Length: 6176, dtype: bool"
            ]
          },
          "metadata": {
            "tags": []
          },
          "execution_count": 20
        }
      ]
    },
    {
      "cell_type": "markdown",
      "metadata": {
        "id": "hRq6NjjQGqVQ"
      },
      "source": [
        "### Preparación de los datos"
      ]
    },
    {
      "cell_type": "code",
      "metadata": {
        "colab": {
          "base_uri": "https://localhost:8080/"
        },
        "id": "xQ_dFJUNGRic",
        "outputId": "9a331baa-8a13-4b34-bdba-4c84dd996141"
      },
      "source": [
        "corpus_trabajo"
      ],
      "execution_count": null,
      "outputs": [
        {
          "output_type": "execute_result",
          "data": {
            "text/plain": [
              "0       The accompanying footage shows a black man pus...\n",
              "1       Below is a screenshot of the misleading Facebo...\n",
              "2       Neither CNN nor coffee. Dr. Li Wenliang became...\n",
              "3       It starts off with a purported warning from po...\n",
              "4       సోర్సెస్:క్లెయిమ్: ఫేస్బుక్ పోస్ట్ (ఆర్కైవ్డ్)...\n",
              "                              ...                        \n",
              "6171    The MMS is also known as \"miracle mineral supp...\n",
              "6172    , Brandon Brown, a professor at University of ...\n",
              "6173    A video of a man purportedly whipping people o...\n",
              "6174    A post shared on social media by a user named ...\n",
              "6175    A blog post headlined that the President of th...\n",
              "Name: Text, Length: 6176, dtype: object"
            ]
          },
          "metadata": {
            "tags": []
          },
          "execution_count": 72
        }
      ]
    },
    {
      "cell_type": "code",
      "metadata": {
        "colab": {
          "base_uri": "https://localhost:8080/"
        },
        "id": "hPsc2mbyGRlu",
        "outputId": "d9a24eac-9195-48e0-ca68-ed3974aee989"
      },
      "source": [
        "# Convierto categorías en números - datos de trabajo\n",
        "\n",
        "# Extraigo datos de titulares\n",
        "corpus_trabajo = datos_trabajo[\"Title \"]\n",
        "results_trabajo = datos_trabajo[\"label\"].map(category_dict)\n",
        "#category_dict_trabajo\n",
        "datos_trabajo[\"label\"]"
      ],
      "execution_count": null,
      "outputs": [
        {
          "output_type": "execute_result",
          "data": {
            "text/plain": [
              "0       False\n",
              "1       False\n",
              "2       False\n",
              "3       False\n",
              "4       False\n",
              "        ...  \n",
              "6171    False\n",
              "6172    False\n",
              "6173    False\n",
              "6174    False\n",
              "6175    False\n",
              "Name: label, Length: 6176, dtype: bool"
            ]
          },
          "metadata": {
            "tags": []
          },
          "execution_count": 89
        }
      ]
    },
    {
      "cell_type": "code",
      "metadata": {
        "colab": {
          "base_uri": "https://localhost:8080/"
        },
        "id": "Qjc8tUkpGRrM",
        "outputId": "bf8c7b1c-97ad-41ad-dccb-bffee3b02a12"
      },
      "source": [
        "results_trabajo"
      ],
      "execution_count": null,
      "outputs": [
        {
          "output_type": "execute_result",
          "data": {
            "text/plain": [
              "0       0\n",
              "1       0\n",
              "2       0\n",
              "3       0\n",
              "4       0\n",
              "       ..\n",
              "6171    0\n",
              "6172    0\n",
              "6173    0\n",
              "6174    0\n",
              "6175    0\n",
              "Name: label, Length: 6176, dtype: int64"
            ]
          },
          "metadata": {
            "tags": []
          },
          "execution_count": 90
        }
      ]
    },
    {
      "cell_type": "code",
      "metadata": {
        "id": "ZMZcvO-UHNK8"
      },
      "source": [
        "# Convierto categorías en números - datos de reserva\n",
        "\n",
        "# Extraigo datos de titulares\n",
        "corpus_reserva = datos_reserva[\"Title \"]\n",
        "\n",
        "# Construyo mapa de categorías\n",
        "results_reserva = datos_reserva[\"label\"].map(category_dict) # Mapeo categorías con el mismo diccionario (category_dict)"
      ],
      "execution_count": null,
      "outputs": []
    },
    {
      "cell_type": "code",
      "metadata": {
        "colab": {
          "base_uri": "https://localhost:8080/"
        },
        "id": "rf4aGhqiHNTu",
        "outputId": "6194f94a-5014-4015-b630-37e1c152401b"
      },
      "source": [
        "datos_reserva[\"label\"]"
      ],
      "execution_count": null,
      "outputs": [
        {
          "output_type": "execute_result",
          "data": {
            "text/plain": [
              "0      False\n",
              "1      False\n",
              "2      False\n",
              "3       True\n",
              "4      False\n",
              "       ...  \n",
              "682    False\n",
              "683    False\n",
              "684    False\n",
              "685     True\n",
              "686    False\n",
              "Name: label, Length: 687, dtype: bool"
            ]
          },
          "metadata": {
            "tags": []
          },
          "execution_count": 92
        }
      ]
    },
    {
      "cell_type": "code",
      "metadata": {
        "colab": {
          "base_uri": "https://localhost:8080/"
        },
        "id": "8O2z6SelHNQ-",
        "outputId": "643572a1-e6c6-460b-cf9e-5dbc03b1d5e0"
      },
      "source": [
        "results_reserva"
      ],
      "execution_count": null,
      "outputs": [
        {
          "output_type": "execute_result",
          "data": {
            "text/plain": [
              "0      0\n",
              "1      0\n",
              "2      0\n",
              "3      1\n",
              "4      0\n",
              "      ..\n",
              "682    0\n",
              "683    0\n",
              "684    0\n",
              "685    1\n",
              "686    0\n",
              "Name: label, Length: 687, dtype: int64"
            ]
          },
          "metadata": {
            "tags": []
          },
          "execution_count": 93
        }
      ]
    },
    {
      "cell_type": "code",
      "metadata": {
        "colab": {
          "base_uri": "https://localhost:8080/"
        },
        "id": "jXUOm_2CHNEQ",
        "outputId": "b8d9acbf-2a25-4beb-b60f-597a9d3f4b62"
      },
      "source": [
        "# Parámetros\n",
        "n_most_common_words = 8000\n",
        "max_len = 130\n",
        "\n",
        "\n",
        "# Creo tokenizador con todos los datos\n",
        "corpus = datos3[\"Text\"]\n",
        "tokenizer = Tokenizer(num_words=n_most_common_words, filters='!\"#$%&()*+,-./:;<=>?@[\\]^_`{|}~', lower=True)\n",
        "tokenizer.fit_on_texts(corpus.values)\n",
        "word_index = tokenizer.word_index\n",
        "print('Se encontraron %s tokens únicos' % len(word_index))"
      ],
      "execution_count": null,
      "outputs": [
        {
          "output_type": "stream",
          "text": [
            "Se encontraron 307554 tokens únicos\n"
          ],
          "name": "stdout"
        }
      ]
    },
    {
      "cell_type": "code",
      "metadata": {
        "id": "uqts86zZGRem"
      },
      "source": [
        "# Tokenización datos de trabajo\n",
        "\n",
        "corpus_trabajo = datos_trabajo[\"Text\"]\n",
        "sequences = tokenizer.texts_to_sequences(corpus_trabajo.values)\n",
        "X = pad_sequences(sequences, maxlen=max_len)\n"
      ],
      "execution_count": null,
      "outputs": []
    },
    {
      "cell_type": "code",
      "metadata": {
        "id": "LOzc0lU6oG5m"
      },
      "source": [
        "# Tokenización datos de reserva para pruebas\n",
        "\n",
        "corpus_reserva = datos_reserva[\"Text\"]\n",
        "sequences_reserva = tokenizer.texts_to_sequences(corpus_reserva.values)\n",
        "X_reserva = pad_sequences(sequences_reserva, maxlen=max_len)"
      ],
      "execution_count": null,
      "outputs": []
    },
    {
      "cell_type": "code",
      "metadata": {
        "colab": {
          "base_uri": "https://localhost:8080/"
        },
        "id": "UiVTBXELoa83",
        "outputId": "3bf0a3fd-8cbf-4d20-f225-e05de144c433"
      },
      "source": [
        "X_reserva[120]"
      ],
      "execution_count": null,
      "outputs": [
        {
          "output_type": "execute_result",
          "data": {
            "text/plain": [
              "array([2924,   13, 1521, 2070, 2355,    4, 3950,  888, 3223, 4140,  120,\n",
              "        641,  160,   22, 1781, 2828,  888,    7,  701,    5,  449, 3778,\n",
              "        359,   63,  292,    1, 2414,    4,   85, 3431,    5,  661,  162,\n",
              "         77,   76,    1, 1166, 1353,  359,  589,   28,   69,   11,  262,\n",
              "          4,   52, 1672, 1437,    4,  359,   55,  929, 2608,  224, 1541,\n",
              "         22,  984,  360,   14,   46,    7,   99,   90,   85,  927,   24,\n",
              "       4115,   25,   46,    7,  282,   90,   85,  927,  670,  607,   55,\n",
              "        188, 1566,  293,  359,   37, 2545,    5, 2588,   55,   32, 1311,\n",
              "         65,   61,   28,   24, 1747,    1,  120, 2611, 3731,    7, 1179,\n",
              "          5,  251,  107,  401,    6,  143,   90,   85, 3457,   43,    1,\n",
              "        245,    4, 4533,   28,  174, 4923,    1, 5819, 1598,  448, 1951,\n",
              "         35,  764,    5, 3616,    5,    3, 3353,   17,  593], dtype=int32)"
            ]
          },
          "metadata": {
            "tags": []
          },
          "execution_count": 99
        }
      ]
    },
    {
      "cell_type": "code",
      "metadata": {
        "colab": {
          "base_uri": "https://localhost:8080/",
          "height": 103
        },
        "id": "659ZjxcOoa4F",
        "outputId": "79363412-de3f-4eb9-e644-721463f89108"
      },
      "source": [
        "datos_reserva[\"Text\"][120]"
      ],
      "execution_count": null,
      "outputs": [
        {
          "output_type": "execute_result",
          "data": {
            "application/vnd.google.colaboratory.intrinsic+json": {
              "type": "string"
            },
            "text/plain": [
              "'An article claiming that President Yoweri Museveni has shut down State House and reduced the size of cabinet to 23 ministers due to COVID-19 is FALSE.President Museveni, who has been constantly updating the nation about the efforts being taken by the government to curb the spread of COVID-19 in the country, has not made any announcement about shutting down State House or downsizing his cabinet. No credible media publication has covered these claims, which would have been hard to miss considering how newsworthy they are.Have you spotted what you think is fake news or false information on Facebook? Here’s how you can report. And, here’s more information on PesaCheck’s methodology for fact-checking questionable content.PesaCheck is a joint initiative of Code for Africa, through its innovateAFRICA fund, with additional funding support from the International Budget Partnership (Kenya) and Twaweza, in partnership with a coalition of local media organisations, and the International Center for Journalists (ICFJ).PesaCheck has looked into an article claiming that President Museveni has shut down State House and has reduced the size of his cabinet to 23 ministers due to COVID-19 and finds it to be FALSE.This fact-check was written by PesaCheck Fact-Checker Pius Enywaru and edited by PesaCheck News Editor Enock Nyariki.According to the article, President Museveni partially shut down State House operations, sent away some of his own staff and downsized cabinet ministers.The article doesn’t, however, indicate which cabinet ministers were dropped and which ones are still working. It also fails to attribute the claims to any authority.In addition, such information has not been shared on the State House’s website, Twitter and Facebook pages.The president has not made any announcement about reducing operations at State House or downsizing his cabinet.PesaCheck is East Africa’s first public finance fact-checking initiative. It was co-founded by Catherine Gicheru and Justin Arenstein, and is being incubated by the continent’s largest civic technology and data journalism accelerator: Code for Africa. It seeks to help the public separate fact from fiction in public pronouncements about the numbers that shape our world, with a special emphasis on pronouncements about public finances that shape government’s delivery of Sustainable Development Goals (SDG) public services, such as healthcare, rural development and access to water / sanitation. PesaCheck also tests the accuracy of media reportage. To find out more about the project, visit pesacheck.org.This post is part of an ongoing series of PesaCheck fact-checks examining content marked as potential misinformation on Facebook and other social media platforms.By partnering with Facebook and similar social media platforms, third-party fact-checking organisations like PesaCheck are helping to sort fact from fiction. We do this by giving the public deeper insight and context to posts they see in their social media feeds.At the time of publishing this article, Don Wanyama, the president’s senior press secretary, was yet to respond to a request for comment.'"
            ]
          },
          "metadata": {
            "tags": []
          },
          "execution_count": 100
        }
      ]
    },
    {
      "cell_type": "code",
      "metadata": {
        "id": "X0QB54gkq7_G"
      },
      "source": [
        ""
      ],
      "execution_count": null,
      "outputs": []
    },
    {
      "cell_type": "code",
      "metadata": {
        "id": "UZerrzqXq772"
      },
      "source": [
        ""
      ],
      "execution_count": null,
      "outputs": []
    },
    {
      "cell_type": "code",
      "metadata": {
        "id": "pH_v7e09q74y"
      },
      "source": [
        ""
      ],
      "execution_count": null,
      "outputs": []
    },
    {
      "cell_type": "code",
      "metadata": {
        "id": "BCkMd71uq71i"
      },
      "source": [
        ""
      ],
      "execution_count": null,
      "outputs": []
    },
    {
      "cell_type": "code",
      "metadata": {
        "colab": {
          "base_uri": "https://localhost:8080/"
        },
        "id": "64ntVEo_otYT",
        "outputId": "f8f0dd66-539b-4f11-da18-2ab47ec563c8"
      },
      "source": [
        ""
      ],
      "execution_count": null,
      "outputs": [
        {
          "output_type": "execute_result",
          "data": {
            "text/plain": [
              "array([0, 0, 0, 0, 0, 0, 0, 0, 0, 0, 0, 0, 0, 0, 0, 0, 0, 0, 0, 0, 0, 0,\n",
              "       0, 0, 0, 0, 0, 0, 0, 0, 0, 0, 0, 0, 0, 0, 0, 0, 0, 0, 0, 0, 0, 0,\n",
              "       0, 0, 0, 0, 0, 0, 0, 0, 0, 0, 0, 0, 0, 0, 0, 0, 0, 0, 0, 0, 0, 0,\n",
              "       0, 0, 0, 0, 0, 0, 0, 0, 0, 0, 0, 0, 0, 0, 0, 0, 0, 0, 0, 0, 0, 0,\n",
              "       0, 0, 0, 0, 0, 0, 0, 0, 0, 0, 0, 0, 0, 0, 0, 0, 0, 0, 0, 0, 0, 0,\n",
              "       0, 0, 0, 0, 0, 0, 0, 0, 0, 0, 0, 0, 0, 0, 0, 0, 0, 0, 0, 0],\n",
              "      dtype=int32)"
            ]
          },
          "metadata": {
            "tags": []
          },
          "execution_count": 86
        }
      ]
    },
    {
      "cell_type": "code",
      "metadata": {
        "id": "vx7vyQpMotcT"
      },
      "source": [
        ""
      ],
      "execution_count": null,
      "outputs": []
    },
    {
      "cell_type": "code",
      "metadata": {
        "id": "NgtOryScotgA"
      },
      "source": [
        ""
      ],
      "execution_count": null,
      "outputs": []
    },
    {
      "cell_type": "code",
      "metadata": {
        "id": "ekQ-G8mZoa1k"
      },
      "source": [
        ""
      ],
      "execution_count": null,
      "outputs": []
    },
    {
      "cell_type": "code",
      "metadata": {
        "id": "6P_rzqiDoG16"
      },
      "source": [
        ""
      ],
      "execution_count": null,
      "outputs": []
    },
    {
      "cell_type": "code",
      "metadata": {
        "colab": {
          "base_uri": "https://localhost:8080/"
        },
        "id": "mRtpwqrWbfVL",
        "outputId": "31158aaf-b987-4614-d945-a8fd8a0b776d"
      },
      "source": [
        " datos_trabajo[\"Title \"]"
      ],
      "execution_count": null,
      "outputs": [
        {
          "output_type": "execute_result",
          "data": {
            "text/plain": [
              "0       Turkish Ministry of Health issued a document t...\n",
              "1        A photo of a room lined with coffins shows It...\n",
              "2                         Coronavirus found in crab legs.\n",
              "3        Japanese Nobel laureate professor Tasuku Honj...\n",
              "4        Scientists in the United States have discover...\n",
              "                              ...                        \n",
              "5552     Man critical with novel coronavirus in Barhal...\n",
              "5553    A leading public health expert who spearheaded...\n",
              "5554       Lysol products can kill the novel coronavirus.\n",
              "5555     Regarding the risks of coronavirus transmissi...\n",
              "5556    A photograph of a woman hugging her young chil...\n",
              "Name: Title , Length: 5557, dtype: object"
            ]
          },
          "metadata": {
            "tags": []
          },
          "execution_count": 48
        }
      ]
    },
    {
      "cell_type": "code",
      "metadata": {
        "id": "hpRYkmj_bfR8"
      },
      "source": [
        ""
      ],
      "execution_count": null,
      "outputs": []
    },
    {
      "cell_type": "code",
      "metadata": {
        "id": "5SLKRCwaGDc5"
      },
      "source": [
        ""
      ],
      "execution_count": null,
      "outputs": []
    },
    {
      "cell_type": "markdown",
      "metadata": {
        "id": "2ZKbz3j-e8hO"
      },
      "source": [
        "### Train - Test split"
      ]
    },
    {
      "cell_type": "code",
      "metadata": {
        "id": "j1NeEdWVcMmQ"
      },
      "source": [
        "# Train - Test Split\n",
        "\n",
        "x_train,x_test, y_train,y_test = train_test_split(X, results, test_size=0.2, random_state=88 )"
      ],
      "execution_count": null,
      "outputs": []
    },
    {
      "cell_type": "code",
      "metadata": {
        "id": "vzxiJar4cMSq",
        "colab": {
          "base_uri": "https://localhost:8080/",
          "height": 238
        },
        "outputId": "89176b4f-37dd-4f3b-fbd8-5c7253c2ef94"
      },
      "source": [
        "# Visualizo el balance de las clases luego de la división para verificar que no exista un desbalance\n",
        "df_y_train = pd.DataFrame({'yTrain': y_train})\n",
        "\n",
        "df_y_test = pd.DataFrame({'yTest': y_test})\n",
        "\n",
        "\n",
        "fig, axes = plt.subplots(ncols=2, nrows=1, figsize=(18, 10))\n",
        "plt.subplot(2, 2, 1).set_title('yTrain')\n",
        "df_y_train[\"yTrain\"].value_counts().plot(kind='bar')\n",
        "\n",
        "plt.subplot(2, 2, 2).set_title('yTest')\n",
        "df_y_test[\"yTest\"].value_counts().plot(kind='bar')"
      ],
      "execution_count": null,
      "outputs": [
        {
          "output_type": "execute_result",
          "data": {
            "text/plain": [
              "<matplotlib.axes._subplots.AxesSubplot at 0x7f3f589344e0>"
            ]
          },
          "metadata": {
            "tags": []
          },
          "execution_count": 146
        },
        {
          "output_type": "display_data",
          "data": {
            "image/png": "[encoded data removed]",
            "text/plain": [
              "<Figure size 1296x720 with 2 Axes>"
            ]
          },
          "metadata": {
            "tags": [],
            "needs_background": "light"
          }
        }
      ]
    },
    {
      "cell_type": "markdown",
      "metadata": {
        "id": "dFkayjTyf1N1"
      },
      "source": [
        "### Comparación de los modelos\n",
        "\n",
        "> Bloque con sangría\n",
        "\n"
      ]
    },
    {
      "cell_type": "code",
      "metadata": {
        "id": "mN2uGbhucMQQ"
      },
      "source": [
        "# Comparación de modelos\n",
        "# Listado de modelos\n",
        "models = [\n",
        "    RandomForestClassifier(n_estimators=200, max_depth=3, random_state=0),\n",
        "    LinearSVC(),\n",
        "    MultinomialNB(),\n",
        "    LogisticRegression(random_state=0),\n",
        "    ]"
      ],
      "execution_count": null,
      "outputs": []
    },
    {
      "cell_type": "code",
      "metadata": {
        "id": "4D6ggFQDcMFz"
      },
      "source": [
        "CV = 5\n",
        "cv_df = pd.DataFrame(index=range(CV * len(models)))\n",
        "entries = []\n",
        "for model in models:\n",
        "  model_name = model.__class__.__name__\n",
        "  accuracies = cross_val_score(model, x_train, y_train, scoring='accuracy', cv=CV)\n",
        "  for fold_idx, accuracy in enumerate(accuracies):\n",
        "    entries.append((model_name, fold_idx, accuracy))\n",
        "cv_df = pd.DataFrame(entries, columns=['model_name', 'fold_idx', 'accuracy'])"
      ],
      "execution_count": null,
      "outputs": []
    },
    {
      "cell_type": "code",
      "metadata": {
        "id": "5Xfg8HmZb9F6",
        "colab": {
          "base_uri": "https://localhost:8080/",
          "height": 280
        },
        "outputId": "142213e2-937c-4f0e-ccad-6baaa7036f8d"
      },
      "source": [
        "# Gráfico comparativo de la precisión estimada de los modelos\n",
        "import seaborn as sns\n",
        "sns.boxplot(x='model_name', y='accuracy', data=cv_df)\n",
        "sns.stripplot(x='model_name', y='accuracy', data=cv_df, \n",
        "              size=8, jitter=True, edgecolor=\"gray\", linewidth=2)\n",
        "plt.show()"
      ],
      "execution_count": null,
      "outputs": [
        {
          "output_type": "display_data",
          "data": {
            "image/png": "[encoded data removed]",
            "text/plain": [
              "<Figure size 432x288 with 1 Axes>"
            ]
          },
          "metadata": {
            "tags": [],
            "needs_background": "light"
          }
        }
      ]
    },
    {
      "cell_type": "code",
      "metadata": {
        "id": "u7uivnGSgSrW",
        "colab": {
          "base_uri": "https://localhost:8080/",
          "height": 442
        },
        "outputId": "c5cc5e53-d8cb-4124-82db-9ee338922164"
      },
      "source": [
        "# Modelo RandomForest\n",
        "from sklearn.metrics import confusion_matrix\n",
        "\n",
        "modelRF = RandomForestClassifier(n_estimators=200, max_depth=3, random_state=0)\n",
        "modelRF.fit(x_train, y_train)\n",
        "y_pred = modelRF.predict(x_test)\n",
        "\n",
        "conf_mat = confusion_matrix(y_test, y_pred)\n",
        "fig, ax = plt.subplots(figsize=(10,7))\n",
        "sns.heatmap(conf_mat, annot=True, fmt='d',\n",
        "            xticklabels=category_dict, yticklabels=category_dict)\n",
        "plt.ylabel('Actual')\n",
        "plt.xlabel('Predicted')\n",
        "plt.show()"
      ],
      "execution_count": null,
      "outputs": [
        {
          "output_type": "display_data",
          "data": {
            "image/png": "[encoded data removed]",
            "text/plain": [
              "<Figure size 720x504 with 2 Axes>"
            ]
          },
          "metadata": {
            "tags": [],
            "needs_background": "light"
          }
        }
      ]
    },
    {
      "cell_type": "code",
      "metadata": {
        "id": "nGyURXL2gUaj",
        "colab": {
          "base_uri": "https://localhost:8080/",
          "height": 442
        },
        "outputId": "8bf31b57-ef28-420e-df5e-119e6b61df01"
      },
      "source": [
        "# Modelo Logistic\n",
        "from sklearn.metrics import confusion_matrix\n",
        "\n",
        "modelLOG = LogisticRegression(random_state=0)\n",
        "modelLOG.fit(x_train, y_train)\n",
        "y_pred = modelLOG.predict(x_test)\n",
        "\n",
        "conf_mat = confusion_matrix(y_test, y_pred)\n",
        "fig, ax = plt.subplots(figsize=(10,7))\n",
        "sns.heatmap(conf_mat, annot=True, fmt='d',\n",
        "            xticklabels=category_dict, yticklabels=category_dict)\n",
        "plt.ylabel('Actual')\n",
        "plt.xlabel('Predicted')\n",
        "plt.show()"
      ],
      "execution_count": null,
      "outputs": [
        {
          "output_type": "display_data",
          "data": {
            "image/png": "[encoded data removed]",
            "text/plain": [
              "<Figure size 720x504 with 2 Axes>"
            ]
          },
          "metadata": {
            "tags": [],
            "needs_background": "light"
          }
        }
      ]
    },
    {
      "cell_type": "code",
      "metadata": {
        "id": "hH5j8kT-gS6Y",
        "colab": {
          "base_uri": "https://localhost:8080/",
          "height": 442
        },
        "outputId": "5f1e718a-59c8-4c71-cbcf-2711b72869de"
      },
      "source": [
        "# Modelo Multinomial Naive Bayes\n",
        "from sklearn.metrics import confusion_matrix\n",
        "\n",
        "modelNB = MultinomialNB()\n",
        "modelNB.fit(x_train, y_train)\n",
        "y_pred = modelNB.predict(x_test)\n",
        "\n",
        "conf_mat = confusion_matrix(y_test, y_pred)\n",
        "fig, ax = plt.subplots(figsize=(10,7))\n",
        "sns.heatmap(conf_mat, annot=True, fmt='d',\n",
        "            xticklabels=category_dict, yticklabels=category_dict)\n",
        "plt.ylabel('Actual')\n",
        "plt.xlabel('Predicted')\n",
        "plt.show()"
      ],
      "execution_count": null,
      "outputs": [
        {
          "output_type": "display_data",
          "data": {
            "image/png": "[encoded data removed]",
            "text/plain": [
              "<Figure size 720x504 with 2 Axes>"
            ]
          },
          "metadata": {
            "tags": [],
            "needs_background": "light"
          }
        }
      ]
    },
    {
      "cell_type": "code",
      "metadata": {
        "id": "lMtwBaSAb9I6",
        "colab": {
          "base_uri": "https://localhost:8080/",
          "height": 446
        },
        "outputId": "b2321f3e-9085-492f-c6ff-781a6d4a42fa"
      },
      "source": [
        "# Modelo Vector Soporte Lineal\n",
        "from sklearn.metrics import confusion_matrix\n",
        "\n",
        "modelSVC = LinearSVC()\n",
        "modelSVC.fit(x_train, y_train)\n",
        "y_pred = modelSVC.predict(x_test)\n",
        "\n",
        "conf_mat = confusion_matrix(y_test, y_pred)\n",
        "fig, ax = plt.subplots(figsize=(10,7))\n",
        "sns.heatmap(conf_mat, annot=True, fmt='d',\n",
        "            xticklabels=category_dict, yticklabels=category_dict)\n",
        "plt.ylabel('Actual')\n",
        "plt.xlabel('Predicted')\n",
        "plt.show()"
      ],
      "execution_count": null,
      "outputs": [
        {
          "output_type": "display_data",
          "data": {
            "image/png": "[encoded data removed]",
            "text/plain": [
              "<Figure size 720x504 with 2 Axes>"
            ]
          },
          "metadata": {
            "tags": [],
            "needs_background": "light"
          }
        }
      ]
    },
    {
      "cell_type": "code",
      "metadata": {
        "id": "AG7nPY8pgqf8"
      },
      "source": [
        ""
      ],
      "execution_count": null,
      "outputs": []
    },
    {
      "cell_type": "code",
      "metadata": {
        "id": "nPF3Pe7lgqjD"
      },
      "source": [
        ""
      ],
      "execution_count": null,
      "outputs": []
    },
    {
      "cell_type": "markdown",
      "metadata": {
        "id": "MNogsmYdgyUU"
      },
      "source": [
        "### Prueba del modelo"
      ]
    },
    {
      "cell_type": "code",
      "metadata": {
        "id": "w-UmI_5_gqYR"
      },
      "source": [
        "# Función para probar modelos y predecir la categoría de la noticia\n",
        "# De acuerdo con:\n",
        "\n",
        "# {'Health': 5,\n",
        "# 'Politics': 3,\n",
        "# 'enviroment': 0,\n",
        "# 'finance': 7,\n",
        "# 'lifestyle': 2,\n",
        "# 'science': 6,\n",
        "# 'sports': 1,\n",
        "# 'technology': 4}\n",
        "\n",
        "\n",
        "def newscategorifier(a, modelo_probar):\n",
        "    clf=modelo_probar\n",
        "    test_name1 = [a]\n",
        "    transform_vect =vectorizer.transform(test_name1).toarray()\n",
        "    #print(clf.predict(transform_vect))\n",
        "    if clf.predict(transform_vect) == 0:\n",
        "        print(\"enviroment\")\n",
        "    elif clf.predict(transform_vect) == 1:\n",
        "        print(\"sports\")\n",
        "    elif clf.predict(transform_vect) == 2:\n",
        "        print(\"lifestyle\")\n",
        "    elif clf.predict(transform_vect) == 3:\n",
        "        print(\"Politics\")\n",
        "    elif clf.predict(transform_vect) == 4:\n",
        "        print(\"technology\")    \n",
        "    elif clf.predict(transform_vect) == 5:\n",
        "        print(\"Health\")\n",
        "    elif clf.predict(transform_vect) == 6:\n",
        "        print(\"science\") \n",
        "    else:\n",
        "        print(\"finance\")"
      ],
      "execution_count": null,
      "outputs": []
    },
    {
      "cell_type": "code",
      "metadata": {
        "id": "KVl8PvQtkgJT",
        "colab": {
          "base_uri": "https://localhost:8080/"
        },
        "outputId": "0f1d143c-2369-440d-c8f5-dc6f0567f5d3"
      },
      "source": [
        "# Prueba con textos de datos de reserva\n",
        "\n",
        "text1=datos_reserva[\"headline\"][0]\n",
        "text2=datos_reserva[\"headline\"][55]\n",
        "text3=datos_reserva[\"headline\"][88]\n",
        "\n",
        "print(\"Texto 1: \", text1)\n",
        "print(\"Categoria real: \",datos_reserva[\"label\"][0])\n",
        "\n",
        "print(\"Texto 2: \", text2)\n",
        "print(\"Categoria real: \",datos_reserva[\"label\"][55])\n",
        "\n",
        "print(\"Texto 3: \", text3)\n",
        "print(\"Categoria real: \",datos_reserva[\"label\"][88])\n",
        "\n"
      ],
      "execution_count": null,
      "outputs": [
        {
          "output_type": "stream",
          "text": [
            "Texto 1:  Here is a selection of quotes from world leaders and ordinary people about the global COVID-19 pandemic, which has now killed more than 1 million people.\n",
            "Categoria real:  Health\n",
            "Texto 2:  Israeli satellite operator Space Communications said on Wednesday it would launch a new telecommunications satellite in 2019 after losing a prior one in an explosion.\n",
            "Categoria real:  science\n",
            "Texto 3:  Trade negotiators from the United States and China will discuss the implementation of the phase one trade deal in the coming days, with China likely to bring up issues surrounding TikTok and WeChat, Bloomberg News reported on Wednesday, citing sources.\n",
            "Categoria real:  technology\n"
          ],
          "name": "stdout"
        }
      ]
    },
    {
      "cell_type": "code",
      "metadata": {
        "id": "1uEnTe_DkPLX",
        "colab": {
          "base_uri": "https://localhost:8080/"
        },
        "outputId": "fc5f11f1-c5fa-493a-9f93-5e444802be1b"
      },
      "source": [
        "# Prueba con los modelos\n",
        "\n",
        "clasificar_texto=text3\n",
        "\n",
        "print(\"Modelo SVC\")\n",
        "print(newscategorifier(clasificar_texto, modelSVC))\n",
        "\n",
        "print(\" \")\n",
        "print(\"Modelo NB\")\n",
        "print(newscategorifier(clasificar_texto, modelNB))\n",
        "\n",
        "print(\" \")\n",
        "print(\"Modelo LOG\")\n",
        "print(newscategorifier(clasificar_texto, modelLOG))\n",
        "\n",
        "print(\" \")\n",
        "print(\"Modelo RF\")\n",
        "print(newscategorifier(clasificar_texto, modelRF))"
      ],
      "execution_count": null,
      "outputs": [
        {
          "output_type": "stream",
          "text": [
            "Modelo SVC\n",
            "technology\n",
            "None\n",
            " \n",
            "Modelo NB\n",
            "technology\n",
            "None\n",
            " \n",
            "Modelo LOG\n",
            "technology\n",
            "None\n",
            " \n",
            "Modelo RF\n",
            "technology\n",
            "None\n"
          ],
          "name": "stdout"
        }
      ]
    },
    {
      "cell_type": "markdown",
      "metadata": {
        "id": "tXjbtwuyg1JM"
      },
      "source": [
        "### Generación de archivo del modelo"
      ]
    },
    {
      "cell_type": "code",
      "metadata": {
        "id": "zg8DNVftb9CM",
        "colab": {
          "base_uri": "https://localhost:8080/"
        },
        "outputId": "bcbedd04-c614-4d8e-aee7-91e83a2fb989"
      },
      "source": [
        "## Guardo los modelos en archivos\n",
        "\n",
        "\n",
        "filename = 'SVC_model.pkl'\n",
        "joblib.dump(modelSVC, filename)\n",
        "\n",
        "filename = 'NB_model.pkl'\n",
        "joblib.dump(modelNB, filename)\n",
        "\n",
        "filename = 'LOG_model.pkl'\n",
        "joblib.dump(modelLOG, filename)\n",
        "\n",
        "filename = 'RF_model.pkl'\n",
        "joblib.dump(modelRF, filename)\n",
        "\n",
        "filename = 'vectorizer.pkl'\n",
        "joblib.dump(vectorizer, filename)\n"
      ],
      "execution_count": null,
      "outputs": [
        {
          "output_type": "execute_result",
          "data": {
            "text/plain": [
              "['vectorizer.pkl']"
            ]
          },
          "metadata": {
            "tags": []
          },
          "execution_count": 157
        }
      ]
    },
    {
      "cell_type": "code",
      "metadata": {
        "id": "emQkCtVOkbuE"
      },
      "source": [
        ""
      ],
      "execution_count": null,
      "outputs": []
    },
    {
      "cell_type": "code",
      "metadata": {
        "id": "tuMp4xkWkbd9"
      },
      "source": [
        ""
      ],
      "execution_count": null,
      "outputs": []
    },
    {
      "cell_type": "code",
      "metadata": {
        "id": "9UgJWDpMkbaQ"
      },
      "source": [
        ""
      ],
      "execution_count": null,
      "outputs": []
    },
    {
      "cell_type": "code",
      "metadata": {
        "id": "laYUXoLcB_ss"
      },
      "source": [
        ""
      ],
      "execution_count": null,
      "outputs": []
    },
    {
      "cell_type": "code",
      "metadata": {
        "id": "5aMIaU5FB_dG"
      },
      "source": [
        ""
      ],
      "execution_count": null,
      "outputs": []
    }
  ]
}