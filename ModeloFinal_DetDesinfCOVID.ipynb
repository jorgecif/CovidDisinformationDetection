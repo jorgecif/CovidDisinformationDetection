{
  "nbformat": 4,
  "nbformat_minor": 0,
  "metadata": {
    "colab": {
      "name": "TFM-ModeloFinal",
      "provenance": [],
      "collapsed_sections": [],
      "machine_shape": "hm",
      "authorship_tag": "ABX9TyPXyVnouyPGfxtqU5URygct",
      "include_colab_link": true
    },
    "kernelspec": {
      "display_name": "Python 3",
      "name": "python3"
    }
  },
  "cells": [
    {
      "cell_type": "markdown",
      "metadata": {
        "id": "view-in-github",
        "colab_type": "text"
      },
      "source": [
        "<a href=\"https://colab.research.google.com/github/jorgecif/CovidDisinformationDetection/blob/main/ModeloFinal_DetDesinfCOVID.ipynb\" target=\"_parent\"><img src=\"https://colab.research.google.com/assets/colab-badge.svg\" alt=\"Open In Colab\"/></a>"
      ]
    },
    {
      "cell_type": "markdown",
      "metadata": {
        "id": "p-sjukMkc3iY"
      },
      "source": [
        "# **Detección de desinformación relacionada con COVID19** - desarrollo del modelo\n",
        "\n",
        "\n",
        "> Por: Jorge Orlando Cifuentes Cifuentes\n",
        "\n",
        "\n"
      ]
    },
    {
      "cell_type": "markdown",
      "metadata": {
        "id": "t2j64mpxhBTe"
      },
      "source": [
        "Componentes principales:\n",
        "\n",
        "\n",
        "*   Clasificador de la noticia\n",
        "*   Extractor de palabras claves\n",
        "*   Generador de alerta\n",
        "\n"
      ]
    },
    {
      "cell_type": "markdown",
      "metadata": {
        "id": "TKlTx3vWrlWC"
      },
      "source": [
        "### Librerías y funciones"
      ]
    },
    {
      "cell_type": "code",
      "metadata": {
        "colab": {
          "base_uri": "https://localhost:8080/"
        },
        "id": "sIEkgmbsrqd_",
        "outputId": "5800df75-8574-4f86-fdca-32c0f482e2f8"
      },
      "source": [
        "# Generales\n",
        "import warnings\n",
        "warnings.filterwarnings('ignore')\n",
        "#import csv\n",
        "#import tensorflow as tf\n",
        "import pandas as pd\n",
        "import numpy as np\n",
        "import os, joblib # Para exportar el modelo\n",
        "from io import BytesIO\n",
        "import requests\n",
        "import time\n",
        "from IPython.display import clear_output\n",
        "\n",
        "\n",
        "# Gráficas\n",
        "import matplotlib.pyplot as plt\n",
        "import seaborn as sns\n",
        "\n",
        "\n",
        "# Machine learning\n",
        "from keras.layers import concatenate\n",
        "\n",
        "from sklearn.feature_extraction.text import CountVectorizer\n",
        "from sklearn.model_selection import train_test_split\n",
        "from tensorflow.keras import regularizers\n",
        "\n",
        "from sklearn.feature_extraction.text import CountVectorizer\n",
        "from sklearn.model_selection import cross_val_score\n",
        "from sklearn.model_selection import train_test_split\n",
        "from keras.layers import Dense, Input, GlobalMaxPooling1D, LSTM\n",
        "from keras.layers import Conv1D, MaxPooling1D, Embedding, Dropout, Activation, Flatten, Bidirectional\n",
        "\n",
        "\n",
        "from sklearn.feature_extraction.text import CountVectorizer\n",
        "from keras.preprocessing.text import Tokenizer\n",
        "from keras.preprocessing.sequence import pad_sequences\n",
        "from keras.utils.np_utils import to_categorical\n",
        "from keras.models import Model\n",
        "from keras.models import Sequential\n",
        "from keras.callbacks import EarlyStopping\n",
        "\n",
        "\n",
        "import tensorflow as tf\n",
        "from tensorflow.keras import layers\n",
        "from tensorflow.keras import Model\n",
        "\n",
        "# Procesamiento lenguaje natural\n",
        "\n",
        "import gensim\n",
        "from gensim.utils import simple_preprocess\n",
        "from gensim.parsing.preprocessing import STOPWORDS, preprocess_string, strip_punctuation, strip_numeric\n",
        "from nltk.stem import WordNetLemmatizer, SnowballStemmer\n",
        "from nltk.stem.porter import *\n",
        "np.random.seed(88)\n",
        "import nltk\n",
        "nltk.download('wordnet')\n",
        "\n",
        "\n"
      ],
      "execution_count": 17,
      "outputs": [
        {
          "output_type": "stream",
          "text": [
            "[nltk_data] Downloading package wordnet to /root/nltk_data...\n",
            "[nltk_data]   Package wordnet is already up-to-date!\n"
          ],
          "name": "stdout"
        },
        {
          "output_type": "execute_result",
          "data": {
            "text/plain": [
              "True"
            ]
          },
          "metadata": {
            "tags": []
          },
          "execution_count": 17
        }
      ]
    },
    {
      "cell_type": "code",
      "metadata": {
        "id": "TyyaIL4Rr2MO"
      },
      "source": [
        "# Funciones para comparar modelos\n",
        "\n",
        "def plot_acc(history, title=\"Model Accuracy\"):\n",
        "    \"\"\"Imprime una gráfica mostrando la accuracy por epoch obtenida en un entrenamiento\"\"\"\n",
        "    plt.plot(history.history['acc']) # Modifico \"acc\" por \"accuracy\"\n",
        "    plt.plot(history.history['val_acc']) # Modifico \"val_acc\" por \"val_accuracy\"\n",
        "    plt.title(title)\n",
        "    plt.ylabel('Accuracy')\n",
        "    plt.xlabel('Epoch')\n",
        "    plt.legend(['Train', 'Val'], loc='upper left')\n",
        "    plt.show()\n",
        "    \n",
        "def plot_loss(history, title=\"Model Loss\"):\n",
        "    \"\"\"Imprime una gráfica mostrando la pérdida por epoch obtenida en un entrenamiento\"\"\"\n",
        "    plt.plot(history.history['loss'])\n",
        "    plt.plot(history.history['val_loss'])\n",
        "    plt.title(title)\n",
        "    plt.ylabel('Loss')\n",
        "    plt.xlabel('Epoch')\n",
        "    plt.legend(['Train', 'Val'], loc='upper right')\n",
        "    plt.show()\n",
        "    \n",
        "def plot_compare_losses(history1, history2, name1=\"Red 1\",\n",
        "                        name2=\"Red 2\", title=\"Graph title\"):\n",
        "    \"\"\"Compara losses de dos entrenamientos con nombres name1 y name2\"\"\"\n",
        "    plt.plot(history1.history['loss'], color=\"green\")\n",
        "    plt.plot(history1.history['val_loss'], 'r--', color=\"green\")\n",
        "    plt.plot(history2.history['loss'], color=\"blue\")\n",
        "    plt.plot(history2.history['val_loss'], 'r--', color=\"blue\")\n",
        "    plt.title(title)\n",
        "    plt.ylabel('Loss')\n",
        "    plt.xlabel('Epoch')\n",
        "    plt.legend(['Train ' + name1, 'Val ' + name1, \n",
        "                'Train ' + name2, 'Val ' + name2],\n",
        "               loc='upper right')\n",
        "    plt.show()\n",
        "    \n",
        "def plot_compare_accs(history1, history2, name1=\"Red 1\",\n",
        "                      name2=\"Red 2\", title=\"Graph title\"):\n",
        "    \"\"\"Compara accuracies de dos entrenamientos con nombres name1 y name2\"\"\"\n",
        "    plt.plot(history1.history['acc'], color=\"green\")\n",
        "    plt.plot(history1.history['val_acc'], 'r--', color=\"green\")\n",
        "    plt.plot(history2.history['acc'], color=\"blue\")\n",
        "    plt.plot(history2.history['val_acc'], 'r--', color=\"blue\")\n",
        "    plt.title(title)\n",
        "    plt.ylabel('Accuracy')\n",
        "    plt.xlabel('Epoch')\n",
        "    plt.legend(['Train ' + name1, 'Val ' + name1, \n",
        "                'Train ' + name2, 'Val ' + name2], \n",
        "               loc='lower right')\n",
        "    plt.show()\n",
        "\n",
        "def plot_compare_accs3(history1, history2, history3, name1=\"Red 1\",\n",
        "                      name2=\"Red 2\", name3=\"Red 3\", title=\"Graph title\"):\n",
        "    \"\"\"Compara accuracies de tres entrenamientos con nombres name1, name2 y name3\"\"\"\n",
        "    plt.plot(history1.history['acc'], color=\"green\")\n",
        "    plt.plot(history1.history['val_acc'], 'r--', color=\"green\")\n",
        "    plt.plot(history2.history['acc'], color=\"blue\")\n",
        "    plt.plot(history2.history['val_acc'], 'r--', color=\"blue\")\n",
        "    plt.plot(history3.history['acc'], color=\"red\")\n",
        "    plt.plot(history3.history['val_acc'], 'r--', color=\"red\")\n",
        "    plt.title(title)\n",
        "    plt.ylabel('Accuracy')\n",
        "    plt.xlabel('Epoch')\n",
        "    plt.legend(['Train ' + name1, 'Val ' + name1,\n",
        "                'Train ' + name2, 'Val ' + name2,  \n",
        "                'Train ' + name3, 'Val ' + name3], \n",
        "               loc='lower right')\n",
        "    plt.show()\n",
        "\n",
        "def plot_compare_losses3(history1, history2, history3, name1=\"Red 1\",\n",
        "                        name2=\"Red 2\", name3=\"Red 3\", title=\"Graph title\"):\n",
        "    \"\"\"Compara losses de tres entrenamientos con nombres name1, name2 y name3\"\"\"\n",
        "    plt.plot(history1.history['loss'], color=\"green\")\n",
        "    plt.plot(history1.history['val_loss'], 'r--', color=\"green\")\n",
        "    plt.plot(history2.history['loss'], color=\"blue\")\n",
        "    plt.plot(history2.history['val_loss'], 'r--', color=\"blue\")\n",
        "    plt.plot(history3.history['loss'], color=\"red\")\n",
        "    plt.plot(history3.history['val_loss'], 'r--', color=\"red\")\n",
        "    plt.title(title)\n",
        "    plt.ylabel('Loss')\n",
        "    plt.xlabel('Epoch')\n",
        "    plt.legend(['Train ' + name1, 'Val ' + name1, \n",
        "                'Train ' + name2, 'Val ' + name2,\n",
        "                'Train ' + name3, 'Val ' + name3],\n",
        "               loc='upper right')\n",
        "    plt.show()"
      ],
      "execution_count": 86,
      "outputs": []
    },
    {
      "cell_type": "markdown",
      "metadata": {
        "id": "gEGyEpgdr5Rg"
      },
      "source": [
        "### Carga de datos"
      ]
    },
    {
      "cell_type": "code",
      "metadata": {
        "colab": {
          "base_uri": "https://localhost:8080/"
        },
        "id": "TlgWUEd-g7ao",
        "outputId": "d365d85d-b04a-4c83-a90c-2c98df78c346"
      },
      "source": [
        "# Carga de datos\n",
        "url_datos=\"https://github.com/jorgecif/CovidDisinformationDetection/blob/main/data/CovidHeadlinesDataset2.xlsx?raw=true\"\n",
        "\n",
        "datos = pd.read_excel(url_datos)\n",
        "\n",
        "print(\"Se han cargado \", datos.shape[0], \" titulares\")\n",
        "\n"
      ],
      "execution_count": 19,
      "outputs": [
        {
          "output_type": "stream",
          "text": [
            "Se han cargado  15357  titulares\n"
          ],
          "name": "stdout"
        }
      ]
    },
    {
      "cell_type": "code",
      "metadata": {
        "colab": {
          "base_uri": "https://localhost:8080/"
        },
        "id": "8eb04R8k-ZVC",
        "outputId": "fed6e6b9-b813-4f6b-97f2-85309edeaf5f"
      },
      "source": [
        "#Elimino duplicados de todas las columnas\n",
        "\n",
        "datos2 = datos.drop_duplicates()\n",
        "print(len(datos2))\n",
        "\n",
        "# Elimino ambiguedades\n",
        "\n",
        "datos3=datos2.drop_duplicates(['Text'], keep='first') # Elimino ambiguedades\n",
        "print(len(datos3))"
      ],
      "execution_count": 20,
      "outputs": [
        {
          "output_type": "stream",
          "text": [
            "15315\n",
            "13045\n"
          ],
          "name": "stdout"
        }
      ]
    },
    {
      "cell_type": "code",
      "metadata": {
        "colab": {
          "base_uri": "https://localhost:8080/",
          "height": 333
        },
        "id": "vP67bZbQ-iYS",
        "outputId": "12a3cd18-1951-4a3a-c7e0-489adac2b433"
      },
      "source": [
        "# Revuelvo los registros\n",
        "datos3 = datos3.sample(frac = 1, random_state= 88) \n",
        "datos3=datos3.reset_index()\n",
        "datos3=datos3.drop([\"index\"], axis=1)\n",
        "\n",
        "# Muestra de los datos\n",
        "datos3.head(5)\n"
      ],
      "execution_count": 21,
      "outputs": [
        {
          "output_type": "execute_result",
          "data": {
            "text/html": [
              "<div>\n",
              "<style scoped>\n",
              "    .dataframe tbody tr th:only-of-type {\n",
              "        vertical-align: middle;\n",
              "    }\n",
              "\n",
              "    .dataframe tbody tr th {\n",
              "        vertical-align: top;\n",
              "    }\n",
              "\n",
              "    .dataframe thead th {\n",
              "        text-align: right;\n",
              "    }\n",
              "</style>\n",
              "<table border=\"1\" class=\"dataframe\">\n",
              "  <thead>\n",
              "    <tr style=\"text-align: right;\">\n",
              "      <th></th>\n",
              "      <th>Text</th>\n",
              "      <th>country</th>\n",
              "      <th>lang</th>\n",
              "      <th>label</th>\n",
              "      <th>URL</th>\n",
              "      <th>date</th>\n",
              "      <th>verificado_por</th>\n",
              "    </tr>\n",
              "  </thead>\n",
              "  <tbody>\n",
              "    <tr>\n",
              "      <th>0</th>\n",
              "      <td>There is an herbal cure for COVID-19.</td>\n",
              "      <td>Sri Lanka</td>\n",
              "      <td>English</td>\n",
              "      <td>False</td>\n",
              "      <td>http://u.afp.com/asafoetidacoronavirus</td>\n",
              "      <td>2020-02-27 00:00:00</td>\n",
              "      <td>u.afp</td>\n",
              "    </tr>\n",
              "    <tr>\n",
              "      <th>1</th>\n",
              "      <td>This graphics shows that the number of death ...</td>\n",
              "      <td>France</td>\n",
              "      <td>French</td>\n",
              "      <td>False</td>\n",
              "      <td>https://factuel.afp.com/non-ce-visuel-ne-montr...</td>\n",
              "      <td>2020/05/08</td>\n",
              "      <td>AFP</td>\n",
              "    </tr>\n",
              "    <tr>\n",
              "      <th>2</th>\n",
              "      <td>Central Park hospital tents housed thousands o...</td>\n",
              "      <td>United States</td>\n",
              "      <td>English</td>\n",
              "      <td>False</td>\n",
              "      <td>https://www.rappler.com/newsbreak/fact-check/2...</td>\n",
              "      <td>2020-05-03 00:00:00</td>\n",
              "      <td>PolitiFact</td>\n",
              "    </tr>\n",
              "    <tr>\n",
              "      <th>3</th>\n",
              "      <td>Having 14 face masks is enough. You can reuse ...</td>\n",
              "      <td>Taiwan</td>\n",
              "      <td>Korean</td>\n",
              "      <td>False</td>\n",
              "      <td>https://tfc-taiwan.org.tw/articles/2599</td>\n",
              "      <td>2020-02-18 00:00:00</td>\n",
              "      <td>Taiwan FactCheck Center</td>\n",
              "    </tr>\n",
              "    <tr>\n",
              "      <th>4</th>\n",
              "      <td>CRAS (a social care center) is distributing 49...</td>\n",
              "      <td>Brazil</td>\n",
              "      <td>Portuguese</td>\n",
              "      <td>False</td>\n",
              "      <td>https://tamil.factcrescendo.com/factcheck-musl...</td>\n",
              "      <td>2020-05-04 00:00:00</td>\n",
              "      <td>Agência Lupa</td>\n",
              "    </tr>\n",
              "  </tbody>\n",
              "</table>\n",
              "</div>"
            ],
            "text/plain": [
              "                                                Text  ...           verificado_por\n",
              "0              There is an herbal cure for COVID-19.  ...                    u.afp\n",
              "1   This graphics shows that the number of death ...  ...                      AFP\n",
              "2  Central Park hospital tents housed thousands o...  ...               PolitiFact\n",
              "3  Having 14 face masks is enough. You can reuse ...  ...  Taiwan FactCheck Center\n",
              "4  CRAS (a social care center) is distributing 49...  ...             Agência Lupa\n",
              "\n",
              "[5 rows x 7 columns]"
            ]
          },
          "metadata": {
            "tags": []
          },
          "execution_count": 21
        }
      ]
    },
    {
      "cell_type": "code",
      "metadata": {
        "colab": {
          "base_uri": "https://localhost:8080/",
          "height": 184
        },
        "id": "txlCtfbP-iTu",
        "outputId": "586ff802-e9a6-4b3b-8ae4-418bef02a6d5"
      },
      "source": [
        "# Descripción de los datos\n",
        "\n",
        "datos3.describe(include=\"all\")"
      ],
      "execution_count": 22,
      "outputs": [
        {
          "output_type": "execute_result",
          "data": {
            "text/html": [
              "<div>\n",
              "<style scoped>\n",
              "    .dataframe tbody tr th:only-of-type {\n",
              "        vertical-align: middle;\n",
              "    }\n",
              "\n",
              "    .dataframe tbody tr th {\n",
              "        vertical-align: top;\n",
              "    }\n",
              "\n",
              "    .dataframe thead th {\n",
              "        text-align: right;\n",
              "    }\n",
              "</style>\n",
              "<table border=\"1\" class=\"dataframe\">\n",
              "  <thead>\n",
              "    <tr style=\"text-align: right;\">\n",
              "      <th></th>\n",
              "      <th>Text</th>\n",
              "      <th>country</th>\n",
              "      <th>lang</th>\n",
              "      <th>label</th>\n",
              "      <th>URL</th>\n",
              "      <th>date</th>\n",
              "      <th>verificado_por</th>\n",
              "    </tr>\n",
              "  </thead>\n",
              "  <tbody>\n",
              "    <tr>\n",
              "      <th>count</th>\n",
              "      <td>13045</td>\n",
              "      <td>13045</td>\n",
              "      <td>13045</td>\n",
              "      <td>13045</td>\n",
              "      <td>12968</td>\n",
              "      <td>12894</td>\n",
              "      <td>13045</td>\n",
              "    </tr>\n",
              "    <tr>\n",
              "      <th>unique</th>\n",
              "      <td>13045</td>\n",
              "      <td>127</td>\n",
              "      <td>50</td>\n",
              "      <td>2</td>\n",
              "      <td>8225</td>\n",
              "      <td>315</td>\n",
              "      <td>129</td>\n",
              "    </tr>\n",
              "    <tr>\n",
              "      <th>top</th>\n",
              "      <td>Video of bodies being washed ashore being sha...</td>\n",
              "      <td>India</td>\n",
              "      <td>English</td>\n",
              "      <td>False</td>\n",
              "      <td>http://www.ecuadorchequea.com/las-mentiras-sob...</td>\n",
              "      <td>2020-04-03 00:00:00</td>\n",
              "      <td>AFP</td>\n",
              "    </tr>\n",
              "    <tr>\n",
              "      <th>freq</th>\n",
              "      <td>1</td>\n",
              "      <td>2380</td>\n",
              "      <td>6817</td>\n",
              "      <td>11921</td>\n",
              "      <td>14</td>\n",
              "      <td>680</td>\n",
              "      <td>971</td>\n",
              "    </tr>\n",
              "  </tbody>\n",
              "</table>\n",
              "</div>"
            ],
            "text/plain": [
              "                                                     Text  ... verificado_por\n",
              "count                                               13045  ...          13045\n",
              "unique                                              13045  ...            129\n",
              "top      Video of bodies being washed ashore being sha...  ...            AFP\n",
              "freq                                                    1  ...            971\n",
              "\n",
              "[4 rows x 7 columns]"
            ]
          },
          "metadata": {
            "tags": []
          },
          "execution_count": 22
        }
      ]
    },
    {
      "cell_type": "code",
      "metadata": {
        "colab": {
          "base_uri": "https://localhost:8080/",
          "height": 333
        },
        "id": "iFU__fEt-ZQo",
        "outputId": "8d223abf-985a-4f90-c8b0-b8fd1a397c3f"
      },
      "source": [
        "# Distribución de las categorías datos\n",
        "plt.figure(figsize=(12,5))\n",
        "sns.countplot(\"label\", data=datos3)\n",
        "plt.show()"
      ],
      "execution_count": 23,
      "outputs": [
        {
          "output_type": "display_data",
          "data": {
            "image/png": "[encoded data removed]",
            "text/plain": [
              "<Figure size 864x360 with 1 Axes>"
            ]
          },
          "metadata": {
            "tags": [],
            "needs_background": "light"
          }
        }
      ]
    },
    {
      "cell_type": "code",
      "metadata": {
        "colab": {
          "base_uri": "https://localhost:8080/"
        },
        "id": "9GvEaWL2_Ta-",
        "outputId": "3d582cb6-dd55-47e9-9361-6ca0a16b9baf"
      },
      "source": [
        "# Filtro datos sólo en inglés\n",
        "datos_ingles=datos3[datos3['lang']==\"English\"]\n",
        "len(datos_ingles)"
      ],
      "execution_count": 24,
      "outputs": [
        {
          "output_type": "execute_result",
          "data": {
            "text/plain": [
              "6817"
            ]
          },
          "metadata": {
            "tags": []
          },
          "execution_count": 24
        }
      ]
    },
    {
      "cell_type": "code",
      "metadata": {
        "colab": {
          "base_uri": "https://localhost:8080/",
          "height": 334
        },
        "id": "7nYaOwQm_XJD",
        "outputId": "f5fb6ad1-2f47-4012-abc1-0d791a0c7e0e"
      },
      "source": [
        "# Distribución de las categorías datos de trabajo filtrados en idioma inglés\n",
        "plt.figure(figsize=(12,5))\n",
        "sns.countplot(\"label\", data=datos_ingles)\n",
        "plt.show()"
      ],
      "execution_count": 25,
      "outputs": [
        {
          "output_type": "display_data",
          "data": {
            "image/png": "[encoded data removed]",
            "text/plain": [
              "<Figure size 864x360 with 1 Axes>"
            ]
          },
          "metadata": {
            "tags": [],
            "needs_background": "light"
          }
        }
      ]
    },
    {
      "cell_type": "markdown",
      "metadata": {
        "id": "Vc0r3ykDwqAf"
      },
      "source": [
        "### Creación de conjuntos de datos"
      ]
    },
    {
      "cell_type": "code",
      "metadata": {
        "colab": {
          "base_uri": "https://localhost:8080/"
        },
        "id": "uim-Gp3PwsTy",
        "outputId": "299622ac-d51e-4b1e-b4fe-2bfb390b07e7"
      },
      "source": [
        "# Reservo unos datos para pruebas finales (datos que no se tocan)\n",
        "datos_trabajo,datos_reserva = train_test_split(datos_ingles, test_size=0.1, random_state=88 )\n",
        "datos_trabajo=datos_trabajo.reset_index()\n",
        "\n",
        "datos_reserva=datos_reserva.reset_index()\n",
        "\n",
        "print(\"Datos para trabajar: \", len(datos_trabajo))\n",
        "print(\"Datos reservados para pruebas finales \", len(datos_reserva))"
      ],
      "execution_count": 26,
      "outputs": [
        {
          "output_type": "stream",
          "text": [
            "Datos para trabajar:  6135\n",
            "Datos reservados para pruebas finales  682\n"
          ],
          "name": "stdout"
        }
      ]
    },
    {
      "cell_type": "code",
      "metadata": {
        "colab": {
          "base_uri": "https://localhost:8080/",
          "height": 334
        },
        "id": "9xUJHDW1xobT",
        "outputId": "0cc5c6b0-39c8-4690-efd8-81bfaf365ea6"
      },
      "source": [
        "# Distribución de las categorías datos de trabajo\n",
        "plt.figure(figsize=(12,5))\n",
        "sns.countplot(\"label\", data=datos_trabajo)\n",
        "plt.show()"
      ],
      "execution_count": 27,
      "outputs": [
        {
          "output_type": "display_data",
          "data": {
            "image/png": "[encoded data removed]",
            "text/plain": [
              "<Figure size 864x360 with 1 Axes>"
            ]
          },
          "metadata": {
            "tags": [],
            "needs_background": "light"
          }
        }
      ]
    },
    {
      "cell_type": "code",
      "metadata": {
        "colab": {
          "base_uri": "https://localhost:8080/",
          "height": 334
        },
        "id": "BFtkiBCDxoYD",
        "outputId": "e09c3408-44bf-4fa5-8ccf-8c7bfa4a5065"
      },
      "source": [
        "# Distribución de las categorías datos reservados\n",
        "plt.figure(figsize=(12,5))\n",
        "sns.countplot(\"label\", data=datos_reserva)\n",
        "plt.show()"
      ],
      "execution_count": 28,
      "outputs": [
        {
          "output_type": "display_data",
          "data": {
            "image/png": "[encoded data removed]",
            "text/plain": [
              "<Figure size 864x360 with 1 Axes>"
            ]
          },
          "metadata": {
            "tags": [],
            "needs_background": "light"
          }
        }
      ]
    },
    {
      "cell_type": "markdown",
      "metadata": {
        "id": "xhsRTi2Gt-US"
      },
      "source": [
        "### Carga de modelos "
      ]
    },
    {
      "cell_type": "code",
      "metadata": {
        "id": "2mwZh0TfuCQQ"
      },
      "source": [
        "# Cargo modelos desde archivos en repositorio github\n",
        "\n",
        "mLink = 'https://github.com/jorgecif/CovidMisinformationDetection/blob/main/Modelos_clasificacion/vectorizer.pkl?raw=true'\n",
        "mfile = BytesIO(requests.get(mLink).content)\n",
        "vectorizer = joblib.load(mfile)\n",
        "\n",
        "mLink = 'https://github.com/jorgecif/CovidMisinformationDetection/blob/main/Modelos_clasificacion/RF_model.pkl?raw=true'\n",
        "mfile = BytesIO(requests.get(mLink).content)\n",
        "rf_mod = joblib.load(mfile)\n",
        "\n",
        "mLink = 'https://github.com/jorgecif/CovidMisinformationDetection/blob/main/Modelos_clasificacion/LOG_model.pkl?raw=true'\n",
        "mfile = BytesIO(requests.get(mLink).content)\n",
        "log_mod = joblib.load(mfile)\n",
        "\n"
      ],
      "execution_count": 29,
      "outputs": []
    },
    {
      "cell_type": "code",
      "metadata": {
        "colab": {
          "base_uri": "https://localhost:8080/"
        },
        "id": "ioAfODyIzk-u",
        "outputId": "370b6ac3-ab37-48b2-9b8d-5be9329c7e1a"
      },
      "source": [
        "# Muestro modelo cargado\n",
        "print(vectorizer)\n",
        "print(log_mod)"
      ],
      "execution_count": 30,
      "outputs": [
        {
          "output_type": "stream",
          "text": [
            "CountVectorizer(analyzer='word', binary=False, decode_error='strict',\n",
            "                dtype=<class 'numpy.int64'>, encoding='utf-8', input='content',\n",
            "                lowercase=True, max_df=1.0, max_features=None, min_df=1,\n",
            "                ngram_range=(1, 1), preprocessor=None, stop_words=None,\n",
            "                strip_accents=None, token_pattern='(?u)\\\\b\\\\w\\\\w+\\\\b',\n",
            "                tokenizer=None, vocabulary=None)\n",
            "LogisticRegression(C=1.0, class_weight=None, dual=False, fit_intercept=True,\n",
            "                   intercept_scaling=1, l1_ratio=None, max_iter=100,\n",
            "                   multi_class='auto', n_jobs=None, penalty='l2',\n",
            "                   random_state=0, solver='lbfgs', tol=0.0001, verbose=0,\n",
            "                   warm_start=False)\n"
          ],
          "name": "stdout"
        }
      ]
    },
    {
      "cell_type": "markdown",
      "metadata": {
        "id": "ACYtFutvDkC0"
      },
      "source": [
        "### Aplico modelo para clasficar la temática (Logistic Regression)"
      ]
    },
    {
      "cell_type": "code",
      "metadata": {
        "id": "lUtPhVc-F1xY"
      },
      "source": [
        "# Función para aplicar modelo\n",
        "def aplicar_modelo(datos_revisar, tokenizador, modelo):\n",
        "  tokenizador=tokenizador\n",
        "  modelo=modelo\n",
        "  datos_revisar=datos_revisar\n",
        "  len_datos_revisar=len(datos_revisar)\n",
        "  list_result=[]\n",
        "  for i in range(0,len_datos_revisar):\n",
        "    clear_output(wait=True)\n",
        "    linea_revisar=datos_revisar[\"Text\"][i]\n",
        "    linea_revisar_token=tokenizador.transform([linea_revisar])\n",
        "    resultado=modelo.predict(linea_revisar_token)\n",
        "    list_result.append(resultado[0])\n",
        "    print(\"Progreso \", np.round(i/len_datos_revisar*100,2),\"%\")\n",
        "  return list_result\n"
      ],
      "execution_count": 31,
      "outputs": []
    },
    {
      "cell_type": "code",
      "metadata": {
        "colab": {
          "base_uri": "https://localhost:8080/"
        },
        "id": "YbUjfEQhGfF6",
        "outputId": "c798056e-6fcb-4438-f9c5-bdfdc15eb2ca"
      },
      "source": [
        "# Calculo predicciones de modelos con función\n",
        "start = time.clock()                     \n",
        "pred_model_clasifica=aplicar_modelo(datos_trabajo, vectorizer, log_mod)\n",
        "end = time.clock()\n",
        "print(\"Tiempo de entrenamiento: \", (end-start)/60, \" minutos\")"
      ],
      "execution_count": 32,
      "outputs": [
        {
          "output_type": "stream",
          "text": [
            "Progreso  99.98 %\n",
            "Tiempo de entrenamiento:  0.3857306833333333  minutos\n"
          ],
          "name": "stdout"
        }
      ]
    },
    {
      "cell_type": "code",
      "metadata": {
        "id": "HnRBU1_5HX3Y"
      },
      "source": [
        "# Creo dataframe con columna adicional de predicción\n",
        "datos_trabajo_pred=datos_trabajo\n",
        "datos_trabajo_pred[\"pred_clasifica\"]=pred_model_clasifica"
      ],
      "execution_count": 33,
      "outputs": []
    },
    {
      "cell_type": "markdown",
      "metadata": {
        "id": "LhUE07f_iNDE"
      },
      "source": [
        "### Aplico modelo para extraer la subtemática (LDA)"
      ]
    },
    {
      "cell_type": "code",
      "metadata": {
        "id": "JsxzOC9SdvJe"
      },
      "source": [
        "# Creo lista con documentos a procesar\n",
        "headlines=datos_trabajo[\"Text\"]\n",
        "docs_train=headlines.values.tolist()\n",
        "\n",
        "headlines=datos_reserva[\"Text\"]\n",
        "docs_test=headlines.values.tolist()"
      ],
      "execution_count": 34,
      "outputs": []
    },
    {
      "cell_type": "code",
      "metadata": {
        "colab": {
          "base_uri": "https://localhost:8080/",
          "height": 638
        },
        "id": "ibNV1p6DwPC8",
        "outputId": "4889754b-b2d7-45f1-85e2-1bb73e689fca"
      },
      "source": [
        "# Convertir palabras plural en singular\n",
        "stemmer = SnowballStemmer(\"english\")\n",
        "original_words = ['caresses', 'flies', 'dies', 'mules', 'denied','died', 'agreed', 'owned', \n",
        "           'humbled', 'sized','meeting', 'stating', 'siezing', 'itemization','sensational', \n",
        "           'traditional', 'reference', 'colonizer','plotted']\n",
        "singles = [stemmer.stem(plural) for plural in original_words]\n",
        "\n",
        "pd.DataFrame(data={'original word':original_words, 'stemmed':singles })"
      ],
      "execution_count": 35,
      "outputs": [
        {
          "output_type": "execute_result",
          "data": {
            "text/html": [
              "<div>\n",
              "<style scoped>\n",
              "    .dataframe tbody tr th:only-of-type {\n",
              "        vertical-align: middle;\n",
              "    }\n",
              "\n",
              "    .dataframe tbody tr th {\n",
              "        vertical-align: top;\n",
              "    }\n",
              "\n",
              "    .dataframe thead th {\n",
              "        text-align: right;\n",
              "    }\n",
              "</style>\n",
              "<table border=\"1\" class=\"dataframe\">\n",
              "  <thead>\n",
              "    <tr style=\"text-align: right;\">\n",
              "      <th></th>\n",
              "      <th>original word</th>\n",
              "      <th>stemmed</th>\n",
              "    </tr>\n",
              "  </thead>\n",
              "  <tbody>\n",
              "    <tr>\n",
              "      <th>0</th>\n",
              "      <td>caresses</td>\n",
              "      <td>caress</td>\n",
              "    </tr>\n",
              "    <tr>\n",
              "      <th>1</th>\n",
              "      <td>flies</td>\n",
              "      <td>fli</td>\n",
              "    </tr>\n",
              "    <tr>\n",
              "      <th>2</th>\n",
              "      <td>dies</td>\n",
              "      <td>die</td>\n",
              "    </tr>\n",
              "    <tr>\n",
              "      <th>3</th>\n",
              "      <td>mules</td>\n",
              "      <td>mule</td>\n",
              "    </tr>\n",
              "    <tr>\n",
              "      <th>4</th>\n",
              "      <td>denied</td>\n",
              "      <td>deni</td>\n",
              "    </tr>\n",
              "    <tr>\n",
              "      <th>5</th>\n",
              "      <td>died</td>\n",
              "      <td>die</td>\n",
              "    </tr>\n",
              "    <tr>\n",
              "      <th>6</th>\n",
              "      <td>agreed</td>\n",
              "      <td>agre</td>\n",
              "    </tr>\n",
              "    <tr>\n",
              "      <th>7</th>\n",
              "      <td>owned</td>\n",
              "      <td>own</td>\n",
              "    </tr>\n",
              "    <tr>\n",
              "      <th>8</th>\n",
              "      <td>humbled</td>\n",
              "      <td>humbl</td>\n",
              "    </tr>\n",
              "    <tr>\n",
              "      <th>9</th>\n",
              "      <td>sized</td>\n",
              "      <td>size</td>\n",
              "    </tr>\n",
              "    <tr>\n",
              "      <th>10</th>\n",
              "      <td>meeting</td>\n",
              "      <td>meet</td>\n",
              "    </tr>\n",
              "    <tr>\n",
              "      <th>11</th>\n",
              "      <td>stating</td>\n",
              "      <td>state</td>\n",
              "    </tr>\n",
              "    <tr>\n",
              "      <th>12</th>\n",
              "      <td>siezing</td>\n",
              "      <td>siez</td>\n",
              "    </tr>\n",
              "    <tr>\n",
              "      <th>13</th>\n",
              "      <td>itemization</td>\n",
              "      <td>item</td>\n",
              "    </tr>\n",
              "    <tr>\n",
              "      <th>14</th>\n",
              "      <td>sensational</td>\n",
              "      <td>sensat</td>\n",
              "    </tr>\n",
              "    <tr>\n",
              "      <th>15</th>\n",
              "      <td>traditional</td>\n",
              "      <td>tradit</td>\n",
              "    </tr>\n",
              "    <tr>\n",
              "      <th>16</th>\n",
              "      <td>reference</td>\n",
              "      <td>refer</td>\n",
              "    </tr>\n",
              "    <tr>\n",
              "      <th>17</th>\n",
              "      <td>colonizer</td>\n",
              "      <td>colon</td>\n",
              "    </tr>\n",
              "    <tr>\n",
              "      <th>18</th>\n",
              "      <td>plotted</td>\n",
              "      <td>plot</td>\n",
              "    </tr>\n",
              "  </tbody>\n",
              "</table>\n",
              "</div>"
            ],
            "text/plain": [
              "   original word stemmed\n",
              "0       caresses  caress\n",
              "1          flies     fli\n",
              "2           dies     die\n",
              "3          mules    mule\n",
              "4         denied    deni\n",
              "5           died     die\n",
              "6         agreed    agre\n",
              "7          owned     own\n",
              "8        humbled   humbl\n",
              "9          sized    size\n",
              "10       meeting    meet\n",
              "11       stating   state\n",
              "12       siezing    siez\n",
              "13   itemization    item\n",
              "14   sensational  sensat\n",
              "15   traditional  tradit\n",
              "16     reference   refer\n",
              "17     colonizer   colon\n",
              "18       plotted    plot"
            ]
          },
          "metadata": {
            "tags": []
          },
          "execution_count": 35
        }
      ]
    },
    {
      "cell_type": "code",
      "metadata": {
        "id": "XPuBFs7mwO_c"
      },
      "source": [
        "# Preprocesamiento\n",
        "\n",
        "def lemmatize_stemming(text):\n",
        "    return stemmer.stem(WordNetLemmatizer().lemmatize(text, pos='v'))\n",
        "# Tokenize and lemmatize\n",
        "def preprocess(text):\n",
        "    result=[]\n",
        "    for token in gensim.utils.simple_preprocess(text) :\n",
        "        if token not in gensim.parsing.preprocessing.STOPWORDS and len(token) > 3:\n",
        "            result.append(lemmatize_stemming(token))\n",
        "            \n",
        "    return result"
      ],
      "execution_count": 36,
      "outputs": []
    },
    {
      "cell_type": "markdown",
      "metadata": {
        "id": "oDBtp783zxRZ"
      },
      "source": [
        "#### Bolsa de palabras"
      ]
    },
    {
      "cell_type": "code",
      "metadata": {
        "id": "tYzMo3vLz5dG"
      },
      "source": [
        "# Preprocesamiento\n",
        "\n",
        "processed_docs = []\n",
        "\n",
        "for doc in docs_train:\n",
        "    processed_docs.append(preprocess(doc))"
      ],
      "execution_count": 37,
      "outputs": []
    },
    {
      "cell_type": "code",
      "metadata": {
        "id": "2yVbHiJwzzFL"
      },
      "source": [
        "# Creo diccionario con GenSim\n",
        "dictionary = gensim.corpora.Dictionary(processed_docs)\n"
      ],
      "execution_count": 38,
      "outputs": []
    },
    {
      "cell_type": "code",
      "metadata": {
        "id": "ojS0qBpez3J-"
      },
      "source": [
        "# Remover palabras poco comunes\n",
        "\n",
        "dictionary.filter_extremes(no_below=15, no_above=0.1, keep_n= 100000)"
      ],
      "execution_count": 39,
      "outputs": []
    },
    {
      "cell_type": "code",
      "metadata": {
        "colab": {
          "base_uri": "https://localhost:8080/"
        },
        "id": "YuGGdKXpz92K",
        "outputId": "7f05bda4-d685-4874-f940-c3b5c34df8c3"
      },
      "source": [
        "# Creo diccionario\n",
        "\n",
        "count = 0\n",
        "for k, v in dictionary.iteritems():\n",
        "    print(k, v)\n",
        "    count += 1\n",
        "    if count > 10:\n",
        "        break\n"
      ],
      "execution_count": 40,
      "outputs": [
        {
          "output_type": "stream",
          "text": [
            "0 australian\n",
            "1 compani\n",
            "2 hank\n",
            "3 hospit\n",
            "4 quarantin\n",
            "5 roll\n",
            "6 staff\n",
            "7 decemb\n",
            "8 declar\n",
            "9 outbreak\n",
            "10 countri\n"
          ],
          "name": "stdout"
        }
      ]
    },
    {
      "cell_type": "code",
      "metadata": {
        "id": "i1O2O2K_0C94"
      },
      "source": [
        "# Remover palabras poco comunes\n",
        "\n",
        "dictionary.filter_extremes(no_below=15, no_above=0.1, keep_n= 100000)"
      ],
      "execution_count": 41,
      "outputs": []
    },
    {
      "cell_type": "code",
      "metadata": {
        "id": "NnqLhyta0Gd9"
      },
      "source": [
        "bow_corpus = [dictionary.doc2bow(doc) for doc in processed_docs]\n"
      ],
      "execution_count": 42,
      "outputs": []
    },
    {
      "cell_type": "code",
      "metadata": {
        "colab": {
          "base_uri": "https://localhost:8080/"
        },
        "id": "jVTtZR9_0JA3",
        "outputId": "558b26c6-daba-4fa1-dea8-2d4ca715caa5"
      },
      "source": [
        "document_num = 4\n",
        "bow_doc_x = bow_corpus[document_num]\n",
        "\n",
        "for i in range(len(bow_doc_x)):\n",
        "    print(\"Word {} (\\\"{}\\\") appears {} time.\".format(bow_doc_x[i][0], \n",
        "                                                     dictionary[bow_doc_x[i][0]], \n",
        "                                                     bow_doc_x[i][1]))"
      ],
      "execution_count": 43,
      "outputs": [
        {
          "output_type": "stream",
          "text": [
            "Word 23 (\"econom\") appears 1 time.\n",
            "Word 24 (\"view\") appears 1 time.\n"
          ],
          "name": "stdout"
        }
      ]
    },
    {
      "cell_type": "markdown",
      "metadata": {
        "id": "mhSWb4jM0NQv"
      },
      "source": [
        "#### Modelo LDA bolsa de palabras"
      ]
    },
    {
      "cell_type": "code",
      "metadata": {
        "id": "TWgBHc9f0SNl"
      },
      "source": [
        "# Creación del modelo\n",
        "num_topics=5\n",
        "lda_model =  gensim.models.LdaMulticore(bow_corpus, \n",
        "                                   num_topics = num_topics, \n",
        "                                   id2word = dictionary,                                    \n",
        "                                   passes = 10,\n",
        "                                   workers = 2,\n",
        "                                   alpha=[0.01]*num_topics,\n",
        "                                   eta=[0.01]*len(dictionary.keys()))"
      ],
      "execution_count": 44,
      "outputs": []
    },
    {
      "cell_type": "code",
      "metadata": {
        "colab": {
          "base_uri": "https://localhost:8080/"
        },
        "id": "kfxeOZXg0W4o",
        "outputId": "203359b6-b989-4f5d-e67c-8fc41338c124"
      },
      "source": [
        "# Muestro los temas creados\n",
        "\n",
        "for idx, topic in lda_model.print_topics(-1):\n",
        "    print(\"Topic: {} \\nWords: {}\".format(idx, topic ))\n",
        "    print(\"\\n\")"
      ],
      "execution_count": 45,
      "outputs": [
        {
          "output_type": "stream",
          "text": [
            "Topic: 0 \n",
            "Words: 0.017*\"test\" + 0.013*\"health\" + 0.011*\"australia\" + 0.009*\"travel\" + 0.009*\"clinic\" + 0.008*\"flight\" + 0.008*\"govern\" + 0.008*\"window\" + 0.008*\"hospit\" + 0.008*\"set\"\n",
            "\n",
            "\n",
            "Topic: 1 \n",
            "Words: 0.022*\"facebook\" + 0.021*\"post\" + 0.021*\"toilet\" + 0.020*\"paper\" + 0.018*\"show\" + 0.017*\"share\" + 0.014*\"novel\" + 0.011*\"lockdown\" + 0.010*\"thousand\" + 0.010*\"photo\"\n",
            "\n",
            "\n",
            "Topic: 2 \n",
            "Words: 0.014*\"infect\" + 0.010*\"pictur\" + 0.009*\"health\" + 0.008*\"spread\" + 0.007*\"case\" + 0.007*\"diseas\" + 0.007*\"mask\" + 0.007*\"countri\" + 0.006*\"report\" + 0.006*\"hand\"\n",
            "\n",
            "\n",
            "Topic: 3 \n",
            "Words: 0.026*\"case\" + 0.016*\"outbreak\" + 0.012*\"confirm\" + 0.012*\"state\" + 0.012*\"death\" + 0.011*\"trump\" + 0.010*\"health\" + 0.010*\"citi\" + 0.009*\"chines\" + 0.008*\"infect\"\n",
            "\n",
            "\n",
            "Topic: 4 \n",
            "Words: 0.025*\"health\" + 0.018*\"australia\" + 0.014*\"case\" + 0.013*\"test\" + 0.013*\"hospit\" + 0.011*\"public\" + 0.009*\"travel\" + 0.008*\"offic\" + 0.007*\"chief\" + 0.007*\"patient\"\n",
            "\n",
            "\n"
          ],
          "name": "stdout"
        }
      ]
    },
    {
      "cell_type": "code",
      "metadata": {
        "colab": {
          "base_uri": "https://localhost:8080/"
        },
        "id": "aje44boBQMMY",
        "outputId": "92b24131-a7dd-4e8c-e893-30b052049a91"
      },
      "source": [
        "# Recuento de palabras de topics\n",
        "num_words=10\n",
        "\n",
        "lda_topics = lda_model.show_topics(num_words=num_words)\n",
        "topics = []\n",
        "filters = [lambda x: x.lower(), strip_punctuation, strip_numeric]\n",
        "\n",
        "for topic in lda_topics:\n",
        "    topics.append(preprocess_string(topic[1], filters))\n",
        "topics"
      ],
      "execution_count": 46,
      "outputs": [
        {
          "output_type": "execute_result",
          "data": {
            "text/plain": [
              "[['test',\n",
              "  'health',\n",
              "  'australia',\n",
              "  'travel',\n",
              "  'clinic',\n",
              "  'flight',\n",
              "  'govern',\n",
              "  'window',\n",
              "  'hospit',\n",
              "  'set'],\n",
              " ['facebook',\n",
              "  'post',\n",
              "  'toilet',\n",
              "  'paper',\n",
              "  'show',\n",
              "  'share',\n",
              "  'novel',\n",
              "  'lockdown',\n",
              "  'thousand',\n",
              "  'photo'],\n",
              " ['infect',\n",
              "  'pictur',\n",
              "  'health',\n",
              "  'spread',\n",
              "  'case',\n",
              "  'diseas',\n",
              "  'mask',\n",
              "  'countri',\n",
              "  'report',\n",
              "  'hand'],\n",
              " ['case',\n",
              "  'outbreak',\n",
              "  'confirm',\n",
              "  'state',\n",
              "  'death',\n",
              "  'trump',\n",
              "  'health',\n",
              "  'citi',\n",
              "  'chines',\n",
              "  'infect'],\n",
              " ['health',\n",
              "  'australia',\n",
              "  'case',\n",
              "  'test',\n",
              "  'hospit',\n",
              "  'public',\n",
              "  'travel',\n",
              "  'offic',\n",
              "  'chief',\n",
              "  'patient']]"
            ]
          },
          "metadata": {
            "tags": []
          },
          "execution_count": 46
        }
      ]
    },
    {
      "cell_type": "markdown",
      "metadata": {
        "id": "obwPs5SA0sWJ"
      },
      "source": [
        "#### Prueba"
      ]
    },
    {
      "cell_type": "code",
      "metadata": {
        "colab": {
          "base_uri": "https://localhost:8080/"
        },
        "id": "CC1pQFMG0upd",
        "outputId": "1d57d04b-12ba-4e56-eea8-3bcdd3792fb1"
      },
      "source": [
        "num = 78\n",
        "unseen_document = docs_test[num]\n",
        "print(unseen_document)"
      ],
      "execution_count": 47,
      "outputs": [
        {
          "output_type": "stream",
          "text": [
            " Video of a fire accident that took place at the Solapur Airport on 05 April 2020.\n"
          ],
          "name": "stdout"
        }
      ]
    },
    {
      "cell_type": "code",
      "metadata": {
        "colab": {
          "base_uri": "https://localhost:8080/"
        },
        "id": "d3wSGiof0ywb",
        "outputId": "22458958-870a-4db1-92a4-0105bde72dcd"
      },
      "source": [
        "# Preprocesamiento\n",
        "bow_vector = dictionary.doc2bow(preprocess(unseen_document))\n",
        "# Aplico modelo\n",
        "prediction_lda=lda_model[bow_vector]\n",
        "\n",
        "probs=[]\n",
        "for i in range(0, len(prediction_lda)):\n",
        "  probs.append(prediction_lda[i][1])\n",
        "max_probs=max(probs)\n",
        "\n",
        "\n",
        "for i in range(0,len(prediction_lda)):\n",
        "  if max_probs==prediction_lda[i][1]:\n",
        "    position=i\n",
        "    break\n",
        "position\n"
      ],
      "execution_count": 48,
      "outputs": [
        {
          "output_type": "execute_result",
          "data": {
            "text/plain": [
              "0"
            ]
          },
          "metadata": {
            "tags": []
          },
          "execution_count": 48
        }
      ]
    },
    {
      "cell_type": "code",
      "metadata": {
        "colab": {
          "base_uri": "https://localhost:8080/"
        },
        "id": "LdYOJAqZTcrS",
        "outputId": "43ded5f9-a341-445b-cf0f-f085175727fc"
      },
      "source": [
        "topics[position]"
      ],
      "execution_count": 49,
      "outputs": [
        {
          "output_type": "execute_result",
          "data": {
            "text/plain": [
              "['test',\n",
              " 'health',\n",
              " 'australia',\n",
              " 'travel',\n",
              " 'clinic',\n",
              " 'flight',\n",
              " 'govern',\n",
              " 'window',\n",
              " 'hospit',\n",
              " 'set']"
            ]
          },
          "metadata": {
            "tags": []
          },
          "execution_count": 49
        }
      ]
    },
    {
      "cell_type": "code",
      "metadata": {
        "id": "o19NkBceTcmS"
      },
      "source": [
        "# Creo función para extraer subtemáticas\n",
        "\n",
        "def topics_lda(documento):\n",
        "  unseen_document=documento\n",
        "  # Preprocesamiento\n",
        "  bow_vector = dictionary.doc2bow(preprocess(unseen_document))\n",
        "  # Aplico modelo\n",
        "  prediction_lda=lda_model[bow_vector]\n",
        "\n",
        "  probs=[]\n",
        "  for i in range(0, len(prediction_lda)):\n",
        "    probs.append(prediction_lda[i][1])\n",
        "  max_probs=max(probs)\n",
        "\n",
        "\n",
        "  for i in range(0,len(prediction_lda)):\n",
        "    if max_probs==prediction_lda[i][1]:\n",
        "      position=i\n",
        "      break\n",
        "  return position\n"
      ],
      "execution_count": 50,
      "outputs": []
    },
    {
      "cell_type": "code",
      "metadata": {
        "colab": {
          "base_uri": "https://localhost:8080/"
        },
        "id": "CRDTLj3FVHTA",
        "outputId": "5393a816-b1c9-4f76-f886-441f8f29ed72"
      },
      "source": [
        "# Pruebo función predicción\n",
        "num = 78\n",
        "unseen_document = docs_test[num]\n",
        "pred=topics_lda(unseen_document)\n",
        "pred"
      ],
      "execution_count": 51,
      "outputs": [
        {
          "output_type": "execute_result",
          "data": {
            "text/plain": [
              "0"
            ]
          },
          "metadata": {
            "tags": []
          },
          "execution_count": 51
        }
      ]
    },
    {
      "cell_type": "code",
      "metadata": {
        "colab": {
          "base_uri": "https://localhost:8080/"
        },
        "id": "BuwNwTsxTcix",
        "outputId": "8eaae8f1-967d-4aba-9ff6-78660b9a0d9d"
      },
      "source": [
        "# Aplico modelo LDA a conjunto de datos del dataframe\n",
        "\n",
        "datos_revisar=datos_trabajo[\"Text\"]\n",
        "len_datos_revisar=len(datos_revisar)\n",
        "\n",
        "start = time.clock()\n",
        "\n",
        "list_result_id=[]\n",
        "list_result_words=[]\n",
        "\n",
        "for i in range(0,len_datos_revisar):\n",
        "  clear_output(wait=True)\n",
        "  id_predict=topics_lda(datos_revisar[i])\n",
        "  list_result_id.append(id_predict)\n",
        "  list_result_words.append(str(topics[id_predict]))\n",
        "  print(\"Progreso \", np.round(i/len_datos_revisar*100,2),\"%\")\n",
        "\n",
        "end = time.clock()\n",
        "print(\"Tiempo de entrenamiento: \", (end-start)/60, \" minutos\")\n"
      ],
      "execution_count": 52,
      "outputs": [
        {
          "output_type": "stream",
          "text": [
            "Progreso  99.98 %\n",
            "Tiempo de entrenamiento:  0.4527867833333333  minutos\n"
          ],
          "name": "stdout"
        }
      ]
    },
    {
      "cell_type": "code",
      "metadata": {
        "id": "ER-cDdlvaQ7S"
      },
      "source": [
        "# Creo dataframe con columna adicional de predicción y palabras\n",
        "\n",
        "datos_trabajo_pred[\"pred_topics_id\"]=list_result_id\n",
        "datos_trabajo_pred[\"pred_topics_words\"]=list_result_words"
      ],
      "execution_count": 53,
      "outputs": []
    },
    {
      "cell_type": "code",
      "metadata": {
        "colab": {
          "base_uri": "https://localhost:8080/",
          "height": 615
        },
        "id": "Uyq9T7R9awIh",
        "outputId": "f13a1481-62ca-4bdc-8d49-9ccc3cab3e2f"
      },
      "source": [
        "# Reviso el dataframe\n",
        "datos_trabajo_pred.head()"
      ],
      "execution_count": 54,
      "outputs": [
        {
          "output_type": "execute_result",
          "data": {
            "text/html": [
              "<div>\n",
              "<style scoped>\n",
              "    .dataframe tbody tr th:only-of-type {\n",
              "        vertical-align: middle;\n",
              "    }\n",
              "\n",
              "    .dataframe tbody tr th {\n",
              "        vertical-align: top;\n",
              "    }\n",
              "\n",
              "    .dataframe thead th {\n",
              "        text-align: right;\n",
              "    }\n",
              "</style>\n",
              "<table border=\"1\" class=\"dataframe\">\n",
              "  <thead>\n",
              "    <tr style=\"text-align: right;\">\n",
              "      <th></th>\n",
              "      <th>index</th>\n",
              "      <th>Text</th>\n",
              "      <th>country</th>\n",
              "      <th>lang</th>\n",
              "      <th>label</th>\n",
              "      <th>URL</th>\n",
              "      <th>date</th>\n",
              "      <th>verificado_por</th>\n",
              "      <th>pred_clasifica</th>\n",
              "      <th>pred_topics_id</th>\n",
              "      <th>pred_topics_words</th>\n",
              "    </tr>\n",
              "  </thead>\n",
              "  <tbody>\n",
              "    <tr>\n",
              "      <th>0</th>\n",
              "      <td>12405</td>\n",
              "      <td>Australian hospital staff rolled in a Wilson ...</td>\n",
              "      <td>United States</td>\n",
              "      <td>English</td>\n",
              "      <td>False</td>\n",
              "      <td>https://hoax-alert.leadstories.com/3471894-fac...</td>\n",
              "      <td>2020/03/12</td>\n",
              "      <td>LeadStories</td>\n",
              "      <td>5</td>\n",
              "      <td>0</td>\n",
              "      <td>['test', 'health', 'australia', 'travel', 'cli...</td>\n",
              "    </tr>\n",
              "    <tr>\n",
              "      <th>1</th>\n",
              "      <td>7226</td>\n",
              "      <td>WHO declared COVID-19 to be the abbreviation f...</td>\n",
              "      <td>India</td>\n",
              "      <td>English</td>\n",
              "      <td>False</td>\n",
              "      <td>https://english.factcrescendo.com/2020/02/14/w...</td>\n",
              "      <td>2020-02-14 00:00:00</td>\n",
              "      <td>FactCrescendo</td>\n",
              "      <td>0</td>\n",
              "      <td>0</td>\n",
              "      <td>['test', 'health', 'australia', 'travel', 'cli...</td>\n",
              "    </tr>\n",
              "    <tr>\n",
              "      <th>2</th>\n",
              "      <td>10724</td>\n",
              "      <td>Claims of cures for COVID-19 from multiple cou...</td>\n",
              "      <td>Sri Lanka</td>\n",
              "      <td>English</td>\n",
              "      <td>False</td>\n",
              "      <td>https://srilanka.factcrescendo.com/english/fac...</td>\n",
              "      <td>2020-02-03 00:00:00</td>\n",
              "      <td>srilanka.factcrescendo</td>\n",
              "      <td>0</td>\n",
              "      <td>0</td>\n",
              "      <td>['test', 'health', 'australia', 'travel', 'cli...</td>\n",
              "    </tr>\n",
              "    <tr>\n",
              "      <th>3</th>\n",
              "      <td>723</td>\n",
              "      <td>The government was supposedly not buying evid...</td>\n",
              "      <td>Spain</td>\n",
              "      <td>English</td>\n",
              "      <td>False</td>\n",
              "      <td>https://maldita.es/malditobulo/2020/03/29/gobi...</td>\n",
              "      <td>2020-03-24 00:00:00</td>\n",
              "      <td>maldita.es</td>\n",
              "      <td>2</td>\n",
              "      <td>2</td>\n",
              "      <td>['infect', 'pictur', 'health', 'spread', 'case...</td>\n",
              "    </tr>\n",
              "    <tr>\n",
              "      <th>4</th>\n",
              "      <td>2909</td>\n",
              "      <td>Industrialist Ratan Tata’s view on economic do...</td>\n",
              "      <td>India</td>\n",
              "      <td>English</td>\n",
              "      <td>False</td>\n",
              "      <td>https://english.factcrescendo.com/2020/04/11/f...</td>\n",
              "      <td>2020-04-11 00:00:00</td>\n",
              "      <td>FactCrescendo</td>\n",
              "      <td>0</td>\n",
              "      <td>0</td>\n",
              "      <td>['test', 'health', 'australia', 'travel', 'cli...</td>\n",
              "    </tr>\n",
              "  </tbody>\n",
              "</table>\n",
              "</div>"
            ],
            "text/plain": [
              "   index  ...                                  pred_topics_words\n",
              "0  12405  ...  ['test', 'health', 'australia', 'travel', 'cli...\n",
              "1   7226  ...  ['test', 'health', 'australia', 'travel', 'cli...\n",
              "2  10724  ...  ['test', 'health', 'australia', 'travel', 'cli...\n",
              "3    723  ...  ['infect', 'pictur', 'health', 'spread', 'case...\n",
              "4   2909  ...  ['test', 'health', 'australia', 'travel', 'cli...\n",
              "\n",
              "[5 rows x 11 columns]"
            ]
          },
          "metadata": {
            "tags": []
          },
          "execution_count": 54
        }
      ]
    },
    {
      "cell_type": "code",
      "metadata": {
        "id": "QfQFm95cLNNQ"
      },
      "source": [
        "# Concateno columnas de texto\n",
        "datos_analizar=datos_trabajo_pred\n",
        "\n",
        "datos_analizar[\"text_topics\"]=datos_analizar[\"pred_topics_words\"]+datos_analizar[\"Text\"]\n",
        "\n",
        "# Concateno columnas numéricas de metadatos\n",
        "\n",
        "meta_list=[]\n",
        "for i in range(0, len(datos_analizar)):\n",
        "  lista=np.asarray(datos_analizar[\"pred_clasifica\"][i]).astype(np.int32),np.asarray(datos_analizar[\"pred_topics_id\"][i]).astype(np.int32)\n",
        "  lista=np.asarray(lista).astype(np.int32)\n",
        "\n",
        "  meta_list.append(lista)\n",
        "\n",
        "# Creo en dataframe columna adicional\n",
        "datos_analizar[\"metadatos\"]=meta_list\n",
        "\n"
      ],
      "execution_count": 55,
      "outputs": []
    },
    {
      "cell_type": "code",
      "metadata": {
        "colab": {
          "base_uri": "https://localhost:8080/",
          "height": 1000
        },
        "id": "Vv-Z0Uo_Boyx",
        "outputId": "1620c5b5-b04c-42d8-d107-fb0c577c9d74"
      },
      "source": [
        "datos_analizar.tail(20)"
      ],
      "execution_count": 183,
      "outputs": [
        {
          "output_type": "execute_result",
          "data": {
            "text/html": [
              "<div>\n",
              "<style scoped>\n",
              "    .dataframe tbody tr th:only-of-type {\n",
              "        vertical-align: middle;\n",
              "    }\n",
              "\n",
              "    .dataframe tbody tr th {\n",
              "        vertical-align: top;\n",
              "    }\n",
              "\n",
              "    .dataframe thead th {\n",
              "        text-align: right;\n",
              "    }\n",
              "</style>\n",
              "<table border=\"1\" class=\"dataframe\">\n",
              "  <thead>\n",
              "    <tr style=\"text-align: right;\">\n",
              "      <th></th>\n",
              "      <th>index</th>\n",
              "      <th>Text</th>\n",
              "      <th>country</th>\n",
              "      <th>lang</th>\n",
              "      <th>label</th>\n",
              "      <th>URL</th>\n",
              "      <th>date</th>\n",
              "      <th>verificado_por</th>\n",
              "      <th>pred_clasifica</th>\n",
              "      <th>pred_topics_id</th>\n",
              "      <th>pred_topics_words</th>\n",
              "      <th>text_topics</th>\n",
              "      <th>metadatos</th>\n",
              "    </tr>\n",
              "  </thead>\n",
              "  <tbody>\n",
              "    <tr>\n",
              "      <th>6115</th>\n",
              "      <td>1908</td>\n",
              "      <td>Photo shows dozens of wooden coffins of people...</td>\n",
              "      <td>Kenya</td>\n",
              "      <td>English</td>\n",
              "      <td>False</td>\n",
              "      <td>https://africacheck.org/fbcheck/photo-of-migra...</td>\n",
              "      <td>2020-03-23 00:00:00</td>\n",
              "      <td>AfricaCheck</td>\n",
              "      <td>0</td>\n",
              "      <td>0</td>\n",
              "      <td>['test', 'health', 'australia', 'travel', 'cli...</td>\n",
              "      <td>['test', 'health', 'australia', 'travel', 'cli...</td>\n",
              "      <td>[0, 0]</td>\n",
              "    </tr>\n",
              "    <tr>\n",
              "      <th>6116</th>\n",
              "      <td>9380</td>\n",
              "      <td>Chief Secretary of West Bengal was not follow...</td>\n",
              "      <td>India</td>\n",
              "      <td>English</td>\n",
              "      <td>False</td>\n",
              "      <td>https://www.boomlive.in/fake-news/2013-photo-o...</td>\n",
              "      <td>2020/05/08</td>\n",
              "      <td>BOOM FactCheck</td>\n",
              "      <td>6</td>\n",
              "      <td>1</td>\n",
              "      <td>['facebook', 'post', 'toilet', 'paper', 'show'...</td>\n",
              "      <td>['facebook', 'post', 'toilet', 'paper', 'show'...</td>\n",
              "      <td>[6, 1]</td>\n",
              "    </tr>\n",
              "    <tr>\n",
              "      <th>6117</th>\n",
              "      <td>786</td>\n",
              "      <td>3,500 Italians potentially infected with the n...</td>\n",
              "      <td>Brazil</td>\n",
              "      <td>English</td>\n",
              "      <td>False</td>\n",
              "      <td>https://aosfatos.org/noticias/e-falso-que-3500...</td>\n",
              "      <td>2020-02-29 00:00:00</td>\n",
              "      <td>Aos Fatos</td>\n",
              "      <td>0</td>\n",
              "      <td>1</td>\n",
              "      <td>['facebook', 'post', 'toilet', 'paper', 'show'...</td>\n",
              "      <td>['facebook', 'post', 'toilet', 'paper', 'show'...</td>\n",
              "      <td>[0, 1]</td>\n",
              "    </tr>\n",
              "    <tr>\n",
              "      <th>6118</th>\n",
              "      <td>18</td>\n",
              "      <td>The death toll from China’s coronavirus outbre...</td>\n",
              "      <td>China</td>\n",
              "      <td>English</td>\n",
              "      <td>True</td>\n",
              "      <td>https://www.adelaidenow.com.au/lifestyle/healt...</td>\n",
              "      <td>2020-05-03 00:00:00</td>\n",
              "      <td>adelaidenow.au</td>\n",
              "      <td>0</td>\n",
              "      <td>0</td>\n",
              "      <td>['test', 'health', 'australia', 'travel', 'cli...</td>\n",
              "      <td>['test', 'health', 'australia', 'travel', 'cli...</td>\n",
              "      <td>[0, 0]</td>\n",
              "    </tr>\n",
              "    <tr>\n",
              "      <th>6119</th>\n",
              "      <td>6474</td>\n",
              "      <td>Video posts viewed thousands of times purport ...</td>\n",
              "      <td>South Africa</td>\n",
              "      <td>English</td>\n",
              "      <td>False</td>\n",
              "      <td>https://factcheck.afp.com/video-was-edited-mak...</td>\n",
              "      <td>2020-04-04 00:00:00</td>\n",
              "      <td>AFP</td>\n",
              "      <td>2</td>\n",
              "      <td>0</td>\n",
              "      <td>['test', 'health', 'australia', 'travel', 'cli...</td>\n",
              "      <td>['test', 'health', 'australia', 'travel', 'cli...</td>\n",
              "      <td>[2, 0]</td>\n",
              "    </tr>\n",
              "    <tr>\n",
              "      <th>6120</th>\n",
              "      <td>10905</td>\n",
              "      <td>China seeks court’s approval to kill 20,000 c...</td>\n",
              "      <td>India</td>\n",
              "      <td>English</td>\n",
              "      <td>False</td>\n",
              "      <td>https://www.vishvasnews.com/english/health/fac...</td>\n",
              "      <td>2020/02/12</td>\n",
              "      <td>Vishvas News</td>\n",
              "      <td>0</td>\n",
              "      <td>0</td>\n",
              "      <td>['test', 'health', 'australia', 'travel', 'cli...</td>\n",
              "      <td>['test', 'health', 'australia', 'travel', 'cli...</td>\n",
              "      <td>[0, 0]</td>\n",
              "    </tr>\n",
              "    <tr>\n",
              "      <th>6121</th>\n",
              "      <td>7941</td>\n",
              "      <td>Coronavirus quarantine could spark an online l...</td>\n",
              "      <td>China</td>\n",
              "      <td>English</td>\n",
              "      <td>True</td>\n",
              "      <td>https://www.afghanistannews.net/news/264116162...</td>\n",
              "      <td>2020-12-03 00:00:00</td>\n",
              "      <td>afghanistannews.net</td>\n",
              "      <td>0</td>\n",
              "      <td>0</td>\n",
              "      <td>['test', 'health', 'australia', 'travel', 'cli...</td>\n",
              "      <td>['test', 'health', 'australia', 'travel', 'cli...</td>\n",
              "      <td>[0, 0]</td>\n",
              "    </tr>\n",
              "    <tr>\n",
              "      <th>6122</th>\n",
              "      <td>6451</td>\n",
              "      <td>UK coronavirus cases double to eight, governme...</td>\n",
              "      <td>United Kingdom</td>\n",
              "      <td>English</td>\n",
              "      <td>True</td>\n",
              "      <td>http://www.aaj.tv/english/latest/uk-coronaviru...</td>\n",
              "      <td>2020-02-12 00:00:00</td>\n",
              "      <td>aaj.tv</td>\n",
              "      <td>0</td>\n",
              "      <td>1</td>\n",
              "      <td>['facebook', 'post', 'toilet', 'paper', 'show'...</td>\n",
              "      <td>['facebook', 'post', 'toilet', 'paper', 'show'...</td>\n",
              "      <td>[0, 1]</td>\n",
              "    </tr>\n",
              "    <tr>\n",
              "      <th>6123</th>\n",
              "      <td>6746</td>\n",
              "      <td>A video showing law enforcement officers beati...</td>\n",
              "      <td>Nigeria</td>\n",
              "      <td>English</td>\n",
              "      <td>False</td>\n",
              "      <td>https://factcheck.afp.com/old-video-showing-po...</td>\n",
              "      <td>2020-04-13 00:00:00</td>\n",
              "      <td>factcheck.afp</td>\n",
              "      <td>0</td>\n",
              "      <td>0</td>\n",
              "      <td>['test', 'health', 'australia', 'travel', 'cli...</td>\n",
              "      <td>['test', 'health', 'australia', 'travel', 'cli...</td>\n",
              "      <td>[0, 0]</td>\n",
              "    </tr>\n",
              "    <tr>\n",
              "      <th>6124</th>\n",
              "      <td>8839</td>\n",
              "      <td>Kerala vlogger discharged after he was tested ...</td>\n",
              "      <td>India</td>\n",
              "      <td>English</td>\n",
              "      <td>True</td>\n",
              "      <td>https://www.afghanistannews.net/news/264259797...</td>\n",
              "      <td>2020-02-25 00:00:00</td>\n",
              "      <td>afghanistannews.net</td>\n",
              "      <td>5</td>\n",
              "      <td>0</td>\n",
              "      <td>['test', 'health', 'australia', 'travel', 'cli...</td>\n",
              "      <td>['test', 'health', 'australia', 'travel', 'cli...</td>\n",
              "      <td>[5, 0]</td>\n",
              "    </tr>\n",
              "    <tr>\n",
              "      <th>6125</th>\n",
              "      <td>2673</td>\n",
              "      <td>Italians are throwing their money on the stre...</td>\n",
              "      <td>India</td>\n",
              "      <td>English</td>\n",
              "      <td>False</td>\n",
              "      <td>https://www.indiatoday.in/fact-check/story/fac...</td>\n",
              "      <td>2020/03/31</td>\n",
              "      <td>India Today</td>\n",
              "      <td>0</td>\n",
              "      <td>0</td>\n",
              "      <td>['test', 'health', 'australia', 'travel', 'cli...</td>\n",
              "      <td>['test', 'health', 'australia', 'travel', 'cli...</td>\n",
              "      <td>[0, 0]</td>\n",
              "    </tr>\n",
              "    <tr>\n",
              "      <th>6126</th>\n",
              "      <td>10938</td>\n",
              "      <td>A Facebook post claims testing kits bought by...</td>\n",
              "      <td>Philippines</td>\n",
              "      <td>English</td>\n",
              "      <td>False</td>\n",
              "      <td>https://verafiles.org/articles/vera-files-fact...</td>\n",
              "      <td>2020/04/09</td>\n",
              "      <td>VERA Files</td>\n",
              "      <td>2</td>\n",
              "      <td>1</td>\n",
              "      <td>['facebook', 'post', 'toilet', 'paper', 'show'...</td>\n",
              "      <td>['facebook', 'post', 'toilet', 'paper', 'show'...</td>\n",
              "      <td>[2, 1]</td>\n",
              "    </tr>\n",
              "    <tr>\n",
              "      <th>6127</th>\n",
              "      <td>6203</td>\n",
              "      <td>Full Digital access: $1 for the first 28 daysV...</td>\n",
              "      <td>Australia</td>\n",
              "      <td>English</td>\n",
              "      <td>True</td>\n",
              "      <td>https://www.adelaidenow.com.au/news/south-aust...</td>\n",
              "      <td>2020-02-17 00:00:00</td>\n",
              "      <td>adelaidenow.au</td>\n",
              "      <td>0</td>\n",
              "      <td>0</td>\n",
              "      <td>['test', 'health', 'australia', 'travel', 'cli...</td>\n",
              "      <td>['test', 'health', 'australia', 'travel', 'cli...</td>\n",
              "      <td>[0, 0]</td>\n",
              "    </tr>\n",
              "    <tr>\n",
              "      <th>6128</th>\n",
              "      <td>2940</td>\n",
              "      <td>Says that “over a 45-minute period that we ha...</td>\n",
              "      <td>United States</td>\n",
              "      <td>English</td>\n",
              "      <td>True</td>\n",
              "      <td>https://www.politifact.com/factchecks/2020/mar...</td>\n",
              "      <td>2020-03-14 00:00:00</td>\n",
              "      <td>PolitiFact</td>\n",
              "      <td>0</td>\n",
              "      <td>0</td>\n",
              "      <td>['test', 'health', 'australia', 'travel', 'cli...</td>\n",
              "      <td>['test', 'health', 'australia', 'travel', 'cli...</td>\n",
              "      <td>[0, 0]</td>\n",
              "    </tr>\n",
              "    <tr>\n",
              "      <th>6129</th>\n",
              "      <td>8965</td>\n",
              "      <td>Social media posts claim that US citizens mar...</td>\n",
              "      <td>United States</td>\n",
              "      <td>English</td>\n",
              "      <td>False</td>\n",
              "      <td>https://factcheck.afp.com/posts-misrepresent-e...</td>\n",
              "      <td>2020/04/17</td>\n",
              "      <td>AFP</td>\n",
              "      <td>0</td>\n",
              "      <td>0</td>\n",
              "      <td>['test', 'health', 'australia', 'travel', 'cli...</td>\n",
              "      <td>['test', 'health', 'australia', 'travel', 'cli...</td>\n",
              "      <td>[0, 0]</td>\n",
              "    </tr>\n",
              "    <tr>\n",
              "      <th>6130</th>\n",
              "      <td>676</td>\n",
              "      <td>Congress included include a raise for themsel...</td>\n",
              "      <td>United States</td>\n",
              "      <td>English</td>\n",
              "      <td>False</td>\n",
              "      <td>https://leadstories.com/hoax-alert/2020/03/Fac...</td>\n",
              "      <td>2020/03/25</td>\n",
              "      <td>LeadStories</td>\n",
              "      <td>0</td>\n",
              "      <td>0</td>\n",
              "      <td>['test', 'health', 'australia', 'travel', 'cli...</td>\n",
              "      <td>['test', 'health', 'australia', 'travel', 'cli...</td>\n",
              "      <td>[0, 0]</td>\n",
              "    </tr>\n",
              "    <tr>\n",
              "      <th>6131</th>\n",
              "      <td>4709</td>\n",
              "      <td>Indian Army has constructed an advanced hospit...</td>\n",
              "      <td>India</td>\n",
              "      <td>English</td>\n",
              "      <td>False</td>\n",
              "      <td>https://www.newschecker.in/article/news-detail...</td>\n",
              "      <td>2020-03-27 00:00:00</td>\n",
              "      <td>Newschecker</td>\n",
              "      <td>0</td>\n",
              "      <td>0</td>\n",
              "      <td>['test', 'health', 'australia', 'travel', 'cli...</td>\n",
              "      <td>['test', 'health', 'australia', 'travel', 'cli...</td>\n",
              "      <td>[0, 0]</td>\n",
              "    </tr>\n",
              "    <tr>\n",
              "      <th>6132</th>\n",
              "      <td>7698</td>\n",
              "      <td>Singer Gusttavo Lima says â€�never saw a pres...</td>\n",
              "      <td>Brazil</td>\n",
              "      <td>English</td>\n",
              "      <td>False</td>\n",
              "      <td>https://politica.estadao.com.br/blogs/estadao-...</td>\n",
              "      <td>2020-04-17 00:00:00</td>\n",
              "      <td>politica.estadao.br</td>\n",
              "      <td>2</td>\n",
              "      <td>0</td>\n",
              "      <td>['test', 'health', 'australia', 'travel', 'cli...</td>\n",
              "      <td>['test', 'health', 'australia', 'travel', 'cli...</td>\n",
              "      <td>[2, 0]</td>\n",
              "    </tr>\n",
              "    <tr>\n",
              "      <th>6133</th>\n",
              "      <td>12269</td>\n",
              "      <td>This photo shows a pregnant woman suffering f...</td>\n",
              "      <td>India</td>\n",
              "      <td>English</td>\n",
              "      <td>False</td>\n",
              "      <td>https://www.thequint.com/news/webqoof/old-pict...</td>\n",
              "      <td>2020/04/23</td>\n",
              "      <td>The Quint</td>\n",
              "      <td>0</td>\n",
              "      <td>1</td>\n",
              "      <td>['facebook', 'post', 'toilet', 'paper', 'show'...</td>\n",
              "      <td>['facebook', 'post', 'toilet', 'paper', 'show'...</td>\n",
              "      <td>[0, 1]</td>\n",
              "    </tr>\n",
              "    <tr>\n",
              "      <th>6134</th>\n",
              "      <td>3750</td>\n",
              "      <td>â€śKochi Prefectural Assembly, who returned f...</td>\n",
              "      <td>Japan</td>\n",
              "      <td>English</td>\n",
              "      <td>False</td>\n",
              "      <td>https://www.buzzfeed.com/jp/kotahatachi/unknow...</td>\n",
              "      <td>2020-03-13 00:00:00</td>\n",
              "      <td>buzzfeed</td>\n",
              "      <td>0</td>\n",
              "      <td>0</td>\n",
              "      <td>['test', 'health', 'australia', 'travel', 'cli...</td>\n",
              "      <td>['test', 'health', 'australia', 'travel', 'cli...</td>\n",
              "      <td>[0, 0]</td>\n",
              "    </tr>\n",
              "  </tbody>\n",
              "</table>\n",
              "</div>"
            ],
            "text/plain": [
              "      index  ... metadatos\n",
              "6115   1908  ...    [0, 0]\n",
              "6116   9380  ...    [6, 1]\n",
              "6117    786  ...    [0, 1]\n",
              "6118     18  ...    [0, 0]\n",
              "6119   6474  ...    [2, 0]\n",
              "6120  10905  ...    [0, 0]\n",
              "6121   7941  ...    [0, 0]\n",
              "6122   6451  ...    [0, 1]\n",
              "6123   6746  ...    [0, 0]\n",
              "6124   8839  ...    [5, 0]\n",
              "6125   2673  ...    [0, 0]\n",
              "6126  10938  ...    [2, 1]\n",
              "6127   6203  ...    [0, 0]\n",
              "6128   2940  ...    [0, 0]\n",
              "6129   8965  ...    [0, 0]\n",
              "6130    676  ...    [0, 0]\n",
              "6131   4709  ...    [0, 0]\n",
              "6132   7698  ...    [2, 0]\n",
              "6133  12269  ...    [0, 1]\n",
              "6134   3750  ...    [0, 0]\n",
              "\n",
              "[20 rows x 13 columns]"
            ]
          },
          "metadata": {
            "tags": []
          },
          "execution_count": 183
        }
      ]
    },
    {
      "cell_type": "code",
      "metadata": {
        "colab": {
          "base_uri": "https://localhost:8080/"
        },
        "id": "Nc9ZR4-PHNG1",
        "outputId": "66f6b2c7-4ea0-442d-df12-ec58badd45fe"
      },
      "source": [
        "datos_analizar[\"metadatos\"][0]"
      ],
      "execution_count": 57,
      "outputs": [
        {
          "output_type": "execute_result",
          "data": {
            "text/plain": [
              "array([5, 0], dtype=int32)"
            ]
          },
          "metadata": {
            "tags": []
          },
          "execution_count": 57
        }
      ]
    },
    {
      "cell_type": "code",
      "metadata": {
        "colab": {
          "base_uri": "https://localhost:8080/",
          "height": 52
        },
        "id": "CPxmmtxElt8h",
        "outputId": "3ccc4821-38f7-490e-f778-d5a854ebe13e"
      },
      "source": [
        "datos_analizar[\"text_topics\"][0]"
      ],
      "execution_count": 58,
      "outputs": [
        {
          "output_type": "execute_result",
          "data": {
            "application/vnd.google.colaboratory.intrinsic+json": {
              "type": "string"
            },
            "text/plain": [
              "\"['test', 'health', 'australia', 'travel', 'clinic', 'flight', 'govern', 'window', 'hospit', 'set'] Australian hospital staff rolled in a Wilson volleyball to keep Tom Hanks company in quarantine.\""
            ]
          },
          "metadata": {
            "tags": []
          },
          "execution_count": 58
        }
      ]
    },
    {
      "cell_type": "code",
      "metadata": {
        "colab": {
          "base_uri": "https://localhost:8080/"
        },
        "id": "fTu0ksA1CWqR",
        "outputId": "9050357f-7a20-4e2e-b029-5b1e12b6c47d"
      },
      "source": [
        "datos_analizar[\"metadatos\"][0]"
      ],
      "execution_count": 59,
      "outputs": [
        {
          "output_type": "execute_result",
          "data": {
            "text/plain": [
              "array([5, 0], dtype=int32)"
            ]
          },
          "metadata": {
            "tags": []
          },
          "execution_count": 59
        }
      ]
    },
    {
      "cell_type": "markdown",
      "metadata": {
        "id": "RKv4GNGpMN0e"
      },
      "source": [
        "### Aplico modelo unificado LSTM"
      ]
    },
    {
      "cell_type": "markdown",
      "metadata": {
        "id": "9hK3mtHoe5Hs"
      },
      "source": [
        "#### Preparación de los datos"
      ]
    },
    {
      "cell_type": "code",
      "metadata": {
        "id": "CK4d2DxOe8LK"
      },
      "source": [
        "# Convierto categorías en números - datos de trabajo\n",
        "\n",
        "category_dict = {value:index for index, value in enumerate(datos_trabajo_pred[\"label\"].unique())} # Extraigo categorías de todos los datos\n",
        "\n",
        "# Extraigo datos de dataframe\n",
        "corpus_trabajo = datos_analizar[\"text_topics\"] # Columna de text NLP - Input 1\n",
        "meta = datos_analizar[\"metadatos\"] # Columna de metadatos numerica - Input 2\n",
        "results_trabajo = datos_analizar[\"label\"].map(category_dict) # Prediccion (0 falso, 1 verdadero)\n",
        "meta=meta.values.tolist()\n",
        "meta_arr = np.array(meta)"
      ],
      "execution_count": 60,
      "outputs": []
    },
    {
      "cell_type": "code",
      "metadata": {
        "colab": {
          "base_uri": "https://localhost:8080/"
        },
        "id": "F8hU3VfXffMY",
        "outputId": "993d31ae-37d9-446d-c830-1c4d80e08591"
      },
      "source": [
        "# Parámetros\n",
        "n_most_common_words = 10000\n",
        "max_len = 300\n",
        "\n",
        "# Creo tokenizador con todos los datos\n",
        "corpus = datos_analizar[\"text_topics\"]\n",
        "tokenizer = Tokenizer(num_words=n_most_common_words, filters='!\"#$%&()*+,-./:;<=>?@[\\]^_`{|}~', lower=True)\n",
        "tokenizer.fit_on_texts(corpus.values)\n",
        "word_index = tokenizer.word_index\n",
        "print('Se encontraron %s tokens únicos' % len(word_index))"
      ],
      "execution_count": 61,
      "outputs": [
        {
          "output_type": "stream",
          "text": [
            "Se encontraron 20961 tokens únicos\n"
          ],
          "name": "stdout"
        }
      ]
    },
    {
      "cell_type": "code",
      "metadata": {
        "id": "2SZjWYIGgO6w"
      },
      "source": [
        "# Tokenización datos de trabajo\n",
        "corpus_trabajo = datos_analizar[\"text_topics\"]\n",
        "sequences = tokenizer.texts_to_sequences(corpus_trabajo.values)\n",
        "X = pad_sequences(sequences, maxlen=max_len)"
      ],
      "execution_count": 62,
      "outputs": []
    },
    {
      "cell_type": "markdown",
      "metadata": {
        "id": "sPG56VCXgbrE"
      },
      "source": [
        "#### Train - test split"
      ]
    },
    {
      "cell_type": "code",
      "metadata": {
        "id": "vSw1gQ1vgglX"
      },
      "source": [
        "# Datos NLP (Input 1)\n",
        "x_train1,x_test1, y_train,y_test = train_test_split(X, results_trabajo, test_size=0.2, random_state=88 )\n",
        "\n",
        "# Datos numéricos - metadatos (Input 2)\n",
        "x_train2,x_test2, y_train2,y_test2 = train_test_split(meta_arr, results_trabajo, test_size=0.2, random_state=88 )\n"
      ],
      "execution_count": 63,
      "outputs": []
    },
    {
      "cell_type": "code",
      "metadata": {
        "colab": {
          "base_uri": "https://localhost:8080/",
          "height": 265
        },
        "id": "b5fOE4G6rCTc",
        "outputId": "dc7e71eb-2adc-49e9-ca2c-b52fdadb38d5"
      },
      "source": [
        "# Visualizo el balance de las clases luego de la división para verificar que no exista un desbalance\n",
        "df_y_train = pd.DataFrame({'yTrain': y_train})\n",
        "\n",
        "df_y_test = pd.DataFrame({'yTest': y_test})\n",
        "\n",
        "\n",
        "fig, axes = plt.subplots(ncols=2, nrows=1, figsize=(18, 10))\n",
        "plt.subplot(2, 2, 1).set_title('yTrain')\n",
        "df_y_train[\"yTrain\"].value_counts().plot(kind='bar')\n",
        "\n",
        "plt.subplot(2, 2, 2).set_title('yTest')\n",
        "df_y_test[\"yTest\"].value_counts().plot(kind='bar')"
      ],
      "execution_count": 64,
      "outputs": [
        {
          "output_type": "execute_result",
          "data": {
            "text/plain": [
              "<matplotlib.axes._subplots.AxesSubplot at 0x7f70d96124a8>"
            ]
          },
          "metadata": {
            "tags": []
          },
          "execution_count": 64
        },
        {
          "output_type": "display_data",
          "data": {
            "image/png": "[encoded data removed]",
            "text/plain": [
              "<Figure size 1296x720 with 2 Axes>"
            ]
          },
          "metadata": {
            "tags": [],
            "needs_background": "light"
          }
        }
      ]
    },
    {
      "cell_type": "code",
      "metadata": {
        "id": "0GdpROUJruhx"
      },
      "source": [
        ""
      ],
      "execution_count": null,
      "outputs": []
    },
    {
      "cell_type": "markdown",
      "metadata": {
        "id": "P3JnYeUn2MCF"
      },
      "source": [
        "#### Modelo base de una sóla entrada redes recurrentes - RNN con entrada train (Solo texto del titular de la noticia - sin información adicional del modelo LDA)"
      ]
    },
    {
      "cell_type": "code",
      "metadata": {
        "id": "UjQBgFtp23pf"
      },
      "source": [
        "# Convierto categorías en números - datos de trabajo\r\n",
        "\r\n",
        "category_dict_base = {value:index for index, value in enumerate(datos_trabajo_pred[\"label\"].unique())} # Extraigo categorías de todos los datos\r\n",
        "\r\n",
        "# Extraigo datos de dataframe\r\n",
        "corpus_trabajo_base = datos_analizar[\"Text\"] # Columna input única\r\n",
        "results_trabajo_base = datos_analizar[\"label\"].map(category_dict) # Prediccion"
      ],
      "execution_count": 95,
      "outputs": []
    },
    {
      "cell_type": "code",
      "metadata": {
        "colab": {
          "base_uri": "https://localhost:8080/"
        },
        "id": "oFxarHvG3R4X",
        "outputId": "21dfa4a0-3c96-44bd-cb46-bbc0376a1785"
      },
      "source": [
        "# Parámetros\r\n",
        "n_most_common_words = 10000\r\n",
        "max_len = 300\r\n",
        "\r\n",
        "# Creo tokenizador con todos los datos\r\n",
        "corpus_base = datos_analizar[\"Text\"]\r\n",
        "tokenizer_base = Tokenizer(num_words=n_most_common_words, filters='!\"#$%&()*+,-./:;<=>?@[\\]^_`{|}~', lower=True)\r\n",
        "tokenizer_base.fit_on_texts(corpus_base.values)\r\n",
        "word_index_base = tokenizer_base.word_index\r\n",
        "print('Se encontraron %s tokens únicos' % len(word_index_base))"
      ],
      "execution_count": 97,
      "outputs": [
        {
          "output_type": "stream",
          "text": [
            "Se encontraron 20921 tokens únicos\n"
          ],
          "name": "stdout"
        }
      ]
    },
    {
      "cell_type": "code",
      "metadata": {
        "id": "NQ0YKJQz4StK"
      },
      "source": [
        "# Tokenización datos de trabajo\r\n",
        "corpus_trabajo_base = datos_analizar[\"Text\"]\r\n",
        "sequences_base = tokenizer.texts_to_sequences(corpus_trabajo_base.values)\r\n",
        "X_base = pad_sequences(sequences_base, maxlen=max_len)"
      ],
      "execution_count": 98,
      "outputs": []
    },
    {
      "cell_type": "code",
      "metadata": {
        "id": "jaB7kR113R0M"
      },
      "source": [
        "# Datos Input única\r\n",
        "x_train_base,x_test_base, y_train_base,y_test_base = train_test_split(X_base, results_trabajo_base, test_size=0.2, random_state=88 )\r\n"
      ],
      "execution_count": 99,
      "outputs": []
    },
    {
      "cell_type": "code",
      "metadata": {
        "id": "mWpXdOX92ZZq"
      },
      "source": [
        "# Parámetros de la red\r\n",
        "epochs = 20\r\n",
        "emb_dim = 128\r\n",
        "batch_size = 256"
      ],
      "execution_count": 100,
      "outputs": []
    },
    {
      "cell_type": "code",
      "metadata": {
        "colab": {
          "base_uri": "https://localhost:8080/"
        },
        "id": "8uBjl-Sh2ZPK",
        "outputId": "36294c21-ae63-4e30-c0a4-6fa53f7ece25"
      },
      "source": [
        "# Creación del modelo y compilación\r\n",
        "\r\n",
        "model_base = tf.keras.Sequential([\r\n",
        "    tf.keras.layers.Embedding(n_most_common_words, emb_dim, input_length=X.shape[1]),\r\n",
        "    tf.keras.layers.SpatialDropout1D(0.1),\r\n",
        "    tf.keras.layers.LSTM(64),\r\n",
        "    tf.keras.layers.Flatten(),\r\n",
        "    tf.keras.layers.Dropout(0.7),\r\n",
        "    tf.keras.layers.Dense(32, activation='relu'),\r\n",
        "    tf.keras.layers.Dense(1, activation='sigmoid')\r\n",
        "])\r\n",
        "model_base.summary()\r\n",
        "\r\n",
        "# Compilación\r\n",
        "\r\n",
        "model_base.compile(optimizer='adam', loss='binary_crossentropy', metrics=['acc'])"
      ],
      "execution_count": 101,
      "outputs": [
        {
          "output_type": "stream",
          "text": [
            "Model: \"sequential_3\"\n",
            "_________________________________________________________________\n",
            "Layer (type)                 Output Shape              Param #   \n",
            "=================================================================\n",
            "embedding_5 (Embedding)      (None, 300, 128)          1280000   \n",
            "_________________________________________________________________\n",
            "spatial_dropout1d_3 (Spatial (None, 300, 128)          0         \n",
            "_________________________________________________________________\n",
            "lstm_5 (LSTM)                (None, 64)                49408     \n",
            "_________________________________________________________________\n",
            "flatten_5 (Flatten)          (None, 64)                0         \n",
            "_________________________________________________________________\n",
            "dropout_4 (Dropout)          (None, 64)                0         \n",
            "_________________________________________________________________\n",
            "dense_10 (Dense)             (None, 32)                2080      \n",
            "_________________________________________________________________\n",
            "dense_11 (Dense)             (None, 1)                 33        \n",
            "=================================================================\n",
            "Total params: 1,331,521\n",
            "Trainable params: 1,331,521\n",
            "Non-trainable params: 0\n",
            "_________________________________________________________________\n"
          ],
          "name": "stdout"
        }
      ]
    },
    {
      "cell_type": "code",
      "metadata": {
        "colab": {
          "base_uri": "https://localhost:8080/"
        },
        "id": "0TpFmRAI2ZGu",
        "outputId": "da86bf70-b7b8-4c1e-fd33-e1244f1ae89d"
      },
      "source": [
        "# Entrenamiento\r\n",
        "\r\n",
        "start=time.clock()\r\n",
        "\r\n",
        "history_base = model_base.fit(x_train_base, y_train_base, epochs=epochs, batch_size=batch_size,validation_split=0.2,callbacks=[EarlyStopping(monitor='val_loss',patience=7, min_delta=0.0001)])\r\n",
        "end = time.clock()\r\n",
        "\r\n",
        "tiempo_base=(end-start)/60\r\n",
        "print(\"Tiempo de entrenamiento: \", tiempo_base, \" minutos\")"
      ],
      "execution_count": 102,
      "outputs": [
        {
          "output_type": "stream",
          "text": [
            "Epoch 1/20\n",
            "16/16 [==============================] - 10s 595ms/step - loss: 0.6036 - acc: 0.7937 - val_loss: 0.4360 - val_acc: 0.8371\n",
            "Epoch 2/20\n",
            "16/16 [==============================] - 9s 574ms/step - loss: 0.4239 - acc: 0.8556 - val_loss: 0.3522 - val_acc: 0.9043\n",
            "Epoch 3/20\n",
            "16/16 [==============================] - 9s 572ms/step - loss: 0.3402 - acc: 0.8963 - val_loss: 0.2792 - val_acc: 0.9043\n",
            "Epoch 4/20\n",
            "16/16 [==============================] - 9s 573ms/step - loss: 0.2432 - acc: 0.9052 - val_loss: 0.1994 - val_acc: 0.9216\n",
            "Epoch 5/20\n",
            "16/16 [==============================] - 9s 575ms/step - loss: 0.1631 - acc: 0.9483 - val_loss: 0.1621 - val_acc: 0.9420\n",
            "Epoch 6/20\n",
            "16/16 [==============================] - 9s 572ms/step - loss: 0.1059 - acc: 0.9692 - val_loss: 0.1383 - val_acc: 0.9501\n",
            "Epoch 7/20\n",
            "16/16 [==============================] - 9s 572ms/step - loss: 0.0860 - acc: 0.9748 - val_loss: 0.1445 - val_acc: 0.9430\n",
            "Epoch 8/20\n",
            "16/16 [==============================] - 9s 574ms/step - loss: 0.0621 - acc: 0.9801 - val_loss: 0.1600 - val_acc: 0.9430\n",
            "Epoch 9/20\n",
            "16/16 [==============================] - 9s 574ms/step - loss: 0.0405 - acc: 0.9906 - val_loss: 0.1501 - val_acc: 0.9501\n",
            "Epoch 10/20\n",
            "16/16 [==============================] - 9s 577ms/step - loss: 0.0263 - acc: 0.9947 - val_loss: 0.1679 - val_acc: 0.9491\n",
            "Epoch 11/20\n",
            "16/16 [==============================] - 9s 573ms/step - loss: 0.0191 - acc: 0.9957 - val_loss: 0.1815 - val_acc: 0.9470\n",
            "Epoch 12/20\n",
            "16/16 [==============================] - 9s 570ms/step - loss: 0.0142 - acc: 0.9969 - val_loss: 0.1969 - val_acc: 0.9481\n",
            "Epoch 13/20\n",
            "16/16 [==============================] - 9s 572ms/step - loss: 0.0092 - acc: 0.9982 - val_loss: 0.2167 - val_acc: 0.9481\n",
            "Tiempo de entrenamiento:  6.527224533333333  minutos\n"
          ],
          "name": "stdout"
        }
      ]
    },
    {
      "cell_type": "code",
      "metadata": {
        "colab": {
          "base_uri": "https://localhost:8080/",
          "height": 295
        },
        "id": "NcL4e2WP2gY3",
        "outputId": "4fe1ec6c-6e20-4b86-883b-baaa7bc18cc0"
      },
      "source": [
        "# Resultados\r\n",
        "\r\n",
        "# Accuracy\r\n",
        "plot_acc(history_base)"
      ],
      "execution_count": 105,
      "outputs": [
        {
          "output_type": "display_data",
          "data": {
            "image/png": "[encoded data removed]",
            "text/plain": [
              "<Figure size 432x288 with 1 Axes>"
            ]
          },
          "metadata": {
            "tags": [],
            "needs_background": "light"
          }
        }
      ]
    },
    {
      "cell_type": "code",
      "metadata": {
        "colab": {
          "base_uri": "https://localhost:8080/",
          "height": 295
        },
        "id": "ONcztt_o2gUf",
        "outputId": "bb4665ed-7146-46f1-f98d-3f04a81b901c"
      },
      "source": [
        "# Loss\r\n",
        "\r\n",
        "plot_loss(history_base)"
      ],
      "execution_count": 106,
      "outputs": [
        {
          "output_type": "display_data",
          "data": {
            "image/png": "[encoded data removed]",
            "text/plain": [
              "<Figure size 432x288 with 1 Axes>"
            ]
          },
          "metadata": {
            "tags": [],
            "needs_background": "light"
          }
        }
      ]
    },
    {
      "cell_type": "code",
      "metadata": {
        "id": "lnvYJSXe2ZCf"
      },
      "source": [
        ""
      ],
      "execution_count": null,
      "outputs": []
    },
    {
      "cell_type": "markdown",
      "metadata": {
        "id": "3FNHUqRKrKfl"
      },
      "source": [
        "#### Modelo base de una sóla entrada redes recurrentes - RNN con entrada train1 (texto + palabras de LDA)"
      ]
    },
    {
      "cell_type": "code",
      "metadata": {
        "id": "jv_gRVXprS5J"
      },
      "source": [
        "# Parámetros de la red\n",
        "epochs = 20\n",
        "emb_dim = 128\n",
        "batch_size = 256"
      ],
      "execution_count": 81,
      "outputs": []
    },
    {
      "cell_type": "code",
      "metadata": {
        "colab": {
          "base_uri": "https://localhost:8080/"
        },
        "id": "fiiaCJiUrUsB",
        "outputId": "023feefb-d635-4c86-a301-e8cb32ae4f8e"
      },
      "source": [
        "# Creación del modelo y compilación\n",
        "\n",
        "model_RNN = tf.keras.Sequential([\n",
        "    tf.keras.layers.Embedding(n_most_common_words, emb_dim, input_length=X.shape[1]),\n",
        "    tf.keras.layers.SpatialDropout1D(0.1),\n",
        "    tf.keras.layers.LSTM(64),\n",
        "    tf.keras.layers.Flatten(),\n",
        "    tf.keras.layers.Dropout(0.7),\n",
        "    tf.keras.layers.Dense(32, activation='relu'),\n",
        "    tf.keras.layers.Dense(1, activation='sigmoid')\n",
        "])\n",
        "model_RNN.summary()\n",
        "\n",
        "# Compilación\n",
        "\n",
        "model_RNN.compile(optimizer='adam', loss='binary_crossentropy', metrics=['acc'])"
      ],
      "execution_count": 82,
      "outputs": [
        {
          "output_type": "stream",
          "text": [
            "Model: \"sequential_2\"\n",
            "_________________________________________________________________\n",
            "Layer (type)                 Output Shape              Param #   \n",
            "=================================================================\n",
            "embedding_3 (Embedding)      (None, 300, 128)          1280000   \n",
            "_________________________________________________________________\n",
            "spatial_dropout1d_2 (Spatial (None, 300, 128)          0         \n",
            "_________________________________________________________________\n",
            "lstm_3 (LSTM)                (None, 64)                49408     \n",
            "_________________________________________________________________\n",
            "flatten_3 (Flatten)          (None, 64)                0         \n",
            "_________________________________________________________________\n",
            "dropout_3 (Dropout)          (None, 64)                0         \n",
            "_________________________________________________________________\n",
            "dense_6 (Dense)              (None, 32)                2080      \n",
            "_________________________________________________________________\n",
            "dense_7 (Dense)              (None, 1)                 33        \n",
            "=================================================================\n",
            "Total params: 1,331,521\n",
            "Trainable params: 1,331,521\n",
            "Non-trainable params: 0\n",
            "_________________________________________________________________\n"
          ],
          "name": "stdout"
        }
      ]
    },
    {
      "cell_type": "code",
      "metadata": {
        "colab": {
          "base_uri": "https://localhost:8080/"
        },
        "id": "cqxfFERCrbhK",
        "outputId": "03a6f7b8-7a0c-4f27-cb2a-5523c67fae25"
      },
      "source": [
        "# Entrenamiento\n",
        "\n",
        "start=time.clock()\n",
        "\n",
        "history_RNN = model_RNN.fit(x_train1, y_train, epochs=epochs, batch_size=batch_size,validation_split=0.2,callbacks=[EarlyStopping(monitor='val_loss',patience=7, min_delta=0.0001)])\n",
        "end = time.clock()\n",
        "\n",
        "tiempo_base=(end-start)/60\n",
        "print(\"Tiempo de entrenamiento: \", tiempo_base, \" minutos\")"
      ],
      "execution_count": 83,
      "outputs": [
        {
          "output_type": "stream",
          "text": [
            "Epoch 1/20\n",
            "16/16 [==============================] - 10s 615ms/step - loss: 0.5923 - acc: 0.8008 - val_loss: 0.4489 - val_acc: 0.8371\n",
            "Epoch 2/20\n",
            "16/16 [==============================] - 9s 575ms/step - loss: 0.3786 - acc: 0.8663 - val_loss: 0.3015 - val_acc: 0.9043\n",
            "Epoch 3/20\n",
            "16/16 [==============================] - 9s 575ms/step - loss: 0.2572 - acc: 0.9047 - val_loss: 0.2015 - val_acc: 0.9277\n",
            "Epoch 4/20\n",
            "16/16 [==============================] - 9s 573ms/step - loss: 0.1573 - acc: 0.9498 - val_loss: 0.1584 - val_acc: 0.9440\n",
            "Epoch 5/20\n",
            "16/16 [==============================] - 9s 572ms/step - loss: 0.1058 - acc: 0.9692 - val_loss: 0.1345 - val_acc: 0.9521\n",
            "Epoch 6/20\n",
            "16/16 [==============================] - 9s 571ms/step - loss: 0.0582 - acc: 0.9817 - val_loss: 0.1347 - val_acc: 0.9572\n",
            "Epoch 7/20\n",
            "16/16 [==============================] - 9s 572ms/step - loss: 0.0335 - acc: 0.9885 - val_loss: 0.1469 - val_acc: 0.9562\n",
            "Epoch 8/20\n",
            "16/16 [==============================] - 9s 571ms/step - loss: 0.0188 - acc: 0.9967 - val_loss: 0.1772 - val_acc: 0.9532\n",
            "Epoch 9/20\n",
            "16/16 [==============================] - 9s 571ms/step - loss: 0.0145 - acc: 0.9957 - val_loss: 0.1903 - val_acc: 0.9521\n",
            "Epoch 10/20\n",
            "16/16 [==============================] - 9s 570ms/step - loss: 0.0099 - acc: 0.9980 - val_loss: 0.2319 - val_acc: 0.9460\n",
            "Epoch 11/20\n",
            "16/16 [==============================] - 9s 569ms/step - loss: 0.0101 - acc: 0.9982 - val_loss: 0.2144 - val_acc: 0.9491\n",
            "Epoch 12/20\n",
            "16/16 [==============================] - 9s 572ms/step - loss: 0.0060 - acc: 0.9987 - val_loss: 0.2628 - val_acc: 0.9440\n",
            "Tiempo de entrenamiento:  6.0415603833333344  minutos\n"
          ],
          "name": "stdout"
        }
      ]
    },
    {
      "cell_type": "code",
      "metadata": {
        "id": "Be669qB7rjx6",
        "colab": {
          "base_uri": "https://localhost:8080/",
          "height": 295
        },
        "outputId": "b771d98b-86f5-44ff-9611-fdbc03e98aad"
      },
      "source": [
        "# Resultados\n",
        "\n",
        "# Accuracy\n",
        "plot_acc(history_RNN)"
      ],
      "execution_count": 84,
      "outputs": [
        {
          "output_type": "display_data",
          "data": {
            "image/png": "[encoded data removed]",
            "text/plain": [
              "<Figure size 432x288 with 1 Axes>"
            ]
          },
          "metadata": {
            "tags": [],
            "needs_background": "light"
          }
        }
      ]
    },
    {
      "cell_type": "code",
      "metadata": {
        "id": "wR7679bbrjvG",
        "colab": {
          "base_uri": "https://localhost:8080/",
          "height": 295
        },
        "outputId": "86ac1496-20e0-41a6-be87-e317bf7a050b"
      },
      "source": [
        "# Loss\n",
        "\n",
        "plot_loss(history_RNN)"
      ],
      "execution_count": 85,
      "outputs": [
        {
          "output_type": "display_data",
          "data": {
            "image/png": "[encoded data removed]",
            "text/plain": [
              "<Figure size 432x288 with 1 Axes>"
            ]
          },
          "metadata": {
            "tags": [],
            "needs_background": "light"
          }
        }
      ]
    },
    {
      "cell_type": "markdown",
      "metadata": {
        "id": "Wihj9MnTr06S"
      },
      "source": [
        "#### Modelo con multiples entradas"
      ]
    },
    {
      "cell_type": "markdown",
      "metadata": {
        "id": "3RNkl5b-Fh0D"
      },
      "source": [
        "##### Modelo LSTM Sencilla"
      ]
    },
    {
      "cell_type": "code",
      "metadata": {
        "id": "ZEQevLCBr8lr"
      },
      "source": [
        "# Parámetros de la red\n",
        "epochs = 30\n",
        "emb_dim = 128\n",
        "batch_size = 256\n",
        "seq_length=X.shape[1]\n",
        "embedding_size=n_most_common_words\n"
      ],
      "execution_count": 74,
      "outputs": []
    },
    {
      "cell_type": "code",
      "metadata": {
        "colab": {
          "base_uri": "https://localhost:8080/"
        },
        "id": "SfI-4kFkGCSB",
        "outputId": "88be26e2-7dd7-4d9a-b8ed-3c5b9bdf0b1b"
      },
      "source": [
        "# Creación de la red\r\n",
        "nlp_input = Input(shape=(seq_length,), name='nlp_input')\r\n",
        "meta_input = Input(shape=(2,), name='meta_input')\r\n",
        "emb = Embedding(output_dim=emb_dim, input_dim=embedding_size, input_length=seq_length)(nlp_input)\r\n",
        "nlp_out = (LSTM(64, dropout=0.7, recurrent_dropout=0.7, kernel_regularizer=regularizers.l2(0.01)))(emb)\r\n",
        "x = concatenate([nlp_out, meta_input])\r\n",
        "x = Flatten()(x)\r\n",
        "x = Dropout(0.3)(x)\r\n",
        "x = Dense(32, activation='relu')(x)\r\n",
        "x = Dense(1, activation='sigmoid')(x)\r\n",
        "model = Model(inputs=[nlp_input , meta_input], outputs=[x])\r\n",
        "\r\n",
        "model.summary()\r\n",
        "\r\n",
        "# Compilación\r\n",
        "\r\n",
        "model.compile(optimizer='adam', loss='binary_crossentropy', metrics=['acc'])"
      ],
      "execution_count": 75,
      "outputs": [
        {
          "output_type": "stream",
          "text": [
            "Model: \"functional_1\"\n",
            "__________________________________________________________________________________________________\n",
            "Layer (type)                    Output Shape         Param #     Connected to                     \n",
            "==================================================================================================\n",
            "nlp_input (InputLayer)          [(None, 300)]        0                                            \n",
            "__________________________________________________________________________________________________\n",
            "embedding_1 (Embedding)         (None, 300, 128)     1280000     nlp_input[0][0]                  \n",
            "__________________________________________________________________________________________________\n",
            "lstm_1 (LSTM)                   (None, 64)           49408       embedding_1[0][0]                \n",
            "__________________________________________________________________________________________________\n",
            "meta_input (InputLayer)         [(None, 2)]          0                                            \n",
            "__________________________________________________________________________________________________\n",
            "concatenate (Concatenate)       (None, 66)           0           lstm_1[0][0]                     \n",
            "                                                                 meta_input[0][0]                 \n",
            "__________________________________________________________________________________________________\n",
            "flatten_1 (Flatten)             (None, 66)           0           concatenate[0][0]                \n",
            "__________________________________________________________________________________________________\n",
            "dropout_1 (Dropout)             (None, 66)           0           flatten_1[0][0]                  \n",
            "__________________________________________________________________________________________________\n",
            "dense_2 (Dense)                 (None, 32)           2144        dropout_1[0][0]                  \n",
            "__________________________________________________________________________________________________\n",
            "dense_3 (Dense)                 (None, 1)            33          dense_2[0][0]                    \n",
            "==================================================================================================\n",
            "Total params: 1,331,585\n",
            "Trainable params: 1,331,585\n",
            "Non-trainable params: 0\n",
            "__________________________________________________________________________________________________\n"
          ],
          "name": "stdout"
        }
      ]
    },
    {
      "cell_type": "code",
      "metadata": {
        "colab": {
          "base_uri": "https://localhost:8080/"
        },
        "id": "bo-mMN6QFph7",
        "outputId": "507f14dd-7d6d-4d76-c359-69f85325f8c7"
      },
      "source": [
        "# Entrenamiento\r\n",
        "start=time.clock()\r\n",
        "\r\n",
        "\r\n",
        "historyFinal1=model.fit({'nlp_input': x_train1, 'meta_input': x_train2}, y_train, epochs=epochs, batch_size=batch_size,validation_split=0.2,callbacks=[EarlyStopping(monitor='val_loss',patience=7, min_delta=0.0001)])\r\n",
        "\r\n",
        "\r\n",
        "end = time.clock()\r\n",
        "tiempo_base=(end-start)/60\r\n",
        "print(\"Tiempo de entrenamiento: \", tiempo_base, \" minutos\")"
      ],
      "execution_count": 76,
      "outputs": [
        {
          "output_type": "stream",
          "text": [
            "Epoch 1/30\n",
            "16/16 [==============================] - 15s 941ms/step - loss: 2.0119 - acc: 0.7876 - val_loss: 1.6449 - val_acc: 0.8371\n",
            "Epoch 2/30\n",
            "16/16 [==============================] - 15s 920ms/step - loss: 1.3866 - acc: 0.8380 - val_loss: 1.1295 - val_acc: 0.8371\n",
            "Epoch 3/30\n",
            "16/16 [==============================] - 15s 919ms/step - loss: 0.9955 - acc: 0.8523 - val_loss: 0.8182 - val_acc: 0.9012\n",
            "Epoch 4/30\n",
            "16/16 [==============================] - 15s 920ms/step - loss: 0.6918 - acc: 0.8920 - val_loss: 0.5390 - val_acc: 0.9104\n",
            "Epoch 5/30\n",
            "16/16 [==============================] - 15s 919ms/step - loss: 0.4727 - acc: 0.9139 - val_loss: 0.3843 - val_acc: 0.9297\n",
            "Epoch 6/30\n",
            "16/16 [==============================] - 15s 920ms/step - loss: 0.3336 - acc: 0.9422 - val_loss: 0.2866 - val_acc: 0.9389\n",
            "Epoch 7/30\n",
            "16/16 [==============================] - 15s 925ms/step - loss: 0.2448 - acc: 0.9547 - val_loss: 0.2257 - val_acc: 0.9552\n",
            "Epoch 8/30\n",
            "16/16 [==============================] - 15s 941ms/step - loss: 0.1822 - acc: 0.9646 - val_loss: 0.1903 - val_acc: 0.9532\n",
            "Epoch 9/30\n",
            "16/16 [==============================] - 15s 922ms/step - loss: 0.1355 - acc: 0.9733 - val_loss: 0.1656 - val_acc: 0.9633\n",
            "Epoch 10/30\n",
            "16/16 [==============================] - 15s 922ms/step - loss: 0.1189 - acc: 0.9733 - val_loss: 0.1818 - val_acc: 0.9491\n",
            "Epoch 11/30\n",
            "16/16 [==============================] - 15s 932ms/step - loss: 0.0991 - acc: 0.9766 - val_loss: 0.1533 - val_acc: 0.9603\n",
            "Epoch 12/30\n",
            "16/16 [==============================] - 15s 958ms/step - loss: 0.0757 - acc: 0.9840 - val_loss: 0.1611 - val_acc: 0.9603\n",
            "Epoch 13/30\n",
            "16/16 [==============================] - 15s 938ms/step - loss: 0.0627 - acc: 0.9873 - val_loss: 0.1629 - val_acc: 0.9582\n",
            "Epoch 14/30\n",
            "16/16 [==============================] - 15s 937ms/step - loss: 0.0596 - acc: 0.9878 - val_loss: 0.1573 - val_acc: 0.9532\n",
            "Epoch 15/30\n",
            "16/16 [==============================] - 15s 934ms/step - loss: 0.0491 - acc: 0.9926 - val_loss: 0.1577 - val_acc: 0.9562\n",
            "Epoch 16/30\n",
            "16/16 [==============================] - 15s 929ms/step - loss: 0.0431 - acc: 0.9924 - val_loss: 0.1732 - val_acc: 0.9562\n",
            "Epoch 17/30\n",
            "16/16 [==============================] - 15s 923ms/step - loss: 0.0380 - acc: 0.9936 - val_loss: 0.1852 - val_acc: 0.9552\n",
            "Epoch 18/30\n",
            "16/16 [==============================] - 15s 924ms/step - loss: 0.0414 - acc: 0.9911 - val_loss: 0.2268 - val_acc: 0.9481\n",
            "Tiempo de entrenamiento:  16.690059599999998  minutos\n"
          ],
          "name": "stdout"
        }
      ]
    },
    {
      "cell_type": "code",
      "metadata": {
        "colab": {
          "base_uri": "https://localhost:8080/",
          "height": 295
        },
        "id": "G__GHQQUFu_j",
        "outputId": "61e3e438-ce3b-4aed-df03-31687e4b3e7d"
      },
      "source": [
        "# Resultados\r\n",
        "\r\n",
        "# Accuracy\r\n",
        "plot_acc(historyFinal1)"
      ],
      "execution_count": 77,
      "outputs": [
        {
          "output_type": "display_data",
          "data": {
            "image/png": "[encoded data removed]",
            "text/plain": [
              "<Figure size 432x288 with 1 Axes>"
            ]
          },
          "metadata": {
            "tags": [],
            "needs_background": "light"
          }
        }
      ]
    },
    {
      "cell_type": "code",
      "metadata": {
        "colab": {
          "base_uri": "https://localhost:8080/",
          "height": 295
        },
        "id": "h_JKTTOJFvli",
        "outputId": "f56ecc99-086b-419f-8cbf-56f4ec308c53"
      },
      "source": [
        "# Loss\r\n",
        "\r\n",
        "plot_loss(historyFinal1)"
      ],
      "execution_count": 78,
      "outputs": [
        {
          "output_type": "display_data",
          "data": {
            "image/png": "[encoded data removed]",
            "text/plain": [
              "<Figure size 432x288 with 1 Axes>"
            ]
          },
          "metadata": {
            "tags": [],
            "needs_background": "light"
          }
        }
      ]
    },
    {
      "cell_type": "markdown",
      "metadata": {
        "id": "neR275rmFcBl"
      },
      "source": [
        "##### Modelo LSTM Bidireccional"
      ]
    },
    {
      "cell_type": "code",
      "metadata": {
        "id": "dQGfNIrrFUst"
      },
      "source": [
        "seq_length=X.shape[1]\r\n",
        "embedding_size=n_most_common_words\r\n",
        "classifier_neurons=32"
      ],
      "execution_count": 114,
      "outputs": []
    },
    {
      "cell_type": "code",
      "metadata": {
        "colab": {
          "base_uri": "https://localhost:8080/"
        },
        "id": "55oOurpUPWu-",
        "outputId": "b4a67377-6d7f-4252-efc1-d3dc15b5a76f"
      },
      "source": [
        "# Creación de la red\n",
        "nlp_input = Input(shape=(seq_length,), name='nlp_input')\n",
        "meta_input = Input(shape=(2,), name='meta_input')\n",
        "emb = Embedding(output_dim=emb_dim, input_dim=embedding_size, input_length=seq_length)(nlp_input)\n",
        "nlp_out = Bidirectional(LSTM(64, dropout=0.7, recurrent_dropout=0.7, kernel_regularizer=regularizers.l2(0.01)))(emb)\n",
        "x = concatenate([nlp_out, meta_input])\n",
        "x = Flatten()(x)\n",
        "x = Dense(classifier_neurons, activation='relu')(x)\n",
        "x = Dense(1, activation='sigmoid')(x)\n",
        "model_bLSTM = Model(inputs=[nlp_input , meta_input], outputs=[x])\n",
        "\n",
        "model_bLSTM.summary()\n",
        "\n",
        "# Compilación\n",
        "\n",
        "model_bLSTM.compile(optimizer='adam', loss='binary_crossentropy', metrics=['acc'])"
      ],
      "execution_count": 115,
      "outputs": [
        {
          "output_type": "stream",
          "text": [
            "Model: \"functional_7\"\n",
            "__________________________________________________________________________________________________\n",
            "Layer (type)                    Output Shape         Param #     Connected to                     \n",
            "==================================================================================================\n",
            "nlp_input (InputLayer)          [(None, 300)]        0                                            \n",
            "__________________________________________________________________________________________________\n",
            "embedding_7 (Embedding)         (None, 300, 128)     1280000     nlp_input[0][0]                  \n",
            "__________________________________________________________________________________________________\n",
            "bidirectional_2 (Bidirectional) (None, 128)          98816       embedding_7[0][0]                \n",
            "__________________________________________________________________________________________________\n",
            "meta_input (InputLayer)         [(None, 2)]          0                                            \n",
            "__________________________________________________________________________________________________\n",
            "concatenate_3 (Concatenate)     (None, 130)          0           bidirectional_2[0][0]            \n",
            "                                                                 meta_input[0][0]                 \n",
            "__________________________________________________________________________________________________\n",
            "flatten_7 (Flatten)             (None, 130)          0           concatenate_3[0][0]              \n",
            "__________________________________________________________________________________________________\n",
            "dense_14 (Dense)                (None, 32)           4192        flatten_7[0][0]                  \n",
            "__________________________________________________________________________________________________\n",
            "dense_15 (Dense)                (None, 1)            33          dense_14[0][0]                   \n",
            "==================================================================================================\n",
            "Total params: 1,383,041\n",
            "Trainable params: 1,383,041\n",
            "Non-trainable params: 0\n",
            "__________________________________________________________________________________________________\n"
          ],
          "name": "stdout"
        }
      ]
    },
    {
      "cell_type": "code",
      "metadata": {
        "colab": {
          "base_uri": "https://localhost:8080/"
        },
        "id": "DXThYMtl6mCc",
        "outputId": "7f5e7cce-b5a7-46c0-ab0f-36f01993fd93"
      },
      "source": [
        "# Entrenamiento\n",
        "start=time.clock()\n",
        "\n",
        "historyFinal2=model_bLSTM.fit({'nlp_input': x_train1, 'meta_input': x_train2}, y_train, epochs=epochs, batch_size=batch_size,validation_split=0.2,callbacks=[EarlyStopping(monitor='val_loss',patience=7, min_delta=0.0001)])\n",
        "\n",
        "end = time.clock()\n",
        "tiempo_base=(end-start)/60\n",
        "print(\"Tiempo de entrenamiento: \", tiempo_base, \" minutos\")"
      ],
      "execution_count": 116,
      "outputs": [
        {
          "output_type": "stream",
          "text": [
            "Epoch 1/20\n",
            "16/16 [==============================] - 29s 2s/step - loss: 3.4362 - acc: 0.8332 - val_loss: 2.7544 - val_acc: 0.8371\n",
            "Epoch 2/20\n",
            "16/16 [==============================] - 28s 2s/step - loss: 2.3111 - acc: 0.8411 - val_loss: 1.8515 - val_acc: 0.8564\n",
            "Epoch 3/20\n",
            "16/16 [==============================] - 28s 2s/step - loss: 1.5791 - acc: 0.8780 - val_loss: 1.2924 - val_acc: 0.8371\n",
            "Epoch 4/20\n",
            "16/16 [==============================] - 28s 2s/step - loss: 1.0532 - acc: 0.8938 - val_loss: 0.8116 - val_acc: 0.9134\n",
            "Epoch 5/20\n",
            "16/16 [==============================] - 28s 2s/step - loss: 0.6865 - acc: 0.9269 - val_loss: 0.5445 - val_acc: 0.9338\n",
            "Epoch 6/20\n",
            "16/16 [==============================] - 28s 2s/step - loss: 0.4483 - acc: 0.9493 - val_loss: 0.3736 - val_acc: 0.9481\n",
            "Epoch 7/20\n",
            "16/16 [==============================] - 28s 2s/step - loss: 0.2956 - acc: 0.9626 - val_loss: 0.2741 - val_acc: 0.9542\n",
            "Epoch 8/20\n",
            "16/16 [==============================] - 28s 2s/step - loss: 0.2069 - acc: 0.9677 - val_loss: 0.2301 - val_acc: 0.9532\n",
            "Epoch 9/20\n",
            "16/16 [==============================] - 28s 2s/step - loss: 0.1377 - acc: 0.9763 - val_loss: 0.1824 - val_acc: 0.9603\n",
            "Epoch 10/20\n",
            "16/16 [==============================] - 29s 2s/step - loss: 0.0998 - acc: 0.9812 - val_loss: 0.1705 - val_acc: 0.9562\n",
            "Epoch 11/20\n",
            "16/16 [==============================] - 28s 2s/step - loss: 0.0738 - acc: 0.9860 - val_loss: 0.1665 - val_acc: 0.9562\n",
            "Epoch 12/20\n",
            "16/16 [==============================] - 28s 2s/step - loss: 0.0598 - acc: 0.9888 - val_loss: 0.1714 - val_acc: 0.9542\n",
            "Epoch 13/20\n",
            "16/16 [==============================] - 28s 2s/step - loss: 0.0454 - acc: 0.9916 - val_loss: 0.1775 - val_acc: 0.9501\n",
            "Epoch 14/20\n",
            "16/16 [==============================] - 28s 2s/step - loss: 0.0393 - acc: 0.9918 - val_loss: 0.1874 - val_acc: 0.9532\n",
            "Epoch 15/20\n",
            "16/16 [==============================] - 28s 2s/step - loss: 0.0337 - acc: 0.9952 - val_loss: 0.1733 - val_acc: 0.9542\n",
            "Epoch 16/20\n",
            "16/16 [==============================] - 28s 2s/step - loss: 0.0349 - acc: 0.9944 - val_loss: 0.2160 - val_acc: 0.9511\n",
            "Epoch 17/20\n",
            "16/16 [==============================] - 28s 2s/step - loss: 0.0294 - acc: 0.9947 - val_loss: 0.2153 - val_acc: 0.9491\n",
            "Epoch 18/20\n",
            "16/16 [==============================] - 28s 2s/step - loss: 0.0255 - acc: 0.9957 - val_loss: 0.1862 - val_acc: 0.9521\n",
            "Tiempo de entrenamiento:  32.539541633333336  minutos\n"
          ],
          "name": "stdout"
        }
      ]
    },
    {
      "cell_type": "code",
      "metadata": {
        "colab": {
          "base_uri": "https://localhost:8080/",
          "height": 295
        },
        "id": "L0tiX4_oDyoM",
        "outputId": "b33cb3ab-4496-424f-9f89-6036b1fbee90"
      },
      "source": [
        "# Resultados\r\n",
        "\r\n",
        "# Accuracy\r\n",
        "plot_acc(historyFinal2)"
      ],
      "execution_count": 120,
      "outputs": [
        {
          "output_type": "display_data",
          "data": {
            "image/png": "[encoded data removed]",
            "text/plain": [
              "<Figure size 432x288 with 1 Axes>"
            ]
          },
          "metadata": {
            "tags": [],
            "needs_background": "light"
          }
        }
      ]
    },
    {
      "cell_type": "code",
      "metadata": {
        "colab": {
          "base_uri": "https://localhost:8080/",
          "height": 295
        },
        "id": "XKWSG7IiDyif",
        "outputId": "cd245bb9-14f7-4eb5-cee8-4f228c14d743"
      },
      "source": [
        "# Loss\r\n",
        "\r\n",
        "plot_loss(historyFinal2)"
      ],
      "execution_count": 121,
      "outputs": [
        {
          "output_type": "display_data",
          "data": {
            "image/png": "[encoded data removed]",
            "text/plain": [
              "<Figure size 432x288 with 1 Axes>"
            ]
          },
          "metadata": {
            "tags": [],
            "needs_background": "light"
          }
        }
      ]
    },
    {
      "cell_type": "markdown",
      "metadata": {
        "id": "9IAk-wN-tGJc"
      },
      "source": [
        "### Comparación de resultados"
      ]
    },
    {
      "cell_type": "markdown",
      "metadata": {
        "id": "oRJsEYap6Ik1"
      },
      "source": [
        "#### RNN base sin LDA vs LSTM MultiInput"
      ]
    },
    {
      "cell_type": "code",
      "metadata": {
        "colab": {
          "base_uri": "https://localhost:8080/",
          "height": 295
        },
        "id": "GC4lz8Ah6IKT",
        "outputId": "9f2d0c35-e7de-44b7-ccd9-5b8fa8d29b02"
      },
      "source": [
        "# Comparación - Accuracy (Base - LSTM multiple input)\r\n",
        "plot_compare_accs(history_base, historyFinal1, 'Base', 'LSTM_MultiInput', 'ACCURACY')"
      ],
      "execution_count": 107,
      "outputs": [
        {
          "output_type": "display_data",
          "data": {
            "image/png": "[encoded data removed]",
            "text/plain": [
              "<Figure size 432x288 with 1 Axes>"
            ]
          },
          "metadata": {
            "tags": [],
            "needs_background": "light"
          }
        }
      ]
    },
    {
      "cell_type": "code",
      "metadata": {
        "colab": {
          "base_uri": "https://localhost:8080/",
          "height": 295
        },
        "id": "DJ-uATHq6UJh",
        "outputId": "7b76480c-ca93-4c97-b47c-d90c1771ea7b"
      },
      "source": [
        "# Comparación - Loss (Base - LSTM multiple input)\r\n",
        "plot_compare_losses(history_base, historyFinal1, 'Base', 'LSTM_MultiInput', 'LOSS')"
      ],
      "execution_count": 108,
      "outputs": [
        {
          "output_type": "display_data",
          "data": {
            "image/png": "[encoded data removed]",
            "text/plain": [
              "<Figure size 432x288 with 1 Axes>"
            ]
          },
          "metadata": {
            "tags": [],
            "needs_background": "light"
          }
        }
      ]
    },
    {
      "cell_type": "code",
      "metadata": {
        "colab": {
          "base_uri": "https://localhost:8080/",
          "height": 295
        },
        "id": "LMn0Qu3c6k9o",
        "outputId": "5a46d79a-3238-4965-9e83-427d2979f15f"
      },
      "source": [
        "# Comparación - Accuracy (Base - LSTM multiple input)\r\n",
        "plot_compare_accs(history_base, history_RNN, 'Base sin LDA', 'Base con LDA', 'ACCURACY')"
      ],
      "execution_count": 109,
      "outputs": [
        {
          "output_type": "display_data",
          "data": {
            "image/png": "[encoded data removed]",
            "text/plain": [
              "<Figure size 432x288 with 1 Axes>"
            ]
          },
          "metadata": {
            "tags": [],
            "needs_background": "light"
          }
        }
      ]
    },
    {
      "cell_type": "code",
      "metadata": {
        "colab": {
          "base_uri": "https://localhost:8080/",
          "height": 295
        },
        "id": "IJG6G-TW6kyb",
        "outputId": "ea068726-86e4-40df-80c0-982857f45821"
      },
      "source": [
        "# Comparación - Loss (Base - LSTM multiple input)\r\n",
        "plot_compare_losses(history_base, history_RNN, 'Base sin LDA', 'Base con LDA', 'LOSS')"
      ],
      "execution_count": 110,
      "outputs": [
        {
          "output_type": "display_data",
          "data": {
            "image/png": "[encoded data removed]",
            "text/plain": [
              "<Figure size 432x288 with 1 Axes>"
            ]
          },
          "metadata": {
            "tags": [],
            "needs_background": "light"
          }
        }
      ]
    },
    {
      "cell_type": "markdown",
      "metadata": {
        "id": "MwJcNrn8umTH"
      },
      "source": [
        "#### RNN base vs LSTM MultiInput"
      ]
    },
    {
      "cell_type": "code",
      "metadata": {
        "colab": {
          "base_uri": "https://localhost:8080/",
          "height": 295
        },
        "id": "-jsQXQ07tXNN",
        "outputId": "5ee3c273-8ccc-4be2-b2d4-146a6e85e835"
      },
      "source": [
        "# Comparación - Accuracy (Base - LSTM multiple input)\r\n",
        "plot_compare_accs(history_RNN, historyFinal1, 'Base', 'LSTM_MultiInput', 'ACCURACY')"
      ],
      "execution_count": 88,
      "outputs": [
        {
          "output_type": "display_data",
          "data": {
            "image/png": "[encoded data removed]",
            "text/plain": [
              "<Figure size 432x288 with 1 Axes>"
            ]
          },
          "metadata": {
            "tags": [],
            "needs_background": "light"
          }
        }
      ]
    },
    {
      "cell_type": "code",
      "metadata": {
        "colab": {
          "base_uri": "https://localhost:8080/",
          "height": 295
        },
        "id": "MQFlFVECtyXe",
        "outputId": "21836fb9-89bf-4543-e121-c19c7777a76e"
      },
      "source": [
        "# Comparación - Loss (Base - LSTM multiple input)\r\n",
        "plot_compare_losses(history_RNN, historyFinal1, 'Base', 'LSTM_MultiInput', 'LOSS')"
      ],
      "execution_count": 89,
      "outputs": [
        {
          "output_type": "display_data",
          "data": {
            "image/png": "[encoded data removed]",
            "text/plain": [
              "<Figure size 432x288 with 1 Axes>"
            ]
          },
          "metadata": {
            "tags": [],
            "needs_background": "light"
          }
        }
      ]
    },
    {
      "cell_type": "markdown",
      "metadata": {
        "id": "HLlrv1MNuvIv"
      },
      "source": [
        "#### LSTM MultiInput sencilla vs LSTM MultiInput bidireccional"
      ]
    },
    {
      "cell_type": "code",
      "metadata": {
        "colab": {
          "base_uri": "https://localhost:8080/",
          "height": 295
        },
        "id": "JZ0JTWxetyTh",
        "outputId": "b23231e6-bd36-4e50-a987-367d8e5c2457"
      },
      "source": [
        "# Comparación - Accuracy (LSTM multiple input - Bidirectional LSTM multiple input)\r\n",
        "plot_compare_accs(historyFinal1, historyFinal2, 'LSTM', 'Bidirectional LSTM', 'ACCURACY')"
      ],
      "execution_count": 124,
      "outputs": [
        {
          "output_type": "display_data",
          "data": {
            "image/png": "[encoded data removed]",
            "text/plain": [
              "<Figure size 432x288 with 1 Axes>"
            ]
          },
          "metadata": {
            "tags": [],
            "needs_background": "light"
          }
        }
      ]
    },
    {
      "cell_type": "code",
      "metadata": {
        "colab": {
          "base_uri": "https://localhost:8080/",
          "height": 295
        },
        "id": "T3Dx59SAu3jV",
        "outputId": "e5801b25-b64c-4ba7-92f2-4403344c0330"
      },
      "source": [
        "# Comparación - Loss (LSTM multiple input - Bidirectional LSTM multiple input)\r\n",
        "plot_compare_losses(historyFinal1, historyFinal2, 'LSTM', 'Bidirectional LSTM', 'LOSS')"
      ],
      "execution_count": 125,
      "outputs": [
        {
          "output_type": "display_data",
          "data": {
            "image/png": "[encoded data removed]",
            "text/plain": [
              "<Figure size 432x288 with 1 Axes>"
            ]
          },
          "metadata": {
            "tags": [],
            "needs_background": "light"
          }
        }
      ]
    },
    {
      "cell_type": "markdown",
      "metadata": {
        "id": "dVz9Yq5NHksA"
      },
      "source": [
        "### Pruebas de predicción del modelo\r\n",
        "\r\n",
        "\r\n",
        "*   Los datos reservados para pruebas se encuentran en el dataframe \"datos_reserva\"\r\n",
        "\r\n"
      ]
    },
    {
      "cell_type": "code",
      "metadata": {
        "colab": {
          "base_uri": "https://localhost:8080/"
        },
        "id": "1iCQEi1MHpJN",
        "outputId": "03dc21d1-d1ee-4315-e4d1-bade9d91ac8e"
      },
      "source": [
        "# Prueba con textos de datos de reserva\r\n",
        "\r\n",
        "text1=datos_reserva[\"Text\"][11]\r\n",
        "text2=datos_reserva[\"Text\"][1]\r\n",
        "text3=datos_reserva[\"Text\"][55] \r\n",
        "\r\n",
        "print(\"Texto 1: \", text1)\r\n",
        "print(\"Categoria real: \",datos_reserva[\"label\"][11])\r\n",
        "\r\n",
        "print(\"Texto 2: \", text2)\r\n",
        "print(\"Categoria real: \",datos_reserva[\"label\"][1])\r\n",
        "\r\n",
        "print(\"Texto 3: \", text3)\r\n",
        "print(\"Categoria real: \",datos_reserva[\"label\"][55])"
      ],
      "execution_count": 202,
      "outputs": [
        {
          "output_type": "stream",
          "text": [
            "Texto 1:   MTN Uganda is giving out 122GB of data to customers for free in response to COVID-19.\n",
            "Categoria real:  False\n",
            "Texto 2:  Turmeric And Lemon Help Fight Against coronavirus.\n",
            "Categoria real:  False\n",
            "Texto 3:   What we need to do to defeat the coronavirus is to consume more alkaline foods above the virus’ pH level.\n",
            "Categoria real:  False\n"
          ],
          "name": "stdout"
        }
      ]
    },
    {
      "cell_type": "code",
      "metadata": {
        "id": "0y6AAg16IXY_"
      },
      "source": [
        "# Función para prueba de predicciones\r\n",
        "\r\n",
        "def news_alert(a, modelo_probar, tokenizer):\r\n",
        "    clf=modelo_probar\r\n",
        "    tok=tokenizer\r\n",
        "    # Tokenizacion\r\n",
        "    corpus_1=[]\r\n",
        "    corpus_1.append(a)\r\n",
        "    corpus_2=pd.Series(corpus_1)\r\n",
        "    sequences_reserva = tok.texts_to_sequences(corpus_2.values)\r\n",
        "    transform_vect_reserva= pad_sequences(sequences_reserva, maxlen=max_len)\r\n",
        "    prediccion=clf.predict(transform_vect_reserva)\r\n",
        "    prediccion_a = [np.array(prediccion)]\r\n",
        "    if prediccion > 0.5:\r\n",
        "      label= \"NO\"\r\n",
        "    else:\r\n",
        "      label = \"SI\"\r\n",
        "    alerta=[prediccion,label]\r\n",
        "    return alerta"
      ],
      "execution_count": 203,
      "outputs": []
    },
    {
      "cell_type": "code",
      "metadata": {
        "colab": {
          "base_uri": "https://localhost:8080/"
        },
        "id": "LlC6mKKrRAns",
        "outputId": "3299d1d8-f1be-47e8-9e64-e96efeb00983"
      },
      "source": [
        "n=22\r\n",
        "text1=datos_reserva[\"Text\"][n]\r\n",
        "clasificar_texto=text1\r\n",
        "resultado_prediccion=news_alert(clasificar_texto, model_base, tokenizer_base)\r\n",
        "\r\n",
        "print(\"Texto\", n,\":\", text1)\r\n",
        "print(\"Categoria real: \",datos_reserva[\"label\"][n])\r\n",
        "print(\" \")\r\n",
        "print(\"Predicción: \")\r\n",
        "print(\"Alerta de desinformación: \", resultado_prediccion[1]) \r\n",
        "print(\"Probabilidad asociada: \", resultado_prediccion[0][0])\r\n"
      ],
      "execution_count": 217,
      "outputs": [
        {
          "output_type": "stream",
          "text": [
            "Texto 22 : â€śBill Gates told us about the coronavirus in 2015.â€ť\n",
            "Categoria real:  True\n",
            " \n",
            "Predicción: \n",
            "Alerta de desinformación:  SI\n",
            "Probabilidad asociada:  [0.0141885]\n"
          ],
          "name": "stdout"
        }
      ]
    },
    {
      "cell_type": "code",
      "metadata": {
        "id": "w8nio2m-RAkE"
      },
      "source": [
        ""
      ],
      "execution_count": null,
      "outputs": []
    },
    {
      "cell_type": "code",
      "metadata": {
        "id": "o5Zp3cB1RAd8"
      },
      "source": [
        ""
      ],
      "execution_count": null,
      "outputs": []
    },
    {
      "cell_type": "code",
      "metadata": {
        "colab": {
          "base_uri": "https://localhost:8080/"
        },
        "id": "Z8NZ-taGIXUy",
        "outputId": "1470515c-f550-4b34-a1ed-6d85e18c12df"
      },
      "source": [
        "# Prueba Única\r\n",
        "\r\n",
        "test=text2\r\n",
        "  \r\n",
        "corpus_t=[]\r\n",
        "corpus_t.append(test)\r\n",
        "corpus_t=pd.Series(corpus_t)\r\n",
        "  \r\n",
        "  \r\n",
        "sequences_reserva = tokenizer.texts_to_sequences(corpus_t.values)\r\n",
        "transform_vect_reserva= pad_sequences(sequences_reserva, maxlen=max_len)\r\n",
        "\r\n",
        "transform_vect_reserva"
      ],
      "execution_count": 126,
      "outputs": [
        {
          "output_type": "execute_result",
          "data": {
            "text/plain": [
              "array([[   0,    0,    0,    0,    0,    0,    0,    0,    0,    0,    0,\n",
              "           0,    0,    0,    0,    0,    0,    0,    0,    0,    0,    0,\n",
              "           0,    0,    0,    0,    0,    0,    0,    0,    0,    0,    0,\n",
              "           0,    0,    0,    0,    0,    0,    0,    0,    0,    0,    0,\n",
              "           0,    0,    0,    0,    0,    0,    0,    0,    0,    0,    0,\n",
              "           0,    0,    0,    0,    0,    0,    0,    0,    0,    0,    0,\n",
              "           0,    0,    0,    0,    0,    0,    0,    0,    0,    0,    0,\n",
              "           0,    0,    0,    0,    0,    0,    0,    0,    0,    0,    0,\n",
              "           0,    0,    0,    0,    0,    0,    0,    0,    0,    0,    0,\n",
              "           0,    0,    0,    0,    0,    0,    0,    0,    0,    0,    0,\n",
              "           0,    0,    0,    0,    0,    0,    0,    0,    0,    0,    0,\n",
              "           0,    0,    0,    0,    0,    0,    0,    0,    0,    0,    0,\n",
              "           0,    0,    0,    0,    0,    0,    0,    0,    0,    0,    0,\n",
              "           0,    0,    0,    0,    0,    0,    0,    0,    0,    0,    0,\n",
              "           0,    0,    0,    0,    0,    0,    0,    0,    0,    0,    0,\n",
              "           0,    0,    0,    0,    0,    0,    0,    0,    0,    0,    0,\n",
              "           0,    0,    0,    0,    0,    0,    0,    0,    0,    0,    0,\n",
              "           0,    0,    0,    0,    0,    0,    0,    0,    0,    0,    0,\n",
              "           0,    0,    0,    0,    0,    0,    0,    0,    0,    0,    0,\n",
              "           0,    0,    0,    0,    0,    0,    0,    0,    0,    0,    0,\n",
              "           0,    0,    0,    0,    0,    0,    0,    0,    0,    0,    0,\n",
              "           0,    0,    0,    0,    0,    0,    0,    0,    0,    0,    0,\n",
              "           0,    0,    0,    0,    0,    0,    0,    0,    0,    0,    0,\n",
              "           0,    0,    0,    0,    0,    0,    0,    0,    0,    0,    0,\n",
              "           0,    0,    0,    0,    0,    0,    0,    0,    0,    0,    0,\n",
              "           0,    0,    0,    0,    0,    0,    0,    0,    0,    0,    0,\n",
              "           0,    0,    0,    0,    0,    0,    0, 9834,    6, 1707,  277,\n",
              "         627,  221,    7]], dtype=int32)"
            ]
          },
          "metadata": {
            "tags": []
          },
          "execution_count": 126
        }
      ]
    },
    {
      "cell_type": "code",
      "metadata": {
        "id": "l2E-UxN4M07N"
      },
      "source": [
        "prediccion222=model_base.predict(transform_vect_reserva)"
      ],
      "execution_count": 127,
      "outputs": []
    },
    {
      "cell_type": "code",
      "metadata": {
        "colab": {
          "base_uri": "https://localhost:8080/"
        },
        "id": "u53iKgBsNcAj",
        "outputId": "e6f41493-fa03-4afb-a41b-6c2476e2cee6"
      },
      "source": [
        "len(prediccion222[0])"
      ],
      "execution_count": 128,
      "outputs": [
        {
          "output_type": "execute_result",
          "data": {
            "text/plain": [
              "1"
            ]
          },
          "metadata": {
            "tags": []
          },
          "execution_count": 128
        }
      ]
    },
    {
      "cell_type": "code",
      "metadata": {
        "colab": {
          "base_uri": "https://localhost:8080/"
        },
        "id": "qfkQygRYNfxi",
        "outputId": "9cb970ec-9a67-4900-ac2f-f4ad13d4c328"
      },
      "source": [
        "prediccion222"
      ],
      "execution_count": 129,
      "outputs": [
        {
          "output_type": "execute_result",
          "data": {
            "text/plain": [
              "array([[0.00084391]], dtype=float32)"
            ]
          },
          "metadata": {
            "tags": []
          },
          "execution_count": 129
        }
      ]
    },
    {
      "cell_type": "code",
      "metadata": {
        "colab": {
          "base_uri": "https://localhost:8080/"
        },
        "id": "KJWaf6qzM02d",
        "outputId": "634bab4d-fd3f-42e6-ddcb-c2fc78a6759e"
      },
      "source": [
        "# Prueba con función\r\n",
        "\r\n",
        "clasificar_texto=text3\r\n",
        "print(clasificar_texto)\r\n",
        "\r\n",
        "print(\"Modelo Base\")\r\n",
        "print(news_alert(clasificar_texto, model_base))\r\n",
        "\r\n"
      ],
      "execution_count": 132,
      "outputs": [
        {
          "output_type": "stream",
          "text": [
            "â€śBill Gates told us about the coronavirus in 2015.â€ť\n",
            "Modelo Base\n",
            "[[0.9812044]]\n",
            "Alerta\n",
            "None\n"
          ],
          "name": "stdout"
        }
      ]
    },
    {
      "cell_type": "code",
      "metadata": {
        "colab": {
          "base_uri": "https://localhost:8080/",
          "height": 300
        },
        "id": "5M0bY6XkNquc",
        "outputId": "843f7ea7-2263-46bf-ccc3-c44bda57de2b"
      },
      "source": [
        "n=234\r\n",
        "\r\n",
        "text1=datos_trabajo[\"Text\"][n]\r\n",
        "\r\n",
        "print(\"Texto 1: \", text1)\r\n",
        "print(\"Categoria real: \",datos_trabajo[\"label\"][n])\r\n",
        "\r\n",
        "\r\n",
        "clasificar_texto=text1\r\n",
        "print(clasificar_texto)\r\n",
        "\r\n",
        "print(\"Modelo Base\")\r\n",
        "print(news_alert(clasificar_texto, model_base))\r\n",
        "\r\n",
        "\r\n"
      ],
      "execution_count": 186,
      "outputs": [
        {
          "output_type": "stream",
          "text": [
            "Texto 1:   Coronavirus-infected chicken has been found in Bengaluru, India.\n",
            "Categoria real:  False\n",
            " Coronavirus-infected chicken has been found in Bengaluru, India.\n",
            "Modelo Base\n"
          ],
          "name": "stdout"
        },
        {
          "output_type": "error",
          "ename": "TypeError",
          "evalue": "ignored",
          "traceback": [
            "\u001b[0;31m---------------------------------------------------------------------------\u001b[0m",
            "\u001b[0;31mTypeError\u001b[0m                                 Traceback (most recent call last)",
            "\u001b[0;32m<ipython-input-186-80855d50db7e>\u001b[0m in \u001b[0;36m<module>\u001b[0;34m()\u001b[0m\n\u001b[1;32m     11\u001b[0m \u001b[0;34m\u001b[0m\u001b[0m\n\u001b[1;32m     12\u001b[0m \u001b[0mprint\u001b[0m\u001b[0;34m(\u001b[0m\u001b[0;34m\"Modelo Base\"\u001b[0m\u001b[0;34m)\u001b[0m\u001b[0;34m\u001b[0m\u001b[0;34m\u001b[0m\u001b[0m\n\u001b[0;32m---> 13\u001b[0;31m \u001b[0mprint\u001b[0m\u001b[0;34m(\u001b[0m\u001b[0mnews_alert\u001b[0m\u001b[0;34m(\u001b[0m\u001b[0mclasificar_texto\u001b[0m\u001b[0;34m,\u001b[0m \u001b[0mmodel_base\u001b[0m\u001b[0;34m)\u001b[0m\u001b[0;34m)\u001b[0m\u001b[0;34m\u001b[0m\u001b[0;34m\u001b[0m\u001b[0m\n\u001b[0m\u001b[1;32m     14\u001b[0m \u001b[0;34m\u001b[0m\u001b[0m\n\u001b[1;32m     15\u001b[0m \u001b[0;34m\u001b[0m\u001b[0m\n",
            "\u001b[0;31mTypeError\u001b[0m: news_alert() missing 1 required positional argument: 'tokenizer'"
          ]
        }
      ]
    },
    {
      "cell_type": "markdown",
      "metadata": {
        "id": "oPPPUUI_TJjw"
      },
      "source": [
        "# Voy aquíiii"
      ]
    },
    {
      "cell_type": "markdown",
      "metadata": {
        "id": "8eN0sdFSTJb-"
      },
      "source": [
        ""
      ]
    },
    {
      "cell_type": "markdown",
      "metadata": {
        "id": "iD_FoQslTJMT"
      },
      "source": [
        ""
      ]
    },
    {
      "cell_type": "code",
      "metadata": {
        "id": "w3Ps2vYD2Y-6",
        "colab": {
          "base_uri": "https://localhost:8080/"
        },
        "outputId": "e714c634-d7f5-4c8a-8341-05c175c19f3e"
      },
      "source": [
        "X.shape"
      ],
      "execution_count": null,
      "outputs": [
        {
          "output_type": "execute_result",
          "data": {
            "text/plain": [
              "(6135, 300)"
            ]
          },
          "metadata": {
            "tags": []
          },
          "execution_count": 125
        }
      ]
    },
    {
      "cell_type": "code",
      "metadata": {
        "id": "FmuJYtn70sFS",
        "colab": {
          "base_uri": "https://localhost:8080/",
          "height": 388
        },
        "outputId": "a6da2353-b94b-498d-daa1-8332f3089f78"
      },
      "source": [
        "# Creación del modelo y compilación\n",
        "\n",
        "model_RNN2 = tf.keras.Sequential([\n",
        "    tf.keras.layers.Input(shape=(X.shape[1]), name='nlp_input'),\n",
        "    tf.keras.layers.Input(shape=(1,), name='meta_input'),\n",
        "    tf.keras.layers.Embedding(n_most_common_words, emb_dim, input_length=X.shape[1]),\n",
        "    tf.keras.layers.SpatialDropout1D(0.7),\n",
        "    tf.keras.layers.LSTM(64, dropout=0.7, recurrent_dropout=0.7),\n",
        "    tf.keras.layers.concatenate([nlp_out, meta_input]),\n",
        "    tf.keras.layers.Flatten(),\n",
        "    tf.keras.layers.Dropout(0.2),\n",
        "    tf.keras.layers.Dense(64, activation='relu'),\n",
        "    tf.keras.layers.Dense(1, activation='sigmoid')\n",
        "])\n",
        "model_RNN2.summary()\n",
        "\n",
        "# Compilación\n",
        "\n",
        "model_RNN2.compile(optimizer='adam', loss='binary_crossentropy', metrics=['acc'])"
      ],
      "execution_count": null,
      "outputs": [
        {
          "output_type": "error",
          "ename": "TypeError",
          "evalue": "ignored",
          "traceback": [
            "\u001b[0;31m---------------------------------------------------------------------------\u001b[0m",
            "\u001b[0;31mTypeError\u001b[0m                                 Traceback (most recent call last)",
            "\u001b[0;32m<ipython-input-126-9c817da07bd9>\u001b[0m in \u001b[0;36m<module>\u001b[0;34m()\u001b[0m\n\u001b[1;32m     11\u001b[0m     \u001b[0mtf\u001b[0m\u001b[0;34m.\u001b[0m\u001b[0mkeras\u001b[0m\u001b[0;34m.\u001b[0m\u001b[0mlayers\u001b[0m\u001b[0;34m.\u001b[0m\u001b[0mDropout\u001b[0m\u001b[0;34m(\u001b[0m\u001b[0;36m0.2\u001b[0m\u001b[0;34m)\u001b[0m\u001b[0;34m,\u001b[0m\u001b[0;34m\u001b[0m\u001b[0;34m\u001b[0m\u001b[0m\n\u001b[1;32m     12\u001b[0m     \u001b[0mtf\u001b[0m\u001b[0;34m.\u001b[0m\u001b[0mkeras\u001b[0m\u001b[0;34m.\u001b[0m\u001b[0mlayers\u001b[0m\u001b[0;34m.\u001b[0m\u001b[0mDense\u001b[0m\u001b[0;34m(\u001b[0m\u001b[0;36m64\u001b[0m\u001b[0;34m,\u001b[0m \u001b[0mactivation\u001b[0m\u001b[0;34m=\u001b[0m\u001b[0;34m'relu'\u001b[0m\u001b[0;34m)\u001b[0m\u001b[0;34m,\u001b[0m\u001b[0;34m\u001b[0m\u001b[0;34m\u001b[0m\u001b[0m\n\u001b[0;32m---> 13\u001b[0;31m     \u001b[0mtf\u001b[0m\u001b[0;34m.\u001b[0m\u001b[0mkeras\u001b[0m\u001b[0;34m.\u001b[0m\u001b[0mlayers\u001b[0m\u001b[0;34m.\u001b[0m\u001b[0mDense\u001b[0m\u001b[0;34m(\u001b[0m\u001b[0;36m1\u001b[0m\u001b[0;34m,\u001b[0m \u001b[0mactivation\u001b[0m\u001b[0;34m=\u001b[0m\u001b[0;34m'sigmoid'\u001b[0m\u001b[0;34m)\u001b[0m\u001b[0;34m\u001b[0m\u001b[0;34m\u001b[0m\u001b[0m\n\u001b[0m\u001b[1;32m     14\u001b[0m ])\n\u001b[1;32m     15\u001b[0m \u001b[0mmodel_RNN2\u001b[0m\u001b[0;34m.\u001b[0m\u001b[0msummary\u001b[0m\u001b[0;34m(\u001b[0m\u001b[0;34m)\u001b[0m\u001b[0;34m\u001b[0m\u001b[0;34m\u001b[0m\u001b[0m\n",
            "\u001b[0;32m/usr/local/lib/python3.6/dist-packages/tensorflow/python/training/tracking/base.py\u001b[0m in \u001b[0;36m_method_wrapper\u001b[0;34m(self, *args, **kwargs)\u001b[0m\n\u001b[1;32m    455\u001b[0m     \u001b[0mself\u001b[0m\u001b[0;34m.\u001b[0m\u001b[0m_self_setattr_tracking\u001b[0m \u001b[0;34m=\u001b[0m \u001b[0;32mFalse\u001b[0m  \u001b[0;31m# pylint: disable=protected-access\u001b[0m\u001b[0;34m\u001b[0m\u001b[0;34m\u001b[0m\u001b[0m\n\u001b[1;32m    456\u001b[0m     \u001b[0;32mtry\u001b[0m\u001b[0;34m:\u001b[0m\u001b[0;34m\u001b[0m\u001b[0;34m\u001b[0m\u001b[0m\n\u001b[0;32m--> 457\u001b[0;31m       \u001b[0mresult\u001b[0m \u001b[0;34m=\u001b[0m \u001b[0mmethod\u001b[0m\u001b[0;34m(\u001b[0m\u001b[0mself\u001b[0m\u001b[0;34m,\u001b[0m \u001b[0;34m*\u001b[0m\u001b[0margs\u001b[0m\u001b[0;34m,\u001b[0m \u001b[0;34m**\u001b[0m\u001b[0mkwargs\u001b[0m\u001b[0;34m)\u001b[0m\u001b[0;34m\u001b[0m\u001b[0;34m\u001b[0m\u001b[0m\n\u001b[0m\u001b[1;32m    458\u001b[0m     \u001b[0;32mfinally\u001b[0m\u001b[0;34m:\u001b[0m\u001b[0;34m\u001b[0m\u001b[0;34m\u001b[0m\u001b[0m\n\u001b[1;32m    459\u001b[0m       \u001b[0mself\u001b[0m\u001b[0;34m.\u001b[0m\u001b[0m_self_setattr_tracking\u001b[0m \u001b[0;34m=\u001b[0m \u001b[0mprevious_value\u001b[0m  \u001b[0;31m# pylint: disable=protected-access\u001b[0m\u001b[0;34m\u001b[0m\u001b[0;34m\u001b[0m\u001b[0m\n",
            "\u001b[0;32m/usr/local/lib/python3.6/dist-packages/tensorflow/python/keras/engine/sequential.py\u001b[0m in \u001b[0;36m__init__\u001b[0;34m(self, layers, name)\u001b[0m\n\u001b[1;32m    140\u001b[0m         \u001b[0mlayers\u001b[0m \u001b[0;34m=\u001b[0m \u001b[0;34m[\u001b[0m\u001b[0mlayers\u001b[0m\u001b[0;34m]\u001b[0m\u001b[0;34m\u001b[0m\u001b[0;34m\u001b[0m\u001b[0m\n\u001b[1;32m    141\u001b[0m       \u001b[0;32mfor\u001b[0m \u001b[0mlayer\u001b[0m \u001b[0;32min\u001b[0m \u001b[0mlayers\u001b[0m\u001b[0;34m:\u001b[0m\u001b[0;34m\u001b[0m\u001b[0;34m\u001b[0m\u001b[0m\n\u001b[0;32m--> 142\u001b[0;31m         \u001b[0mself\u001b[0m\u001b[0;34m.\u001b[0m\u001b[0madd\u001b[0m\u001b[0;34m(\u001b[0m\u001b[0mlayer\u001b[0m\u001b[0;34m)\u001b[0m\u001b[0;34m\u001b[0m\u001b[0;34m\u001b[0m\u001b[0m\n\u001b[0m\u001b[1;32m    143\u001b[0m \u001b[0;34m\u001b[0m\u001b[0m\n\u001b[1;32m    144\u001b[0m   \u001b[0;34m@\u001b[0m\u001b[0mproperty\u001b[0m\u001b[0;34m\u001b[0m\u001b[0;34m\u001b[0m\u001b[0m\n",
            "\u001b[0;32m/usr/local/lib/python3.6/dist-packages/tensorflow/python/training/tracking/base.py\u001b[0m in \u001b[0;36m_method_wrapper\u001b[0;34m(self, *args, **kwargs)\u001b[0m\n\u001b[1;32m    455\u001b[0m     \u001b[0mself\u001b[0m\u001b[0;34m.\u001b[0m\u001b[0m_self_setattr_tracking\u001b[0m \u001b[0;34m=\u001b[0m \u001b[0;32mFalse\u001b[0m  \u001b[0;31m# pylint: disable=protected-access\u001b[0m\u001b[0;34m\u001b[0m\u001b[0;34m\u001b[0m\u001b[0m\n\u001b[1;32m    456\u001b[0m     \u001b[0;32mtry\u001b[0m\u001b[0;34m:\u001b[0m\u001b[0;34m\u001b[0m\u001b[0;34m\u001b[0m\u001b[0m\n\u001b[0;32m--> 457\u001b[0;31m       \u001b[0mresult\u001b[0m \u001b[0;34m=\u001b[0m \u001b[0mmethod\u001b[0m\u001b[0;34m(\u001b[0m\u001b[0mself\u001b[0m\u001b[0;34m,\u001b[0m \u001b[0;34m*\u001b[0m\u001b[0margs\u001b[0m\u001b[0;34m,\u001b[0m \u001b[0;34m**\u001b[0m\u001b[0mkwargs\u001b[0m\u001b[0;34m)\u001b[0m\u001b[0;34m\u001b[0m\u001b[0;34m\u001b[0m\u001b[0m\n\u001b[0m\u001b[1;32m    458\u001b[0m     \u001b[0;32mfinally\u001b[0m\u001b[0;34m:\u001b[0m\u001b[0;34m\u001b[0m\u001b[0;34m\u001b[0m\u001b[0m\n\u001b[1;32m    459\u001b[0m       \u001b[0mself\u001b[0m\u001b[0;34m.\u001b[0m\u001b[0m_self_setattr_tracking\u001b[0m \u001b[0;34m=\u001b[0m \u001b[0mprevious_value\u001b[0m  \u001b[0;31m# pylint: disable=protected-access\u001b[0m\u001b[0;34m\u001b[0m\u001b[0;34m\u001b[0m\u001b[0m\n",
            "\u001b[0;32m/usr/local/lib/python3.6/dist-packages/tensorflow/python/keras/engine/sequential.py\u001b[0m in \u001b[0;36madd\u001b[0;34m(self, layer)\u001b[0m\n\u001b[1;32m    180\u001b[0m       raise TypeError('The added layer must be '\n\u001b[1;32m    181\u001b[0m                       \u001b[0;34m'an instance of class Layer. '\u001b[0m\u001b[0;34m\u001b[0m\u001b[0;34m\u001b[0m\u001b[0m\n\u001b[0;32m--> 182\u001b[0;31m                       'Found: ' + str(layer))\n\u001b[0m\u001b[1;32m    183\u001b[0m \u001b[0;34m\u001b[0m\u001b[0m\n\u001b[1;32m    184\u001b[0m     \u001b[0mtf_utils\u001b[0m\u001b[0;34m.\u001b[0m\u001b[0massert_no_legacy_layers\u001b[0m\u001b[0;34m(\u001b[0m\u001b[0;34m[\u001b[0m\u001b[0mlayer\u001b[0m\u001b[0;34m]\u001b[0m\u001b[0;34m)\u001b[0m\u001b[0;34m\u001b[0m\u001b[0;34m\u001b[0m\u001b[0m\n",
            "\u001b[0;31mTypeError\u001b[0m: The added layer must be an instance of class Layer. Found: Tensor(\"concatenate_4/concat:0\", shape=(None, 130), dtype=float32)"
          ]
        }
      ]
    },
    {
      "cell_type": "code",
      "metadata": {
        "id": "7vOCxPo_0sBX"
      },
      "source": [
        ""
      ],
      "execution_count": null,
      "outputs": []
    },
    {
      "cell_type": "code",
      "metadata": {
        "id": "Md3AgT1Nu6rz"
      },
      "source": [
        ""
      ],
      "execution_count": null,
      "outputs": []
    },
    {
      "cell_type": "code",
      "metadata": {
        "id": "QsQ46Vn76I-a"
      },
      "source": [
        "emb_dim"
      ],
      "execution_count": null,
      "outputs": []
    },
    {
      "cell_type": "code",
      "metadata": {
        "id": "ODPgWe0RsiAP"
      },
      "source": [
        "# Creación del modelo y compilación\n",
        "\n",
        "nlp_input = Input(shape=(seq_length,), name='nlp_input')\n",
        "meta_input = Input(shape=(10,), name='meta_input')\n",
        "\n",
        "\n",
        "\n",
        "model_RNN2 = tf.keras.Sequential([\n",
        "    tf.keras.layers.Embedding(n_most_common_words, emb_dim, input_length=X.shape[1]),\n",
        "    tf.keras.layers.SpatialDropout1D(0.7),\n",
        "    tf.keras.layers.LSTM(64, dropout=0.7, recurrent_dropout=0.7),\n",
        "    tf.keras.layers.Flatten(),\n",
        "    tf.keras.layers.Dropout(0.2),\n",
        "    tf.keras.layers.Dense(64, activation='relu'),\n",
        "    tf.keras.layers.Dense(1, activation='sigmoid')\n",
        "])\n",
        "model_RNN.summary()\n",
        "\n",
        "# Compilación\n",
        "\n",
        "model_RNN2.compile(optimizer='adam', loss='binary_crossentropy', metrics=['acc'])"
      ],
      "execution_count": null,
      "outputs": []
    },
    {
      "cell_type": "code",
      "metadata": {
        "id": "bKdyWSdhsqkH"
      },
      "source": [
        "# entrenamiento\n",
        "\n",
        "history_RNN2 = model_RNN2.fit(x_train, y_train, epochs=epochs, batch_size=batch_size,validation_split=0.2,callbacks=[EarlyStopping(monitor='val_loss',patience=7, min_delta=0.0001)])"
      ],
      "execution_count": null,
      "outputs": []
    },
    {
      "cell_type": "code",
      "metadata": {
        "id": "jtK3UiBpsroj"
      },
      "source": [
        "# Resultados\n",
        "\n",
        "# Accuracy\n",
        "plot_acc(history_RNN2)"
      ],
      "execution_count": null,
      "outputs": []
    },
    {
      "cell_type": "code",
      "metadata": {
        "id": "dTWuyPoKsu0_"
      },
      "source": [
        "# Loss\n",
        "\n",
        "plot_loss(history_RNN2)"
      ],
      "execution_count": null,
      "outputs": []
    }
  ]
}