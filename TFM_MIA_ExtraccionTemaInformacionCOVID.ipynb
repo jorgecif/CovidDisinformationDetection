{
  "nbformat": 4,
  "nbformat_minor": 0,
  "metadata": {
    "colab": {
      "name": "TFM_MIA_ExtraccionTemaInformacionCOVID",
      "provenance": [],
      "authorship_tag": "ABX9TyM9mJLPa2UQmA+9530UmnXO",
      "include_colab_link": true
    },
    "kernelspec": {
      "name": "python3",
      "display_name": "Python 3"
    }
  },
  "cells": [
    {
      "cell_type": "markdown",
      "metadata": {
        "id": "view-in-github",
        "colab_type": "text"
      },
      "source": [
        "<a href=\"https://colab.research.google.com/github/jorgecif/CovidMisinformationDetection/blob/main/TFM_MIA_ExtraccionTemaInformacionCOVID.ipynb\" target=\"_parent\"><img src=\"https://colab.research.google.com/assets/colab-badge.svg\" alt=\"Open In Colab\"/></a>"
      ]
    },
    {
      "cell_type": "markdown",
      "metadata": {
        "id": "6f_yS6Lc0sZh"
      },
      "source": [
        "# **Extración de temáticas de información relacionada con el COVID19** - Comparación de modelos de aprendizaje automático y aprendizaje profundo\n",
        "\n",
        "\n",
        "> Por: Jorge Orlando Cifuentes Cifuentes"
      ]
    },
    {
      "cell_type": "markdown",
      "metadata": {
        "id": "VfdtHYHA1wTE"
      },
      "source": [
        "### Librerías"
      ]
    },
    {
      "cell_type": "code",
      "metadata": {
        "colab": {
          "base_uri": "https://localhost:8080/"
        },
        "id": "oqMfnQPO1jDH",
        "outputId": "91a8791d-5c45-457b-e263-d4bcf6f47257"
      },
      "source": [
        "# Generales\n",
        "import warnings\n",
        "warnings.filterwarnings('ignore')\n",
        "import pandas as pd\n",
        "import numpy as np\n",
        "\n",
        "# Procesamiento de lenguaje natural\n",
        "import gensim\n",
        "from gensim.utils import simple_preprocess\n",
        "from gensim.parsing.preprocessing import STOPWORDS\n",
        "from nltk.stem import WordNetLemmatizer, SnowballStemmer\n",
        "from nltk.stem.porter import *\n",
        "np.random.seed(88)\n",
        "import nltk\n",
        "nltk.download('wordnet')\n",
        "from sklearn.model_selection import train_test_split\n",
        "\n",
        "\n",
        "# Gráficas\n",
        "import matplotlib.pyplot as plt\n",
        "import seaborn as sns\n",
        "\n"
      ],
      "execution_count": 107,
      "outputs": [
        {
          "output_type": "stream",
          "text": [
            "[nltk_data] Downloading package wordnet to /root/nltk_data...\n",
            "[nltk_data]   Package wordnet is already up-to-date!\n"
          ],
          "name": "stdout"
        }
      ]
    },
    {
      "cell_type": "markdown",
      "metadata": {
        "id": "ukPIkts91kxA"
      },
      "source": [
        "### Carga de datos"
      ]
    },
    {
      "cell_type": "code",
      "metadata": {
        "colab": {
          "base_uri": "https://localhost:8080/",
          "height": 419
        },
        "id": "wloEBaLz1jA0",
        "outputId": "b1f24d41-49aa-4551-cb22-68006b2ecd42"
      },
      "source": [
        "# Carga de datos\n",
        "url_datos = 'https://github.com/jorgecif/CovidMisinformationDetection/blob/main/data/CovidHeadlinesDataset.xlsx?raw=true' # 1000 datos por categoría\n",
        "\n",
        "datos = pd.read_excel(url_datos)\n",
        "\n",
        "print(\"Se han cargado \", datos.shape[0], \" noticias\")\n",
        "\n",
        "# Muestra de los datos\n",
        "print(len(datos))\n",
        "datos.head()\n"
      ],
      "execution_count": 108,
      "outputs": [
        {
          "output_type": "stream",
          "text": [
            "Se han cargado  21721  noticias\n",
            "21721\n"
          ],
          "name": "stdout"
        },
        {
          "output_type": "execute_result",
          "data": {
            "text/html": [
              "<div>\n",
              "<style scoped>\n",
              "    .dataframe tbody tr th:only-of-type {\n",
              "        vertical-align: middle;\n",
              "    }\n",
              "\n",
              "    .dataframe tbody tr th {\n",
              "        vertical-align: top;\n",
              "    }\n",
              "\n",
              "    .dataframe thead th {\n",
              "        text-align: right;\n",
              "    }\n",
              "</style>\n",
              "<table border=\"1\" class=\"dataframe\">\n",
              "  <thead>\n",
              "    <tr style=\"text-align: right;\">\n",
              "      <th></th>\n",
              "      <th>Text</th>\n",
              "      <th>country</th>\n",
              "      <th>lang</th>\n",
              "      <th>label</th>\n",
              "      <th>URL</th>\n",
              "      <th>date</th>\n",
              "      <th>verificado_por</th>\n",
              "    </tr>\n",
              "  </thead>\n",
              "  <tbody>\n",
              "    <tr>\n",
              "      <th>0</th>\n",
              "      <td>Britain’s Death Toll from the Coronavirus Riva...</td>\n",
              "      <td>United Kingdom</td>\n",
              "      <td>English</td>\n",
              "      <td>True</td>\n",
              "      <td>https://www.snopes.com/ap/2020/05/05/britains-...</td>\n",
              "      <td>2020-02-02 00:00:00</td>\n",
              "      <td>snopes</td>\n",
              "    </tr>\n",
              "    <tr>\n",
              "      <th>1</th>\n",
              "      <td>Timeline Reset: CDC Confirms Weeks-Earlier Cal...</td>\n",
              "      <td>United States</td>\n",
              "      <td>English</td>\n",
              "      <td>True</td>\n",
              "      <td>https://www.snopes.com/ap/2020/04/22/timeline-...</td>\n",
              "      <td>2020-06-03 00:00:00</td>\n",
              "      <td>snopes</td>\n",
              "    </tr>\n",
              "    <tr>\n",
              "      <th>2</th>\n",
              "      <td>Dentists, Hair Salons, Beaches: Lockdowns Ease...</td>\n",
              "      <td>United States</td>\n",
              "      <td>English</td>\n",
              "      <td>True</td>\n",
              "      <td>https://www.snopes.com/ap/2020/04/20/dentists-...</td>\n",
              "      <td>2020-08-03 00:00:00</td>\n",
              "      <td>snopes</td>\n",
              "    </tr>\n",
              "    <tr>\n",
              "      <th>3</th>\n",
              "      <td>33 Million Have Sought US Unemployment Aid Sin...</td>\n",
              "      <td>United States</td>\n",
              "      <td>English</td>\n",
              "      <td>True</td>\n",
              "      <td>https://www.snopes.com/ap/2020/05/07/33-millio...</td>\n",
              "      <td>2020-09-03 00:00:00</td>\n",
              "      <td>snopes</td>\n",
              "    </tr>\n",
              "    <tr>\n",
              "      <th>4</th>\n",
              "      <td>United States ‘Wasted’ Months Before Preparing...</td>\n",
              "      <td>United States</td>\n",
              "      <td>English</td>\n",
              "      <td>True</td>\n",
              "      <td>https://www.snopes.com/ap/2020/04/05/u-s-waste...</td>\n",
              "      <td>2020-03-04 00:00:00</td>\n",
              "      <td>snopes</td>\n",
              "    </tr>\n",
              "  </tbody>\n",
              "</table>\n",
              "</div>"
            ],
            "text/plain": [
              "                                                Text  ... verificado_por\n",
              "0  Britain’s Death Toll from the Coronavirus Riva...  ...         snopes\n",
              "1  Timeline Reset: CDC Confirms Weeks-Earlier Cal...  ...         snopes\n",
              "2  Dentists, Hair Salons, Beaches: Lockdowns Ease...  ...         snopes\n",
              "3  33 Million Have Sought US Unemployment Aid Sin...  ...         snopes\n",
              "4  United States ‘Wasted’ Months Before Preparing...  ...         snopes\n",
              "\n",
              "[5 rows x 7 columns]"
            ]
          },
          "metadata": {
            "tags": []
          },
          "execution_count": 108
        }
      ]
    },
    {
      "cell_type": "markdown",
      "metadata": {
        "id": "n5m2exS3Av4W"
      },
      "source": [
        "### Creación de conjuntos de datos"
      ]
    },
    {
      "cell_type": "code",
      "metadata": {
        "colab": {
          "base_uri": "https://localhost:8080/"
        },
        "id": "rNkehkPoAyQV",
        "outputId": "ddd167a5-5575-4998-8313-8c75f50ca708"
      },
      "source": [
        "# Reservo unos datos para pruebas finales (datos que no se tocan)\n",
        "\n",
        "datos_trabajo,datos_reserva = train_test_split(datos, test_size=0.1, random_state=88 )\n",
        "datos_trabajo=datos_trabajo.reset_index()\n",
        "datos_trabajo=datos_trabajo.drop([\"index\"], axis=1)\n",
        "\n",
        "datos_reserva=datos_reserva.reset_index()\n",
        "datos_reserva=datos_reserva.drop([\"index\"], axis=1)\n",
        "\n",
        "print(\"Datos para trabajar: \", len(datos_trabajo))\n",
        "print(\"Datos reservados para pruebas finales \", len(datos_reserva))"
      ],
      "execution_count": 109,
      "outputs": [
        {
          "output_type": "stream",
          "text": [
            "Datos para trabajar:  19548\n",
            "Datos reservados para pruebas finales  2173\n"
          ],
          "name": "stdout"
        }
      ]
    },
    {
      "cell_type": "markdown",
      "metadata": {
        "id": "custBOgQNICz"
      },
      "source": [
        "### Creació de lista de documentos"
      ]
    },
    {
      "cell_type": "code",
      "metadata": {
        "id": "zEULdvDF6A2K"
      },
      "source": [
        "# Creo lista con documentos a procesar\n",
        "headlines=datos_trabajo[\"Text\"]\n",
        "docs_train=headlines.values.tolist()\n",
        "\n",
        "headlines=datos_reserva[\"Text\"]\n",
        "docs_test=headlines.values.tolist()\n"
      ],
      "execution_count": 110,
      "outputs": []
    },
    {
      "cell_type": "code",
      "metadata": {
        "colab": {
          "base_uri": "https://localhost:8080/",
          "height": 615
        },
        "id": "7AdbzkA-571p",
        "outputId": "8992f3e3-d786-469d-a617-1fe9005209c3"
      },
      "source": [
        "# Tallador de los textos\n",
        "stemmer = SnowballStemmer(\"english\")\n",
        "original_words = ['caresses', 'flies', 'dies', 'mules', 'denied','died', 'agreed', 'owned', \n",
        "           'humbled', 'sized','meeting', 'stating', 'siezing', 'itemization','sensational', \n",
        "           'traditional', 'reference', 'colonizer','plotted']\n",
        "singles = [stemmer.stem(plural) for plural in original_words]\n",
        "\n",
        "pd.DataFrame(data={'original word':original_words, 'stemmed':singles })"
      ],
      "execution_count": 111,
      "outputs": [
        {
          "output_type": "execute_result",
          "data": {
            "text/html": [
              "<div>\n",
              "<style scoped>\n",
              "    .dataframe tbody tr th:only-of-type {\n",
              "        vertical-align: middle;\n",
              "    }\n",
              "\n",
              "    .dataframe tbody tr th {\n",
              "        vertical-align: top;\n",
              "    }\n",
              "\n",
              "    .dataframe thead th {\n",
              "        text-align: right;\n",
              "    }\n",
              "</style>\n",
              "<table border=\"1\" class=\"dataframe\">\n",
              "  <thead>\n",
              "    <tr style=\"text-align: right;\">\n",
              "      <th></th>\n",
              "      <th>original word</th>\n",
              "      <th>stemmed</th>\n",
              "    </tr>\n",
              "  </thead>\n",
              "  <tbody>\n",
              "    <tr>\n",
              "      <th>0</th>\n",
              "      <td>caresses</td>\n",
              "      <td>caress</td>\n",
              "    </tr>\n",
              "    <tr>\n",
              "      <th>1</th>\n",
              "      <td>flies</td>\n",
              "      <td>fli</td>\n",
              "    </tr>\n",
              "    <tr>\n",
              "      <th>2</th>\n",
              "      <td>dies</td>\n",
              "      <td>die</td>\n",
              "    </tr>\n",
              "    <tr>\n",
              "      <th>3</th>\n",
              "      <td>mules</td>\n",
              "      <td>mule</td>\n",
              "    </tr>\n",
              "    <tr>\n",
              "      <th>4</th>\n",
              "      <td>denied</td>\n",
              "      <td>deni</td>\n",
              "    </tr>\n",
              "    <tr>\n",
              "      <th>5</th>\n",
              "      <td>died</td>\n",
              "      <td>die</td>\n",
              "    </tr>\n",
              "    <tr>\n",
              "      <th>6</th>\n",
              "      <td>agreed</td>\n",
              "      <td>agre</td>\n",
              "    </tr>\n",
              "    <tr>\n",
              "      <th>7</th>\n",
              "      <td>owned</td>\n",
              "      <td>own</td>\n",
              "    </tr>\n",
              "    <tr>\n",
              "      <th>8</th>\n",
              "      <td>humbled</td>\n",
              "      <td>humbl</td>\n",
              "    </tr>\n",
              "    <tr>\n",
              "      <th>9</th>\n",
              "      <td>sized</td>\n",
              "      <td>size</td>\n",
              "    </tr>\n",
              "    <tr>\n",
              "      <th>10</th>\n",
              "      <td>meeting</td>\n",
              "      <td>meet</td>\n",
              "    </tr>\n",
              "    <tr>\n",
              "      <th>11</th>\n",
              "      <td>stating</td>\n",
              "      <td>state</td>\n",
              "    </tr>\n",
              "    <tr>\n",
              "      <th>12</th>\n",
              "      <td>siezing</td>\n",
              "      <td>siez</td>\n",
              "    </tr>\n",
              "    <tr>\n",
              "      <th>13</th>\n",
              "      <td>itemization</td>\n",
              "      <td>item</td>\n",
              "    </tr>\n",
              "    <tr>\n",
              "      <th>14</th>\n",
              "      <td>sensational</td>\n",
              "      <td>sensat</td>\n",
              "    </tr>\n",
              "    <tr>\n",
              "      <th>15</th>\n",
              "      <td>traditional</td>\n",
              "      <td>tradit</td>\n",
              "    </tr>\n",
              "    <tr>\n",
              "      <th>16</th>\n",
              "      <td>reference</td>\n",
              "      <td>refer</td>\n",
              "    </tr>\n",
              "    <tr>\n",
              "      <th>17</th>\n",
              "      <td>colonizer</td>\n",
              "      <td>colon</td>\n",
              "    </tr>\n",
              "    <tr>\n",
              "      <th>18</th>\n",
              "      <td>plotted</td>\n",
              "      <td>plot</td>\n",
              "    </tr>\n",
              "  </tbody>\n",
              "</table>\n",
              "</div>"
            ],
            "text/plain": [
              "   original word stemmed\n",
              "0       caresses  caress\n",
              "1          flies     fli\n",
              "2           dies     die\n",
              "3          mules    mule\n",
              "4         denied    deni\n",
              "5           died     die\n",
              "6         agreed    agre\n",
              "7          owned     own\n",
              "8        humbled   humbl\n",
              "9          sized    size\n",
              "10       meeting    meet\n",
              "11       stating   state\n",
              "12       siezing    siez\n",
              "13   itemization    item\n",
              "14   sensational  sensat\n",
              "15   traditional  tradit\n",
              "16     reference   refer\n",
              "17     colonizer   colon\n",
              "18       plotted    plot"
            ]
          },
          "metadata": {
            "tags": []
          },
          "execution_count": 111
        }
      ]
    },
    {
      "cell_type": "code",
      "metadata": {
        "id": "4SfJ0RnH6rlT"
      },
      "source": [
        "# Preprocesamiento\n",
        "\n",
        "def lemmatize_stemming(text):\n",
        "    return stemmer.stem(WordNetLemmatizer().lemmatize(text, pos='v'))\n",
        "# Tokenize and lemmatize\n",
        "def preprocess(text):\n",
        "    result=[]\n",
        "    for token in gensim.utils.simple_preprocess(text) :\n",
        "        if token not in gensim.parsing.preprocessing.STOPWORDS and len(token) > 3:\n",
        "            result.append(lemmatize_stemming(token))\n",
        "            \n",
        "    return result\n"
      ],
      "execution_count": 112,
      "outputs": []
    },
    {
      "cell_type": "code",
      "metadata": {
        "colab": {
          "base_uri": "https://localhost:8080/"
        },
        "id": "qupek0mV6-da",
        "outputId": "efd0fe46-d8b9-4100-e2cc-4087b3bc7374"
      },
      "source": [
        "# Ejemplo\n",
        "\n",
        "document_num = 50\n",
        "doc_sample = 'This disk has failed many times. I would like to get it replaced.'\n",
        "\n",
        "print(\"Original document: \")\n",
        "words = []\n",
        "for word in doc_sample.split(' '):\n",
        "    words.append(word)\n",
        "print(words)\n",
        "print(\"\\n\\nTokenized and lemmatized document: \")\n",
        "print(preprocess(doc_sample))"
      ],
      "execution_count": 113,
      "outputs": [
        {
          "output_type": "stream",
          "text": [
            "Original document: \n",
            "['This', 'disk', 'has', 'failed', 'many', 'times.', 'I', 'would', 'like', 'to', 'get', 'it', 'replaced.']\n",
            "\n",
            "\n",
            "Tokenized and lemmatized document: \n",
            "['disk', 'fail', 'time', 'like', 'replac']\n"
          ],
          "name": "stdout"
        }
      ]
    },
    {
      "cell_type": "code",
      "metadata": {
        "id": "B5W7blyj7dYE"
      },
      "source": [
        "# Preprocesamiento\n",
        "\n",
        "processed_docs = []\n",
        "\n",
        "for doc in docs_train:\n",
        "    processed_docs.append(preprocess(doc))"
      ],
      "execution_count": 114,
      "outputs": []
    },
    {
      "cell_type": "code",
      "metadata": {
        "colab": {
          "base_uri": "https://localhost:8080/"
        },
        "id": "rZ0dMmv97gah",
        "outputId": "b8c9035f-3f30-46c5-c248-59c5c2ad738a"
      },
      "source": [
        "# Imprimo documentos procesados\n",
        "\n",
        "print(processed_docs[:2])"
      ],
      "execution_count": 115,
      "outputs": [
        {
          "output_type": "stream",
          "text": [
            "[['woman', 'uttar', 'pradesh', 'throw', 'children', 'river', 'food', 'current', 'lockdown'], ['chart', 'show', 'current', 'case', 'turkey']]\n"
          ],
          "name": "stdout"
        }
      ]
    },
    {
      "cell_type": "markdown",
      "metadata": {
        "id": "TR1T_wpI9rmM"
      },
      "source": [
        "### Bolsa de palabras"
      ]
    },
    {
      "cell_type": "code",
      "metadata": {
        "id": "eCB-nVSA9t1Y"
      },
      "source": [
        "# Creo diccionario con GenSim\n",
        "dictionary = gensim.corpora.Dictionary(processed_docs)\n"
      ],
      "execution_count": 116,
      "outputs": []
    },
    {
      "cell_type": "code",
      "metadata": {
        "colab": {
          "base_uri": "https://localhost:8080/"
        },
        "id": "Uy8qtyR398jf",
        "outputId": "14f98482-607d-4af3-f7f4-0040e65ab8cd"
      },
      "source": [
        "# Creo diccionario\n",
        "\n",
        "count = 0\n",
        "for k, v in dictionary.iteritems():\n",
        "    print(k, v)\n",
        "    count += 1\n",
        "    if count > 10:\n",
        "        break\n"
      ],
      "execution_count": 117,
      "outputs": [
        {
          "output_type": "stream",
          "text": [
            "0 children\n",
            "1 current\n",
            "2 food\n",
            "3 lockdown\n",
            "4 pradesh\n",
            "5 river\n",
            "6 throw\n",
            "7 uttar\n",
            "8 woman\n",
            "9 case\n",
            "10 chart\n"
          ],
          "name": "stdout"
        }
      ]
    },
    {
      "cell_type": "code",
      "metadata": {
        "id": "fLwHbpR8-MJ0"
      },
      "source": [
        "# Remover palabras poco comunes\n",
        "\n",
        "dictionary.filter_extremes(no_below=15, no_above=0.1, keep_n= 100000)"
      ],
      "execution_count": 118,
      "outputs": []
    },
    {
      "cell_type": "code",
      "metadata": {
        "id": "taHKAuRf-Oeg"
      },
      "source": [
        "bow_corpus = [dictionary.doc2bow(doc) for doc in processed_docs]\n"
      ],
      "execution_count": 119,
      "outputs": []
    },
    {
      "cell_type": "code",
      "metadata": {
        "colab": {
          "base_uri": "https://localhost:8080/"
        },
        "id": "zOm2UHQd-W2y",
        "outputId": "a61a7e04-3feb-43cf-bcd8-cc3c60f1b7af"
      },
      "source": [
        "document_num = 4\n",
        "bow_doc_x = bow_corpus[document_num]\n",
        "\n",
        "for i in range(len(bow_doc_x)):\n",
        "    print(\"Word {} (\\\"{}\\\") appears {} time.\".format(bow_doc_x[i][0], \n",
        "                                                     dictionary[bow_doc_x[i][0]], \n",
        "                                                     bow_doc_x[i][1]))"
      ],
      "execution_count": 120,
      "outputs": [
        {
          "output_type": "stream",
          "text": [
            "Word 22 (\"outbreak\") appears 1 time.\n",
            "Word 23 (\"report\") appears 1 time.\n"
          ],
          "name": "stdout"
        }
      ]
    },
    {
      "cell_type": "markdown",
      "metadata": {
        "id": "ylDwDT6Q-jCN"
      },
      "source": [
        "### Corro LDA usando la bolsa de palabras"
      ]
    },
    {
      "cell_type": "code",
      "metadata": {
        "id": "GLljquqb-oh7"
      },
      "source": [
        "# Entrenamiento\n",
        "lda_model =  gensim.models.LdaMulticore(bow_corpus, \n",
        "                                   num_topics = 5, \n",
        "                                   id2word = dictionary,                                    \n",
        "                                   passes = 10,\n",
        "                                   workers = 2)"
      ],
      "execution_count": 121,
      "outputs": []
    },
    {
      "cell_type": "code",
      "metadata": {
        "colab": {
          "base_uri": "https://localhost:8080/"
        },
        "id": "jGydAzf1-tb6",
        "outputId": "0f88a0b3-b345-46e4-f6af-38e707d2907d"
      },
      "source": [
        "# Muestro los temas creados\n",
        "\n",
        "for idx, topic in lda_model.print_topics(-1):\n",
        "    print(\"Topic: {} \\nWords: {}\".format(idx, topic ))\n",
        "    print(\"\\n\")"
      ],
      "execution_count": 122,
      "outputs": [
        {
          "output_type": "stream",
          "text": [
            "Topic: 0 \n",
            "Words: 0.018*\"china\" + 0.013*\"time\" + 0.013*\"australia\" + 0.011*\"video\" + 0.010*\"window\" + 0.010*\"set\" + 0.009*\"public\" + 0.007*\"virus\" + 0.007*\"current\" + 0.007*\"play\"\n",
            "\n",
            "\n",
            "Topic: 1 \n",
            "Words: 0.024*\"claim\" + 0.023*\"video\" + 0.020*\"show\" + 0.016*\"post\" + 0.013*\"facebook\" + 0.013*\"novel\" + 0.011*\"share\" + 0.011*\"lockdown\" + 0.011*\"cure\" + 0.011*\"india\"\n",
            "\n",
            "\n",
            "Topic: 2 \n",
            "Words: 0.018*\"virus\" + 0.015*\"china\" + 0.012*\"test\" + 0.011*\"hospit\" + 0.009*\"australia\" + 0.008*\"pictur\" + 0.007*\"patient\" + 0.007*\"travel\" + 0.006*\"mask\" + 0.006*\"symptom\"\n",
            "\n",
            "\n",
            "Topic: 3 \n",
            "Words: 0.019*\"death\" + 0.018*\"report\" + 0.017*\"countri\" + 0.012*\"vaccin\" + 0.012*\"govern\" + 0.012*\"number\" + 0.010*\"wednesday\" + 0.010*\"friday\" + 0.010*\"thursday\" + 0.009*\"monday\"\n",
            "\n",
            "\n",
            "Topic: 4 \n",
            "Words: 0.033*\"trump\" + 0.026*\"toilet\" + 0.025*\"paper\" + 0.023*\"work\" + 0.022*\"order\" + 0.021*\"administr\" + 0.020*\"resid\" + 0.020*\"rule\" + 0.019*\"prove\" + 0.019*\"requir\"\n",
            "\n",
            "\n"
          ],
          "name": "stdout"
        }
      ]
    },
    {
      "cell_type": "markdown",
      "metadata": {
        "id": "K1I7qiZFAaim"
      },
      "source": [
        "### Prueba de clasificación"
      ]
    },
    {
      "cell_type": "code",
      "metadata": {
        "colab": {
          "base_uri": "https://localhost:8080/"
        },
        "id": "s0crAwRXAe1p",
        "outputId": "9fb0a8ed-d236-4a62-bf91-892cdd7c0912"
      },
      "source": [
        "num = 33\n",
        "unseen_document = docs_test[num]\n",
        "print(unseen_document)"
      ],
      "execution_count": 123,
      "outputs": [
        {
          "output_type": "stream",
          "text": [
            "Four Australian coronavirus cases confirmedSign up now: Special subscription offer – just $1 for first 28 daysFour South Australians are being tested for the deadly coronavirus. The outbreak started in China, where dozens of people have died and 36 million people are now in lockdown. Four cases have now been confirmed in Australia – one in Victoria and three in New South Wales.The state Health Department is managing four cases but Communicable Disease Control Branch director Louise Flood said the likelihood the patients are actually infected was “low”.Definitive results may not be available for several days.media_cameraPeople wearing masks due to coronavirus walk out of Customs after arriving in Australia from Shanghai. Picture: Chris Pavlich“This afternoon SA public health clinicians, department officials and the Minister for Health and Wellbeing Stephen Wade took part in a national teleconference with Commonwealth and state ministers and officials on the novel coronavirus response,” she said.MORE IN news‘Disabled just as entitled to sex worker’s services’premium_icon‘Disabled just as entitled to sex worker’s services’SA set for two budget blowouts of more than $1 billion – eachpremium_iconSA set for two budget blowouts of more than $1 billion – each\n",
            "\n",
            "“For precaution, four people in South Australia are being tested for coronavirus – but the likelihood they have the condition is low.“All required information on any SA links to confirmed interstate cases of coronavirus will be provided to SA Health to ensure immediate follow up and any further public health measures.“We continue to work closely with the Commonwealth Department of Health and Health Departments in all jurisdictions to maintain a close watch on the situation.”Video Player is loading.Play VideoPlayUP NEXTMuteLoaded: 0%Stream Type LIVERemaining Time -2:51Current Time 0:00/Duration 2:51Video AutoplayLog inPremium FeatureSwitching off the video autoplay is available only to The Advertiser subscribers. If you are a subscriber, please log in and access the video settings again.FullscreenPlayback Rate1xCaptionscaptions settings, opens captions settings dialogcaptions off, selectedThis is a modal window.Beginning of dialog window. Escape will cancel and close the window.TextColorTransparencyBackgroundColorTransparencyWindowColorTransparencyFont SizeText Edge StyleFont FamilyReset restore all settings to the default valuesDoneClose Modal DialogEnd of dialog window.PlayMuteCurrent Time 0:00/Duration 0:00Loaded: 0%Stream Type LIVESeek to live, currently playing liveLIVERemaining Time -0:00 Playback Rate1xFullscreen5The Advertiser2:51Coronavirus cases rise to four in Australia You just watchedYou're watchingvideo titleWatch againContinue watchingVideo paused due to user inactivityContinue watching?YesFour cases of the deadly coronavirus spreading from China in China have been confirmed in Australia with one case in Victoria and three in New South Wales. All four people inf...\n",
            "                                \n",
            "                            Chinese President Xi Jinping has warned of a “grave situation” as he said the killer coronavirus was “accelerating its speed”.Mr Xi held a special government meeting to discuss the spread of the virus that has killed 41 people and infected more than 1300 globally.China, the centre of the outbreak of the new coronavirus, will build a second dedicated hospital to treat patients.China cut off trains, planes and other links to China on Wednesday, as well as public transportation within the city, and has steadily expanded a lockdown to 16 surrounding cities with a combined population of more than 50 million.The outbreak has put a dampener on Chinese Lunar New Year celebrations around the world.Sign me upSigned UpView more Newsletters\n"
          ],
          "name": "stdout"
        }
      ]
    },
    {
      "cell_type": "code",
      "metadata": {
        "id": "anZF4fCCEQL1"
      },
      "source": [
        "# Preprocesamiento\n",
        "bow_vector = dictionary.doc2bow(preprocess(unseen_document))\n",
        "\n"
      ],
      "execution_count": 124,
      "outputs": []
    },
    {
      "cell_type": "code",
      "metadata": {
        "colab": {
          "base_uri": "https://localhost:8080/"
        },
        "id": "OifoYSKGEZTZ",
        "outputId": "b20bbe9f-755e-45c1-a723-4447afd28341"
      },
      "source": [
        "# Aplicación del modelo\n",
        "for index, score in sorted(lda_model[bow_vector], key=lambda tup: -1*tup[1]):\n",
        "    print(\"Score: {}\\t Topic: {}\".format(score, lda_model.print_topic(index, 15)))"
      ],
      "execution_count": 125,
      "outputs": [
        {
          "output_type": "stream",
          "text": [
            "Score: 0.9967902898788452\t Topic: 0.018*\"china\" + 0.013*\"time\" + 0.013*\"australia\" + 0.011*\"video\" + 0.010*\"window\" + 0.010*\"set\" + 0.009*\"public\" + 0.007*\"virus\" + 0.007*\"current\" + 0.007*\"play\" + 0.006*\"chines\" + 0.006*\"advertis\" + 0.006*\"test\" + 0.006*\"south\" + 0.006*\"minist\"\n"
          ],
          "name": "stdout"
        }
      ]
    },
    {
      "cell_type": "markdown",
      "metadata": {
        "id": "m3X060ISPRvH"
      },
      "source": [
        "### Guardo modelo"
      ]
    },
    {
      "cell_type": "code",
      "metadata": {
        "id": "40mju-WsPUhl"
      },
      "source": [
        "## Guardo los modelos en archivos\n",
        "\n",
        "\n",
        "model_NN.save('model_NN.h5') \n",
        "\n",
        "model_CNN.save('model_CNN.h5') \n",
        "\n",
        "model_RNN.save('model_RNN.h5') "
      ],
      "execution_count": null,
      "outputs": []
    }
  ]
}