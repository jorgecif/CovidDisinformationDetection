{
  "nbformat": 4,
  "nbformat_minor": 0,
  "metadata": {
    "colab": {
      "name": "TFM_MIA_ComparacionMetodosClasificacionNoticias",
      "provenance": [],
      "collapsed_sections": [],
      "machine_shape": "hm",
      "authorship_tag": "ABX9TyNYID7H1FH/IIvS9u/SErr2",
      "include_colab_link": true
    },
    "kernelspec": {
      "display_name": "Python 3",
      "name": "python3"
    }
  },
  "cells": [
    {
      "cell_type": "markdown",
      "metadata": {
        "id": "view-in-github",
        "colab_type": "text"
      },
      "source": [
        "<a href=\"https://colab.research.google.com/github/jorgecif/CovidMisinformationDetection/blob/main/TFM_MIA_ComparacionMetodosClasificacionNoticias.ipynb\" target=\"_parent\"><img src=\"https://colab.research.google.com/assets/colab-badge.svg\" alt=\"Open In Colab\"/></a>"
      ]
    },
    {
      "cell_type": "markdown",
      "metadata": {
        "id": "lKRG-YkxAAh5"
      },
      "source": [
        "# **Clasificación de la temática de la información** - Comparación de modelos de aprendizaje automático y aprendizaje profundo\n",
        "\n",
        "\n",
        "> Por: Jorge Orlando Cifuentes Cifuentes\n",
        "\n",
        "\n"
      ]
    },
    {
      "cell_type": "markdown",
      "metadata": {
        "id": "yx7FUXUlCBtf"
      },
      "source": [
        "### Librerías y funciones"
      ]
    },
    {
      "cell_type": "code",
      "metadata": {
        "id": "n7FiZIspB_9s"
      },
      "source": [
        "# Generales\n",
        "import warnings\n",
        "warnings.filterwarnings('ignore')\n",
        "#import csv\n",
        "#import tensorflow as tf\n",
        "import pandas as pd\n",
        "import numpy as np\n",
        "import joblib # Para exportar el modelo\n",
        "\n",
        "\n",
        "# Gráficas\n",
        "import matplotlib.pyplot as plt\n",
        "import seaborn as sns\n",
        "\n",
        "\n",
        "# Machine learning\n",
        "from sklearn.feature_extraction.text import CountVectorizer\n",
        "from sklearn.linear_model import LogisticRegression # Logistic\n",
        "from sklearn.ensemble import RandomForestClassifier # Random Forest\n",
        "from sklearn.svm import LinearSVC # Support Vector\n",
        "from sklearn.naive_bayes import MultinomialNB # Naive Bayes\n",
        "from sklearn.model_selection import cross_val_score\n",
        "from sklearn.model_selection import train_test_split\n",
        "\n",
        "# Machine learning\n",
        "from sklearn.feature_extraction.text import CountVectorizer\n",
        "from sklearn.model_selection import cross_val_score\n",
        "from sklearn.model_selection import train_test_split\n",
        "from keras.layers import Dense, Input, GlobalMaxPooling1D, LSTM\n",
        "from keras.layers import Conv1D, MaxPooling1D, Embedding, SpatialDropout1D, Dropout, Activation, Flatten\n",
        "\n",
        "\n",
        "from sklearn.feature_extraction.text import CountVectorizer\n",
        "from keras.preprocessing.text import Tokenizer\n",
        "from keras.preprocessing.sequence import pad_sequences\n",
        "from keras.utils.np_utils import to_categorical\n",
        "from keras.models import Model\n",
        "from keras.models import Sequential\n",
        "from keras.callbacks import EarlyStopping\n",
        "\n",
        "import tensorflow as tf\n",
        "from tensorflow.keras import layers\n",
        "from tensorflow.keras import Model\n",
        "\n",
        "\n"
      ],
      "execution_count": 1,
      "outputs": []
    },
    {
      "cell_type": "code",
      "metadata": {
        "id": "NOg5CD8zQIhZ"
      },
      "source": [
        "# Funciones para comparar modelos\n",
        "\n",
        "def plot_acc(history, title=\"Model Accuracy\"):\n",
        "    \"\"\"Imprime una gráfica mostrando la accuracy por epoch obtenida en un entrenamiento\"\"\"\n",
        "    plt.plot(history.history['acc']) # Modifico \"acc\" por \"accuracy\"\n",
        "    plt.plot(history.history['val_acc']) # Modifico \"val_acc\" por \"val_accuracy\"\n",
        "    plt.title(title)\n",
        "    plt.ylabel('Accuracy')\n",
        "    plt.xlabel('Epoch')\n",
        "    plt.legend(['Train', 'Val'], loc='upper left')\n",
        "    plt.show()\n",
        "    \n",
        "def plot_loss(history, title=\"Model Loss\"):\n",
        "    \"\"\"Imprime una gráfica mostrando la pérdida por epoch obtenida en un entrenamiento\"\"\"\n",
        "    plt.plot(history.history['loss'])\n",
        "    plt.plot(history.history['val_loss'])\n",
        "    plt.title(title)\n",
        "    plt.ylabel('Loss')\n",
        "    plt.xlabel('Epoch')\n",
        "    plt.legend(['Train', 'Val'], loc='upper right')\n",
        "    plt.show()\n",
        "    \n",
        "def plot_compare_losses(history1, history2, name1=\"Red 1\",\n",
        "                        name2=\"Red 2\", title=\"Graph title\"):\n",
        "    \"\"\"Compara losses de dos entrenamientos con nombres name1 y name2\"\"\"\n",
        "    plt.plot(history1.history['loss'], color=\"green\")\n",
        "    plt.plot(history1.history['val_loss'], 'r--', color=\"green\")\n",
        "    plt.plot(history2.history['loss'], color=\"blue\")\n",
        "    plt.plot(history2.history['val_loss'], 'r--', color=\"blue\")\n",
        "    plt.title(title)\n",
        "    plt.ylabel('Loss')\n",
        "    plt.xlabel('Epoch')\n",
        "    plt.legend(['Train ' + name1, 'Val ' + name1, \n",
        "                'Train ' + name2, 'Val ' + name2],\n",
        "               loc='upper right')\n",
        "    plt.show()\n",
        "    \n",
        "def plot_compare_accs(history1, history2, name1=\"Red 1\",\n",
        "                      name2=\"Red 2\", title=\"Graph title\"):\n",
        "    \"\"\"Compara accuracies de dos entrenamientos con nombres name1 y name2\"\"\"\n",
        "    plt.plot(history1.history['acc'], color=\"green\")\n",
        "    plt.plot(history1.history['val_acc'], 'r--', color=\"green\")\n",
        "    plt.plot(history2.history['acc'], color=\"blue\")\n",
        "    plt.plot(history2.history['val_acc'], 'r--', color=\"blue\")\n",
        "    plt.title(title)\n",
        "    plt.ylabel('Accuracy')\n",
        "    plt.xlabel('Epoch')\n",
        "    plt.legend(['Train ' + name1, 'Val ' + name1, \n",
        "                'Train ' + name2, 'Val ' + name2], \n",
        "               loc='lower right')\n",
        "    plt.show()\n",
        "\n",
        "# Función para visualizar imagen almacenada en los datos\n",
        "def visualize_example(x):\n",
        "    plt.figure()\n",
        "    plt.imshow(x)\n",
        "    plt.colorbar()\n",
        "    plt.grid(False)\n",
        "    plt.show()"
      ],
      "execution_count": 2,
      "outputs": []
    },
    {
      "cell_type": "markdown",
      "metadata": {
        "id": "ZfmfhxSOCH_f"
      },
      "source": [
        "### Carga de datos"
      ]
    },
    {
      "cell_type": "code",
      "metadata": {
        "colab": {
          "base_uri": "https://localhost:8080/",
          "height": 214
        },
        "id": "r4Gu6usy63PS",
        "outputId": "974f652b-ad11-4089-f9b6-d2509dbbe3b7"
      },
      "source": [
        "# Carga de datos\n",
        "#url_datos = 'https://raw.githubusercontent.com/jorgecif/TFM_ai_unir/main/Datasets/DatasetNews2020_labels.csv' # 1000 datos por categoría\n",
        "url_datos = 'https://raw.githubusercontent.com/jorgecif/TFM_ai_unir/main/Datasets/DatasetNews2020_labels10000.csv' # 10000 datos por categoría\n",
        "\n",
        "\n",
        "datos = pd.read_csv(url_datos) \n",
        "datos.columns=[\"headline\", \"label\"]\n",
        "\n",
        "# Revuelvo los registros\n",
        "datos = datos.sample(frac = 1, random_state= 88) \n",
        "datos =datos.reset_index()\n",
        "datos=datos.drop([\"index\"], axis=1)\n",
        "\n",
        "\n",
        "# Muestra de los datos 20000 registros\n",
        "datos=datos.head(20000)\n",
        "\n",
        "\n",
        "# Muestra de los datos\n",
        "print(len(datos))\n",
        "datos.head()\n"
      ],
      "execution_count": 3,
      "outputs": [
        {
          "output_type": "stream",
          "text": [
            "20000\n"
          ],
          "name": "stdout"
        },
        {
          "output_type": "execute_result",
          "data": {
            "text/html": [
              "<div>\n",
              "<style scoped>\n",
              "    .dataframe tbody tr th:only-of-type {\n",
              "        vertical-align: middle;\n",
              "    }\n",
              "\n",
              "    .dataframe tbody tr th {\n",
              "        vertical-align: top;\n",
              "    }\n",
              "\n",
              "    .dataframe thead th {\n",
              "        text-align: right;\n",
              "    }\n",
              "</style>\n",
              "<table border=\"1\" class=\"dataframe\">\n",
              "  <thead>\n",
              "    <tr style=\"text-align: right;\">\n",
              "      <th></th>\n",
              "      <th>headline</th>\n",
              "      <th>label</th>\n",
              "    </tr>\n",
              "  </thead>\n",
              "  <tbody>\n",
              "    <tr>\n",
              "      <th>0</th>\n",
              "      <td>Chinese gaming company Beijing Kunlun Tech Co ...</td>\n",
              "      <td>technology</td>\n",
              "    </tr>\n",
              "    <tr>\n",
              "      <th>1</th>\n",
              "      <td>The Trump administration on Friday gave five c...</td>\n",
              "      <td>enviroment</td>\n",
              "    </tr>\n",
              "    <tr>\n",
              "      <th>2</th>\n",
              "      <td>Poor Larry isn't looking too good. He's pale a...</td>\n",
              "      <td>science</td>\n",
              "    </tr>\n",
              "    <tr>\n",
              "      <th>3</th>\n",
              "      <td>BNP Paribas plans to cut 5 percent of the work...</td>\n",
              "      <td>finance</td>\n",
              "    </tr>\n",
              "    <tr>\n",
              "      <th>4</th>\n",
              "      <td>Czech Petra Kvitova struggled with unforced er...</td>\n",
              "      <td>sports</td>\n",
              "    </tr>\n",
              "  </tbody>\n",
              "</table>\n",
              "</div>"
            ],
            "text/plain": [
              "                                            headline       label\n",
              "0  Chinese gaming company Beijing Kunlun Tech Co ...  technology\n",
              "1  The Trump administration on Friday gave five c...  enviroment\n",
              "2  Poor Larry isn't looking too good. He's pale a...     science\n",
              "3  BNP Paribas plans to cut 5 percent of the work...     finance\n",
              "4  Czech Petra Kvitova struggled with unforced er...      sports"
            ]
          },
          "metadata": {
            "tags": []
          },
          "execution_count": 3
        }
      ]
    },
    {
      "cell_type": "code",
      "metadata": {
        "colab": {
          "base_uri": "https://localhost:8080/"
        },
        "id": "jXwKQcHdbscV",
        "outputId": "468bc1e6-386f-4f07-d6ed-d33cfe48a92f"
      },
      "source": [
        "# Verifico si hay valores nulos\n",
        "datos.info() "
      ],
      "execution_count": 4,
      "outputs": [
        {
          "output_type": "stream",
          "text": [
            "<class 'pandas.core.frame.DataFrame'>\n",
            "RangeIndex: 20000 entries, 0 to 19999\n",
            "Data columns (total 2 columns):\n",
            " #   Column    Non-Null Count  Dtype \n",
            "---  ------    --------------  ----- \n",
            " 0   headline  20000 non-null  object\n",
            " 1   label     20000 non-null  object\n",
            "dtypes: object(2)\n",
            "memory usage: 312.6+ KB\n"
          ],
          "name": "stdout"
        }
      ]
    },
    {
      "cell_type": "code",
      "metadata": {
        "colab": {
          "base_uri": "https://localhost:8080/"
        },
        "id": "fZcw5Y39bsgr",
        "outputId": "f0276609-83fe-4804-9888-b6769345feb4"
      },
      "source": [
        "#Elimino duplicados de todas las columnas\n",
        "\n",
        "datos2 = datos.drop_duplicates()\n",
        "print(len(datos2))\n",
        "\n",
        "# Elimino ambiguedades\n",
        "\n",
        "datos3=datos2.drop_duplicates(['headline'], keep='first') # Elimino ambieguedades\n",
        "print(len(datos3))"
      ],
      "execution_count": 5,
      "outputs": [
        {
          "output_type": "stream",
          "text": [
            "19077\n",
            "18972\n"
          ],
          "name": "stdout"
        }
      ]
    },
    {
      "cell_type": "code",
      "metadata": {
        "colab": {
          "base_uri": "https://localhost:8080/",
          "height": 167
        },
        "id": "e0c7tggxOUtY",
        "outputId": "d106afc4-ff82-44c6-9b0e-5771a33924c3"
      },
      "source": [
        "# Desripción de los datos\n",
        "\n",
        "datos3.describe(include=\"all\")"
      ],
      "execution_count": 6,
      "outputs": [
        {
          "output_type": "execute_result",
          "data": {
            "text/html": [
              "<div>\n",
              "<style scoped>\n",
              "    .dataframe tbody tr th:only-of-type {\n",
              "        vertical-align: middle;\n",
              "    }\n",
              "\n",
              "    .dataframe tbody tr th {\n",
              "        vertical-align: top;\n",
              "    }\n",
              "\n",
              "    .dataframe thead th {\n",
              "        text-align: right;\n",
              "    }\n",
              "</style>\n",
              "<table border=\"1\" class=\"dataframe\">\n",
              "  <thead>\n",
              "    <tr style=\"text-align: right;\">\n",
              "      <th></th>\n",
              "      <th>headline</th>\n",
              "      <th>label</th>\n",
              "    </tr>\n",
              "  </thead>\n",
              "  <tbody>\n",
              "    <tr>\n",
              "      <th>count</th>\n",
              "      <td>18972</td>\n",
              "      <td>18972</td>\n",
              "    </tr>\n",
              "    <tr>\n",
              "      <th>unique</th>\n",
              "      <td>18972</td>\n",
              "      <td>8</td>\n",
              "    </tr>\n",
              "    <tr>\n",
              "      <th>top</th>\n",
              "      <td>Dutch Queen Beatrix, who turns 75 on Thursday,...</td>\n",
              "      <td>technology</td>\n",
              "    </tr>\n",
              "    <tr>\n",
              "      <th>freq</th>\n",
              "      <td>1</td>\n",
              "      <td>2934</td>\n",
              "    </tr>\n",
              "  </tbody>\n",
              "</table>\n",
              "</div>"
            ],
            "text/plain": [
              "                                                 headline       label\n",
              "count                                               18972       18972\n",
              "unique                                              18972           8\n",
              "top     Dutch Queen Beatrix, who turns 75 on Thursday,...  technology\n",
              "freq                                                    1        2934"
            ]
          },
          "metadata": {
            "tags": []
          },
          "execution_count": 6
        }
      ]
    },
    {
      "cell_type": "markdown",
      "metadata": {
        "id": "ReYAzHOdOoPN"
      },
      "source": [
        "### Exploración inicial de los datos"
      ]
    },
    {
      "cell_type": "code",
      "metadata": {
        "colab": {
          "base_uri": "https://localhost:8080/",
          "height": 412
        },
        "id": "UZA7aXgrOUon",
        "outputId": "76d30da4-ddc4-4e30-f3a4-a64bca54aea7"
      },
      "source": [
        "# Reviso las 10 primeras categorías de cada variable categórica\n",
        "\n",
        "for col in datos3.columns:\n",
        "    print('-' * 40 + col + '-' * 40 , end=' - ')\n",
        "    display(datos3[col].value_counts().head(10))"
      ],
      "execution_count": 7,
      "outputs": [
        {
          "output_type": "stream",
          "text": [
            "----------------------------------------headline---------------------------------------- - "
          ],
          "name": "stdout"
        },
        {
          "output_type": "display_data",
          "data": {
            "text/plain": [
              "Dutch Queen Beatrix, who turns 75 on Thursday, announced she was abdicating in favor of her son, Prince Willem-Alexander, telling her country it was time to hand the crown to the next generation after more than three decades on the throne.                                                              1\n",
              "The biggest overhaul of the U.S. tax system in more than 30 years, set to win final approval by lawmakers on Wednesday, may add fuel to a rally in technology stocks that has powered Wall Street to record highs this year.                                                                                 1\n",
              "SoftBank Group Corp Chief Executive Masayoshi Son said on Wednesday he plans to devote the bulk of his time to hunt for technology investments around the world, as part of a major shift in focus at the Japanese tech and telecoms conglomerate.                                                           1\n",
              "(Adds dropped word to headline, removes extraneous sentence in graf 3, in this Aug. 21 story)                                                                                                                                                                                                                1\n",
              "Democratic U.S. presidential nominee Joe Biden said on Saturday \"the only way\" he could lose to President Donald Trump was through \"chicanery,\" before clarifying that he will accept the election result.                                                                                                   1\n",
              "An earthquake with a magnitude of 5.6 struck off Indonesia's Maluku archipelago on Saturday, the United States Geological Survey (USGS) said.                                                                                                                                                                1\n",
              "Philippine President Rodrigo Duterte said on Sunday he would not stand in the way of his minister's decision to close several mines in the southern Philippines after he saw the damage they had done to the environment.                                                                                    1\n",
              "The following are talking points from the weekend's Premier League and FA Cup action:                                                                                                                                                                                                                        1\n",
              "The Plastic Bag Store set to open to the public on Thursday looks like a typical New York City grocery, with rows of soda drinks and cartons on its shelves. But a closer look at the boxes of sushi rolls and cereal reveals labels such as 'plastic bagacado roll,' 'Yucky Shards,' and 'Caps N' Such.'    1\n",
              "Ukraine plans to fire the prosecutor who led investigations into the firm where Joe Biden's son served on the board, a central figure in the activity at the heart of impeachment proceedings against U.S. President Donald Trump, a source told Reuters.                                                    1\n",
              "Name: headline, dtype: int64"
            ]
          },
          "metadata": {
            "tags": []
          }
        },
        {
          "output_type": "stream",
          "text": [
            "----------------------------------------label---------------------------------------- - "
          ],
          "name": "stdout"
        },
        {
          "output_type": "display_data",
          "data": {
            "text/plain": [
              "technology    2934\n",
              "enviroment    2913\n",
              "lifestyle     2904\n",
              "sports        2646\n",
              "health        2444\n",
              "politics      2308\n",
              "science       1913\n",
              "finance        910\n",
              "Name: label, dtype: int64"
            ]
          },
          "metadata": {
            "tags": []
          }
        }
      ]
    },
    {
      "cell_type": "code",
      "metadata": {
        "colab": {
          "base_uri": "https://localhost:8080/",
          "height": 333
        },
        "id": "nlXVijuJPJnQ",
        "outputId": "99ed30a1-ed41-4d4f-c537-78ab9c9318bc"
      },
      "source": [
        "# Distribución de las categorías datos\n",
        "plt.figure(figsize=(12,5))\n",
        "sns.countplot(\"label\", data=datos3, order = datos3[\"label\"].value_counts().index)\n",
        "plt.show()"
      ],
      "execution_count": 8,
      "outputs": [
        {
          "output_type": "display_data",
          "data": {
            "image/png": "[encoded data removed]",
            "text/plain": [
              "<Figure size 864x360 with 1 Axes>"
            ]
          },
          "metadata": {
            "tags": [],
            "needs_background": "light"
          }
        }
      ]
    },
    {
      "cell_type": "markdown",
      "metadata": {
        "id": "3rh2DV_WPEJd"
      },
      "source": [
        "### Creación conjunto de datos"
      ]
    },
    {
      "cell_type": "code",
      "metadata": {
        "colab": {
          "base_uri": "https://localhost:8080/"
        },
        "id": "h82UN9hVlTV8",
        "outputId": "8c72b2fd-8332-4a69-be5d-2016c1d1e2d3"
      },
      "source": [
        "# Reservo unos datos para pruebas finales (datos que no se tocan)\n",
        "\n",
        "datos_trabajo,datos_reserva = train_test_split(datos3, test_size=0.05, random_state=88 )\n",
        "datos_trabajo =datos_trabajo.reset_index() # Reinicio índices\n",
        "datos_reserva =datos_reserva.reset_index() # Reinicio índices\n",
        "datos_trabajo=datos_trabajo.drop([\"index\"], axis=1)\n",
        "datos_reserva=datos_reserva.drop([\"index\"], axis=1)\n",
        "\n",
        "print(\"Datos para trabajar: \", len(datos_trabajo))\n",
        "print(\"Datos reservados para pruebas finales \", len(datos_reserva))\n",
        "\n"
      ],
      "execution_count": 9,
      "outputs": [
        {
          "output_type": "stream",
          "text": [
            "Datos para trabajar:  18023\n",
            "Datos reservados para pruebas finales  949\n"
          ],
          "name": "stdout"
        }
      ]
    },
    {
      "cell_type": "code",
      "metadata": {
        "colab": {
          "base_uri": "https://localhost:8080/",
          "height": 197
        },
        "id": "66joIdqCqyM9",
        "outputId": "91871120-8b37-490b-afd8-3f8609afa205"
      },
      "source": [
        "datos_reserva.head()"
      ],
      "execution_count": 10,
      "outputs": [
        {
          "output_type": "execute_result",
          "data": {
            "text/html": [
              "<div>\n",
              "<style scoped>\n",
              "    .dataframe tbody tr th:only-of-type {\n",
              "        vertical-align: middle;\n",
              "    }\n",
              "\n",
              "    .dataframe tbody tr th {\n",
              "        vertical-align: top;\n",
              "    }\n",
              "\n",
              "    .dataframe thead th {\n",
              "        text-align: right;\n",
              "    }\n",
              "</style>\n",
              "<table border=\"1\" class=\"dataframe\">\n",
              "  <thead>\n",
              "    <tr style=\"text-align: right;\">\n",
              "      <th></th>\n",
              "      <th>headline</th>\n",
              "      <th>label</th>\n",
              "    </tr>\n",
              "  </thead>\n",
              "  <tbody>\n",
              "    <tr>\n",
              "      <th>0</th>\n",
              "      <td>(This Aug. 23 story has been corrected to remo...</td>\n",
              "      <td>enviroment</td>\n",
              "    </tr>\n",
              "    <tr>\n",
              "      <th>1</th>\n",
              "      <td>The governor of Louisiana and the mayor of New...</td>\n",
              "      <td>enviroment</td>\n",
              "    </tr>\n",
              "    <tr>\n",
              "      <th>2</th>\n",
              "      <td>Li Zhongying was freed from a Chinese labor ca...</td>\n",
              "      <td>lifestyle</td>\n",
              "    </tr>\n",
              "    <tr>\n",
              "      <th>3</th>\n",
              "      <td>The U.S. State Department said on Sunday it ha...</td>\n",
              "      <td>politics</td>\n",
              "    </tr>\n",
              "    <tr>\n",
              "      <th>4</th>\n",
              "      <td>Brazil's President Jair Bolsonaro on Tuesday a...</td>\n",
              "      <td>enviroment</td>\n",
              "    </tr>\n",
              "  </tbody>\n",
              "</table>\n",
              "</div>"
            ],
            "text/plain": [
              "                                            headline       label\n",
              "0  (This Aug. 23 story has been corrected to remo...  enviroment\n",
              "1  The governor of Louisiana and the mayor of New...  enviroment\n",
              "2  Li Zhongying was freed from a Chinese labor ca...   lifestyle\n",
              "3  The U.S. State Department said on Sunday it ha...    politics\n",
              "4  Brazil's President Jair Bolsonaro on Tuesday a...  enviroment"
            ]
          },
          "metadata": {
            "tags": []
          },
          "execution_count": 10
        }
      ]
    },
    {
      "cell_type": "code",
      "metadata": {
        "colab": {
          "base_uri": "https://localhost:8080/",
          "height": 333
        },
        "id": "dTI_qa94bxrU",
        "outputId": "89c48320-029e-4872-b081-dd7f64febe5b"
      },
      "source": [
        "# Distribución de las categorías datos de trabajo\n",
        "plt.figure(figsize=(12,5))\n",
        "sns.countplot(\"label\", data=datos_trabajo, order = datos_trabajo[\"label\"].value_counts().index)\n",
        "plt.show()"
      ],
      "execution_count": 11,
      "outputs": [
        {
          "output_type": "display_data",
          "data": {
            "image/png": "[encoded data removed]",
            "text/plain": [
              "<Figure size 864x360 with 1 Axes>"
            ]
          },
          "metadata": {
            "tags": [],
            "needs_background": "light"
          }
        }
      ]
    },
    {
      "cell_type": "code",
      "metadata": {
        "colab": {
          "base_uri": "https://localhost:8080/",
          "height": 333
        },
        "id": "o7XwsgoynpFV",
        "outputId": "738b84a6-e195-42e0-b164-a9a491d33856"
      },
      "source": [
        "# Distribución de las categorías datos reservados\n",
        "plt.figure(figsize=(12,5))\n",
        "sns.countplot(\"label\", data=datos_reserva, order = datos_reserva[\"label\"].value_counts().index)\n",
        "plt.show()"
      ],
      "execution_count": 12,
      "outputs": [
        {
          "output_type": "display_data",
          "data": {
            "image/png": "[encoded data removed]",
            "text/plain": [
              "<Figure size 864x360 with 1 Axes>"
            ]
          },
          "metadata": {
            "tags": [],
            "needs_background": "light"
          }
        }
      ]
    },
    {
      "cell_type": "markdown",
      "metadata": {
        "id": "2vKGJxObepPZ"
      },
      "source": [
        "### Preparación de los datos"
      ]
    },
    {
      "cell_type": "code",
      "metadata": {
        "colab": {
          "base_uri": "https://localhost:8080/"
        },
        "id": "zQTU4TczQb6o",
        "outputId": "9fbae9ec-c611-4251-e9ff-086842b526fe"
      },
      "source": [
        "# Convierto categorías en números - datos de trabajo\n",
        "\n",
        "# Extraigo datos de titulares\n",
        "corpus = datos_trabajo[\"headline\"]\n",
        "vectorizer = CountVectorizer(min_df=1)\n",
        "X = vectorizer.fit_transform(corpus).toarray()\n",
        "\n",
        "# Construyo mapa de categorías datos trabajo\n",
        "categories = datos_trabajo[\"label\"].unique()\n",
        "category_dict = {value:index for index, value in enumerate(categories)}\n",
        "results_trabajo = datos_trabajo[\"label\"].map(category_dict)\n",
        "category_dict\n",
        "\n",
        "\n",
        "# Construyo mapa de categorías datos reservados\n",
        "categories = datos_reserva[\"label\"].unique()\n",
        "category_dict = {value:index for index, value in enumerate(categories)}\n",
        "results_reserva = datos_reserva[\"label\"].map(category_dict)\n",
        "category_dict"
      ],
      "execution_count": 13,
      "outputs": [
        {
          "output_type": "execute_result",
          "data": {
            "text/plain": [
              "{'enviroment': 0,\n",
              " 'finance': 3,\n",
              " 'health': 4,\n",
              " 'lifestyle': 1,\n",
              " 'politics': 2,\n",
              " 'science': 7,\n",
              " 'sports': 6,\n",
              " 'technology': 5}"
            ]
          },
          "metadata": {
            "tags": []
          },
          "execution_count": 13
        }
      ]
    },
    {
      "cell_type": "code",
      "metadata": {
        "colab": {
          "base_uri": "https://localhost:8080/"
        },
        "id": "3TXCQXVRk6De",
        "outputId": "df7c6e1d-3967-4965-d688-9e1b941566ac"
      },
      "source": [
        "category_dict_inv = {v: k for k, v in category_dict.items()}\n",
        "category_dict_inv"
      ],
      "execution_count": 14,
      "outputs": [
        {
          "output_type": "execute_result",
          "data": {
            "text/plain": [
              "{0: 'enviroment',\n",
              " 1: 'lifestyle',\n",
              " 2: 'politics',\n",
              " 3: 'finance',\n",
              " 4: 'health',\n",
              " 5: 'technology',\n",
              " 6: 'sports',\n",
              " 7: 'science'}"
            ]
          },
          "metadata": {
            "tags": []
          },
          "execution_count": 14
        }
      ]
    },
    {
      "cell_type": "markdown",
      "metadata": {
        "id": "TCa-V3VvRsdr"
      },
      "source": [
        "### Train-test-split"
      ]
    },
    {
      "cell_type": "code",
      "metadata": {
        "id": "0OO1UwKeRjdy"
      },
      "source": [
        "# Train - Test Split\n",
        "\n",
        "x_train,x_test, y_train,y_test = train_test_split(X, results_trabajo, test_size=0.2, random_state=88 )"
      ],
      "execution_count": 15,
      "outputs": []
    },
    {
      "cell_type": "code",
      "metadata": {
        "colab": {
          "base_uri": "https://localhost:8080/",
          "height": 324
        },
        "id": "6b6Vn0rbRjak",
        "outputId": "e6b6c110-d1d2-4c4b-94e6-c65ddb35f874"
      },
      "source": [
        "# Visualizo el balance de las clases luego de la división para verificar que no exista un desbalance\n",
        "df_y_train = pd.DataFrame({'yTrain': y_train})\n",
        "\n",
        "df_y_test = pd.DataFrame({'yTest': y_test})\n",
        "\n",
        "\n",
        "fig, axes = plt.subplots(ncols=2, nrows=1, figsize=(18, 10))\n",
        "plt.subplot(2, 2, 1).set_title('yTrain')\n",
        "df_y_train[\"yTrain\"].value_counts().plot(kind='bar')\n",
        "\n",
        "plt.subplot(2, 2, 2).set_title('yTest')\n",
        "df_y_test[\"yTest\"].value_counts().plot(kind='bar')"
      ],
      "execution_count": 16,
      "outputs": [
        {
          "output_type": "execute_result",
          "data": {
            "text/plain": [
              "<matplotlib.axes._subplots.AxesSubplot at 0x7f98fd138e80>"
            ]
          },
          "metadata": {
            "tags": []
          },
          "execution_count": 16
        },
        {
          "output_type": "display_data",
          "data": {
            "image/png": "[encoded data removed]",
            "text/plain": [
              "<Figure size 1296x720 with 2 Axes>"
            ]
          },
          "metadata": {
            "tags": [],
            "needs_background": "light"
          }
        }
      ]
    },
    {
      "cell_type": "markdown",
      "metadata": {
        "id": "nOcxIb7DR5Yq"
      },
      "source": [
        "### Comparación de modelos de aprendizaje automático"
      ]
    },
    {
      "cell_type": "code",
      "metadata": {
        "id": "kclE4jD-kE6T"
      },
      "source": [
        "category_dict_inv = {v: k for k, v in category_dict.items()}\n"
      ],
      "execution_count": 17,
      "outputs": []
    },
    {
      "cell_type": "code",
      "metadata": {
        "colab": {
          "base_uri": "https://localhost:8080/"
        },
        "id": "fc4pxvnVk0lv",
        "outputId": "db8053e5-100b-4e15-94a8-ddf5db51284e"
      },
      "source": [
        "category_dict"
      ],
      "execution_count": 18,
      "outputs": [
        {
          "output_type": "execute_result",
          "data": {
            "text/plain": [
              "{'enviroment': 0,\n",
              " 'finance': 3,\n",
              " 'health': 4,\n",
              " 'lifestyle': 1,\n",
              " 'politics': 2,\n",
              " 'science': 7,\n",
              " 'sports': 6,\n",
              " 'technology': 5}"
            ]
          },
          "metadata": {
            "tags": []
          },
          "execution_count": 18
        }
      ]
    },
    {
      "cell_type": "code",
      "metadata": {
        "colab": {
          "base_uri": "https://localhost:8080/"
        },
        "id": "gnbt7tvCkwZ9",
        "outputId": "76e0d6d1-c17f-4c2a-f1b7-6022f1a1116d"
      },
      "source": [
        "category_dict_inv"
      ],
      "execution_count": 19,
      "outputs": [
        {
          "output_type": "execute_result",
          "data": {
            "text/plain": [
              "{0: 'enviroment',\n",
              " 1: 'lifestyle',\n",
              " 2: 'politics',\n",
              " 3: 'finance',\n",
              " 4: 'health',\n",
              " 5: 'technology',\n",
              " 6: 'sports',\n",
              " 7: 'science'}"
            ]
          },
          "metadata": {
            "tags": []
          },
          "execution_count": 19
        }
      ]
    },
    {
      "cell_type": "code",
      "metadata": {
        "id": "GONeB_xNR5H9"
      },
      "source": [
        "# Comparación de modelos\n",
        "# Listado de modelos\n",
        "models = [\n",
        "    RandomForestClassifier(n_estimators=200, max_depth=3, random_state=0),\n",
        "    LinearSVC(),\n",
        "    MultinomialNB(),\n",
        "    LogisticRegression(random_state=0),\n",
        "    ]"
      ],
      "execution_count": 20,
      "outputs": []
    },
    {
      "cell_type": "code",
      "metadata": {
        "id": "dpTHUVmSR5FB"
      },
      "source": [
        "CV = 5\n",
        "cv_df = pd.DataFrame(index=range(CV * len(models)))\n",
        "entries = []\n",
        "for model in models:\n",
        "  model_name = model.__class__.__name__\n",
        "  accuracies = cross_val_score(model, x_train, y_train, scoring='accuracy', cv=CV)\n",
        "  for fold_idx, accuracy in enumerate(accuracies):\n",
        "    entries.append((model_name, fold_idx, accuracy))\n",
        "cv_df = pd.DataFrame(entries, columns=['model_name', 'fold_idx', 'accuracy'])"
      ],
      "execution_count": 21,
      "outputs": []
    },
    {
      "cell_type": "code",
      "metadata": {
        "colab": {
          "base_uri": "https://localhost:8080/",
          "height": 280
        },
        "id": "r5sYiFfrR5DD",
        "outputId": "159b84ca-e032-418b-e790-7a38a77cf6a3"
      },
      "source": [
        "# Gráfico comparativo de la precisión estimada de los modelos\n",
        "import seaborn as sns\n",
        "sns.boxplot(x='model_name', y='accuracy', data=cv_df)\n",
        "sns.stripplot(x='model_name', y='accuracy', data=cv_df, \n",
        "              size=8, jitter=True, edgecolor=\"gray\", linewidth=2)\n",
        "plt.show()"
      ],
      "execution_count": 22,
      "outputs": [
        {
          "output_type": "display_data",
          "data": {
            "image/png": "[encoded data removed]",
            "text/plain": [
              "<Figure size 432x288 with 1 Axes>"
            ]
          },
          "metadata": {
            "tags": [],
            "needs_background": "light"
          }
        }
      ]
    },
    {
      "cell_type": "markdown",
      "metadata": {
        "id": "3_IHvb0Po9ya"
      },
      "source": [
        "#### Modelo Random Forest"
      ]
    },
    {
      "cell_type": "code",
      "metadata": {
        "colab": {
          "base_uri": "https://localhost:8080/",
          "height": 441
        },
        "id": "7VF-ZuEBR5BN",
        "outputId": "531663bf-c414-4e95-c083-7d172821b2a4"
      },
      "source": [
        "# Modelo RandomForest\n",
        "from sklearn.metrics import confusion_matrix\n",
        "\n",
        "modelRF = RandomForestClassifier(n_estimators=200, max_depth=3, random_state=0)\n",
        "modelRF.fit(x_train, y_train)\n",
        "y_pred = modelRF.predict(x_test)\n",
        "\n",
        "conf_mat = confusion_matrix(y_test, y_pred)\n",
        "fig, ax = plt.subplots(figsize=(10,7))\n",
        "sns.heatmap(conf_mat, annot=True, fmt='d',\n",
        "            xticklabels=category_dict, yticklabels=category_dict)\n",
        "plt.ylabel('Actual')\n",
        "plt.xlabel('Predicted')\n",
        "plt.show()"
      ],
      "execution_count": 23,
      "outputs": [
        {
          "output_type": "display_data",
          "data": {
            "image/png": "[encoded data removed]",
            "text/plain": [
              "<Figure size 720x504 with 2 Axes>"
            ]
          },
          "metadata": {
            "tags": [],
            "needs_background": "light"
          }
        }
      ]
    },
    {
      "cell_type": "markdown",
      "metadata": {
        "id": "PvWOENnOpAdi"
      },
      "source": [
        "#### Modelo Logistic"
      ]
    },
    {
      "cell_type": "code",
      "metadata": {
        "colab": {
          "base_uri": "https://localhost:8080/",
          "height": 441
        },
        "id": "m97EllpPhLqs",
        "outputId": "8f7217dd-4939-4082-9bda-57ef17c77c85"
      },
      "source": [
        "# Modelo Logistic\n",
        "from sklearn.metrics import confusion_matrix\n",
        "\n",
        "modelLOG = LogisticRegression(random_state=0)\n",
        "modelLOG.fit(x_train, y_train)\n",
        "y_pred = modelLOG.predict(x_test)\n",
        "\n",
        "conf_mat = confusion_matrix(y_test, y_pred)\n",
        "fig, ax = plt.subplots(figsize=(10,7))\n",
        "sns.heatmap(conf_mat, annot=True, fmt='d',\n",
        "            xticklabels=category_dict, yticklabels=category_dict)\n",
        "plt.ylabel('Actual')\n",
        "plt.xlabel('Predicted')\n",
        "plt.show()"
      ],
      "execution_count": 24,
      "outputs": [
        {
          "output_type": "display_data",
          "data": {
            "image/png": "[encoded data removed]",
            "text/plain": [
              "<Figure size 720x504 with 2 Axes>"
            ]
          },
          "metadata": {
            "tags": [],
            "needs_background": "light"
          }
        }
      ]
    },
    {
      "cell_type": "markdown",
      "metadata": {
        "id": "IZK7T8L0pC9F"
      },
      "source": [
        "#### Modelo Naïve Bayes"
      ]
    },
    {
      "cell_type": "code",
      "metadata": {
        "colab": {
          "base_uri": "https://localhost:8080/",
          "height": 441
        },
        "id": "btcSBFU-hLoM",
        "outputId": "27c45bfc-cfce-4f14-da78-bc2c4c012997"
      },
      "source": [
        "# Modelo Multinomial Naive Bayes\n",
        "from sklearn.metrics import confusion_matrix\n",
        "\n",
        "modelNB = MultinomialNB()\n",
        "modelNB.fit(x_train, y_train)\n",
        "y_pred = modelNB.predict(x_test)\n",
        "\n",
        "conf_mat = confusion_matrix(y_test, y_pred)\n",
        "fig, ax = plt.subplots(figsize=(10,7))\n",
        "sns.heatmap(conf_mat, annot=True, fmt='d',\n",
        "            xticklabels=category_dict, yticklabels=category_dict)\n",
        "plt.ylabel('Actual')\n",
        "plt.xlabel('Predicted')\n",
        "plt.show()"
      ],
      "execution_count": 25,
      "outputs": [
        {
          "output_type": "display_data",
          "data": {
            "image/png": "[encoded data removed]",
            "text/plain": [
              "<Figure size 720x504 with 2 Axes>"
            ]
          },
          "metadata": {
            "tags": [],
            "needs_background": "light"
          }
        }
      ]
    },
    {
      "cell_type": "markdown",
      "metadata": {
        "id": "quU71Wh9pFxl"
      },
      "source": [
        "#### Modelo vector de soporte lineal"
      ]
    },
    {
      "cell_type": "code",
      "metadata": {
        "colab": {
          "base_uri": "https://localhost:8080/",
          "height": 441
        },
        "id": "A-DgDkxvhLjj",
        "outputId": "5a0ac8f6-153e-4408-c03d-faac121f1d25"
      },
      "source": [
        "# Modelo Vector Soporte Lineal\n",
        "from sklearn.metrics import confusion_matrix\n",
        "\n",
        "modelSVC = LinearSVC()\n",
        "modelSVC.fit(x_train, y_train)\n",
        "y_pred = modelSVC.predict(x_test)\n",
        "\n",
        "conf_mat = confusion_matrix(y_test, y_pred)\n",
        "fig, ax = plt.subplots(figsize=(10,7))\n",
        "sns.heatmap(conf_mat, annot=True, fmt='d',\n",
        "            xticklabels=category_dict, yticklabels=category_dict)\n",
        "plt.ylabel('Actual')\n",
        "plt.xlabel('Predicted')\n",
        "plt.show()"
      ],
      "execution_count": 26,
      "outputs": [
        {
          "output_type": "display_data",
          "data": {
            "image/png": "[encoded data removed]",
            "text/plain": [
              "<Figure size 720x504 with 2 Axes>"
            ]
          },
          "metadata": {
            "tags": [],
            "needs_background": "light"
          }
        }
      ]
    },
    {
      "cell_type": "markdown",
      "metadata": {
        "id": "U2fbFtzhhUmr"
      },
      "source": [
        "#### Prueba de los modelos"
      ]
    },
    {
      "cell_type": "code",
      "metadata": {
        "id": "Mao_r-AyhLg_"
      },
      "source": [
        "# Función para probar modelos y predecir la categoría de la noticia\n",
        "# De acuerdo con: category_dict_inv[0]\n",
        "\n",
        "def newscategorifier(a, modelo_probar):\n",
        "    clf=modelo_probar\n",
        "    test_name1 = [a]\n",
        "    transform_vect =vectorizer.transform(test_name1).toarray()\n",
        "    #print(clf.predict(transform_vect))\n",
        "    if clf.predict(transform_vect) == 0:\n",
        "        print(category_dict_inv[0])\n",
        "    elif clf.predict(transform_vect) == 1:\n",
        "        print(category_dict_inv[1])\n",
        "    elif clf.predict(transform_vect) == 2:\n",
        "        print(category_dict_inv[2])\n",
        "    elif clf.predict(transform_vect) == 3:\n",
        "        print(category_dict_inv[3])\n",
        "    elif clf.predict(transform_vect) == 4:\n",
        "        print(category_dict_inv[4])    \n",
        "    elif clf.predict(transform_vect) == 5:\n",
        "        print(category_dict_inv[5])\n",
        "    elif clf.predict(transform_vect) == 6:\n",
        "        print(category_dict_inv[6]) \n",
        "    else:\n",
        "        print(category_dict_inv[7])"
      ],
      "execution_count": 27,
      "outputs": []
    },
    {
      "cell_type": "code",
      "metadata": {
        "colab": {
          "base_uri": "https://localhost:8080/"
        },
        "id": "zkPL2oN_hLdK",
        "outputId": "19f0032d-2041-476d-d673-d9a1d7f7181b"
      },
      "source": [
        "# Prueba con textos de datos de reserva\n",
        "\n",
        "text1=datos_reserva[\"headline\"][0]\n",
        "text2=datos_reserva[\"headline\"][55]\n",
        "text3=datos_reserva[\"headline\"][88]\n",
        "\n",
        "print(\"Texto 1: \", text1)\n",
        "print(\"Categoria real: \",datos_reserva[\"label\"][0])\n",
        "\n",
        "print(\"Texto 2: \", text2)\n",
        "print(\"Categoria real: \",datos_reserva[\"label\"][55])\n",
        "\n",
        "print(\"Texto 3: \", text3)\n",
        "print(\"Categoria real: \",datos_reserva[\"label\"][88])"
      ],
      "execution_count": 28,
      "outputs": [
        {
          "output_type": "stream",
          "text": [
            "Texto 1:  (This Aug. 23 story has been corrected to remove LVMH, which was not a signatory of the pact)\n",
            "Categoria real:  enviroment\n",
            "Texto 2:  Activision Blizzard is betting big on children's fantasy adventure game \"Skylanders\" this holiday, with the launch of a new title on Sunday and plans for more mobile versions of the console game.\n",
            "Categoria real:  lifestyle\n",
            "Texto 3:  Lane Thomas clubbed a two-run homer in the second inning and Justin Williams hit a solo blast later in the frame to help the St. Louis Cardinals post a 7-5 victory over the host Houston Astros on Wednesday at West Palm Beach, Fla.\n",
            "Categoria real:  sports\n"
          ],
          "name": "stdout"
        }
      ]
    },
    {
      "cell_type": "code",
      "metadata": {
        "colab": {
          "base_uri": "https://localhost:8080/"
        },
        "id": "x4rw1KpbR49i",
        "outputId": "df598255-4b54-4c18-f2a4-5ac327d00625"
      },
      "source": [
        "# Prueba con los modelos\n",
        "\n",
        "clasificar_texto=text3\n",
        "\n",
        "print(\"Modelo SVC\")\n",
        "print(newscategorifier(clasificar_texto, modelSVC))\n",
        "\n",
        "print(\" \")\n",
        "print(\"Modelo NB\")\n",
        "print(newscategorifier(clasificar_texto, modelNB))\n",
        "\n",
        "print(\" \")\n",
        "print(\"Modelo LOG\")\n",
        "print(newscategorifier(clasificar_texto, modelLOG))\n",
        "\n",
        "print(\" \")\n",
        "print(\"Modelo RF\")\n",
        "print(newscategorifier(clasificar_texto, modelRF))"
      ],
      "execution_count": 29,
      "outputs": [
        {
          "output_type": "stream",
          "text": [
            "Modelo SVC\n",
            "technology\n",
            "None\n",
            " \n",
            "Modelo NB\n",
            "technology\n",
            "None\n",
            " \n",
            "Modelo LOG\n",
            "technology\n",
            "None\n",
            " \n",
            "Modelo RF\n",
            "politics\n",
            "None\n"
          ],
          "name": "stdout"
        }
      ]
    },
    {
      "cell_type": "markdown",
      "metadata": {
        "id": "k-E0lOzZhgoj"
      },
      "source": [
        "#### Generacion de archivos de modelos"
      ]
    },
    {
      "cell_type": "code",
      "metadata": {
        "colab": {
          "base_uri": "https://localhost:8080/"
        },
        "id": "OOgQL8QOhfAL",
        "outputId": "858099e1-2b61-4f2c-af2f-4801dc1a203a"
      },
      "source": [
        "## Guardo los modelos en archivos\n",
        "\n",
        "filename = 'SVC_model.pkl'\n",
        "joblib.dump(modelSVC, filename)\n",
        "\n",
        "filename = 'NB_model.pkl'\n",
        "joblib.dump(modelNB, filename)\n",
        "\n",
        "filename = 'LOG_model.pkl'\n",
        "joblib.dump(modelLOG, filename)\n",
        "\n",
        "filename = 'RF_model.pkl'\n",
        "joblib.dump(modelRF, filename)\n",
        "\n",
        "filename = 'vectorizer.pkl'\n",
        "joblib.dump(vectorizer, filename)\n"
      ],
      "execution_count": 30,
      "outputs": [
        {
          "output_type": "execute_result",
          "data": {
            "text/plain": [
              "['vectorizer.pkl']"
            ]
          },
          "metadata": {
            "tags": []
          },
          "execution_count": 30
        }
      ]
    },
    {
      "cell_type": "markdown",
      "metadata": {
        "id": "BUmEdiRUh6-5"
      },
      "source": [
        "### Comparación de modelos de aprendizaje profundo"
      ]
    },
    {
      "cell_type": "markdown",
      "metadata": {
        "id": "fJtH8vKrh-Uz"
      },
      "source": [
        "#### Preparación de datos"
      ]
    },
    {
      "cell_type": "code",
      "metadata": {
        "colab": {
          "base_uri": "https://localhost:8080/"
        },
        "id": "dghA7c3sxAtV",
        "outputId": "0a561912-2f27-4fe2-9415-c65422a2a402"
      },
      "source": [
        "# Parámetros\n",
        "n_most_common_words = 8000\n",
        "max_len = 130\n",
        "\n",
        "# Creo tokenizador con todos los datos\n",
        "corpus = datos_trabajo[\"headline\"]\n",
        "tokenizer = Tokenizer(num_words=n_most_common_words, filters='!\"#$%&()*+,-./:;<=>?@[\\]^_`{|}~', lower=True)\n",
        "tokenizer.fit_on_texts(corpus.values)\n",
        "word_index = tokenizer.word_index\n",
        "print('Se encontraron %s tokens únicos' % len(word_index))"
      ],
      "execution_count": 31,
      "outputs": [
        {
          "output_type": "stream",
          "text": [
            "Se encontraron 31078 tokens únicos\n"
          ],
          "name": "stdout"
        }
      ]
    },
    {
      "cell_type": "code",
      "metadata": {
        "id": "kzSRaU0SxAqt"
      },
      "source": [
        "# Tokenización datos \n",
        "\n",
        "# Trabajo\n",
        "corpus_trabajo = datos_trabajo[\"headline\"]\n",
        "sequences = tokenizer.texts_to_sequences(corpus_trabajo.values)\n",
        "X = pad_sequences(sequences, maxlen=max_len)\n",
        "\n",
        "\n",
        "# Reserva\n",
        "corpus_reserva = datos_reserva[\"headline\"]\n",
        "sequences_reserva = tokenizer.texts_to_sequences(corpus_reserva.values)\n",
        "X_reserva = pad_sequences(sequences_reserva, maxlen=max_len)"
      ],
      "execution_count": 32,
      "outputs": []
    },
    {
      "cell_type": "code",
      "metadata": {
        "id": "7U0R2R33xONw"
      },
      "source": [
        "# Categorías\n",
        "\n",
        "# Categorías datos de trabajo\n",
        "\n",
        "labels = to_categorical(results_trabajo, num_classes=8)\n",
        "\n",
        "# Categorías datos reserva\n",
        "\n",
        "labels_reserva = to_categorical(results_reserva, num_classes=8)"
      ],
      "execution_count": 33,
      "outputs": []
    },
    {
      "cell_type": "code",
      "metadata": {
        "id": "1Sy5ee3lxfEi"
      },
      "source": [
        "# Train - Test Split\n",
        "\n",
        "x_train,x_test, y_train,y_test = train_test_split(X, labels, test_size=0.2, random_state=88 )"
      ],
      "execution_count": 34,
      "outputs": []
    },
    {
      "cell_type": "markdown",
      "metadata": {
        "id": "RkkhhKFRxVjn"
      },
      "source": [
        "#### Modelo base inicial"
      ]
    },
    {
      "cell_type": "code",
      "metadata": {
        "id": "rn-SCnVAhe59"
      },
      "source": [
        "# Parámetros de la red\n",
        "epochs = 20\n",
        "emb_dim = 128\n",
        "batch_size = 256"
      ],
      "execution_count": 35,
      "outputs": []
    },
    {
      "cell_type": "code",
      "metadata": {
        "colab": {
          "base_uri": "https://localhost:8080/"
        },
        "id": "1hrbCknLiHKz",
        "outputId": "8812339c-c157-4594-bc6a-f8e18c1f406c"
      },
      "source": [
        "# Creación del modelo y compilación\n",
        "\n",
        "model_base = tf.keras.Sequential([\n",
        "    tf.keras.layers.Embedding(n_most_common_words, emb_dim, input_length=X.shape[1]),\n",
        "    tf.keras.layers.Flatten(),\n",
        "    tf.keras.layers.Dropout(0.2),\n",
        "    tf.keras.layers.Dense(64, activation='relu'),\n",
        "    tf.keras.layers.Dense(8, activation='softmax')\n",
        "])\n",
        "model_base.summary()\n",
        "\n",
        "# Compilación\n",
        "\n",
        "model_base.compile(optimizer='adam', loss='categorical_crossentropy', metrics=['acc'])\n",
        "\n"
      ],
      "execution_count": 36,
      "outputs": [
        {
          "output_type": "stream",
          "text": [
            "Model: \"sequential\"\n",
            "_________________________________________________________________\n",
            "Layer (type)                 Output Shape              Param #   \n",
            "=================================================================\n",
            "embedding (Embedding)        (None, 130, 128)          1024000   \n",
            "_________________________________________________________________\n",
            "flatten (Flatten)            (None, 16640)             0         \n",
            "_________________________________________________________________\n",
            "dropout (Dropout)            (None, 16640)             0         \n",
            "_________________________________________________________________\n",
            "dense (Dense)                (None, 64)                1065024   \n",
            "_________________________________________________________________\n",
            "dense_1 (Dense)              (None, 8)                 520       \n",
            "=================================================================\n",
            "Total params: 2,089,544\n",
            "Trainable params: 2,089,544\n",
            "Non-trainable params: 0\n",
            "_________________________________________________________________\n"
          ],
          "name": "stdout"
        }
      ]
    },
    {
      "cell_type": "code",
      "metadata": {
        "colab": {
          "base_uri": "https://localhost:8080/"
        },
        "id": "ETC9VIsiiHH2",
        "outputId": "cdd46a96-ee02-4bba-a7d5-f6f0c09fc4a2"
      },
      "source": [
        "# Entrenamiento\n",
        "\n",
        "history_base = model_base.fit(x_train, y_train, epochs=epochs, batch_size=batch_size,validation_split=0.2,callbacks=[EarlyStopping(monitor='val_loss',patience=7, min_delta=0.0001)])\n",
        "\n"
      ],
      "execution_count": 37,
      "outputs": [
        {
          "output_type": "stream",
          "text": [
            "Epoch 1/20\n",
            "46/46 [==============================] - 5s 114ms/step - loss: 1.9688 - acc: 0.2251 - val_loss: 1.8203 - val_acc: 0.3818\n",
            "Epoch 2/20\n",
            "46/46 [==============================] - 5s 106ms/step - loss: 1.5326 - acc: 0.5573 - val_loss: 1.2942 - val_acc: 0.6491\n",
            "Epoch 3/20\n",
            "46/46 [==============================] - 5s 107ms/step - loss: 0.9068 - acc: 0.7578 - val_loss: 0.8898 - val_acc: 0.7188\n",
            "Epoch 4/20\n",
            "46/46 [==============================] - 5s 106ms/step - loss: 0.5144 - acc: 0.8542 - val_loss: 0.7532 - val_acc: 0.7559\n",
            "Epoch 5/20\n",
            "46/46 [==============================] - 5s 103ms/step - loss: 0.3084 - acc: 0.9254 - val_loss: 0.7046 - val_acc: 0.7843\n",
            "Epoch 6/20\n",
            "46/46 [==============================] - 5s 104ms/step - loss: 0.1795 - acc: 0.9688 - val_loss: 0.6958 - val_acc: 0.7850\n",
            "Epoch 7/20\n",
            "46/46 [==============================] - 5s 110ms/step - loss: 0.1051 - acc: 0.9873 - val_loss: 0.7046 - val_acc: 0.7864\n",
            "Epoch 8/20\n",
            "46/46 [==============================] - 5s 103ms/step - loss: 0.0607 - acc: 0.9959 - val_loss: 0.7248 - val_acc: 0.7850\n",
            "Epoch 9/20\n",
            "46/46 [==============================] - 5s 105ms/step - loss: 0.0397 - acc: 0.9980 - val_loss: 0.7479 - val_acc: 0.7833\n",
            "Epoch 10/20\n",
            "46/46 [==============================] - 5s 104ms/step - loss: 0.0255 - acc: 0.9992 - val_loss: 0.7576 - val_acc: 0.7847\n",
            "Epoch 11/20\n",
            "46/46 [==============================] - 5s 108ms/step - loss: 0.0189 - acc: 0.9997 - val_loss: 0.7747 - val_acc: 0.7854\n",
            "Epoch 12/20\n",
            "46/46 [==============================] - 5s 113ms/step - loss: 0.0140 - acc: 0.9997 - val_loss: 0.7948 - val_acc: 0.7847\n",
            "Epoch 13/20\n",
            "46/46 [==============================] - 5s 106ms/step - loss: 0.0110 - acc: 0.9998 - val_loss: 0.8111 - val_acc: 0.7857\n"
          ],
          "name": "stdout"
        }
      ]
    },
    {
      "cell_type": "code",
      "metadata": {
        "colab": {
          "base_uri": "https://localhost:8080/",
          "height": 295
        },
        "id": "T7js60gIiHFM",
        "outputId": "2e2b877d-a509-45ed-9c11-4635c2ffd278"
      },
      "source": [
        "# Resultados\n",
        "\n",
        "# Accuracy\n",
        "plot_acc(history_base)"
      ],
      "execution_count": 38,
      "outputs": [
        {
          "output_type": "display_data",
          "data": {
            "image/png": "[encoded data removed]",
            "text/plain": [
              "<Figure size 432x288 with 1 Axes>"
            ]
          },
          "metadata": {
            "tags": [],
            "needs_background": "light"
          }
        }
      ]
    },
    {
      "cell_type": "code",
      "metadata": {
        "colab": {
          "base_uri": "https://localhost:8080/",
          "height": 295
        },
        "id": "i5Gs7chsiHC6",
        "outputId": "ffecfbc3-62d7-4a1c-a7df-9813f98ab05c"
      },
      "source": [
        "# Loss\n",
        "plot_loss(history_base)"
      ],
      "execution_count": 39,
      "outputs": [
        {
          "output_type": "display_data",
          "data": {
            "image/png": "[encoded data removed]",
            "text/plain": [
              "<Figure size 432x288 with 1 Axes>"
            ]
          },
          "metadata": {
            "tags": [],
            "needs_background": "light"
          }
        }
      ]
    },
    {
      "cell_type": "markdown",
      "metadata": {
        "id": "D1QR0bC9uP9l"
      },
      "source": [
        "#### Modelo redes convolucionales - CNN"
      ]
    },
    {
      "cell_type": "code",
      "metadata": {
        "id": "pm0Dw2g7iHA8"
      },
      "source": [
        "# Parámetros de la red\n",
        "epochs = 20\n",
        "emb_dim = 128\n",
        "batch_size = 256"
      ],
      "execution_count": 40,
      "outputs": []
    },
    {
      "cell_type": "code",
      "metadata": {
        "colab": {
          "base_uri": "https://localhost:8080/"
        },
        "id": "vg4mZOaciG9o",
        "outputId": "4636d5bb-a044-4610-aac3-ae555cacaa4b"
      },
      "source": [
        "# Creación del modelo y compilación\n",
        "\n",
        "model_CNN = tf.keras.Sequential([\n",
        "    tf.keras.layers.Embedding(n_most_common_words, emb_dim, input_length=X.shape[1]),\n",
        "    tf.keras.layers.Conv1D(128, 8, activation='sigmoid'),\n",
        "    tf.keras.layers.GlobalAveragePooling1D(),\n",
        "    tf.keras.layers.Dropout(0.2),\n",
        "    tf.keras.layers.Dense(64, activation='relu'),\n",
        "    tf.keras.layers.Dense(8, activation='softmax')\n",
        "])\n",
        "\n",
        "# Compilación\n",
        "model_CNN.compile(optimizer='adam', loss='categorical_crossentropy', metrics=['acc'])\n",
        "\n",
        "model_CNN.summary()"
      ],
      "execution_count": 41,
      "outputs": [
        {
          "output_type": "stream",
          "text": [
            "Model: \"sequential_1\"\n",
            "_________________________________________________________________\n",
            "Layer (type)                 Output Shape              Param #   \n",
            "=================================================================\n",
            "embedding_1 (Embedding)      (None, 130, 128)          1024000   \n",
            "_________________________________________________________________\n",
            "conv1d (Conv1D)              (None, 123, 128)          131200    \n",
            "_________________________________________________________________\n",
            "global_average_pooling1d (Gl (None, 128)               0         \n",
            "_________________________________________________________________\n",
            "dropout_1 (Dropout)          (None, 128)               0         \n",
            "_________________________________________________________________\n",
            "dense_2 (Dense)              (None, 64)                8256      \n",
            "_________________________________________________________________\n",
            "dense_3 (Dense)              (None, 8)                 520       \n",
            "=================================================================\n",
            "Total params: 1,163,976\n",
            "Trainable params: 1,163,976\n",
            "Non-trainable params: 0\n",
            "_________________________________________________________________\n"
          ],
          "name": "stdout"
        }
      ]
    },
    {
      "cell_type": "code",
      "metadata": {
        "colab": {
          "base_uri": "https://localhost:8080/"
        },
        "id": "l0tVp98uu_cY",
        "outputId": "a4a9fe42-eea1-49b4-afa9-29c75344403a"
      },
      "source": [
        "# Entrenamiento\n",
        "\n",
        "history_CNN = model_CNN.fit(x_train, y_train, epochs=epochs, batch_size=batch_size,validation_split=0.2,callbacks=[EarlyStopping(monitor='val_loss',patience=7, min_delta=0.0001)])"
      ],
      "execution_count": 42,
      "outputs": [
        {
          "output_type": "stream",
          "text": [
            "Epoch 1/20\n",
            "46/46 [==============================] - 19s 403ms/step - loss: 2.0752 - acc: 0.1490 - val_loss: 2.0386 - val_acc: 0.1477\n",
            "Epoch 2/20\n",
            "46/46 [==============================] - 19s 415ms/step - loss: 2.0386 - acc: 0.1650 - val_loss: 2.0162 - val_acc: 0.2157\n",
            "Epoch 3/20\n",
            "46/46 [==============================] - 19s 403ms/step - loss: 1.9844 - acc: 0.2300 - val_loss: 1.9170 - val_acc: 0.3159\n",
            "Epoch 4/20\n",
            "46/46 [==============================] - 20s 424ms/step - loss: 1.8320 - acc: 0.3829 - val_loss: 1.7077 - val_acc: 0.5111\n",
            "Epoch 5/20\n",
            "46/46 [==============================] - 19s 419ms/step - loss: 1.5970 - acc: 0.4896 - val_loss: 1.4511 - val_acc: 0.6186\n",
            "Epoch 6/20\n",
            "46/46 [==============================] - 19s 414ms/step - loss: 1.3199 - acc: 0.6014 - val_loss: 1.2182 - val_acc: 0.6557\n",
            "Epoch 7/20\n",
            "46/46 [==============================] - 21s 447ms/step - loss: 1.0649 - acc: 0.6789 - val_loss: 1.0451 - val_acc: 0.6869\n",
            "Epoch 8/20\n",
            "46/46 [==============================] - 20s 425ms/step - loss: 0.8743 - acc: 0.7390 - val_loss: 0.9425 - val_acc: 0.7167\n",
            "Epoch 9/20\n",
            "46/46 [==============================] - 19s 410ms/step - loss: 0.7372 - acc: 0.7791 - val_loss: 0.8710 - val_acc: 0.7261\n",
            "Epoch 10/20\n",
            "46/46 [==============================] - 19s 408ms/step - loss: 0.6220 - acc: 0.8094 - val_loss: 0.8421 - val_acc: 0.7295\n",
            "Epoch 11/20\n",
            "46/46 [==============================] - 18s 400ms/step - loss: 0.5347 - acc: 0.8380 - val_loss: 0.8232 - val_acc: 0.7340\n",
            "Epoch 12/20\n",
            "46/46 [==============================] - 19s 405ms/step - loss: 0.4745 - acc: 0.8534 - val_loss: 0.8413 - val_acc: 0.7347\n",
            "Epoch 13/20\n",
            "46/46 [==============================] - 19s 406ms/step - loss: 0.4167 - acc: 0.8712 - val_loss: 0.8258 - val_acc: 0.7399\n",
            "Epoch 14/20\n",
            "46/46 [==============================] - 19s 408ms/step - loss: 0.3658 - acc: 0.8863 - val_loss: 0.8430 - val_acc: 0.7340\n",
            "Epoch 15/20\n",
            "46/46 [==============================] - 19s 411ms/step - loss: 0.3221 - acc: 0.9058 - val_loss: 0.8559 - val_acc: 0.7406\n",
            "Epoch 16/20\n",
            "46/46 [==============================] - 19s 411ms/step - loss: 0.2821 - acc: 0.9219 - val_loss: 0.8725 - val_acc: 0.7417\n",
            "Epoch 17/20\n",
            "46/46 [==============================] - 19s 412ms/step - loss: 0.2465 - acc: 0.9351 - val_loss: 0.9063 - val_acc: 0.7399\n",
            "Epoch 18/20\n",
            "46/46 [==============================] - 19s 412ms/step - loss: 0.2209 - acc: 0.9442 - val_loss: 0.9242 - val_acc: 0.7431\n"
          ],
          "name": "stdout"
        }
      ]
    },
    {
      "cell_type": "code",
      "metadata": {
        "colab": {
          "base_uri": "https://localhost:8080/",
          "height": 295
        },
        "id": "oV_07cplu_aB",
        "outputId": "05f48372-1699-4d5c-d5fa-485b44a46bc1"
      },
      "source": [
        "# Resultados\n",
        "\n",
        "# Accuracy\n",
        "plot_acc(history_CNN)"
      ],
      "execution_count": 43,
      "outputs": [
        {
          "output_type": "display_data",
          "data": {
            "image/png": "[encoded data removed]",
            "text/plain": [
              "<Figure size 432x288 with 1 Axes>"
            ]
          },
          "metadata": {
            "tags": [],
            "needs_background": "light"
          }
        }
      ]
    },
    {
      "cell_type": "code",
      "metadata": {
        "colab": {
          "base_uri": "https://localhost:8080/",
          "height": 295
        },
        "id": "mxoYOhbRu_WH",
        "outputId": "e7f1a549-bd46-42bf-8470-fc4a1343219e"
      },
      "source": [
        "# Loss\n",
        "plot_loss(history_CNN)"
      ],
      "execution_count": 44,
      "outputs": [
        {
          "output_type": "display_data",
          "data": {
            "image/png": "[encoded data removed]",
            "text/plain": [
              "<Figure size 432x288 with 1 Axes>"
            ]
          },
          "metadata": {
            "tags": [],
            "needs_background": "light"
          }
        }
      ]
    },
    {
      "cell_type": "markdown",
      "metadata": {
        "id": "MrV2vLHJuXr4"
      },
      "source": [
        "#### Modelo redes recurrentes"
      ]
    },
    {
      "cell_type": "code",
      "metadata": {
        "id": "JFubQi08vJQp"
      },
      "source": [
        "# Parámetros de la red\n",
        "epochs = 20\n",
        "emb_dim = 128\n",
        "batch_size = 256"
      ],
      "execution_count": 45,
      "outputs": []
    },
    {
      "cell_type": "code",
      "metadata": {
        "colab": {
          "base_uri": "https://localhost:8080/"
        },
        "id": "YED0fo30yeOj",
        "outputId": "4015e841-90e9-46cd-c632-aa4c4159d19c"
      },
      "source": [
        "# Creación del modelo y compilación\n",
        "\n",
        "model_RNN = tf.keras.Sequential([\n",
        "    tf.keras.layers.Embedding(n_most_common_words, emb_dim, input_length=X.shape[1]),\n",
        "    tf.keras.layers.SpatialDropout1D(0.7),\n",
        "    tf.keras.layers.LSTM(64, dropout=0.7, recurrent_dropout=0.7),\n",
        "    tf.keras.layers.Dropout(0.2),\n",
        "    tf.keras.layers.Dense(64, activation='relu'),\n",
        "    tf.keras.layers.Dense(8, activation='softmax')\n",
        "])\n",
        "model_RNN.summary()\n",
        "\n",
        "# Compilación\n",
        "\n",
        "model_RNN.compile(optimizer='adam', loss='categorical_crossentropy', metrics=['acc'])"
      ],
      "execution_count": 46,
      "outputs": [
        {
          "output_type": "stream",
          "text": [
            "Model: \"sequential_2\"\n",
            "_________________________________________________________________\n",
            "Layer (type)                 Output Shape              Param #   \n",
            "=================================================================\n",
            "embedding_2 (Embedding)      (None, 130, 128)          1024000   \n",
            "_________________________________________________________________\n",
            "spatial_dropout1d (SpatialDr (None, 130, 128)          0         \n",
            "_________________________________________________________________\n",
            "lstm (LSTM)                  (None, 64)                49408     \n",
            "_________________________________________________________________\n",
            "dropout_2 (Dropout)          (None, 64)                0         \n",
            "_________________________________________________________________\n",
            "dense_4 (Dense)              (None, 64)                4160      \n",
            "_________________________________________________________________\n",
            "dense_5 (Dense)              (None, 8)                 520       \n",
            "=================================================================\n",
            "Total params: 1,078,088\n",
            "Trainable params: 1,078,088\n",
            "Non-trainable params: 0\n",
            "_________________________________________________________________\n"
          ],
          "name": "stdout"
        }
      ]
    },
    {
      "cell_type": "code",
      "metadata": {
        "colab": {
          "base_uri": "https://localhost:8080/"
        },
        "id": "AwGv__zjvM92",
        "outputId": "155d33a2-1569-4239-cafa-82818e97708a"
      },
      "source": [
        "model_RNN = Sequential()\n",
        "model_RNN.add(Embedding(n_most_common_words, emb_dim, input_length=X.shape[1]))\n",
        "model_RNN.add(SpatialDropout1D(0.7))\n",
        "model_RNN.add(LSTM(64, dropout=0.7, recurrent_dropout=0.7))\n",
        "model_RNN.add(Dense(8, activation='softmax'))\n",
        "model_RNN.compile(optimizer='adam', loss='categorical_crossentropy', metrics=['acc'])\n",
        "print(model_RNN.summary())\n",
        "#history = model.fit(x_train, y_train, epochs=epochs, batch_size=batch_size,validation_split=0.2,callbacks=[EarlyStopping(monitor='val_loss',patience=7, min_delta=0.0001)])"
      ],
      "execution_count": 47,
      "outputs": [
        {
          "output_type": "stream",
          "text": [
            "Model: \"sequential_3\"\n",
            "_________________________________________________________________\n",
            "Layer (type)                 Output Shape              Param #   \n",
            "=================================================================\n",
            "embedding_3 (Embedding)      (None, 130, 128)          1024000   \n",
            "_________________________________________________________________\n",
            "spatial_dropout1d_1 (Spatial (None, 130, 128)          0         \n",
            "_________________________________________________________________\n",
            "lstm_1 (LSTM)                (None, 64)                49408     \n",
            "_________________________________________________________________\n",
            "dense_6 (Dense)              (None, 8)                 520       \n",
            "=================================================================\n",
            "Total params: 1,073,928\n",
            "Trainable params: 1,073,928\n",
            "Non-trainable params: 0\n",
            "_________________________________________________________________\n",
            "None\n"
          ],
          "name": "stdout"
        }
      ]
    },
    {
      "cell_type": "code",
      "metadata": {
        "colab": {
          "base_uri": "https://localhost:8080/"
        },
        "id": "0eNMa5kBvPxt",
        "outputId": "5da640e1-c28c-4410-f4c0-54bf337f409e"
      },
      "source": [
        "history_RNN = model_RNN.fit(x_train, y_train, epochs=epochs, batch_size=batch_size,validation_split=0.2,callbacks=[EarlyStopping(monitor='val_loss',patience=7, min_delta=0.0001)])"
      ],
      "execution_count": 48,
      "outputs": [
        {
          "output_type": "stream",
          "text": [
            "Epoch 1/20\n",
            "46/46 [==============================] - 23s 495ms/step - loss: 2.0459 - acc: 0.1659 - val_loss: 1.9797 - val_acc: 0.2334\n",
            "Epoch 2/20\n",
            "46/46 [==============================] - 23s 505ms/step - loss: 1.8733 - acc: 0.2668 - val_loss: 1.6792 - val_acc: 0.3159\n",
            "Epoch 3/20\n",
            "46/46 [==============================] - 24s 518ms/step - loss: 1.6624 - acc: 0.3668 - val_loss: 1.5177 - val_acc: 0.4303\n",
            "Epoch 4/20\n",
            "46/46 [==============================] - 23s 507ms/step - loss: 1.4507 - acc: 0.4796 - val_loss: 1.1910 - val_acc: 0.6193\n",
            "Epoch 5/20\n",
            "46/46 [==============================] - 23s 503ms/step - loss: 1.2116 - acc: 0.5849 - val_loss: 0.9712 - val_acc: 0.6935\n",
            "Epoch 6/20\n",
            "46/46 [==============================] - 23s 497ms/step - loss: 1.0488 - acc: 0.6401 - val_loss: 0.9256 - val_acc: 0.6997\n",
            "Epoch 7/20\n",
            "46/46 [==============================] - 23s 494ms/step - loss: 0.9399 - acc: 0.6821 - val_loss: 0.8515 - val_acc: 0.7292\n",
            "Epoch 8/20\n",
            "46/46 [==============================] - 23s 493ms/step - loss: 0.8706 - acc: 0.7031 - val_loss: 0.8232 - val_acc: 0.7410\n",
            "Epoch 9/20\n",
            "46/46 [==============================] - 23s 494ms/step - loss: 0.7928 - acc: 0.7356 - val_loss: 0.7795 - val_acc: 0.7559\n",
            "Epoch 10/20\n",
            "46/46 [==============================] - 23s 494ms/step - loss: 0.7311 - acc: 0.7579 - val_loss: 0.7908 - val_acc: 0.7552\n",
            "Epoch 11/20\n",
            "46/46 [==============================] - 22s 489ms/step - loss: 0.7013 - acc: 0.7658 - val_loss: 0.7679 - val_acc: 0.7718\n",
            "Epoch 12/20\n",
            "46/46 [==============================] - 23s 503ms/step - loss: 0.6488 - acc: 0.7870 - val_loss: 0.7529 - val_acc: 0.7805\n",
            "Epoch 13/20\n",
            "46/46 [==============================] - 23s 499ms/step - loss: 0.6180 - acc: 0.7972 - val_loss: 0.7654 - val_acc: 0.7746\n",
            "Epoch 14/20\n",
            "46/46 [==============================] - 23s 494ms/step - loss: 0.6064 - acc: 0.7988 - val_loss: 0.7660 - val_acc: 0.7843\n",
            "Epoch 15/20\n",
            "46/46 [==============================] - 23s 510ms/step - loss: 0.5610 - acc: 0.8181 - val_loss: 0.7446 - val_acc: 0.7871\n",
            "Epoch 16/20\n",
            "46/46 [==============================] - 23s 500ms/step - loss: 0.5398 - acc: 0.8243 - val_loss: 0.7378 - val_acc: 0.7958\n",
            "Epoch 17/20\n",
            "46/46 [==============================] - 23s 508ms/step - loss: 0.5225 - acc: 0.8294 - val_loss: 0.7377 - val_acc: 0.8003\n",
            "Epoch 18/20\n",
            "46/46 [==============================] - 24s 513ms/step - loss: 0.5026 - acc: 0.8375 - val_loss: 0.7715 - val_acc: 0.7951\n",
            "Epoch 19/20\n",
            "46/46 [==============================] - 23s 501ms/step - loss: 0.4753 - acc: 0.8465 - val_loss: 0.7302 - val_acc: 0.8058\n",
            "Epoch 20/20\n",
            "46/46 [==============================] - 23s 499ms/step - loss: 0.4572 - acc: 0.8554 - val_loss: 0.7503 - val_acc: 0.8051\n"
          ],
          "name": "stdout"
        }
      ]
    },
    {
      "cell_type": "code",
      "metadata": {
        "colab": {
          "base_uri": "https://localhost:8080/",
          "height": 295
        },
        "id": "HB8xTs4QvPvN",
        "outputId": "aac94644-f062-4848-a9b6-8af5132fe2e9"
      },
      "source": [
        "# Resultados\n",
        "\n",
        "# Accuracy\n",
        "plot_acc(history_RNN)"
      ],
      "execution_count": 49,
      "outputs": [
        {
          "output_type": "display_data",
          "data": {
            "image/png": "[encoded data removed]",
            "text/plain": [
              "<Figure size 432x288 with 1 Axes>"
            ]
          },
          "metadata": {
            "tags": [],
            "needs_background": "light"
          }
        }
      ]
    },
    {
      "cell_type": "code",
      "metadata": {
        "colab": {
          "base_uri": "https://localhost:8080/",
          "height": 295
        },
        "id": "gbP-TrVpvSZA",
        "outputId": "f5a7c6d9-7e20-4098-a1e2-0edef7061ee5"
      },
      "source": [
        "# Loss\n",
        "plot_loss(history_RNN)"
      ],
      "execution_count": 50,
      "outputs": [
        {
          "output_type": "display_data",
          "data": {
            "image/png": "[encoded data removed]",
            "text/plain": [
              "<Figure size 432x288 with 1 Axes>"
            ]
          },
          "metadata": {
            "tags": [],
            "needs_background": "light"
          }
        }
      ]
    },
    {
      "cell_type": "markdown",
      "metadata": {
        "id": "tFpRRxTzuXnz"
      },
      "source": [
        "#### Comparación de modelos"
      ]
    },
    {
      "cell_type": "code",
      "metadata": {
        "colab": {
          "base_uri": "https://localhost:8080/",
          "height": 295
        },
        "id": "yXhhr5RWvVmk",
        "outputId": "1a97c892-fca4-452e-8f32-3865bc9f6b68"
      },
      "source": [
        "# Comparación NN vs CNN - Accuracy\n",
        "plot_compare_accs(history_base, history_CNN, 'NN', 'CNN', 'ACCURACY')"
      ],
      "execution_count": 51,
      "outputs": [
        {
          "output_type": "display_data",
          "data": {
            "image/png": "[encoded data removed]",
            "text/plain": [
              "<Figure size 432x288 with 1 Axes>"
            ]
          },
          "metadata": {
            "tags": [],
            "needs_background": "light"
          }
        }
      ]
    },
    {
      "cell_type": "code",
      "metadata": {
        "colab": {
          "base_uri": "https://localhost:8080/",
          "height": 295
        },
        "id": "20GrCu7fvX4q",
        "outputId": "0c5c2448-0d63-4754-8584-57c70d4e5785"
      },
      "source": [
        "# Comparación NN vs CNN - Loss\n",
        "plot_compare_losses(history_base, history_CNN, 'NN', 'CNN', 'LOSS')"
      ],
      "execution_count": 52,
      "outputs": [
        {
          "output_type": "display_data",
          "data": {
            "image/png": "[encoded data removed]",
            "text/plain": [
              "<Figure size 432x288 with 1 Axes>"
            ]
          },
          "metadata": {
            "tags": [],
            "needs_background": "light"
          }
        }
      ]
    },
    {
      "cell_type": "code",
      "metadata": {
        "colab": {
          "base_uri": "https://localhost:8080/",
          "height": 295
        },
        "id": "L79Rt0BTvX16",
        "outputId": "f6c57e69-9518-4acb-bc55-b5dfdd00d369"
      },
      "source": [
        "# Comparación CNN vs RNN - Accuracy\n",
        "plot_compare_accs(history_CNN, history_RNN, 'CNN', 'RNN', 'ACCURACY')"
      ],
      "execution_count": 53,
      "outputs": [
        {
          "output_type": "display_data",
          "data": {
            "image/png": "[encoded data removed]",
            "text/plain": [
              "<Figure size 432x288 with 1 Axes>"
            ]
          },
          "metadata": {
            "tags": [],
            "needs_background": "light"
          }
        }
      ]
    },
    {
      "cell_type": "code",
      "metadata": {
        "colab": {
          "base_uri": "https://localhost:8080/",
          "height": 295
        },
        "id": "BxX4XbIOvXzJ",
        "outputId": "6c0f3b09-0cbb-41e9-cd48-6126caf18ac9"
      },
      "source": [
        "# Comparación CNN vs RNN - Loss\n",
        "plot_compare_losses(history_CNN, history_RNN, 'CNN', 'RNN', 'LOSS')"
      ],
      "execution_count": 54,
      "outputs": [
        {
          "output_type": "display_data",
          "data": {
            "image/png": "[encoded data removed]",
            "text/plain": [
              "<Figure size 432x288 with 1 Axes>"
            ]
          },
          "metadata": {
            "tags": [],
            "needs_background": "light"
          }
        }
      ]
    },
    {
      "cell_type": "markdown",
      "metadata": {
        "id": "Gla4-OBruXiw"
      },
      "source": [
        "#### Prueba de modelos de aprendizaje profundo"
      ]
    },
    {
      "cell_type": "code",
      "metadata": {
        "colab": {
          "base_uri": "https://localhost:8080/"
        },
        "id": "Xzg7CVvuveTH",
        "outputId": "e1f3d548-cc71-47d2-bcf4-316af4dcf327"
      },
      "source": [
        "# Prueba con textos de datos de reserva\n",
        "\n",
        "text1=datos_reserva[\"headline\"][120]\n",
        "text2=datos_reserva[\"headline\"][55]\n",
        "text3=datos_reserva[\"headline\"][88]\n",
        "\n",
        "print(\"Texto 1: \", text1)\n",
        "print(\"Categoria real: \",datos_reserva[\"label\"][120])\n",
        "\n",
        "print(\"Texto 2: \", text2)\n",
        "print(\"Categoria real: \",datos_reserva[\"label\"][55])\n",
        "\n",
        "print(\"Texto 3: \", text3)\n",
        "print(\"Categoria real: \",datos_reserva[\"label\"][88])"
      ],
      "execution_count": 55,
      "outputs": [
        {
          "output_type": "stream",
          "text": [
            "Texto 1:  Refugees in the eastern German town of Jueterbog are sewing face masks for pensioners in a retirement home that has a shortage of facial coverings for elderly residents at heightened risk of coronavirus infection.\n",
            "Categoria real:  health\n",
            "Texto 2:  Activision Blizzard is betting big on children's fantasy adventure game \"Skylanders\" this holiday, with the launch of a new title on Sunday and plans for more mobile versions of the console game.\n",
            "Categoria real:  lifestyle\n",
            "Texto 3:  Lane Thomas clubbed a two-run homer in the second inning and Justin Williams hit a solo blast later in the frame to help the St. Louis Cardinals post a 7-5 victory over the host Houston Astros on Wednesday at West Palm Beach, Fla.\n",
            "Categoria real:  sports\n"
          ],
          "name": "stdout"
        }
      ]
    },
    {
      "cell_type": "code",
      "metadata": {
        "id": "w1INALZaveOq"
      },
      "source": [
        "# Función para prueba\n",
        "\n",
        "def newscategorifier_n(a, modelo_probar):\n",
        "    clf=modelo_probar\n",
        "    # Tokenizacion\n",
        "    corpus_1=[]\n",
        "    corpus_1.append(a)\n",
        "    corpus_2=pd.Series(corpus_1)\n",
        "    sequences_reserva = tokenizer.texts_to_sequences(corpus_2.values)\n",
        "    transform_vect_reserva= pad_sequences(sequences_reserva, maxlen=max_len)\n",
        "    print(transform_vect_reserva)\n",
        "\n",
        "    prediccion=clf.predict(transform_vect_reserva)\n",
        "    prediccion_a = np.array(prediccion)\n",
        "    print(prediccion_a)    \n",
        "    indice_max = prediccion_a.argmax()\n",
        "    print(indice_max)\n",
        "\n",
        "    if indice_max == 0:\n",
        "       print(category_dict_inv[0])\n",
        "    elif indice_max == 1:\n",
        "       print(category_dict_inv[1])\n",
        "    elif indice_max == 2:\n",
        "      print(category_dict_inv[2])\n",
        "    elif indice_max == 3:\n",
        "      print(category_dict_inv[3])\n",
        "    elif indice_max == 4:\n",
        "      print(category_dict_inv[4])    \n",
        "    elif indice_max == 5:\n",
        "      print(category_dict_inv[5])\n",
        "    elif indice_max == 6:\n",
        "      print(category_dict_inv[6]) \n",
        "    else:\n",
        "      print(category_dict_inv[7])"
      ],
      "execution_count": 56,
      "outputs": []
    },
    {
      "cell_type": "code",
      "metadata": {
        "colab": {
          "base_uri": "https://localhost:8080/"
        },
        "id": "ps8ltBCIvlPk",
        "outputId": "b27d6ec5-6146-459f-fdd4-23cb7c93c07e"
      },
      "source": [
        "# Prueba Única\n",
        "\n",
        "test=datos_reserva[\"headline\"][120]\n",
        "  \n",
        "corpus_t=[]\n",
        "corpus_t.append(test)\n",
        "corpus_t=pd.Series(corpus_t)\n",
        "  \n",
        "  \n",
        "sequences_reserva = tokenizer.texts_to_sequences(corpus_t.values)\n",
        "transform_vect_reserva= pad_sequences(sequences_reserva, maxlen=max_len)\n",
        "\n",
        "transform_vect_reserva"
      ],
      "execution_count": 57,
      "outputs": [
        {
          "output_type": "execute_result",
          "data": {
            "text/plain": [
              "array([[   0,    0,    0,    0,    0,    0,    0,    0,    0,    0,    0,\n",
              "           0,    0,    0,    0,    0,    0,    0,    0,    0,    0,    0,\n",
              "           0,    0,    0,    0,    0,    0,    0,    0,    0,    0,    0,\n",
              "           0,    0,    0,    0,    0,    0,    0,    0,    0,    0,    0,\n",
              "           0,    0,    0,    0,    0,    0,    0,    0,    0,    0,    0,\n",
              "           0,    0,    0,    0,    0,    0,    0,    0,    0,    0,    0,\n",
              "           0,    0,    0,    0,    0,    0,    0,    0,    0,    0,    0,\n",
              "           0,    0,    0,    0,    0,    0,    0,    0,    0,    0,    0,\n",
              "           0,    0,    0,    0,    0,    0,    0,    0,    0,    0, 7331,\n",
              "           6,    1,  823,  235,  807,    4,   38, 7330,  336, 1485,    9,\n",
              "           6,    3, 2232,  193,   12,   18,    3, 2623,    4, 5580, 7805,\n",
              "           9, 3208,  633,   21, 3810,  324,    4,   30, 1282]],\n",
              "      dtype=int32)"
            ]
          },
          "metadata": {
            "tags": []
          },
          "execution_count": 57
        }
      ]
    },
    {
      "cell_type": "code",
      "metadata": {
        "colab": {
          "base_uri": "https://localhost:8080/"
        },
        "id": "U9gSe8kavlM6",
        "outputId": "5d9059ea-0dff-4cfa-af74-b801ec79512e"
      },
      "source": [
        "X_reserva[120]"
      ],
      "execution_count": 58,
      "outputs": [
        {
          "output_type": "execute_result",
          "data": {
            "text/plain": [
              "array([   0,    0,    0,    0,    0,    0,    0,    0,    0,    0,    0,\n",
              "          0,    0,    0,    0,    0,    0,    0,    0,    0,    0,    0,\n",
              "          0,    0,    0,    0,    0,    0,    0,    0,    0,    0,    0,\n",
              "          0,    0,    0,    0,    0,    0,    0,    0,    0,    0,    0,\n",
              "          0,    0,    0,    0,    0,    0,    0,    0,    0,    0,    0,\n",
              "          0,    0,    0,    0,    0,    0,    0,    0,    0,    0,    0,\n",
              "          0,    0,    0,    0,    0,    0,    0,    0,    0,    0,    0,\n",
              "          0,    0,    0,    0,    0,    0,    0,    0,    0,    0,    0,\n",
              "          0,    0,    0,    0,    0,    0,    0,    0,    0,    0, 7331,\n",
              "          6,    1,  823,  235,  807,    4,   38, 7330,  336, 1485,    9,\n",
              "          6,    3, 2232,  193,   12,   18,    3, 2623,    4, 5580, 7805,\n",
              "          9, 3208,  633,   21, 3810,  324,    4,   30, 1282], dtype=int32)"
            ]
          },
          "metadata": {
            "tags": []
          },
          "execution_count": 58
        }
      ]
    },
    {
      "cell_type": "code",
      "metadata": {
        "colab": {
          "base_uri": "https://localhost:8080/"
        },
        "id": "xSifyEkcvnIl",
        "outputId": "5094295c-3a23-4193-972b-31efff7704b6"
      },
      "source": [
        "# Prueba con función\n",
        "\n",
        "clasificar_texto=text1\n",
        "print(clasificar_texto)\n",
        "\n",
        "print(\"Modelo NN\")\n",
        "print(newscategorifier_n(clasificar_texto, model_base))\n",
        "\n",
        "print(\" \")\n",
        "print(\"Modelo CNN\")\n",
        "print(newscategorifier_n(clasificar_texto, model_CNN))\n",
        "\n",
        "print(\" \")\n",
        "print(\"Modelo RNN\")\n",
        "print(newscategorifier_n(clasificar_texto, model_RNN))\n"
      ],
      "execution_count": 59,
      "outputs": [
        {
          "output_type": "stream",
          "text": [
            "Refugees in the eastern German town of Jueterbog are sewing face masks for pensioners in a retirement home that has a shortage of facial coverings for elderly residents at heightened risk of coronavirus infection.\n",
            "Modelo NN\n",
            "[[   0    0    0    0    0    0    0    0    0    0    0    0    0    0\n",
            "     0    0    0    0    0    0    0    0    0    0    0    0    0    0\n",
            "     0    0    0    0    0    0    0    0    0    0    0    0    0    0\n",
            "     0    0    0    0    0    0    0    0    0    0    0    0    0    0\n",
            "     0    0    0    0    0    0    0    0    0    0    0    0    0    0\n",
            "     0    0    0    0    0    0    0    0    0    0    0    0    0    0\n",
            "     0    0    0    0    0    0    0    0    0    0    0    0    0    0\n",
            "  7331    6    1  823  235  807    4   38 7330  336 1485    9    6    3\n",
            "  2232  193   12   18    3 2623    4 5580 7805    9 3208  633   21 3810\n",
            "   324    4   30 1282]]\n",
            "[[9.7311121e-01 3.0303029e-03 4.0855519e-03 6.1066862e-04 7.7576563e-03\n",
            "  6.5478892e-04 2.6072345e-03 8.1426837e-03]]\n",
            "0\n",
            "enviroment\n",
            "None\n",
            " \n",
            "Modelo CNN\n",
            "[[   0    0    0    0    0    0    0    0    0    0    0    0    0    0\n",
            "     0    0    0    0    0    0    0    0    0    0    0    0    0    0\n",
            "     0    0    0    0    0    0    0    0    0    0    0    0    0    0\n",
            "     0    0    0    0    0    0    0    0    0    0    0    0    0    0\n",
            "     0    0    0    0    0    0    0    0    0    0    0    0    0    0\n",
            "     0    0    0    0    0    0    0    0    0    0    0    0    0    0\n",
            "     0    0    0    0    0    0    0    0    0    0    0    0    0    0\n",
            "  7331    6    1  823  235  807    4   38 7330  336 1485    9    6    3\n",
            "  2232  193   12   18    3 2623    4 5580 7805    9 3208  633   21 3810\n",
            "   324    4   30 1282]]\n",
            "[[9.3774635e-01 4.3763383e-04 5.1002833e-04 2.4641532e-02 8.0926757e-04\n",
            "  2.6811133e-05 1.5887450e-02 1.9940957e-02]]\n",
            "0\n",
            "enviroment\n",
            "None\n",
            " \n",
            "Modelo RNN\n",
            "[[   0    0    0    0    0    0    0    0    0    0    0    0    0    0\n",
            "     0    0    0    0    0    0    0    0    0    0    0    0    0    0\n",
            "     0    0    0    0    0    0    0    0    0    0    0    0    0    0\n",
            "     0    0    0    0    0    0    0    0    0    0    0    0    0    0\n",
            "     0    0    0    0    0    0    0    0    0    0    0    0    0    0\n",
            "     0    0    0    0    0    0    0    0    0    0    0    0    0    0\n",
            "     0    0    0    0    0    0    0    0    0    0    0    0    0    0\n",
            "  7331    6    1  823  235  807    4   38 7330  336 1485    9    6    3\n",
            "  2232  193   12   18    3 2623    4 5580 7805    9 3208  633   21 3810\n",
            "   324    4   30 1282]]\n",
            "[[9.5900649e-01 2.5243772e-02 4.6154382e-03 8.8535692e-04 1.9304150e-03\n",
            "  2.6341458e-03 8.5493567e-04 4.8295050e-03]]\n",
            "0\n",
            "enviroment\n",
            "None\n"
          ],
          "name": "stdout"
        }
      ]
    },
    {
      "cell_type": "markdown",
      "metadata": {
        "id": "zQ9QF2UyuleE"
      },
      "source": [
        "#### Generación de archivos de modelos de aprendizaje profundo"
      ]
    },
    {
      "cell_type": "code",
      "metadata": {
        "id": "eOjJMJY9vsIt"
      },
      "source": [
        "## Guardo los modelos en archivos\n",
        "\n",
        "\n",
        "model_base.save('model_base.h5') \n",
        "\n",
        "model_CNN.save('model_CNN.h5') \n",
        "\n",
        "model_RNN.save('model_RNN.h5') "
      ],
      "execution_count": 60,
      "outputs": []
    },
    {
      "cell_type": "code",
      "metadata": {
        "id": "FrPumuBRQbqs"
      },
      "source": [
        ""
      ],
      "execution_count": 60,
      "outputs": []
    }
  ]
}