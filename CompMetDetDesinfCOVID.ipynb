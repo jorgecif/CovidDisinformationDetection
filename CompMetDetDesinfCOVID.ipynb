{
  "nbformat": 4,
  "nbformat_minor": 0,
  "metadata": {
    "colab": {
      "name": "TFM-ComparacionMetodosDeteccionDesinformacionCOVID",
      "provenance": [],
      "collapsed_sections": [],
      "mount_file_id": "1CinOxTVpDT-25XKQKX3W9lH7hCeQzOYd",
      "authorship_tag": "ABX9TyN28wsqtEhD/vGz3VXu/H9x",
      "include_colab_link": true
    },
    "kernelspec": {
      "display_name": "Python 3",
      "name": "python3"
    }
  },
  "cells": [
    {
      "cell_type": "markdown",
      "metadata": {
        "id": "view-in-github",
        "colab_type": "text"
      },
      "source": [
        "<a href=\"https://colab.research.google.com/github/jorgecif/CovidDisinformationDetection/blob/main/CompMetDetDesinfCOVID.ipynb\" target=\"_parent\"><img src=\"https://colab.research.google.com/assets/colab-badge.svg\" alt=\"Open In Colab\"/></a>"
      ]
    },
    {
      "cell_type": "markdown",
      "metadata": {
        "id": "lKRG-YkxAAh5"
      },
      "source": [
        "# **Detección de desinformación relacionada con COVID19** - Comparación de modelos de aprendizaje automático y aprendizaje profundo\n",
        "\n",
        "\n",
        "> Por: Jorge Orlando Cifuentes Cifuentes\n",
        "\n",
        "\n"
      ]
    },
    {
      "cell_type": "markdown",
      "metadata": {
        "id": "Ylc1iyYChHwo"
      },
      "source": [
        "**Modelos a comparar**\n",
        "\n",
        "*   Aprendizaje automático: Naïve Bayes, Random Forest, Logistic, SVM\n",
        "*   Aprendizaje profundo: Redes neuronales básicas, redes neuronales convolucionales, redes neuronales recurrentes.\n"
      ]
    },
    {
      "cell_type": "markdown",
      "metadata": {
        "id": "yx7FUXUlCBtf"
      },
      "source": [
        "### Librerías y funciones"
      ]
    },
    {
      "cell_type": "code",
      "metadata": {
        "id": "n7FiZIspB_9s"
      },
      "source": [
        "# Generales\n",
        "import warnings\n",
        "warnings.filterwarnings('ignore')\n",
        "#import csv\n",
        "#import tensorflow as tf\n",
        "import pandas as pd\n",
        "import numpy as np\n",
        "import joblib # Para exportar el modelo\n",
        "import time\n",
        "\n",
        "# Gráficas\n",
        "import matplotlib.pyplot as plt\n",
        "import seaborn as sns\n",
        "\n",
        "# Machine learning\n",
        "from sklearn.feature_extraction.text import CountVectorizer\n",
        "from sklearn.linear_model import LogisticRegression # Logistic\n",
        "from sklearn.ensemble import RandomForestClassifier # Random Forest\n",
        "from sklearn.svm import LinearSVC # Support Vector\n",
        "from sklearn.naive_bayes import MultinomialNB # Naive Bayes\n",
        "from sklearn.model_selection import cross_val_score\n",
        "from sklearn.model_selection import train_test_split\n",
        "\n",
        "# Machine learning\n",
        "from sklearn.feature_extraction.text import CountVectorizer\n",
        "from sklearn.model_selection import cross_val_score\n",
        "from sklearn.model_selection import train_test_split\n",
        "from keras.layers import Dense, Input, GlobalMaxPooling1D, LSTM\n",
        "from keras.layers import Conv1D, MaxPooling1D, Embedding, Dropout, Activation, Flatten\n",
        "\n",
        "\n",
        "from sklearn.feature_extraction.text import CountVectorizer\n",
        "from keras.preprocessing.text import Tokenizer\n",
        "from keras.preprocessing.sequence import pad_sequences\n",
        "from keras.utils.np_utils import to_categorical\n",
        "from keras.models import Model\n",
        "from keras.models import Sequential\n",
        "from keras.callbacks import EarlyStopping\n",
        "\n",
        "\n",
        "import tensorflow as tf\n",
        "from tensorflow.keras import layers\n",
        "from tensorflow.keras import Model\n"
      ],
      "execution_count": null,
      "outputs": []
    },
    {
      "cell_type": "code",
      "metadata": {
        "id": "dXyRjtTWmBLV"
      },
      "source": [
        "# Funciones para comparar modelos\n",
        "\n",
        "def plot_acc(history, title=\"Model Accuracy\"):\n",
        "    \"\"\"Imprime una gráfica mostrando la accuracy por epoch obtenida en un entrenamiento\"\"\"\n",
        "    plt.plot(history.history['acc']) # Modifico \"acc\" por \"accuracy\"\n",
        "    plt.plot(history.history['val_acc']) # Modifico \"val_acc\" por \"val_accuracy\"\n",
        "    plt.title(title)\n",
        "    plt.ylabel('Accuracy')\n",
        "    plt.xlabel('Epoch')\n",
        "    plt.legend(['Train', 'Val'], loc='upper left')\n",
        "    plt.show()\n",
        "    \n",
        "def plot_loss(history, title=\"Model Loss\"):\n",
        "    \"\"\"Imprime una gráfica mostrando la pérdida por epoch obtenida en un entrenamiento\"\"\"\n",
        "    plt.plot(history.history['loss'])\n",
        "    plt.plot(history.history['val_loss'])\n",
        "    plt.title(title)\n",
        "    plt.ylabel('Loss')\n",
        "    plt.xlabel('Epoch')\n",
        "    plt.legend(['Train', 'Val'], loc='upper right')\n",
        "    plt.show()\n",
        "    \n",
        "def plot_compare_losses(history1, history2, name1=\"Red 1\",\n",
        "                        name2=\"Red 2\", title=\"Graph title\"):\n",
        "    \"\"\"Compara losses de dos entrenamientos con nombres name1 y name2\"\"\"\n",
        "    plt.plot(history1.history['loss'], color=\"green\")\n",
        "    plt.plot(history1.history['val_loss'], 'r--', color=\"green\")\n",
        "    plt.plot(history2.history['loss'], color=\"blue\")\n",
        "    plt.plot(history2.history['val_loss'], 'r--', color=\"blue\")\n",
        "    plt.title(title)\n",
        "    plt.ylabel('Loss')\n",
        "    plt.xlabel('Epoch')\n",
        "    plt.legend(['Train ' + name1, 'Val ' + name1, \n",
        "                'Train ' + name2, 'Val ' + name2],\n",
        "               loc='upper right')\n",
        "    plt.show()\n",
        "    \n",
        "def plot_compare_accs(history1, history2, name1=\"Red 1\",\n",
        "                      name2=\"Red 2\", title=\"Graph title\"):\n",
        "    \"\"\"Compara accuracies de dos entrenamientos con nombres name1 y name2\"\"\"\n",
        "    plt.plot(history1.history['acc'], color=\"green\")\n",
        "    plt.plot(history1.history['val_acc'], 'r--', color=\"green\")\n",
        "    plt.plot(history2.history['acc'], color=\"blue\")\n",
        "    plt.plot(history2.history['val_acc'], 'r--', color=\"blue\")\n",
        "    plt.title(title)\n",
        "    plt.ylabel('Accuracy')\n",
        "    plt.xlabel('Epoch')\n",
        "    plt.legend(['Train ' + name1, 'Val ' + name1, \n",
        "                'Train ' + name2, 'Val ' + name2], \n",
        "               loc='lower right')\n",
        "    plt.show()\n",
        "\n",
        "def plot_compare_accs3(history1, history2, history3, name1=\"Red 1\",\n",
        "                      name2=\"Red 2\", name3=\"Red 3\", title=\"Graph title\"):\n",
        "    \"\"\"Compara accuracies de tres entrenamientos con nombres name1, name2 y name3\"\"\"\n",
        "    plt.plot(history1.history['acc'], color=\"green\")\n",
        "    plt.plot(history1.history['val_acc'], 'r--', color=\"green\")\n",
        "    plt.plot(history2.history['acc'], color=\"blue\")\n",
        "    plt.plot(history2.history['val_acc'], 'r--', color=\"blue\")\n",
        "    plt.plot(history3.history['acc'], color=\"red\")\n",
        "    plt.plot(history3.history['val_acc'], 'r--', color=\"red\")\n",
        "    plt.title(title)\n",
        "    plt.ylabel('Accuracy')\n",
        "    plt.xlabel('Epoch')\n",
        "    plt.legend(['Train ' + name1, 'Val ' + name1,\n",
        "                'Train ' + name2, 'Val ' + name2,  \n",
        "                'Train ' + name3, 'Val ' + name3], \n",
        "               loc='lower right')\n",
        "    plt.show()\n",
        "\n",
        "def plot_compare_losses3(history1, history2, history3, name1=\"Red 1\",\n",
        "                        name2=\"Red 2\", name3=\"Red 3\", title=\"Graph title\"):\n",
        "    \"\"\"Compara losses de tres entrenamientos con nombres name1, name2 y name3\"\"\"\n",
        "    plt.plot(history1.history['loss'], color=\"green\")\n",
        "    plt.plot(history1.history['val_loss'], 'r--', color=\"green\")\n",
        "    plt.plot(history2.history['loss'], color=\"blue\")\n",
        "    plt.plot(history2.history['val_loss'], 'r--', color=\"blue\")\n",
        "    plt.plot(history3.history['loss'], color=\"red\")\n",
        "    plt.plot(history3.history['val_loss'], 'r--', color=\"red\")\n",
        "    plt.title(title)\n",
        "    plt.ylabel('Loss')\n",
        "    plt.xlabel('Epoch')\n",
        "    plt.legend(['Train ' + name1, 'Val ' + name1, \n",
        "                'Train ' + name2, 'Val ' + name2,\n",
        "                'Train ' + name3, 'Val ' + name3],\n",
        "               loc='upper right')\n",
        "    plt.show()\n",
        "\n"
      ],
      "execution_count": null,
      "outputs": []
    },
    {
      "cell_type": "markdown",
      "metadata": {
        "id": "ZfmfhxSOCH_f"
      },
      "source": [
        "### Carga de datos"
      ]
    },
    {
      "cell_type": "code",
      "metadata": {
        "colab": {
          "base_uri": "https://localhost:8080/",
          "height": 669
        },
        "id": "r4Gu6usy63PS",
        "outputId": "e8e42d7d-1b41-4394-a247-cf73e532f86f"
      },
      "source": [
        "# Carga de datos\n",
        "#url_datos = 'https://github.com/jorgecif/CovidMisinformationDetection/blob/main/data/CovidHeadlinesDataset.xlsx?raw=true' \n",
        "\n",
        "url_datos=\"https://github.com/jorgecif/CovidDisinformationDetection/blob/main/data/CovidHeadlinesDataset2.xlsx?raw=true\"\n",
        "\n",
        "datos = pd.read_excel(url_datos)\n",
        "\n",
        "print(\"Se han cargado \", datos.shape[0], \" noticias\")\n",
        "\n",
        "# Muestra de los datos\n",
        "print(len(datos))\n",
        "datos.head(20)\n"
      ],
      "execution_count": null,
      "outputs": [
        {
          "output_type": "stream",
          "text": [
            "Se han cargado  15357  noticias\n",
            "15357\n"
          ],
          "name": "stdout"
        },
        {
          "output_type": "execute_result",
          "data": {
            "text/html": [
              "<div>\n",
              "<style scoped>\n",
              "    .dataframe tbody tr th:only-of-type {\n",
              "        vertical-align: middle;\n",
              "    }\n",
              "\n",
              "    .dataframe tbody tr th {\n",
              "        vertical-align: top;\n",
              "    }\n",
              "\n",
              "    .dataframe thead th {\n",
              "        text-align: right;\n",
              "    }\n",
              "</style>\n",
              "<table border=\"1\" class=\"dataframe\">\n",
              "  <thead>\n",
              "    <tr style=\"text-align: right;\">\n",
              "      <th></th>\n",
              "      <th>Text</th>\n",
              "      <th>country</th>\n",
              "      <th>lang</th>\n",
              "      <th>label</th>\n",
              "      <th>URL</th>\n",
              "      <th>date</th>\n",
              "      <th>verificado_por</th>\n",
              "    </tr>\n",
              "  </thead>\n",
              "  <tbody>\n",
              "    <tr>\n",
              "      <th>0</th>\n",
              "      <td>Britain’s Death Toll from the Coronavirus Riva...</td>\n",
              "      <td>United Kingdom</td>\n",
              "      <td>English</td>\n",
              "      <td>True</td>\n",
              "      <td>https://www.snopes.com/ap/2020/05/05/britains-...</td>\n",
              "      <td>2020-02-02 00:00:00</td>\n",
              "      <td>snopes</td>\n",
              "    </tr>\n",
              "    <tr>\n",
              "      <th>1</th>\n",
              "      <td>Timeline Reset: CDC Confirms Weeks-Earlier Cal...</td>\n",
              "      <td>United States</td>\n",
              "      <td>English</td>\n",
              "      <td>True</td>\n",
              "      <td>https://www.snopes.com/ap/2020/04/22/timeline-...</td>\n",
              "      <td>2020-06-03 00:00:00</td>\n",
              "      <td>snopes</td>\n",
              "    </tr>\n",
              "    <tr>\n",
              "      <th>2</th>\n",
              "      <td>Dentists, Hair Salons, Beaches: Lockdowns Ease...</td>\n",
              "      <td>United States</td>\n",
              "      <td>English</td>\n",
              "      <td>True</td>\n",
              "      <td>https://www.snopes.com/ap/2020/04/20/dentists-...</td>\n",
              "      <td>2020-08-03 00:00:00</td>\n",
              "      <td>snopes</td>\n",
              "    </tr>\n",
              "    <tr>\n",
              "      <th>3</th>\n",
              "      <td>33 Million Have Sought US Unemployment Aid Sin...</td>\n",
              "      <td>United States</td>\n",
              "      <td>English</td>\n",
              "      <td>True</td>\n",
              "      <td>https://www.snopes.com/ap/2020/05/07/33-millio...</td>\n",
              "      <td>2020-09-03 00:00:00</td>\n",
              "      <td>snopes</td>\n",
              "    </tr>\n",
              "    <tr>\n",
              "      <th>4</th>\n",
              "      <td>United States ‘Wasted’ Months Before Preparing...</td>\n",
              "      <td>United States</td>\n",
              "      <td>English</td>\n",
              "      <td>True</td>\n",
              "      <td>https://www.snopes.com/ap/2020/04/05/u-s-waste...</td>\n",
              "      <td>2020-03-04 00:00:00</td>\n",
              "      <td>snopes</td>\n",
              "    </tr>\n",
              "    <tr>\n",
              "      <th>5</th>\n",
              "      <td>Was March 2020 the First March Since 2002 With...</td>\n",
              "      <td>United States</td>\n",
              "      <td>English</td>\n",
              "      <td>True</td>\n",
              "      <td>https://www.snopes.com/fact-check/march-2020-s...</td>\n",
              "      <td>2020-03-04 00:00:00</td>\n",
              "      <td>snopes</td>\n",
              "    </tr>\n",
              "    <tr>\n",
              "      <th>6</th>\n",
              "      <td>US Intel: Coronavirus Not Manmade, Still Study...</td>\n",
              "      <td>United States</td>\n",
              "      <td>English</td>\n",
              "      <td>True</td>\n",
              "      <td>https://www.snopes.com/ap/2020/04/30/us-intel-...</td>\n",
              "      <td>2020-04-03 00:00:00</td>\n",
              "      <td>snopes</td>\n",
              "    </tr>\n",
              "    <tr>\n",
              "      <th>7</th>\n",
              "      <td>Astrologers had predicted the appearance of a ...</td>\n",
              "      <td>Ukraine</td>\n",
              "      <td>English</td>\n",
              "      <td>False</td>\n",
              "      <td>https://t.me/voxcheck/355</td>\n",
              "      <td>2020-03-14 00:00:00</td>\n",
              "      <td>VoxCheck</td>\n",
              "    </tr>\n",
              "    <tr>\n",
              "      <th>8</th>\n",
              "      <td>Ministry of Health confirms new case of coron...</td>\n",
              "      <td>Ecuador</td>\n",
              "      <td>English</td>\n",
              "      <td>False</td>\n",
              "      <td>https://www.facebook.com/EcuadorChequea/photos...</td>\n",
              "      <td>2020-03-02 00:00:00</td>\n",
              "      <td>Ecuador Chequea</td>\n",
              "    </tr>\n",
              "    <tr>\n",
              "      <th>9</th>\n",
              "      <td>The Vatican Confirms That Pope Francis Was Inf...</td>\n",
              "      <td>Middle East</td>\n",
              "      <td>English</td>\n",
              "      <td>False</td>\n",
              "      <td>https://misbar.com/factcheck/5e5bd565d4a229253...</td>\n",
              "      <td>2020-04-03 00:00:00</td>\n",
              "      <td>Misbar</td>\n",
              "    </tr>\n",
              "    <tr>\n",
              "      <th>10</th>\n",
              "      <td>Fake Video Clip Shows Killing of Infected Peop...</td>\n",
              "      <td>Middle East</td>\n",
              "      <td>English</td>\n",
              "      <td>False</td>\n",
              "      <td>https://misbar.com/factcheck/5e4548e3d4a22950d...</td>\n",
              "      <td>2020-04-03 00:00:00</td>\n",
              "      <td>Misbar</td>\n",
              "    </tr>\n",
              "    <tr>\n",
              "      <th>11</th>\n",
              "      <td>A viral message shared on Whatsapp and Faceboo...</td>\n",
              "      <td>Germany</td>\n",
              "      <td>German</td>\n",
              "      <td>False</td>\n",
              "      <td>https://correctiv.org/faktencheck/2020/04/03/c...</td>\n",
              "      <td>2020-04-03 00:00:00</td>\n",
              "      <td>Correctiv</td>\n",
              "    </tr>\n",
              "    <tr>\n",
              "      <th>12</th>\n",
              "      <td>Leader of North Korea Kim Jong-Un Visits an In...</td>\n",
              "      <td>Middle East</td>\n",
              "      <td>English</td>\n",
              "      <td>False</td>\n",
              "      <td>https://misbar.com/factcheck/5e73625fd4a229144...</td>\n",
              "      <td>2020-04-03 00:00:00</td>\n",
              "      <td>Misbar</td>\n",
              "    </tr>\n",
              "    <tr>\n",
              "      <th>13</th>\n",
              "      <td>The Italian Medical Sector Is Angry At Ronaldo.</td>\n",
              "      <td>Middle East</td>\n",
              "      <td>English</td>\n",
              "      <td>False</td>\n",
              "      <td>https://misbar.com/factcheck/5e6e8de7d4a2295a7...</td>\n",
              "      <td>2020-04-03 00:00:00</td>\n",
              "      <td>Misbar</td>\n",
              "    </tr>\n",
              "    <tr>\n",
              "      <th>14</th>\n",
              "      <td>If Russian people do not obey mandatory isolat...</td>\n",
              "      <td>Portugal</td>\n",
              "      <td>English</td>\n",
              "      <td>False</td>\n",
              "      <td>https://www.facebook.com/sergiocarlos78/posts/...</td>\n",
              "      <td>2020-04-02 00:00:00</td>\n",
              "      <td>Poligrafo</td>\n",
              "    </tr>\n",
              "    <tr>\n",
              "      <th>15</th>\n",
              "      <td>Emirati singer Ahlam’s Mask Is Crowned With Di...</td>\n",
              "      <td>Middle East</td>\n",
              "      <td>English</td>\n",
              "      <td>False</td>\n",
              "      <td>https://misbar.com/factcheck/5e708768d4a22918d...</td>\n",
              "      <td>2020-04-03 00:00:00</td>\n",
              "      <td>Misbar</td>\n",
              "    </tr>\n",
              "    <tr>\n",
              "      <th>16</th>\n",
              "      <td>Due to the pandemic measures in Turkey, landl...</td>\n",
              "      <td>Turkey</td>\n",
              "      <td>Tagalog</td>\n",
              "      <td>False</td>\n",
              "      <td>http://mythdetector.ge/en/myth/who-spreads-con...</td>\n",
              "      <td>2020-05-06 00:00:00</td>\n",
              "      <td>Teyit</td>\n",
              "    </tr>\n",
              "    <tr>\n",
              "      <th>17</th>\n",
              "      <td>A video of bat infested roof claimed to be fro...</td>\n",
              "      <td>India</td>\n",
              "      <td>Tagalog</td>\n",
              "      <td>False</td>\n",
              "      <td>https://english.factcrescendo.com/chinas-sourc...</td>\n",
              "      <td>2020-02-03 00:00:00</td>\n",
              "      <td>FactCrescendo</td>\n",
              "    </tr>\n",
              "    <tr>\n",
              "      <th>18</th>\n",
              "      <td>McDonald’s is reopening in the UK from Monday ...</td>\n",
              "      <td>United Kingdom</td>\n",
              "      <td>Tagalog</td>\n",
              "      <td>False</td>\n",
              "      <td>https://factcheck.afp.com/false-claim-circulat...</td>\n",
              "      <td>2020-04-27 00:00:00</td>\n",
              "      <td>Full Fact</td>\n",
              "    </tr>\n",
              "    <tr>\n",
              "      <th>19</th>\n",
              "      <td>The drug “arbidol” can help from the new coron...</td>\n",
              "      <td>Ukraine</td>\n",
              "      <td>English</td>\n",
              "      <td>False</td>\n",
              "      <td>https://www.facebook.com/VoxCheck/photos/a.258...</td>\n",
              "      <td>2020-02-20 00:00:00</td>\n",
              "      <td>VoxCheck</td>\n",
              "    </tr>\n",
              "  </tbody>\n",
              "</table>\n",
              "</div>"
            ],
            "text/plain": [
              "                                                 Text  ...   verificado_por\n",
              "0   Britain’s Death Toll from the Coronavirus Riva...  ...           snopes\n",
              "1   Timeline Reset: CDC Confirms Weeks-Earlier Cal...  ...           snopes\n",
              "2   Dentists, Hair Salons, Beaches: Lockdowns Ease...  ...           snopes\n",
              "3   33 Million Have Sought US Unemployment Aid Sin...  ...           snopes\n",
              "4   United States ‘Wasted’ Months Before Preparing...  ...           snopes\n",
              "5   Was March 2020 the First March Since 2002 With...  ...           snopes\n",
              "6   US Intel: Coronavirus Not Manmade, Still Study...  ...           snopes\n",
              "7   Astrologers had predicted the appearance of a ...  ...         VoxCheck\n",
              "8    Ministry of Health confirms new case of coron...  ...  Ecuador Chequea\n",
              "9   The Vatican Confirms That Pope Francis Was Inf...  ...           Misbar\n",
              "10  Fake Video Clip Shows Killing of Infected Peop...  ...           Misbar\n",
              "11  A viral message shared on Whatsapp and Faceboo...  ...        Correctiv\n",
              "12  Leader of North Korea Kim Jong-Un Visits an In...  ...           Misbar\n",
              "13    The Italian Medical Sector Is Angry At Ronaldo.  ...           Misbar\n",
              "14  If Russian people do not obey mandatory isolat...  ...        Poligrafo\n",
              "15  Emirati singer Ahlam’s Mask Is Crowned With Di...  ...           Misbar\n",
              "16   Due to the pandemic measures in Turkey, landl...  ...            Teyit\n",
              "17  A video of bat infested roof claimed to be fro...  ...    FactCrescendo\n",
              "18  McDonald’s is reopening in the UK from Monday ...  ...        Full Fact\n",
              "19  The drug “arbidol” can help from the new coron...  ...         VoxCheck\n",
              "\n",
              "[20 rows x 7 columns]"
            ]
          },
          "metadata": {
            "tags": []
          },
          "execution_count": 187
        }
      ]
    },
    {
      "cell_type": "code",
      "metadata": {
        "colab": {
          "base_uri": "https://localhost:8080/"
        },
        "id": "jXwKQcHdbscV",
        "outputId": "552fe441-45aa-4eca-c931-f8124c8b71a8"
      },
      "source": [
        "# Verifico si hay valores nulos\n",
        "datos.info() "
      ],
      "execution_count": null,
      "outputs": [
        {
          "output_type": "stream",
          "text": [
            "<class 'pandas.core.frame.DataFrame'>\n",
            "RangeIndex: 15357 entries, 0 to 15356\n",
            "Data columns (total 7 columns):\n",
            " #   Column          Non-Null Count  Dtype \n",
            "---  ------          --------------  ----- \n",
            " 0   Text            15357 non-null  object\n",
            " 1   country         15357 non-null  object\n",
            " 2   lang            15357 non-null  object\n",
            " 3   label           15357 non-null  bool  \n",
            " 4   URL             15259 non-null  object\n",
            " 5   date            15183 non-null  object\n",
            " 6   verificado_por  15357 non-null  object\n",
            "dtypes: bool(1), object(6)\n",
            "memory usage: 735.0+ KB\n"
          ],
          "name": "stdout"
        }
      ]
    },
    {
      "cell_type": "code",
      "metadata": {
        "colab": {
          "base_uri": "https://localhost:8080/"
        },
        "id": "fZcw5Y39bsgr",
        "outputId": "05912cc5-c921-423e-985d-adc838cb34d6"
      },
      "source": [
        "#Elimino duplicados de todas las columnas\n",
        "\n",
        "datos2 = datos.drop_duplicates()\n",
        "print(len(datos2))\n",
        "\n",
        "# Elimino ambiguedades\n",
        "\n",
        "datos3=datos2.drop_duplicates(['Text'], keep='first') # Elimino ambieguedades\n",
        "print(len(datos3))"
      ],
      "execution_count": null,
      "outputs": [
        {
          "output_type": "stream",
          "text": [
            "15315\n",
            "13045\n"
          ],
          "name": "stdout"
        }
      ]
    },
    {
      "cell_type": "code",
      "metadata": {
        "colab": {
          "base_uri": "https://localhost:8080/",
          "height": 340
        },
        "id": "w35gYmHRbxoV",
        "outputId": "e39f3579-f559-4d40-e462-611ac4f2bb98"
      },
      "source": [
        "# Revuelvo los registros\n",
        "datos3 = datos3.sample(frac = 1, random_state= 88) \n",
        "datos3=datos3.reset_index()\n",
        "datos3=datos3.drop([\"index\"], axis=1)\n",
        "\n",
        "# Muestra de los datos\n",
        "datos3.head(10)\n",
        "#print(len(datos))"
      ],
      "execution_count": null,
      "outputs": [
        {
          "output_type": "execute_result",
          "data": {
            "text/html": [
              "<div>\n",
              "<style scoped>\n",
              "    .dataframe tbody tr th:only-of-type {\n",
              "        vertical-align: middle;\n",
              "    }\n",
              "\n",
              "    .dataframe tbody tr th {\n",
              "        vertical-align: top;\n",
              "    }\n",
              "\n",
              "    .dataframe thead th {\n",
              "        text-align: right;\n",
              "    }\n",
              "</style>\n",
              "<table border=\"1\" class=\"dataframe\">\n",
              "  <thead>\n",
              "    <tr style=\"text-align: right;\">\n",
              "      <th></th>\n",
              "      <th>Text</th>\n",
              "      <th>country</th>\n",
              "      <th>lang</th>\n",
              "      <th>label</th>\n",
              "      <th>URL</th>\n",
              "      <th>date</th>\n",
              "      <th>verificado_por</th>\n",
              "    </tr>\n",
              "  </thead>\n",
              "  <tbody>\n",
              "    <tr>\n",
              "      <th>0</th>\n",
              "      <td>There is an herbal cure for COVID-19.</td>\n",
              "      <td>Sri Lanka</td>\n",
              "      <td>English</td>\n",
              "      <td>False</td>\n",
              "      <td>http://u.afp.com/asafoetidacoronavirus</td>\n",
              "      <td>2020-02-27 00:00:00</td>\n",
              "      <td>u.afp</td>\n",
              "    </tr>\n",
              "    <tr>\n",
              "      <th>1</th>\n",
              "      <td>This graphics shows that the number of death ...</td>\n",
              "      <td>France</td>\n",
              "      <td>French</td>\n",
              "      <td>False</td>\n",
              "      <td>https://factuel.afp.com/non-ce-visuel-ne-montr...</td>\n",
              "      <td>2020/05/08</td>\n",
              "      <td>AFP</td>\n",
              "    </tr>\n",
              "    <tr>\n",
              "      <th>2</th>\n",
              "      <td>Central Park hospital tents housed thousands o...</td>\n",
              "      <td>United States</td>\n",
              "      <td>English</td>\n",
              "      <td>False</td>\n",
              "      <td>https://www.rappler.com/newsbreak/fact-check/2...</td>\n",
              "      <td>2020-05-03 00:00:00</td>\n",
              "      <td>PolitiFact</td>\n",
              "    </tr>\n",
              "    <tr>\n",
              "      <th>3</th>\n",
              "      <td>Having 14 face masks is enough. You can reuse ...</td>\n",
              "      <td>Taiwan</td>\n",
              "      <td>Korean</td>\n",
              "      <td>False</td>\n",
              "      <td>https://tfc-taiwan.org.tw/articles/2599</td>\n",
              "      <td>2020-02-18 00:00:00</td>\n",
              "      <td>Taiwan FactCheck Center</td>\n",
              "    </tr>\n",
              "    <tr>\n",
              "      <th>4</th>\n",
              "      <td>CRAS (a social care center) is distributing 49...</td>\n",
              "      <td>Brazil</td>\n",
              "      <td>Portuguese</td>\n",
              "      <td>False</td>\n",
              "      <td>https://tamil.factcrescendo.com/factcheck-musl...</td>\n",
              "      <td>2020-05-04 00:00:00</td>\n",
              "      <td>Agência Lupa</td>\n",
              "    </tr>\n",
              "    <tr>\n",
              "      <th>5</th>\n",
              "      <td>Ivermectine destroys coronavirus in 48 hours.</td>\n",
              "      <td>Colombia</td>\n",
              "      <td>Spanish</td>\n",
              "      <td>False</td>\n",
              "      <td>https://colombiacheck.com/chequeos/falta-mucho...</td>\n",
              "      <td>2020/04/08</td>\n",
              "      <td>Colombiacheck</td>\n",
              "    </tr>\n",
              "    <tr>\n",
              "      <th>6</th>\n",
              "      <td>The Torre Latinoamericana in Mexico City was ...</td>\n",
              "      <td>Mexico</td>\n",
              "      <td>Spanish</td>\n",
              "      <td>False</td>\n",
              "      <td>https://spondeomedia.com/falso-la-torre-latino...</td>\n",
              "      <td>2020/04/07</td>\n",
              "      <td>Spondeo Media</td>\n",
              "    </tr>\n",
              "    <tr>\n",
              "      <th>7</th>\n",
              "      <td>Americans singing Indian National Anthem than...</td>\n",
              "      <td>India</td>\n",
              "      <td>Hindi</td>\n",
              "      <td>False</td>\n",
              "      <td>https://www.factcrescendo.com/fact-check-ameri...</td>\n",
              "      <td>2020/04/26</td>\n",
              "      <td>FactCrescendo</td>\n",
              "    </tr>\n",
              "    <tr>\n",
              "      <th>8</th>\n",
              "      <td>Disinfectant gel causes cancer.</td>\n",
              "      <td>France</td>\n",
              "      <td>French</td>\n",
              "      <td>False</td>\n",
              "      <td>https://factuel.afp.com/non-le-gel-desinfectan...</td>\n",
              "      <td>2020/03/02</td>\n",
              "      <td>AFP</td>\n",
              "    </tr>\n",
              "    <tr>\n",
              "      <th>9</th>\n",
              "      <td>Image of poor family in Uttar Pradesh, India ...</td>\n",
              "      <td>India</td>\n",
              "      <td>Tamil</td>\n",
              "      <td>False</td>\n",
              "      <td>https://leadstories.com/hoax-alert/2020/04/Fac...</td>\n",
              "      <td>2020-04-23 00:00:00</td>\n",
              "      <td>FactCrescendo</td>\n",
              "    </tr>\n",
              "  </tbody>\n",
              "</table>\n",
              "</div>"
            ],
            "text/plain": [
              "                                                Text  ...           verificado_por\n",
              "0              There is an herbal cure for COVID-19.  ...                    u.afp\n",
              "1   This graphics shows that the number of death ...  ...                      AFP\n",
              "2  Central Park hospital tents housed thousands o...  ...               PolitiFact\n",
              "3  Having 14 face masks is enough. You can reuse ...  ...  Taiwan FactCheck Center\n",
              "4  CRAS (a social care center) is distributing 49...  ...             Agência Lupa\n",
              "5      Ivermectine destroys coronavirus in 48 hours.  ...            Colombiacheck\n",
              "6   The Torre Latinoamericana in Mexico City was ...  ...            Spondeo Media\n",
              "7   Americans singing Indian National Anthem than...  ...            FactCrescendo\n",
              "8                    Disinfectant gel causes cancer.  ...                      AFP\n",
              "9   Image of poor family in Uttar Pradesh, India ...  ...            FactCrescendo\n",
              "\n",
              "[10 rows x 7 columns]"
            ]
          },
          "metadata": {
            "tags": []
          },
          "execution_count": 190
        }
      ]
    },
    {
      "cell_type": "code",
      "metadata": {
        "colab": {
          "base_uri": "https://localhost:8080/",
          "height": 164
        },
        "id": "pMVIwcbR9CG9",
        "outputId": "8cec6b6f-78e3-44d1-b2d3-4c9b7ea49471"
      },
      "source": [
        "# Descripción de los datos\n",
        "\n",
        "datos3.describe(include=\"all\")"
      ],
      "execution_count": null,
      "outputs": [
        {
          "output_type": "execute_result",
          "data": {
            "text/html": [
              "<div>\n",
              "<style scoped>\n",
              "    .dataframe tbody tr th:only-of-type {\n",
              "        vertical-align: middle;\n",
              "    }\n",
              "\n",
              "    .dataframe tbody tr th {\n",
              "        vertical-align: top;\n",
              "    }\n",
              "\n",
              "    .dataframe thead th {\n",
              "        text-align: right;\n",
              "    }\n",
              "</style>\n",
              "<table border=\"1\" class=\"dataframe\">\n",
              "  <thead>\n",
              "    <tr style=\"text-align: right;\">\n",
              "      <th></th>\n",
              "      <th>Text</th>\n",
              "      <th>country</th>\n",
              "      <th>lang</th>\n",
              "      <th>label</th>\n",
              "      <th>URL</th>\n",
              "      <th>date</th>\n",
              "      <th>verificado_por</th>\n",
              "    </tr>\n",
              "  </thead>\n",
              "  <tbody>\n",
              "    <tr>\n",
              "      <th>count</th>\n",
              "      <td>13045</td>\n",
              "      <td>13045</td>\n",
              "      <td>13045</td>\n",
              "      <td>13045</td>\n",
              "      <td>12968</td>\n",
              "      <td>12894</td>\n",
              "      <td>13045</td>\n",
              "    </tr>\n",
              "    <tr>\n",
              "      <th>unique</th>\n",
              "      <td>13045</td>\n",
              "      <td>127</td>\n",
              "      <td>50</td>\n",
              "      <td>2</td>\n",
              "      <td>8225</td>\n",
              "      <td>315</td>\n",
              "      <td>129</td>\n",
              "    </tr>\n",
              "    <tr>\n",
              "      <th>top</th>\n",
              "      <td>The Simpsons predicted the coronavirus.</td>\n",
              "      <td>India</td>\n",
              "      <td>English</td>\n",
              "      <td>False</td>\n",
              "      <td>http://www.ecuadorchequea.com/las-mentiras-sob...</td>\n",
              "      <td>2020-04-03 00:00:00</td>\n",
              "      <td>AFP</td>\n",
              "    </tr>\n",
              "    <tr>\n",
              "      <th>freq</th>\n",
              "      <td>1</td>\n",
              "      <td>2380</td>\n",
              "      <td>6817</td>\n",
              "      <td>11921</td>\n",
              "      <td>14</td>\n",
              "      <td>680</td>\n",
              "      <td>971</td>\n",
              "    </tr>\n",
              "  </tbody>\n",
              "</table>\n",
              "</div>"
            ],
            "text/plain": [
              "                                           Text  ... verificado_por\n",
              "count                                     13045  ...          13045\n",
              "unique                                    13045  ...            129\n",
              "top     The Simpsons predicted the coronavirus.  ...            AFP\n",
              "freq                                          1  ...            971\n",
              "\n",
              "[4 rows x 7 columns]"
            ]
          },
          "metadata": {
            "tags": []
          },
          "execution_count": 191
        }
      ]
    },
    {
      "cell_type": "markdown",
      "metadata": {
        "id": "iwbD8NQy0iD8"
      },
      "source": [
        "### Exploración inicial de los datos"
      ]
    },
    {
      "cell_type": "code",
      "metadata": {
        "colab": {
          "base_uri": "https://localhost:8080/",
          "height": 1000
        },
        "id": "aXesedXt3WzO",
        "outputId": "4cba4c60-5196-4793-b991-f0f868077186"
      },
      "source": [
        "# Reviso las 10 primeras categorías de cada variable categórica\n",
        "\n",
        "for col in datos3.columns:\n",
        "    print('-' * 40 + col + '-' * 40 , end=' - ')\n",
        "    display(datos3[col].value_counts().head(10))"
      ],
      "execution_count": null,
      "outputs": [
        {
          "output_type": "stream",
          "text": [
            "----------------------------------------Text---------------------------------------- - "
          ],
          "name": "stdout"
        },
        {
          "output_type": "display_data",
          "data": {
            "text/plain": [
              "The Simpsons predicted the coronavirus.                                                                                                                                                                                                                                                                                                                                                                                                                                                                                                                                                                                                                                                                                                                                                                                                                                                                                                                                                                                                                                                                                                                                                                                                                                                                                                                                                                                                                                                                                                                                                                                                                                                                                                                                                                                                                                                                                                                                                                                                                                                                                                                                                                                                                                                                                                                                                                                                                                                                                                                                                                                                                                                                                                                                                                                                                                                                                                                                                                                                                                         1\n",
              " China names COVID-19 the ”Japanese pneumonia”.                                                                                                                                                                                                                                                                                                                                                                                                                                                                                                                                                                                                                                                                                                                                                                                                                                                                                                                                                                                                                                                                                                                                                                                                                                                                                                                                                                                                                                                                                                                                                                                                                                                                                                                                                                                                                                                                                                                                                                                                                                                                                                                                                                                                                                                                                                                                                                                                                                                                                                                                                                                                                                                                                                                                                                                                                                                                                                                                                                                                                                 1\n",
              "An Indian politician claimed that the strain of coronavirus in India is less virulent mutation.                                                                                                                                                                                                                                                                                                                                                                                                                                                                                                                                                                                                                                                                                                                                                                                                                                                                                                                                                                                                                                                                                                                                                                                                                                                                                                                                                                                                                                                                                                                                                                                                                                                                                                                                                                                                                                                                                                                                                                                                                                                                                                                                                                                                                                                                                                                                                                                                                                                                                                                                                                                                                                                                                                                                                                                                                                                                                                                                                                                 1\n",
              " During the coronavirus pandemic, Colombia is the country with more corruption according to a survey.                                                                                                                                                                                                                                                                                                                                                                                                                                                                                                                                                                                                                                                                                                                                                                                                                                                                                                                                                                                                                                                                                                                                                                                                                                                                                                                                                                                                                                                                                                                                                                                                                                                                                                                                                                                                                                                                                                                                                                                                                                                                                                                                                                                                                                                                                                                                                                                                                                                                                                                                                                                                                                                                                                                                                                                                                                                                                                                                                                           1\n",
              "A Facebok post suggests that China has created the new coronavirus in order to kill 1% of its population.                                                                                                                                                                                                                                                                                                                                                                                                                                                                                                                                                                                                                                                                                                                                                                                                                                                                                                                                                                                                                                                                                                                                                                                                                                                                                                                                                                                                                                                                                                                                                                                                                                                                                                                                                                                                                                                                                                                                                                                                                                                                                                                                                                                                                                                                                                                                                                                                                                                                                                                                                                                                                                                                                                                                                                                                                                                                                                                                                                       1\n",
              "Madagascar found a medicine for COVID19 and will start distributing to the entire world.                                                                                                                                                                                                                                                                                                                                                                                                                                                                                                                                                                                                                                                                                                                                                                                                                                                                                                                                                                                                                                                                                                                                                                                                                                                                                                                                                                                                                                                                                                                                                                                                                                                                                                                                                                                                                                                                                                                                                                                                                                                                                                                                                                                                                                                                                                                                                                                                                                                                                                                                                                                                                                                                                                                                                                                                                                                                                                                                                                                        1\n",
              "In two videos of a YouTube channel it is said that in Ibagué there are cases of COVID-19 and that the Colombian government is covering it up.                                                                                                                                                                                                                                                                                                                                                                                                                                                                                                                                                                                                                                                                                                                                                                                                                                                                                                                                                                                                                                                                                                                                                                                                                                                                                                                                                                                                                                                                                                                                                                                                                                                                                                                                                                                                                                                                                                                                                                                                                                                                                                                                                                                                                                                                                                                                                                                                                                                                                                                                                                                                                                                                                                                                                                                                                                                                                                                                   1\n",
              "Ansa news has reported that former ECB Governor Mario Draghi will lead the Italian task-force against COVID-19.                                                                                                                                                                                                                                                                                                                                                                                                                                                                                                                                                                                                                                                                                                                                                                                                                                                                                                                                                                                                                                                                                                                                                                                                                                                                                                                                                                                                                                                                                                                                                                                                                                                                                                                                                                                                                                                                                                                                                                                                                                                                                                                                                                                                                                                                                                                                                                                                                                                                                                                                                                                                                                                                                                                                                                                                                                                                                                                                                                 1\n",
              "Passengers tested as SA virus checks riseMore China evacuations likely as toll growsSpecial subscription offer: $1 for the first 28 daysIn a national first, SA Health and SAPOL are using the mobile phones of a couple in the Royal Adelaide Hospital with coronavirus to track their movements after they arrived in Adelaide on January 21 from Guangzhou.It is known the Chinese couple attended an auction at 4 Pam St Firle at 6.30pm the following day and authorities are contacting up to 30 people who were at the event, while auctioneer Ray White Real Estate at Dulwich has temporarily closed as a precaution.media_cameraRay White Real Estate is temporarily closed, following an auction in Firle which two coronavirus patients attended. Picture: Tait SchmaalAuthorities interviewed the couple, both 60, at the RAH on Saturday but Chief Public Health Officer Associate Professor Nicola Spurrier felt a second interview on Sunday was “imperative”.She would not be drawn on whether the couple had been evasive about their movements, noting there are language barriers, the couple are not familiar with Adelaide and had been “compliant” in the Sunday interview.“Our public health officers interview people on a very regular basis and I was led to believe that we perhaps needed to go back and interview the couple and their daughter again which we did,” she said.MORE IN news‘How could it happen?’ Taskforce to probe how Ann Marie was failedpremium_icon‘How could it happen?’ Taskforce to probe how Ann Marie was failedHospital treats 27 riders with ‘serious trauma’premium_iconHospital treats 27 riders with ‘serious trauma’\\n\\nOn Tuesday morning authorities again visited them in quarantine and gained informed consent for SAPOL to use their mobile phones to retrace their movements.“It a first for us and from discussions with interstate counterparts it hasn’t been done elsewhere in Australia,” Dr Spurrier said.“The data will be very important to verify the places this couple have been, the exact locations, the times and the time this couple have been in those locations.”The move comes as the number of people in South Australia tested for the disease rises to 88 – the two confirmed cases, 28 negative results and 58 results pending.Dr Spurrier said they were trying to find if the couple had been in close contact with people in confined spaces, and this would be made public once confirmed, but visits to open areas would not be revealed due to the low infection risk.The couple are Chinese nationals visiting their adult daughter; she has been tested three times and all have come back negative.The couple were bidding on the Firle property for their daughter.The Ray White Real Estate employee who was interpreting for them has been tested and the result came back on Tuesday as negative.Paramedics are now on alert if pilots call ahead should a passenger fall ill and a nurse will take samples at the airport.Sign me upSigned UpView more Newsletters    1\n",
              "China is supplying Quran to people to read after the Coronavirus outbreak.                                                                                                                                                                                                                                                                                                                                                                                                                                                                                                                                                                                                                                                                                                                                                                                                                                                                                                                                                                                                                                                                                                                                                                                                                                                                                                                                                                                                                                                                                                                                                                                                                                                                                                                                                                                                                                                                                                                                                                                                                                                                                                                                                                                                                                                                                                                                                                                                                                                                                                                                                                                                                                                                                                                                                                                                                                                                                                                                                                                                      1\n",
              "Name: Text, dtype: int64"
            ]
          },
          "metadata": {
            "tags": []
          }
        },
        {
          "output_type": "stream",
          "text": [
            "----------------------------------------country---------------------------------------- - "
          ],
          "name": "stdout"
        },
        {
          "output_type": "display_data",
          "data": {
            "text/plain": [
              "India            2380\n",
              "United States    1986\n",
              "Spain             889\n",
              "Brazil            714\n",
              "France            500\n",
              "Philippines       385\n",
              "Colombia          340\n",
              "Australia         302\n",
              "Italy             298\n",
              "China             289\n",
              "Name: country, dtype: int64"
            ]
          },
          "metadata": {
            "tags": []
          }
        },
        {
          "output_type": "stream",
          "text": [
            "----------------------------------------lang---------------------------------------- - "
          ],
          "name": "stdout"
        },
        {
          "output_type": "display_data",
          "data": {
            "text/plain": [
              "English       6817\n",
              "Spanish       1808\n",
              "Portuguese     690\n",
              "French         601\n",
              "tl             505\n",
              "Hindi          280\n",
              "Italian        222\n",
              "Arabic         136\n",
              "Indonesian     115\n",
              "Malayalam      114\n",
              "Name: lang, dtype: int64"
            ]
          },
          "metadata": {
            "tags": []
          }
        },
        {
          "output_type": "stream",
          "text": [
            "----------------------------------------label---------------------------------------- - "
          ],
          "name": "stdout"
        },
        {
          "output_type": "display_data",
          "data": {
            "text/plain": [
              "False    11921\n",
              "True      1124\n",
              "Name: label, dtype: int64"
            ]
          },
          "metadata": {
            "tags": []
          }
        },
        {
          "output_type": "stream",
          "text": [
            "----------------------------------------URL---------------------------------------- - "
          ],
          "name": "stdout"
        },
        {
          "output_type": "display_data",
          "data": {
            "text/plain": [
              "http://www.ecuadorchequea.com/las-mentiras-sobre-el-covid-19-en-ecuador/                                                                         14\n",
              "https://observers.france24.com/fr/20200130-intox-chine-soupe-chauve-souris-rumeur-origine-coronavirus                                             7\n",
              "http://news.jtbc.joins.com/html/040/NB11932040.html                                                                                               5\n",
              "https://www.newtral.es/el-washington-post-no-ha-confirmado-el-origen-del-paciente-cero-del-coronavirus/20200418/                                  4\n",
              "https://factcheck.afp.com/story-originated-parody-account-no-driver-threatening-spread-covid-19-across-nigeria                                    4\n",
              "https://piaui.folha.uol.com.br/lupa/2020/01/27/verificamos-coronavirus-infectou-28-milhoes-matou-112-mil-china/                                   4\n",
              "http://www.ecuadorchequea.com/las-mentiras-sobre-el-covid-19-en-ecuador/?fbclid=IwAR3bwAz0dMLw03No-V2hs3mNm5Nvl8V_p0AnNV7GbLCEh9do16WHgMrsBiE     4\n",
              "https://factcheck.afp.com/graphic-purported-quote-philippine-vice-president-leni-robredo-has-been-doctored                                        4\n",
              "https://www.politifact.com/factchecks/2020/feb/11/facebook-posts/no-evidence-coronavirus-causes-sudden-death-syndro/                              3\n",
              "https://www.newschecker.in/article/news-detail/275_15504156                                                                                       3\n",
              "Name: URL, dtype: int64"
            ]
          },
          "metadata": {
            "tags": []
          }
        },
        {
          "output_type": "stream",
          "text": [
            "----------------------------------------date---------------------------------------- - "
          ],
          "name": "stdout"
        },
        {
          "output_type": "display_data",
          "data": {
            "text/plain": [
              "2020-04-03 00:00:00    680\n",
              "2020/03/17             126\n",
              "2020-03-17 00:00:00    126\n",
              "2020-04-02 00:00:00    126\n",
              "2020-03-23 00:00:00    125\n",
              "2020-03-16 00:00:00    124\n",
              "2020/03/23             117\n",
              "2020-03-27 00:00:00    114\n",
              "2020-03-24 00:00:00    113\n",
              "2020/04/02             111\n",
              "Name: date, dtype: int64"
            ]
          },
          "metadata": {
            "tags": []
          }
        },
        {
          "output_type": "stream",
          "text": [
            "----------------------------------------verificado_por---------------------------------------- - "
          ],
          "name": "stdout"
        },
        {
          "output_type": "display_data",
          "data": {
            "text/plain": [
              "AFP                    971\n",
              "FactCrescendo          759\n",
              "PolitiFact             543\n",
              "Factly                 428\n",
              "adelaidenow.au         413\n",
              "BOOM FactCheck         404\n",
              "LeadStories            399\n",
              "Maldita.es             386\n",
              "afghanistannews.net    355\n",
              "snopes                 309\n",
              "Name: verificado_por, dtype: int64"
            ]
          },
          "metadata": {
            "tags": []
          }
        }
      ]
    },
    {
      "cell_type": "code",
      "metadata": {
        "id": "vqQvSFW8Udjd"
      },
      "source": [
        "# Filtro primeros 10 de cada variable \n",
        "\n",
        "verificado_10=datos3[\"verificado_por\"].value_counts().head(10)\n",
        "lang_10=datos3[\"lang\"].value_counts().head(10)\n",
        "country_10=datos3[\"country\"].value_counts().head(10)"
      ],
      "execution_count": null,
      "outputs": []
    },
    {
      "cell_type": "code",
      "metadata": {
        "colab": {
          "base_uri": "https://localhost:8080/",
          "height": 960
        },
        "id": "OMqgTgcBaelW",
        "outputId": "db12f944-d04d-4988-ae7c-9fc578138a5f"
      },
      "source": [
        "# Grafico datos\n",
        "\n",
        "fig = plt.figure(figsize=(12,5))\n",
        "ax = fig.add_axes([0,0,1,1])\n",
        "ax = verificado_10.plot.bar(x='lab', y='val', rot=0)\n",
        "\n",
        "fig = plt.figure(figsize=(12,5))\n",
        "ax = fig.add_axes([0,0,1,1])\n",
        "ax = lang_10.plot.bar(x='lab', y='val', rot=0)\n",
        "\n",
        "fig = plt.figure(figsize=(12,5))\n",
        "ax = fig.add_axes([0,0,1,1])\n",
        "ax = country_10.plot.bar(x='lab', y='val', rot=0)"
      ],
      "execution_count": null,
      "outputs": [
        {
          "output_type": "display_data",
          "data": {
            "image/png": "[encoded data removed]",
            "text/plain": [
              "<Figure size 864x360 with 1 Axes>"
            ]
          },
          "metadata": {
            "tags": [],
            "needs_background": "light"
          }
        },
        {
          "output_type": "display_data",
          "data": {
            "image/png": "[encoded data removed]",
            "text/plain": [
              "<Figure size 864x360 with 1 Axes>"
            ]
          },
          "metadata": {
            "tags": [],
            "needs_background": "light"
          }
        },
        {
          "output_type": "display_data",
          "data": {
            "image/png": "[encoded data removed]",
            "text/plain": [
              "<Figure size 864x360 with 1 Axes>"
            ]
          },
          "metadata": {
            "tags": [],
            "needs_background": "light"
          }
        }
      ]
    },
    {
      "cell_type": "code",
      "metadata": {
        "colab": {
          "base_uri": "https://localhost:8080/",
          "height": 332
        },
        "id": "d5LTbxp42JtG",
        "outputId": "b027b2eb-5db2-4331-9099-e976f5888859"
      },
      "source": [
        "# Distribución de las categorías datos\n",
        "plt.figure(figsize=(12,5))\n",
        "sns.countplot(\"label\", data=datos3)\n",
        "plt.show()"
      ],
      "execution_count": null,
      "outputs": [
        {
          "output_type": "display_data",
          "data": {
            "image/png": "[encoded data removed]",
            "text/plain": [
              "<Figure size 864x360 with 1 Axes>"
            ]
          },
          "metadata": {
            "tags": [],
            "needs_background": "light"
          }
        }
      ]
    },
    {
      "cell_type": "code",
      "metadata": {
        "colab": {
          "base_uri": "https://localhost:8080/"
        },
        "id": "lVjgOesGxR0e",
        "outputId": "f4249111-a6b3-4b97-c5a4-2471495bb122"
      },
      "source": [
        "# Filtro datos sólo en inglés\n",
        "datos_ingles=datos3[datos3['lang']==\"English\"]\n",
        "len(datos_ingles)"
      ],
      "execution_count": null,
      "outputs": [
        {
          "output_type": "execute_result",
          "data": {
            "text/plain": [
              "6817"
            ]
          },
          "metadata": {
            "tags": []
          },
          "execution_count": 196
        }
      ]
    },
    {
      "cell_type": "code",
      "metadata": {
        "colab": {
          "base_uri": "https://localhost:8080/",
          "height": 334
        },
        "id": "qdkmMzh4xRw7",
        "outputId": "cac801b3-f4ce-4ee7-ae04-ea79045dc7e8"
      },
      "source": [
        "# Distribución de las categorías datos de trabajo filtrados en idioma inglés\n",
        "plt.figure(figsize=(12,5))\n",
        "sns.countplot(\"label\", data=datos_ingles)\n",
        "plt.show()"
      ],
      "execution_count": null,
      "outputs": [
        {
          "output_type": "display_data",
          "data": {
            "image/png": "[encoded data removed]",
            "text/plain": [
              "<Figure size 864x360 with 1 Axes>"
            ]
          },
          "metadata": {
            "tags": [],
            "needs_background": "light"
          }
        }
      ]
    },
    {
      "cell_type": "markdown",
      "metadata": {
        "id": "b0YxikXhadx4"
      },
      "source": [
        "### Creación de conjuntos de datos"
      ]
    },
    {
      "cell_type": "code",
      "metadata": {
        "colab": {
          "base_uri": "https://localhost:8080/"
        },
        "id": "h82UN9hVlTV8",
        "outputId": "295d72c9-7af4-4dae-b12c-6ad0d97fce17"
      },
      "source": [
        "# Reservo unos datos para pruebas finales (datos que no se tocan)\n",
        "\n",
        "datos_trabajo,datos_reserva = train_test_split(datos_ingles, test_size=0.1, random_state=88 )\n",
        "datos_trabajo=datos_trabajo.reset_index()\n",
        "datos_trabajo=datos_trabajo.drop([\"index\"], axis=1)\n",
        "\n",
        "datos_reserva=datos_reserva.reset_index()\n",
        "datos_reserva=datos_reserva.drop([\"index\"], axis=1)\n",
        "\n",
        "print(\"Datos para trabajar: \", len(datos_trabajo))\n",
        "print(\"Datos reservados para pruebas finales \", len(datos_reserva))\n",
        "\n"
      ],
      "execution_count": null,
      "outputs": [
        {
          "output_type": "stream",
          "text": [
            "Datos para trabajar:  6135\n",
            "Datos reservados para pruebas finales  682\n"
          ],
          "name": "stdout"
        }
      ]
    },
    {
      "cell_type": "code",
      "metadata": {
        "colab": {
          "base_uri": "https://localhost:8080/",
          "height": 334
        },
        "id": "af4c1x4YvUzI",
        "outputId": "bde8cd0f-67f1-41e7-9787-b164065fb8da"
      },
      "source": [
        "# Distribución de las categorías datos de trabajo\n",
        "plt.figure(figsize=(12,5))\n",
        "sns.countplot(\"label\", data=datos_trabajo)\n",
        "plt.show()"
      ],
      "execution_count": null,
      "outputs": [
        {
          "output_type": "display_data",
          "data": {
            "image/png": "[encoded data removed]",
            "text/plain": [
              "<Figure size 864x360 with 1 Axes>"
            ]
          },
          "metadata": {
            "tags": [],
            "needs_background": "light"
          }
        }
      ]
    },
    {
      "cell_type": "code",
      "metadata": {
        "colab": {
          "base_uri": "https://localhost:8080/",
          "height": 334
        },
        "id": "o7XwsgoynpFV",
        "outputId": "b05503c8-2f53-4cff-b80e-4ec3ff6fcd12"
      },
      "source": [
        "# Distribución de las categorías datos reservados\n",
        "plt.figure(figsize=(12,5))\n",
        "sns.countplot(\"label\", data=datos_reserva)\n",
        "plt.show()"
      ],
      "execution_count": null,
      "outputs": [
        {
          "output_type": "display_data",
          "data": {
            "image/png": "[encoded data removed]",
            "text/plain": [
              "<Figure size 864x360 with 1 Axes>"
            ]
          },
          "metadata": {
            "tags": [],
            "needs_background": "light"
          }
        }
      ]
    },
    {
      "cell_type": "code",
      "metadata": {
        "colab": {
          "base_uri": "https://localhost:8080/",
          "height": 867
        },
        "id": "xwucc8uoEw6O",
        "outputId": "4a7ca560-1552-4229-f299-244685a0f6f2"
      },
      "source": [
        "datos_trabajo.head(10)"
      ],
      "execution_count": null,
      "outputs": [
        {
          "output_type": "execute_result",
          "data": {
            "text/html": [
              "<div>\n",
              "<style scoped>\n",
              "    .dataframe tbody tr th:only-of-type {\n",
              "        vertical-align: middle;\n",
              "    }\n",
              "\n",
              "    .dataframe tbody tr th {\n",
              "        vertical-align: top;\n",
              "    }\n",
              "\n",
              "    .dataframe thead th {\n",
              "        text-align: right;\n",
              "    }\n",
              "</style>\n",
              "<table border=\"1\" class=\"dataframe\">\n",
              "  <thead>\n",
              "    <tr style=\"text-align: right;\">\n",
              "      <th></th>\n",
              "      <th>Text</th>\n",
              "      <th>country</th>\n",
              "      <th>lang</th>\n",
              "      <th>label</th>\n",
              "      <th>URL</th>\n",
              "      <th>date</th>\n",
              "      <th>verificado_por</th>\n",
              "    </tr>\n",
              "  </thead>\n",
              "  <tbody>\n",
              "    <tr>\n",
              "      <th>0</th>\n",
              "      <td>Australian hospital staff rolled in a Wilson ...</td>\n",
              "      <td>United States</td>\n",
              "      <td>English</td>\n",
              "      <td>False</td>\n",
              "      <td>https://hoax-alert.leadstories.com/3471894-fac...</td>\n",
              "      <td>2020/03/12</td>\n",
              "      <td>LeadStories</td>\n",
              "    </tr>\n",
              "    <tr>\n",
              "      <th>1</th>\n",
              "      <td>WHO declared COVID-19 to be the abbreviation f...</td>\n",
              "      <td>India</td>\n",
              "      <td>English</td>\n",
              "      <td>False</td>\n",
              "      <td>https://english.factcrescendo.com/2020/02/14/w...</td>\n",
              "      <td>2020-02-14 00:00:00</td>\n",
              "      <td>FactCrescendo</td>\n",
              "    </tr>\n",
              "    <tr>\n",
              "      <th>2</th>\n",
              "      <td>Claims of cures for COVID-19 from multiple cou...</td>\n",
              "      <td>Sri Lanka</td>\n",
              "      <td>English</td>\n",
              "      <td>False</td>\n",
              "      <td>https://srilanka.factcrescendo.com/english/fac...</td>\n",
              "      <td>2020-02-03 00:00:00</td>\n",
              "      <td>srilanka.factcrescendo</td>\n",
              "    </tr>\n",
              "    <tr>\n",
              "      <th>3</th>\n",
              "      <td>The government was supposedly not buying evid...</td>\n",
              "      <td>Spain</td>\n",
              "      <td>English</td>\n",
              "      <td>False</td>\n",
              "      <td>https://maldita.es/malditobulo/2020/03/29/gobi...</td>\n",
              "      <td>2020-03-24 00:00:00</td>\n",
              "      <td>maldita.es</td>\n",
              "    </tr>\n",
              "    <tr>\n",
              "      <th>4</th>\n",
              "      <td>Industrialist Ratan Tata’s view on economic do...</td>\n",
              "      <td>India</td>\n",
              "      <td>English</td>\n",
              "      <td>False</td>\n",
              "      <td>https://english.factcrescendo.com/2020/04/11/f...</td>\n",
              "      <td>2020-04-11 00:00:00</td>\n",
              "      <td>FactCrescendo</td>\n",
              "    </tr>\n",
              "    <tr>\n",
              "      <th>5</th>\n",
              "      <td>India announced holidays for four states.</td>\n",
              "      <td>India</td>\n",
              "      <td>English</td>\n",
              "      <td>False</td>\n",
              "      <td>https://www.boomlive.in/fast-check/fake-letter...</td>\n",
              "      <td>2020/03/13</td>\n",
              "      <td>BOOM FactCheck</td>\n",
              "    </tr>\n",
              "    <tr>\n",
              "      <th>6</th>\n",
              "      <td>Publication broadcasts a video of “the market ...</td>\n",
              "      <td>North Macedonia</td>\n",
              "      <td>English</td>\n",
              "      <td>False</td>\n",
              "      <td>https://truthmeter.mk/the-market-of-terror-is-...</td>\n",
              "      <td>2020-01-30 00:00:00</td>\n",
              "      <td>Vistinomer</td>\n",
              "    </tr>\n",
              "    <tr>\n",
              "      <th>7</th>\n",
              "      <td>Lockdown in Telangana extended till 3 June 2020.</td>\n",
              "      <td>India</td>\n",
              "      <td>English</td>\n",
              "      <td>False</td>\n",
              "      <td>https://factly.in/no-the-lockdown-has-not-been...</td>\n",
              "      <td>2020-04-04 00:00:00</td>\n",
              "      <td>Factly</td>\n",
              "    </tr>\n",
              "    <tr>\n",
              "      <th>8</th>\n",
              "      <td>The Indian health department has issued a noti...</td>\n",
              "      <td>India</td>\n",
              "      <td>English</td>\n",
              "      <td>False</td>\n",
              "      <td>https://www.boomlive.in/health/hoax-alert-vira...</td>\n",
              "      <td>2020-03-02 00:00:00</td>\n",
              "      <td>boomlive.in</td>\n",
              "    </tr>\n",
              "    <tr>\n",
              "      <th>9</th>\n",
              "      <td>Demonstrations against Chinese people in Italy.</td>\n",
              "      <td>France</td>\n",
              "      <td>English</td>\n",
              "      <td>False</td>\n",
              "      <td>https://observers.france24.com/fr/20200311-cor...</td>\n",
              "      <td>2020-02-14 00:00:00</td>\n",
              "      <td>observers.france24</td>\n",
              "    </tr>\n",
              "  </tbody>\n",
              "</table>\n",
              "</div>"
            ],
            "text/plain": [
              "                                                Text  ...          verificado_por\n",
              "0   Australian hospital staff rolled in a Wilson ...  ...             LeadStories\n",
              "1  WHO declared COVID-19 to be the abbreviation f...  ...           FactCrescendo\n",
              "2  Claims of cures for COVID-19 from multiple cou...  ...  srilanka.factcrescendo\n",
              "3   The government was supposedly not buying evid...  ...              maldita.es\n",
              "4  Industrialist Ratan Tata’s view on economic do...  ...           FactCrescendo\n",
              "5          India announced holidays for four states.  ...          BOOM FactCheck\n",
              "6  Publication broadcasts a video of “the market ...  ...              Vistinomer\n",
              "7   Lockdown in Telangana extended till 3 June 2020.  ...                  Factly\n",
              "8  The Indian health department has issued a noti...  ...             boomlive.in\n",
              "9    Demonstrations against Chinese people in Italy.  ...      observers.france24\n",
              "\n",
              "[10 rows x 7 columns]"
            ]
          },
          "metadata": {
            "tags": []
          },
          "execution_count": 201
        }
      ]
    },
    {
      "cell_type": "markdown",
      "metadata": {
        "id": "P2No5GI7ZpcV"
      },
      "source": [
        "###  Preparación de los datos"
      ]
    },
    {
      "cell_type": "code",
      "metadata": {
        "colab": {
          "base_uri": "https://localhost:8080/"
        },
        "id": "m63fl0tFxGhF",
        "outputId": "1e30f3d5-a294-47c2-85b5-ebddf419f699"
      },
      "source": [
        "# Convierto categorías en números - datos de trabajo\n",
        "\n",
        "category_dict = {value:index for index, value in enumerate(datos_trabajo[\"label\"].unique())} # Extraigo categorías de todos los datos\n",
        "\n",
        "\n",
        "# Extraigo datos de titulares\n",
        "corpus_trabajo = datos_trabajo[\"Text\"]\n",
        "results_trabajo = datos_trabajo[\"label\"].map(category_dict)\n",
        "#category_dict_trabajo\n",
        "datos_trabajo[\"label\"]"
      ],
      "execution_count": null,
      "outputs": [
        {
          "output_type": "execute_result",
          "data": {
            "text/plain": [
              "0       False\n",
              "1       False\n",
              "2       False\n",
              "3       False\n",
              "4       False\n",
              "        ...  \n",
              "6130    False\n",
              "6131    False\n",
              "6132    False\n",
              "6133    False\n",
              "6134    False\n",
              "Name: label, Length: 6135, dtype: bool"
            ]
          },
          "metadata": {
            "tags": []
          },
          "execution_count": 202
        }
      ]
    },
    {
      "cell_type": "code",
      "metadata": {
        "colab": {
          "base_uri": "https://localhost:8080/"
        },
        "id": "SB4fudC6x0bn",
        "outputId": "600b4c14-dce3-4b72-bbe7-ab833c8f7955"
      },
      "source": [
        "category_dict"
      ],
      "execution_count": null,
      "outputs": [
        {
          "output_type": "execute_result",
          "data": {
            "text/plain": [
              "{False: 0, True: 1}"
            ]
          },
          "metadata": {
            "tags": []
          },
          "execution_count": 203
        }
      ]
    },
    {
      "cell_type": "code",
      "metadata": {
        "colab": {
          "base_uri": "https://localhost:8080/"
        },
        "id": "qUUrUfAraIBy",
        "outputId": "3c3ac05d-6b67-4888-e111-317e01cb8f97"
      },
      "source": [
        "corpus_trabajo"
      ],
      "execution_count": null,
      "outputs": [
        {
          "output_type": "execute_result",
          "data": {
            "text/plain": [
              "0        Australian hospital staff rolled in a Wilson ...\n",
              "1       WHO declared COVID-19 to be the abbreviation f...\n",
              "2       Claims of cures for COVID-19 from multiple cou...\n",
              "3        The government was supposedly not buying evid...\n",
              "4       Industrialist Ratan Tata’s view on economic do...\n",
              "                              ...                        \n",
              "6130     Congress included include a raise for themsel...\n",
              "6131    Indian Army has constructed an advanced hospit...\n",
              "6132     Singer Gusttavo Lima says â€�never saw a pres...\n",
              "6133     This photo shows a pregnant woman suffering f...\n",
              "6134     â€śKochi Prefectural Assembly, who returned f...\n",
              "Name: Text, Length: 6135, dtype: object"
            ]
          },
          "metadata": {
            "tags": []
          },
          "execution_count": 204
        }
      ]
    },
    {
      "cell_type": "code",
      "metadata": {
        "colab": {
          "base_uri": "https://localhost:8080/"
        },
        "id": "zCIiNwX4aH-i",
        "outputId": "0353301a-95c9-4f8a-86a6-3232c7610af2"
      },
      "source": [
        "# Convierto categorías en números - datos de trabajo\n",
        "\n",
        "# Extraigo datos de titulares\n",
        "corpus_trabajo = datos_trabajo[\"Text\"]\n",
        "results_trabajo = datos_trabajo[\"label\"].map(category_dict)\n",
        "#category_dict_trabajo\n",
        "datos_trabajo[\"label\"]"
      ],
      "execution_count": null,
      "outputs": [
        {
          "output_type": "execute_result",
          "data": {
            "text/plain": [
              "0       False\n",
              "1       False\n",
              "2       False\n",
              "3       False\n",
              "4       False\n",
              "        ...  \n",
              "6130    False\n",
              "6131    False\n",
              "6132    False\n",
              "6133    False\n",
              "6134    False\n",
              "Name: label, Length: 6135, dtype: bool"
            ]
          },
          "metadata": {
            "tags": []
          },
          "execution_count": 205
        }
      ]
    },
    {
      "cell_type": "code",
      "metadata": {
        "colab": {
          "base_uri": "https://localhost:8080/"
        },
        "id": "fSSzkm2Mad4A",
        "outputId": "a662a103-cdd0-4b5c-9f7d-8cc15c636525"
      },
      "source": [
        "results_trabajo"
      ],
      "execution_count": null,
      "outputs": [
        {
          "output_type": "execute_result",
          "data": {
            "text/plain": [
              "0       0\n",
              "1       0\n",
              "2       0\n",
              "3       0\n",
              "4       0\n",
              "       ..\n",
              "6130    0\n",
              "6131    0\n",
              "6132    0\n",
              "6133    0\n",
              "6134    0\n",
              "Name: label, Length: 6135, dtype: int64"
            ]
          },
          "metadata": {
            "tags": []
          },
          "execution_count": 206
        }
      ]
    },
    {
      "cell_type": "code",
      "metadata": {
        "id": "cGJA4sYvady2"
      },
      "source": [
        "# Convierto categorías en números - datos de reserva\n",
        "\n",
        "# Extraigo datos de titulares\n",
        "corpus_reserva = datos_reserva[\"Text\"]\n",
        "\n",
        "# Construyo mapa de categorías\n",
        "results_reserva = datos_reserva[\"label\"].map(category_dict) # Mapeo categorías con el mismo diccionario (category_dict)"
      ],
      "execution_count": null,
      "outputs": []
    },
    {
      "cell_type": "code",
      "metadata": {
        "colab": {
          "base_uri": "https://localhost:8080/"
        },
        "id": "HwfnYtfeadwA",
        "outputId": "775b83c1-85a5-46ed-ff64-e23fca2f0d74"
      },
      "source": [
        "datos_reserva[\"label\"]"
      ],
      "execution_count": null,
      "outputs": [
        {
          "output_type": "execute_result",
          "data": {
            "text/plain": [
              "0      False\n",
              "1      False\n",
              "2       True\n",
              "3      False\n",
              "4      False\n",
              "       ...  \n",
              "677    False\n",
              "678    False\n",
              "679    False\n",
              "680    False\n",
              "681    False\n",
              "Name: label, Length: 682, dtype: bool"
            ]
          },
          "metadata": {
            "tags": []
          },
          "execution_count": 208
        }
      ]
    },
    {
      "cell_type": "code",
      "metadata": {
        "colab": {
          "base_uri": "https://localhost:8080/"
        },
        "id": "w8_9UlqVadsq",
        "outputId": "d66d14fe-005c-4d5f-c4a9-fa38f4a3cb7a"
      },
      "source": [
        "results_reserva"
      ],
      "execution_count": null,
      "outputs": [
        {
          "output_type": "execute_result",
          "data": {
            "text/plain": [
              "0      0\n",
              "1      0\n",
              "2      1\n",
              "3      0\n",
              "4      0\n",
              "      ..\n",
              "677    0\n",
              "678    0\n",
              "679    0\n",
              "680    0\n",
              "681    0\n",
              "Name: label, Length: 682, dtype: int64"
            ]
          },
          "metadata": {
            "tags": []
          },
          "execution_count": 209
        }
      ]
    },
    {
      "cell_type": "code",
      "metadata": {
        "colab": {
          "base_uri": "https://localhost:8080/"
        },
        "id": "YFqiwQrpaH63",
        "outputId": "b6de9dbd-9f09-4aa0-b74f-0bf94e7d94d4"
      },
      "source": [
        "# Parámetros\n",
        "n_most_common_words = 10000\n",
        "max_len = 300\n",
        "\n",
        "\n",
        "# Creo tokenizador con todos los datos\n",
        "corpus = datos3[\"Text\"]\n",
        "tokenizer = Tokenizer(num_words=n_most_common_words, filters='!\"#$%&()*+,-./:;<=>?@[\\]^_`{|}~', lower=True)\n",
        "tokenizer.fit_on_texts(corpus.values)\n",
        "word_index = tokenizer.word_index\n",
        "print('Se encontraron %s tokens únicos' % len(word_index))"
      ],
      "execution_count": null,
      "outputs": [
        {
          "output_type": "stream",
          "text": [
            "Se encontraron 24703 tokens únicos\n"
          ],
          "name": "stdout"
        }
      ]
    },
    {
      "cell_type": "code",
      "metadata": {
        "id": "JM_iB75Haxo-"
      },
      "source": [
        "# Tokenización datos de trabajo\n",
        "\n",
        "corpus_trabajo = datos_trabajo[\"Text\"]\n",
        "sequences = tokenizer.texts_to_sequences(corpus_trabajo.values)\n",
        "X = pad_sequences(sequences, maxlen=max_len)"
      ],
      "execution_count": null,
      "outputs": []
    },
    {
      "cell_type": "code",
      "metadata": {
        "id": "XGpCjsSFaxmc"
      },
      "source": [
        "# Tokenización datos de reserva para pruebas\n",
        "\n",
        "corpus_reserva = datos_reserva[\"Text\"]\n",
        "sequences_reserva = tokenizer.texts_to_sequences(corpus_reserva.values)\n",
        "X_reserva = pad_sequences(sequences_reserva, maxlen=max_len)"
      ],
      "execution_count": null,
      "outputs": []
    },
    {
      "cell_type": "code",
      "metadata": {
        "colab": {
          "base_uri": "https://localhost:8080/"
        },
        "id": "0-8X2HFGaxjD",
        "outputId": "886ddc09-437d-4eb3-ed1d-8b1aadb99119"
      },
      "source": [
        "X_reserva[120]"
      ],
      "execution_count": null,
      "outputs": [
        {
          "output_type": "execute_result",
          "data": {
            "text/plain": [
              "array([ 930,  467,  931,    5,  468,  209, 1052,  466,  429,  673,  932,\n",
              "        240,  463,  933,    2,  492,  397,  781,  934,  465,  240,  935,\n",
              "       1136, 2015, 3700,  107,   83,  234,    4,  138,    2, 4338,  124,\n",
              "        936,  469,  937,  938,  469,  939,   96,    2,  608,  940,  814,\n",
              "       3701, 1147, 1859,    4,    7,  107,  146,   29, 1659,    2, 2447,\n",
              "        201,    9,  782,   10,  478,  432,  432,  123,  327,   72,  232,\n",
              "         37, 1693,   10,  134, 1207,  197,    1, 3702,    5,  286,  121,\n",
              "          6, 2616,  318,  517,    2, 2448,  269,   11,   52,   16,  684,\n",
              "       1311,   11,   52,   44,    6,  176,  253, 2016,    2,  392,   48,\n",
              "         10,  184,    8,   35, 2204,  642,    6,    4, 1824, 1276,  334,\n",
              "         30,   40,   20,  605, 1347,   71,   26,   79, 1936,   86,  989,\n",
              "        371,   13,   48,    2,  449,   25,  508,  582,  336, 2734,    1,\n",
              "        142,  394,   83,   17,   35, 1376,    9,    1,  301,  753,  976,\n",
              "         65,  583,   56,    1,  236,   26,   83,  127,   46, 3022, 2449,\n",
              "        157,  333,   11,   38,    8,  199,    2,   17,  180,  695,  425,\n",
              "       1452,   10,    1,   22,    5,   93,   48,  999,    3, 1511,    5,\n",
              "        451,  487,    6,  753,   50,  156, 2059, 2450,    8,   10,   76,\n",
              "         28,   30,  123,  336,   20, 2060,  179,   17,   31,  316,    3,\n",
              "        340,    2,  609,   52,   44,  300,    1,   75,    5,    1,    7,\n",
              "        532, 3703,    1,    7,  417,    6, 3138, 3704, 2061,   58,   24,\n",
              "          4, 3249, 3705,    5,  220, 1173,   22,   23, 3535, 2206,  200,\n",
              "       1234,   37,  138,  544,  542,    9, 3706, 1254,   53, 1383, 3707,\n",
              "         34, 1324, 2833, 1450,    2,  618,    6, 1085,   13,   48,  373,\n",
              "        367,  664,    6,  270, 1208,    1, 1169,   20,    1,  651,  210,\n",
              "       2377,   24,   90,   26,   24, 3409,    2, 2929,  294, 1026,  649,\n",
              "          3,  411, 3250,   85,  197,  134,  596, 2512,    2,  750,  116,\n",
              "         13,   25,   85,   12,    1, 1202,  142, 3536,  372,  153,  189,\n",
              "        190,   36,  191], dtype=int32)"
            ]
          },
          "metadata": {
            "tags": []
          },
          "execution_count": 213
        }
      ]
    },
    {
      "cell_type": "markdown",
      "metadata": {
        "id": "6hEMsv62bV8F"
      },
      "source": [
        "### Train - Test split"
      ]
    },
    {
      "cell_type": "code",
      "metadata": {
        "id": "YER0INmkbJfE"
      },
      "source": [
        "# Train - Test Split\n",
        "\n",
        "x_train,x_test, y_train,y_test = train_test_split(X, results_trabajo, test_size=0.2, random_state=88 )"
      ],
      "execution_count": null,
      "outputs": []
    },
    {
      "cell_type": "code",
      "metadata": {
        "colab": {
          "base_uri": "https://localhost:8080/",
          "height": 236
        },
        "id": "qXf_GRQgbJbj",
        "outputId": "c2ec0836-f6a9-445b-d659-05daab31376d"
      },
      "source": [
        "# Visualizo el balance de las clases luego de la división para verificar que no exista un desbalance\n",
        "df_y_train = pd.DataFrame({'yTrain': y_train})\n",
        "\n",
        "df_y_test = pd.DataFrame({'yTest': y_test})\n",
        "\n",
        "\n",
        "fig, axes = plt.subplots(ncols=2, nrows=1, figsize=(18, 10))\n",
        "plt.subplot(2, 2, 1).set_title('yTrain')\n",
        "df_y_train[\"yTrain\"].value_counts().plot(kind='bar')\n",
        "\n",
        "plt.subplot(2, 2, 2).set_title('yTest')\n",
        "df_y_test[\"yTest\"].value_counts().plot(kind='bar')"
      ],
      "execution_count": null,
      "outputs": [
        {
          "output_type": "execute_result",
          "data": {
            "text/plain": [
              "<matplotlib.axes._subplots.AxesSubplot at 0x7fb2dc504438>"
            ]
          },
          "metadata": {
            "tags": []
          },
          "execution_count": 215
        },
        {
          "output_type": "display_data",
          "data": {
            "image/png": "[encoded data removed]",
            "text/plain": [
              "<Figure size 1296x720 with 2 Axes>"
            ]
          },
          "metadata": {
            "tags": [],
            "needs_background": "light"
          }
        }
      ]
    },
    {
      "cell_type": "markdown",
      "metadata": {
        "id": "vU2VJGUsbmMf"
      },
      "source": [
        "### Comparación de modelos de aprendizaje automático\n"
      ]
    },
    {
      "cell_type": "code",
      "metadata": {
        "id": "s3ETvEccbXzB"
      },
      "source": [
        "# Comparación de modelos\n",
        "# Listado de modelos\n",
        "models = [\n",
        "    RandomForestClassifier(n_estimators=200, max_depth=3, random_state=0),\n",
        "    LinearSVC(),\n",
        "    MultinomialNB(),\n",
        "    LogisticRegression(random_state=0),\n",
        "    ]"
      ],
      "execution_count": null,
      "outputs": []
    },
    {
      "cell_type": "code",
      "metadata": {
        "id": "vvk93kQ-bXvv"
      },
      "source": [
        "CV = 5\n",
        "cv_df = pd.DataFrame(index=range(CV * len(models)))\n",
        "entries = []\n",
        "for model in models:\n",
        "  model_name = model.__class__.__name__\n",
        "  accuracies = cross_val_score(model, x_train, y_train, scoring='accuracy', cv=CV)\n",
        "  for fold_idx, accuracy in enumerate(accuracies):\n",
        "    entries.append((model_name, fold_idx, accuracy))\n",
        "cv_df = pd.DataFrame(entries, columns=['model_name', 'fold_idx', 'accuracy'])"
      ],
      "execution_count": null,
      "outputs": []
    },
    {
      "cell_type": "code",
      "metadata": {
        "colab": {
          "base_uri": "https://localhost:8080/",
          "height": 280
        },
        "id": "i2nXD3i2bXsp",
        "outputId": "7f999dad-ca01-4da8-fd08-f2caec108135"
      },
      "source": [
        "# Gráfico comparativo de la precisión estimada de los modelos\n",
        "import seaborn as sns\n",
        "sns.boxplot(x='model_name', y='accuracy', data=cv_df)\n",
        "sns.stripplot(x='model_name', y='accuracy', data=cv_df, \n",
        "              size=8, jitter=True, edgecolor=\"gray\", linewidth=2)\n",
        "plt.show()"
      ],
      "execution_count": null,
      "outputs": [
        {
          "output_type": "display_data",
          "data": {
            "image/png": "[encoded data removed]",
            "text/plain": [
              "<Figure size 432x288 with 1 Axes>"
            ]
          },
          "metadata": {
            "tags": [],
            "needs_background": "light"
          }
        }
      ]
    },
    {
      "cell_type": "markdown",
      "metadata": {
        "id": "8UDHmPa32Ubr"
      },
      "source": [
        "#### Modelo Random Forest"
      ]
    },
    {
      "cell_type": "code",
      "metadata": {
        "colab": {
          "base_uri": "https://localhost:8080/",
          "height": 442
        },
        "id": "XqxGhMQlbXpp",
        "outputId": "2015d711-69f0-4f09-fcf4-2108caaa6a54"
      },
      "source": [
        "# Modelo RandomForest\n",
        "from sklearn.metrics import confusion_matrix\n",
        "\n",
        "modelRF = RandomForestClassifier(n_estimators=200, max_depth=3, random_state=0)\n",
        "modelRF.fit(x_train, y_train)\n",
        "y_pred = modelRF.predict(x_test)\n",
        "\n",
        "conf_mat = confusion_matrix(y_test, y_pred)\n",
        "fig, ax = plt.subplots(figsize=(10,7))\n",
        "sns.heatmap(conf_mat, annot=True, fmt='d',\n",
        "            xticklabels=category_dict, yticklabels=category_dict)\n",
        "plt.ylabel('Actual')\n",
        "plt.xlabel('Predicted')\n",
        "plt.show()"
      ],
      "execution_count": null,
      "outputs": [
        {
          "output_type": "display_data",
          "data": {
            "image/png": "[encoded data removed]",
            "text/plain": [
              "<Figure size 720x504 with 2 Axes>"
            ]
          },
          "metadata": {
            "tags": [],
            "needs_background": "light"
          }
        }
      ]
    },
    {
      "cell_type": "markdown",
      "metadata": {
        "id": "k3xsHCEg2YBq"
      },
      "source": [
        "#### Modelo logistic"
      ]
    },
    {
      "cell_type": "code",
      "metadata": {
        "colab": {
          "base_uri": "https://localhost:8080/",
          "height": 442
        },
        "id": "yvEzs_Hpduto",
        "outputId": "a657a36a-d26a-4b13-f2e3-9f524cb53a51"
      },
      "source": [
        "# Modelo Logistic\n",
        "from sklearn.metrics import confusion_matrix\n",
        "\n",
        "modelLOG = LogisticRegression(random_state=0)\n",
        "modelLOG.fit(x_train, y_train)\n",
        "y_pred = modelLOG.predict(x_test)\n",
        "\n",
        "conf_mat = confusion_matrix(y_test, y_pred)\n",
        "fig, ax = plt.subplots(figsize=(10,7))\n",
        "sns.heatmap(conf_mat, annot=True, fmt='d',\n",
        "            xticklabels=category_dict, yticklabels=category_dict)\n",
        "plt.ylabel('Actual')\n",
        "plt.xlabel('Predicted')\n",
        "plt.show()"
      ],
      "execution_count": null,
      "outputs": [
        {
          "output_type": "display_data",
          "data": {
            "image/png": "[encoded data removed]",
            "text/plain": [
              "<Figure size 720x504 with 2 Axes>"
            ]
          },
          "metadata": {
            "tags": [],
            "needs_background": "light"
          }
        }
      ]
    },
    {
      "cell_type": "markdown",
      "metadata": {
        "id": "yvbrx6St2a1h"
      },
      "source": [
        "#### Modelo vector de soporte lineal"
      ]
    },
    {
      "cell_type": "code",
      "metadata": {
        "colab": {
          "base_uri": "https://localhost:8080/",
          "height": 445
        },
        "id": "cekRRPGqdumR",
        "outputId": "9b1ffa9d-67de-4aa4-fe34-cdf80077b042"
      },
      "source": [
        "# Modelo Vector Soporte Lineal\n",
        "from sklearn.metrics import confusion_matrix\n",
        "\n",
        "modelSVC = LinearSVC()\n",
        "modelSVC.fit(x_train, y_train)\n",
        "y_pred = modelSVC.predict(x_test)\n",
        "\n",
        "conf_mat = confusion_matrix(y_test, y_pred)\n",
        "fig, ax = plt.subplots(figsize=(10,7))\n",
        "sns.heatmap(conf_mat, annot=True, fmt='d',\n",
        "            xticklabels=category_dict, yticklabels=category_dict)\n",
        "plt.ylabel('Actual')\n",
        "plt.xlabel('Predicted')\n",
        "plt.show()"
      ],
      "execution_count": null,
      "outputs": [
        {
          "output_type": "display_data",
          "data": {
            "image/png": "[encoded data removed]",
            "text/plain": [
              "<Figure size 720x504 with 2 Axes>"
            ]
          },
          "metadata": {
            "tags": [],
            "needs_background": "light"
          }
        }
      ]
    },
    {
      "cell_type": "markdown",
      "metadata": {
        "id": "pqFei9E42ejX"
      },
      "source": [
        "#### Modelo Naïve Bayes"
      ]
    },
    {
      "cell_type": "code",
      "metadata": {
        "colab": {
          "base_uri": "https://localhost:8080/",
          "height": 442
        },
        "id": "QTmpFRv9duiu",
        "outputId": "df3377c0-3d83-4195-88d7-86265f49fd4a"
      },
      "source": [
        "# Modelo Multinomial Naive Bayes\n",
        "from sklearn.metrics import confusion_matrix\n",
        "\n",
        "modelNB = MultinomialNB()\n",
        "modelNB.fit(x_train, y_train)\n",
        "y_pred = modelNB.predict(x_test)\n",
        "\n",
        "conf_mat = confusion_matrix(y_test, y_pred)\n",
        "fig, ax = plt.subplots(figsize=(10,7))\n",
        "sns.heatmap(conf_mat, annot=True, fmt='d',\n",
        "            xticklabels=category_dict, yticklabels=category_dict)\n",
        "plt.ylabel('Actual')\n",
        "plt.xlabel('Predicted')\n",
        "plt.show()"
      ],
      "execution_count": null,
      "outputs": [
        {
          "output_type": "display_data",
          "data": {
            "image/png": "[encoded data removed]",
            "text/plain": [
              "<Figure size 720x504 with 2 Axes>"
            ]
          },
          "metadata": {
            "tags": [],
            "needs_background": "light"
          }
        }
      ]
    },
    {
      "cell_type": "markdown",
      "metadata": {
        "id": "D8LNbfpQef_a"
      },
      "source": [
        "#### Prueba de modelos de aprendizaje automático"
      ]
    },
    {
      "cell_type": "code",
      "metadata": {
        "colab": {
          "base_uri": "https://localhost:8080/",
          "height": 1000
        },
        "id": "GpQLduLC8DxM",
        "outputId": "ca218565-dabc-4c63-ddd6-fb81e496462a"
      },
      "source": [
        "datos_reserva[datos_reserva[\"label\"]==True].head(29)"
      ],
      "execution_count": null,
      "outputs": [
        {
          "output_type": "execute_result",
          "data": {
            "text/html": [
              "<div>\n",
              "<style scoped>\n",
              "    .dataframe tbody tr th:only-of-type {\n",
              "        vertical-align: middle;\n",
              "    }\n",
              "\n",
              "    .dataframe tbody tr th {\n",
              "        vertical-align: top;\n",
              "    }\n",
              "\n",
              "    .dataframe thead th {\n",
              "        text-align: right;\n",
              "    }\n",
              "</style>\n",
              "<table border=\"1\" class=\"dataframe\">\n",
              "  <thead>\n",
              "    <tr style=\"text-align: right;\">\n",
              "      <th></th>\n",
              "      <th>Text</th>\n",
              "      <th>country</th>\n",
              "      <th>lang</th>\n",
              "      <th>label</th>\n",
              "      <th>URL</th>\n",
              "      <th>date</th>\n",
              "      <th>verificado_por</th>\n",
              "    </tr>\n",
              "  </thead>\n",
              "  <tbody>\n",
              "    <tr>\n",
              "      <th>2</th>\n",
              "      <td>PIA announces special flights as Saudi Arabia ...</td>\n",
              "      <td>Saudi Arabia</td>\n",
              "      <td>English</td>\n",
              "      <td>True</td>\n",
              "      <td>http://www.aaj.tv/english/national/pia-announc...</td>\n",
              "      <td>2020-03-07 00:00:00</td>\n",
              "      <td>aaj.tv</td>\n",
              "    </tr>\n",
              "    <tr>\n",
              "      <th>7</th>\n",
              "      <td>Patel on budget cuts: We have to go further on...</td>\n",
              "      <td>China</td>\n",
              "      <td>English</td>\n",
              "      <td>True</td>\n",
              "      <td>https://www.afghanistannews.net/news/264207692...</td>\n",
              "      <td>2020-02-28 00:00:00</td>\n",
              "      <td>afghanistannews.net</td>\n",
              "    </tr>\n",
              "    <tr>\n",
              "      <th>12</th>\n",
              "      <td>Forget sexy projects, SA needs a pothole-led s...</td>\n",
              "      <td>Australia</td>\n",
              "      <td>English</td>\n",
              "      <td>True</td>\n",
              "      <td>https://www.adelaidenow.com.au/news/south-aust...</td>\n",
              "      <td>2020-02-26 00:00:00</td>\n",
              "      <td>adelaidenow.au</td>\n",
              "    </tr>\n",
              "    <tr>\n",
              "      <th>22</th>\n",
              "      <td>â€śBill Gates told us about the coronavirus in...</td>\n",
              "      <td>United States</td>\n",
              "      <td>English</td>\n",
              "      <td>True</td>\n",
              "      <td>https://www.politifact.com/factchecks/2020/mar...</td>\n",
              "      <td>2020-02-12 00:00:00</td>\n",
              "      <td>politifact</td>\n",
              "    </tr>\n",
              "    <tr>\n",
              "      <th>37</th>\n",
              "      <td>Equities dither amid mixed global cues after c...</td>\n",
              "      <td>India</td>\n",
              "      <td>English</td>\n",
              "      <td>True</td>\n",
              "      <td>https://www.afghanistannews.net/news/264130268...</td>\n",
              "      <td>2020-03-02 00:00:00</td>\n",
              "      <td>afghanistannews.net</td>\n",
              "    </tr>\n",
              "    <tr>\n",
              "      <th>51</th>\n",
              "      <td>Washington State Reports 1st Coronavirus Death...</td>\n",
              "      <td>United States</td>\n",
              "      <td>English</td>\n",
              "      <td>True</td>\n",
              "      <td>https://www.afghanistannews.net/news/264176953...</td>\n",
              "      <td>2020-02-28 00:00:00</td>\n",
              "      <td>afghanistannews.net</td>\n",
              "    </tr>\n",
              "    <tr>\n",
              "      <th>52</th>\n",
              "      <td>LATEST: All of Italy locked down | Qantas cuts...</td>\n",
              "      <td>Italy</td>\n",
              "      <td>English</td>\n",
              "      <td>True</td>\n",
              "      <td>https://www.adelaidenow.com.au/news/south-aust...</td>\n",
              "      <td>2020-05-03 00:00:00</td>\n",
              "      <td>adelaidenow.au</td>\n",
              "    </tr>\n",
              "    <tr>\n",
              "      <th>58</th>\n",
              "      <td>British researchers have published terrifying ...</td>\n",
              "      <td>China</td>\n",
              "      <td>English</td>\n",
              "      <td>True</td>\n",
              "      <td>https://www.adelaidenow.com.au/lifestyle/healt...</td>\n",
              "      <td>2020-09-03 00:00:00</td>\n",
              "      <td>adelaidenow.au</td>\n",
              "    </tr>\n",
              "    <tr>\n",
              "      <th>60</th>\n",
              "      <td>Local stocks retreat as resources struggle</td>\n",
              "      <td>United States</td>\n",
              "      <td>English</td>\n",
              "      <td>True</td>\n",
              "      <td>https://www.afghanistannews.net/news/263913261...</td>\n",
              "      <td>2020-12-03 00:00:00</td>\n",
              "      <td>afghanistannews.net</td>\n",
              "    </tr>\n",
              "    <tr>\n",
              "      <th>63</th>\n",
              "      <td>JSE losses deepen as stock rout continues</td>\n",
              "      <td>China</td>\n",
              "      <td>English</td>\n",
              "      <td>True</td>\n",
              "      <td>https://www.afghanistannews.net/news/264154718...</td>\n",
              "      <td>2020-09-03 00:00:00</td>\n",
              "      <td>afghanistannews.net</td>\n",
              "    </tr>\n",
              "    <tr>\n",
              "      <th>68</th>\n",
              "      <td>Man in Washington State 1st in US to Die from ...</td>\n",
              "      <td>United States</td>\n",
              "      <td>English</td>\n",
              "      <td>True</td>\n",
              "      <td>https://www.afghanistannews.net/news/264176148...</td>\n",
              "      <td>2020-03-02 00:00:00</td>\n",
              "      <td>afghanistannews.net</td>\n",
              "    </tr>\n",
              "    <tr>\n",
              "      <th>75</th>\n",
              "      <td>Equity indices gain on Asian cues, Yes Bank in...</td>\n",
              "      <td>India</td>\n",
              "      <td>English</td>\n",
              "      <td>True</td>\n",
              "      <td>https://www.afghanistannews.net/news/264019783...</td>\n",
              "      <td>2020-02-19 00:00:00</td>\n",
              "      <td>afghanistannews.net</td>\n",
              "    </tr>\n",
              "    <tr>\n",
              "      <th>77</th>\n",
              "      <td>Four Australian coronavirus cases confirmedSig...</td>\n",
              "      <td>China</td>\n",
              "      <td>English</td>\n",
              "      <td>True</td>\n",
              "      <td>https://www.adelaidenow.com.au/news/south-aust...</td>\n",
              "      <td>2020-11-03 00:00:00</td>\n",
              "      <td>adelaidenow.au</td>\n",
              "    </tr>\n",
              "    <tr>\n",
              "      <th>81</th>\n",
              "      <td>A person in California is believed to be the f...</td>\n",
              "      <td>California</td>\n",
              "      <td>English</td>\n",
              "      <td>True</td>\n",
              "      <td>https://www.adelaidenow.com.au/lifestyle/healt...</td>\n",
              "      <td>2020-03-03 00:00:00</td>\n",
              "      <td>adelaidenow.au</td>\n",
              "    </tr>\n",
              "    <tr>\n",
              "      <th>90</th>\n",
              "      <td>After nearly a week of roaming China’s epidemi...</td>\n",
              "      <td>China</td>\n",
              "      <td>English</td>\n",
              "      <td>True</td>\n",
              "      <td>https://www.adelaidenow.com.au/lifestyle/healt...</td>\n",
              "      <td>2020-02-28 00:00:00</td>\n",
              "      <td>adelaidenow.au</td>\n",
              "    </tr>\n",
              "    <tr>\n",
              "      <th>92</th>\n",
              "      <td>Mixed end for United States markets on Friday</td>\n",
              "      <td>United States</td>\n",
              "      <td>English</td>\n",
              "      <td>True</td>\n",
              "      <td>https://www.afghanistannews.net/news/264026454...</td>\n",
              "      <td>2020-01-25 00:00:00</td>\n",
              "      <td>afghanistannews.net</td>\n",
              "    </tr>\n",
              "    <tr>\n",
              "      <th>93</th>\n",
              "      <td>Passengers leave Japan virus ship as China tol...</td>\n",
              "      <td>Japan</td>\n",
              "      <td>English</td>\n",
              "      <td>True</td>\n",
              "      <td>http://www.aaj.tv/english/latest/passengers-le...</td>\n",
              "      <td>2020-03-03 00:00:00</td>\n",
              "      <td>aaj.tv</td>\n",
              "    </tr>\n",
              "    <tr>\n",
              "      <th>97</th>\n",
              "      <td>White House Economist: China Shutdowns to Impa...</td>\n",
              "      <td>China</td>\n",
              "      <td>English</td>\n",
              "      <td>True</td>\n",
              "      <td>https://www.afghanistannews.net/news/264125200...</td>\n",
              "      <td>2020-02-27 00:00:00</td>\n",
              "      <td>afghanistannews.net</td>\n",
              "    </tr>\n",
              "    <tr>\n",
              "      <th>99</th>\n",
              "      <td>Did Trump Golf, Hold Rallies After Learning Ab...</td>\n",
              "      <td>United States</td>\n",
              "      <td>English</td>\n",
              "      <td>True</td>\n",
              "      <td>https://www.snopes.com/fact-check/trump-golf-r...</td>\n",
              "      <td>NaN</td>\n",
              "      <td>snopes</td>\n",
              "    </tr>\n",
              "    <tr>\n",
              "      <th>114</th>\n",
              "      <td>The United States is “actually screening fewe...</td>\n",
              "      <td>United States</td>\n",
              "      <td>English</td>\n",
              "      <td>True</td>\n",
              "      <td>https://www.politifact.com/factchecks/2020/mar...</td>\n",
              "      <td>2020/03/02</td>\n",
              "      <td>PolitiFact</td>\n",
              "    </tr>\n",
              "    <tr>\n",
              "      <th>120</th>\n",
              "      <td>Our cheapest subscription offer is here: $1 fo...</td>\n",
              "      <td>Australia</td>\n",
              "      <td>English</td>\n",
              "      <td>True</td>\n",
              "      <td>https://www.adelaidenow.com.au/news/south-aust...</td>\n",
              "      <td>2020-02-24 00:00:00</td>\n",
              "      <td>adelaidenow.au</td>\n",
              "    </tr>\n",
              "    <tr>\n",
              "      <th>133</th>\n",
              "      <td>Some Students, Ex-Pats Remain in China With Li...</td>\n",
              "      <td>China</td>\n",
              "      <td>English</td>\n",
              "      <td>True</td>\n",
              "      <td>https://www.afghanistannews.net/news/263851097...</td>\n",
              "      <td>2020-03-03 00:00:00</td>\n",
              "      <td>afghanistannews.net</td>\n",
              "    </tr>\n",
              "    <tr>\n",
              "      <th>134</th>\n",
              "      <td>Was COVID-19 Discovered in the US and South Ko...</td>\n",
              "      <td>United States</td>\n",
              "      <td>English</td>\n",
              "      <td>True</td>\n",
              "      <td>https://www.snopes.com/fact-check/covid-19-dis...</td>\n",
              "      <td>NaN</td>\n",
              "      <td>snopes</td>\n",
              "    </tr>\n",
              "    <tr>\n",
              "      <th>139</th>\n",
              "      <td>Trump’s Disdain for ‘Obamacare’ Could Hamper V...</td>\n",
              "      <td>United States</td>\n",
              "      <td>English</td>\n",
              "      <td>True</td>\n",
              "      <td>https://www.snopes.com/ap/2020/04/13/trumps-di...</td>\n",
              "      <td>2020-03-19 00:00:00</td>\n",
              "      <td>snopes</td>\n",
              "    </tr>\n",
              "    <tr>\n",
              "      <th>142</th>\n",
              "      <td>LATEST: All of Italy locked down | Qantas cuts...</td>\n",
              "      <td>Italy</td>\n",
              "      <td>English</td>\n",
              "      <td>True</td>\n",
              "      <td>https://www.adelaidenow.com.au/news/south-aust...</td>\n",
              "      <td>2020-12-03 00:00:00</td>\n",
              "      <td>adelaidenow.au</td>\n",
              "    </tr>\n",
              "    <tr>\n",
              "      <th>144</th>\n",
              "      <td>LATEST: Stopping coronavirus ‘no longer possib...</td>\n",
              "      <td>Australia</td>\n",
              "      <td>English</td>\n",
              "      <td>True</td>\n",
              "      <td>https://www.adelaidenow.com.au/news/south-aust...</td>\n",
              "      <td>2020-09-03 00:00:00</td>\n",
              "      <td>adelaidenow.au</td>\n",
              "    </tr>\n",
              "    <tr>\n",
              "      <th>156</th>\n",
              "      <td>Despite virus scare, Pak to resume flight ops ...</td>\n",
              "      <td>China</td>\n",
              "      <td>English</td>\n",
              "      <td>True</td>\n",
              "      <td>https://www.afghanistannews.net/news/263905870...</td>\n",
              "      <td>2020-02-17 00:00:00</td>\n",
              "      <td>afghanistannews.net</td>\n",
              "    </tr>\n",
              "    <tr>\n",
              "      <th>160</th>\n",
              "      <td>Equities slide as China virus fears intensify</td>\n",
              "      <td>China</td>\n",
              "      <td>English</td>\n",
              "      <td>True</td>\n",
              "      <td>https://www.afghanistannews.net/news/263843307...</td>\n",
              "      <td>2020-02-22 00:00:00</td>\n",
              "      <td>afghanistannews.net</td>\n",
              "    </tr>\n",
              "    <tr>\n",
              "      <th>162</th>\n",
              "      <td>Latest on the coronavirus spread around the wo...</td>\n",
              "      <td>China</td>\n",
              "      <td>English</td>\n",
              "      <td>True</td>\n",
              "      <td>https://www.adelaidenow.com.au/news/south-aust...</td>\n",
              "      <td>2020-11-03 00:00:00</td>\n",
              "      <td>adelaidenow.au</td>\n",
              "    </tr>\n",
              "  </tbody>\n",
              "</table>\n",
              "</div>"
            ],
            "text/plain": [
              "                                                  Text  ...       verificado_por\n",
              "2    PIA announces special flights as Saudi Arabia ...  ...               aaj.tv\n",
              "7    Patel on budget cuts: We have to go further on...  ...  afghanistannews.net\n",
              "12   Forget sexy projects, SA needs a pothole-led s...  ...       adelaidenow.au\n",
              "22   â€śBill Gates told us about the coronavirus in...  ...           politifact\n",
              "37   Equities dither amid mixed global cues after c...  ...  afghanistannews.net\n",
              "51   Washington State Reports 1st Coronavirus Death...  ...  afghanistannews.net\n",
              "52   LATEST: All of Italy locked down | Qantas cuts...  ...       adelaidenow.au\n",
              "58   British researchers have published terrifying ...  ...       adelaidenow.au\n",
              "60          Local stocks retreat as resources struggle  ...  afghanistannews.net\n",
              "63           JSE losses deepen as stock rout continues  ...  afghanistannews.net\n",
              "68   Man in Washington State 1st in US to Die from ...  ...  afghanistannews.net\n",
              "75   Equity indices gain on Asian cues, Yes Bank in...  ...  afghanistannews.net\n",
              "77   Four Australian coronavirus cases confirmedSig...  ...       adelaidenow.au\n",
              "81   A person in California is believed to be the f...  ...       adelaidenow.au\n",
              "90   After nearly a week of roaming China’s epidemi...  ...       adelaidenow.au\n",
              "92       Mixed end for United States markets on Friday  ...  afghanistannews.net\n",
              "93   Passengers leave Japan virus ship as China tol...  ...               aaj.tv\n",
              "97   White House Economist: China Shutdowns to Impa...  ...  afghanistannews.net\n",
              "99   Did Trump Golf, Hold Rallies After Learning Ab...  ...               snopes\n",
              "114   The United States is “actually screening fewe...  ...           PolitiFact\n",
              "120  Our cheapest subscription offer is here: $1 fo...  ...       adelaidenow.au\n",
              "133  Some Students, Ex-Pats Remain in China With Li...  ...  afghanistannews.net\n",
              "134  Was COVID-19 Discovered in the US and South Ko...  ...               snopes\n",
              "139  Trump’s Disdain for ‘Obamacare’ Could Hamper V...  ...               snopes\n",
              "142  LATEST: All of Italy locked down | Qantas cuts...  ...       adelaidenow.au\n",
              "144  LATEST: Stopping coronavirus ‘no longer possib...  ...       adelaidenow.au\n",
              "156  Despite virus scare, Pak to resume flight ops ...  ...  afghanistannews.net\n",
              "160      Equities slide as China virus fears intensify  ...  afghanistannews.net\n",
              "162  Latest on the coronavirus spread around the wo...  ...       adelaidenow.au\n",
              "\n",
              "[29 rows x 7 columns]"
            ]
          },
          "metadata": {
            "tags": []
          },
          "execution_count": 223
        }
      ]
    },
    {
      "cell_type": "code",
      "metadata": {
        "colab": {
          "base_uri": "https://localhost:8080/",
          "height": 1000
        },
        "id": "A62AVGXnze38",
        "outputId": "6d4a5d04-6591-47cb-e456-40b0107f382f"
      },
      "source": [
        "datos_reserva.head(29)"
      ],
      "execution_count": null,
      "outputs": [
        {
          "output_type": "execute_result",
          "data": {
            "text/html": [
              "<div>\n",
              "<style scoped>\n",
              "    .dataframe tbody tr th:only-of-type {\n",
              "        vertical-align: middle;\n",
              "    }\n",
              "\n",
              "    .dataframe tbody tr th {\n",
              "        vertical-align: top;\n",
              "    }\n",
              "\n",
              "    .dataframe thead th {\n",
              "        text-align: right;\n",
              "    }\n",
              "</style>\n",
              "<table border=\"1\" class=\"dataframe\">\n",
              "  <thead>\n",
              "    <tr style=\"text-align: right;\">\n",
              "      <th></th>\n",
              "      <th>Text</th>\n",
              "      <th>country</th>\n",
              "      <th>lang</th>\n",
              "      <th>label</th>\n",
              "      <th>URL</th>\n",
              "      <th>date</th>\n",
              "      <th>verificado_por</th>\n",
              "    </tr>\n",
              "  </thead>\n",
              "  <tbody>\n",
              "    <tr>\n",
              "      <th>0</th>\n",
              "      <td>Existence of a vaccination summit may be a si...</td>\n",
              "      <td>Georgia</td>\n",
              "      <td>English</td>\n",
              "      <td>False</td>\n",
              "      <td>http://mythdetector.ge/en/myth/are-vaccines-te...</td>\n",
              "      <td>2020/06/11</td>\n",
              "      <td>Myth Detector</td>\n",
              "    </tr>\n",
              "    <tr>\n",
              "      <th>1</th>\n",
              "      <td>The reproduction rate for the coronavirus in G...</td>\n",
              "      <td>United States</td>\n",
              "      <td>English</td>\n",
              "      <td>True</td>\n",
              "      <td>https://reuters.com</td>\n",
              "      <td>NaN</td>\n",
              "      <td>Reuters</td>\n",
              "    </tr>\n",
              "    <tr>\n",
              "      <th>2</th>\n",
              "      <td>3,500 Italians potentially infected with the n...</td>\n",
              "      <td>Brazil</td>\n",
              "      <td>English</td>\n",
              "      <td>False</td>\n",
              "      <td>https://aosfatos.org/noticias/e-falso-que-3500...</td>\n",
              "      <td>2020-02-29 00:00:00</td>\n",
              "      <td>Aos Fatos</td>\n",
              "    </tr>\n",
              "    <tr>\n",
              "      <th>3</th>\n",
              "      <td>The Indian Army has been called to control sev...</td>\n",
              "      <td>India</td>\n",
              "      <td>English</td>\n",
              "      <td>False</td>\n",
              "      <td>https://www.boomlive.in/fake-news/false-army-c...</td>\n",
              "      <td>2020-04-03 00:00:00</td>\n",
              "      <td>BOOM FactCheck</td>\n",
              "    </tr>\n",
              "    <tr>\n",
              "      <th>4</th>\n",
              "      <td>Says Queen Elizabeth said Philippine President...</td>\n",
              "      <td>United States</td>\n",
              "      <td>English</td>\n",
              "      <td>False</td>\n",
              "      <td>https://www.politifact.com/factchecks/2020/apr...</td>\n",
              "      <td>2020-04-06 00:00:00</td>\n",
              "      <td>PolitiFact</td>\n",
              "    </tr>\n",
              "    <tr>\n",
              "      <th>5</th>\n",
              "      <td>The U.S. Centers for Disease Control and Preve...</td>\n",
              "      <td>United States</td>\n",
              "      <td>English</td>\n",
              "      <td>True</td>\n",
              "      <td>https://reuters.com</td>\n",
              "      <td>NaN</td>\n",
              "      <td>Reuters</td>\n",
              "    </tr>\n",
              "    <tr>\n",
              "      <th>6</th>\n",
              "      <td>Brazil's health regulator Anvisa on Tuesday au...</td>\n",
              "      <td>United States</td>\n",
              "      <td>English</td>\n",
              "      <td>True</td>\n",
              "      <td>https://reuters.com</td>\n",
              "      <td>NaN</td>\n",
              "      <td>Reuters</td>\n",
              "    </tr>\n",
              "    <tr>\n",
              "      <th>7</th>\n",
              "      <td>Ugandan President Kaguta Museveni and Prime M...</td>\n",
              "      <td>Uganda</td>\n",
              "      <td>English</td>\n",
              "      <td>False</td>\n",
              "      <td>https://pesacheck.org/false-ugandan-president-...</td>\n",
              "      <td>2020/06/09</td>\n",
              "      <td>PesaCheck</td>\n",
              "    </tr>\n",
              "    <tr>\n",
              "      <th>8</th>\n",
              "      <td>A video has been viewed thousands of times on...</td>\n",
              "      <td>Malaysia</td>\n",
              "      <td>English</td>\n",
              "      <td>False</td>\n",
              "      <td>https://factcheck.afp.com/video-shows-safety-d...</td>\n",
              "      <td>2020/04/09</td>\n",
              "      <td>AFP</td>\n",
              "    </tr>\n",
              "    <tr>\n",
              "      <th>9</th>\n",
              "      <td>“Bill Gates Explains That The COVID Vaccine W...</td>\n",
              "      <td>United States</td>\n",
              "      <td>English</td>\n",
              "      <td>False</td>\n",
              "      <td>https://www.politifact.com/factchecks/2020/may...</td>\n",
              "      <td>2020/05/20</td>\n",
              "      <td>PolitiFact</td>\n",
              "    </tr>\n",
              "    <tr>\n",
              "      <th>10</th>\n",
              "      <td>The head of Coordinated Emergences, Fernando ...</td>\n",
              "      <td>Spain</td>\n",
              "      <td>English</td>\n",
              "      <td>False</td>\n",
              "      <td>https://maldita.es/malditobulo/2020/03/10/fern...</td>\n",
              "      <td>2020-02-25 00:00:00</td>\n",
              "      <td>maldita.es</td>\n",
              "    </tr>\n",
              "    <tr>\n",
              "      <th>11</th>\n",
              "      <td>Tokyo Olympics logo has been redesigned on th...</td>\n",
              "      <td>India</td>\n",
              "      <td>English</td>\n",
              "      <td>False</td>\n",
              "      <td>https://www.indiatoday.in/fact-check/story/no-...</td>\n",
              "      <td>2020/03/24</td>\n",
              "      <td>India Today</td>\n",
              "    </tr>\n",
              "    <tr>\n",
              "      <th>12</th>\n",
              "      <td>A graphic has been shared thousands of times ...</td>\n",
              "      <td>Australia</td>\n",
              "      <td>English</td>\n",
              "      <td>False</td>\n",
              "      <td>https://factcheck.afp.com/gargling-warm-salt-w...</td>\n",
              "      <td>2020/03/14</td>\n",
              "      <td>AFP</td>\n",
              "    </tr>\n",
              "    <tr>\n",
              "      <th>13</th>\n",
              "      <td>Southwest Airlines  said on Wednesday it was e...</td>\n",
              "      <td>United States</td>\n",
              "      <td>English</td>\n",
              "      <td>True</td>\n",
              "      <td>https://reuters.com</td>\n",
              "      <td>NaN</td>\n",
              "      <td>Reuters</td>\n",
              "    </tr>\n",
              "    <tr>\n",
              "      <th>14</th>\n",
              "      <td>The Indian Army has been called to control se...</td>\n",
              "      <td>India</td>\n",
              "      <td>English</td>\n",
              "      <td>False</td>\n",
              "      <td>https://www.boomlive.in/fake-news/false-army-c...</td>\n",
              "      <td>2020/03/29</td>\n",
              "      <td>BOOM FactCheck</td>\n",
              "    </tr>\n",
              "    <tr>\n",
              "      <th>15</th>\n",
              "      <td>Having a beard increases your chances of gett...</td>\n",
              "      <td>United States</td>\n",
              "      <td>English</td>\n",
              "      <td>False</td>\n",
              "      <td>https://youtu.be/2CBGeQmJuow</td>\n",
              "      <td>2020/03/17</td>\n",
              "      <td>MediaWise</td>\n",
              "    </tr>\n",
              "    <tr>\n",
              "      <th>16</th>\n",
              "      <td>The United Kingdom's chief medical officers ha...</td>\n",
              "      <td>United States</td>\n",
              "      <td>English</td>\n",
              "      <td>True</td>\n",
              "      <td>https://reuters.com</td>\n",
              "      <td>NaN</td>\n",
              "      <td>Reuters</td>\n",
              "    </tr>\n",
              "    <tr>\n",
              "      <th>17</th>\n",
              "      <td>Kenyan President Uhuru gives artists Sh 2 bill...</td>\n",
              "      <td>Kenya</td>\n",
              "      <td>English</td>\n",
              "      <td>False</td>\n",
              "      <td>https://pesacheck.org/false-kenyan-artists-wil...</td>\n",
              "      <td>2020-04-09 00:00:00</td>\n",
              "      <td>PesaCheck</td>\n",
              "    </tr>\n",
              "    <tr>\n",
              "      <th>18</th>\n",
              "      <td>A video purportedly showing COVID-19 victims i...</td>\n",
              "      <td>United States</td>\n",
              "      <td>English</td>\n",
              "      <td>False</td>\n",
              "      <td>https://factcheck.afp.com/covid-19-corpses-vid...</td>\n",
              "      <td>2020-04-01 00:00:00</td>\n",
              "      <td>AFP</td>\n",
              "    </tr>\n",
              "    <tr>\n",
              "      <th>19</th>\n",
              "      <td>One January lunchtime in a car parts company, ...</td>\n",
              "      <td>United States</td>\n",
              "      <td>English</td>\n",
              "      <td>True</td>\n",
              "      <td>https://reuters.com</td>\n",
              "      <td>NaN</td>\n",
              "      <td>Reuters</td>\n",
              "    </tr>\n",
              "    <tr>\n",
              "      <th>20</th>\n",
              "      <td>China Virus Toll Rises to Nine As Pandemic Fea...</td>\n",
              "      <td>China</td>\n",
              "      <td>English</td>\n",
              "      <td>True</td>\n",
              "      <td>https://www.afghanistannews.net/news/263789036...</td>\n",
              "      <td>2020-03-02 00:00:00</td>\n",
              "      <td>afghanistannews.net</td>\n",
              "    </tr>\n",
              "    <tr>\n",
              "      <th>21</th>\n",
              "      <td>South African food production company Unileve...</td>\n",
              "      <td>South Africa</td>\n",
              "      <td>English</td>\n",
              "      <td>False</td>\n",
              "      <td>https://verificado.com.mx/hidroxicloroquina-pa...</td>\n",
              "      <td>2020-04-22 00:00:00</td>\n",
              "      <td>AfricaCheck</td>\n",
              "    </tr>\n",
              "    <tr>\n",
              "      <th>22</th>\n",
              "      <td>Infected taxi driver demands money from his g...</td>\n",
              "      <td>Nigeria</td>\n",
              "      <td>English</td>\n",
              "      <td>False</td>\n",
              "      <td>https://factcheck.afp.com/story-originated-par...</td>\n",
              "      <td>2020/02/25</td>\n",
              "      <td>AFP</td>\n",
              "    </tr>\n",
              "    <tr>\n",
              "      <th>23</th>\n",
              "      <td>French healthcare workers protested against ex...</td>\n",
              "      <td>United States</td>\n",
              "      <td>English</td>\n",
              "      <td>True</td>\n",
              "      <td>https://reuters.com</td>\n",
              "      <td>NaN</td>\n",
              "      <td>Reuters</td>\n",
              "    </tr>\n",
              "    <tr>\n",
              "      <th>24</th>\n",
              "      <td>Several large drugmakers including Merck &amp; Co ...</td>\n",
              "      <td>United States</td>\n",
              "      <td>English</td>\n",
              "      <td>True</td>\n",
              "      <td>https://reuters.com</td>\n",
              "      <td>NaN</td>\n",
              "      <td>Reuters</td>\n",
              "    </tr>\n",
              "    <tr>\n",
              "      <th>25</th>\n",
              "      <td>China “stole coronavirus from Canada and weap...</td>\n",
              "      <td>United States</td>\n",
              "      <td>English</td>\n",
              "      <td>False</td>\n",
              "      <td>https://www.politifact.com/facebook-fact-check...</td>\n",
              "      <td>2020/01/27</td>\n",
              "      <td>PolitiFact</td>\n",
              "    </tr>\n",
              "    <tr>\n",
              "      <th>26</th>\n",
              "      <td>Singapore's Tychan, a biotechnology firm backe...</td>\n",
              "      <td>United States</td>\n",
              "      <td>English</td>\n",
              "      <td>True</td>\n",
              "      <td>https://reuters.com</td>\n",
              "      <td>NaN</td>\n",
              "      <td>Reuters</td>\n",
              "    </tr>\n",
              "    <tr>\n",
              "      <th>27</th>\n",
              "      <td>Georgia declared a state of emergency on Satur...</td>\n",
              "      <td>United States</td>\n",
              "      <td>English</td>\n",
              "      <td>True</td>\n",
              "      <td>https://reuters.com</td>\n",
              "      <td>NaN</td>\n",
              "      <td>Reuters</td>\n",
              "    </tr>\n",
              "    <tr>\n",
              "      <th>28</th>\n",
              "      <td>A news publication reports the Royal Palace c...</td>\n",
              "      <td>Nigeria</td>\n",
              "      <td>English</td>\n",
              "      <td>False</td>\n",
              "      <td>https://dubawa.org/what-is-the-queen-of-englan...</td>\n",
              "      <td>2020/03/28</td>\n",
              "      <td>Dubawa</td>\n",
              "    </tr>\n",
              "  </tbody>\n",
              "</table>\n",
              "</div>"
            ],
            "text/plain": [
              "                                                 Text  ...       verificado_por\n",
              "0    Existence of a vaccination summit may be a si...  ...        Myth Detector\n",
              "1   The reproduction rate for the coronavirus in G...  ...              Reuters\n",
              "2   3,500 Italians potentially infected with the n...  ...            Aos Fatos\n",
              "3   The Indian Army has been called to control sev...  ...       BOOM FactCheck\n",
              "4   Says Queen Elizabeth said Philippine President...  ...           PolitiFact\n",
              "5   The U.S. Centers for Disease Control and Preve...  ...              Reuters\n",
              "6   Brazil's health regulator Anvisa on Tuesday au...  ...              Reuters\n",
              "7    Ugandan President Kaguta Museveni and Prime M...  ...            PesaCheck\n",
              "8    A video has been viewed thousands of times on...  ...                  AFP\n",
              "9    “Bill Gates Explains That The COVID Vaccine W...  ...           PolitiFact\n",
              "10   The head of Coordinated Emergences, Fernando ...  ...           maldita.es\n",
              "11   Tokyo Olympics logo has been redesigned on th...  ...          India Today\n",
              "12   A graphic has been shared thousands of times ...  ...                  AFP\n",
              "13  Southwest Airlines  said on Wednesday it was e...  ...              Reuters\n",
              "14   The Indian Army has been called to control se...  ...       BOOM FactCheck\n",
              "15   Having a beard increases your chances of gett...  ...            MediaWise\n",
              "16  The United Kingdom's chief medical officers ha...  ...              Reuters\n",
              "17  Kenyan President Uhuru gives artists Sh 2 bill...  ...            PesaCheck\n",
              "18  A video purportedly showing COVID-19 victims i...  ...                  AFP\n",
              "19  One January lunchtime in a car parts company, ...  ...              Reuters\n",
              "20  China Virus Toll Rises to Nine As Pandemic Fea...  ...  afghanistannews.net\n",
              "21   South African food production company Unileve...  ...          AfricaCheck\n",
              "22   Infected taxi driver demands money from his g...  ...                  AFP\n",
              "23  French healthcare workers protested against ex...  ...              Reuters\n",
              "24  Several large drugmakers including Merck & Co ...  ...              Reuters\n",
              "25   China “stole coronavirus from Canada and weap...  ...           PolitiFact\n",
              "26  Singapore's Tychan, a biotechnology firm backe...  ...              Reuters\n",
              "27  Georgia declared a state of emergency on Satur...  ...              Reuters\n",
              "28   A news publication reports the Royal Palace c...  ...               Dubawa\n",
              "\n",
              "[29 rows x 7 columns]"
            ]
          },
          "metadata": {
            "tags": []
          },
          "execution_count": 116
        }
      ]
    },
    {
      "cell_type": "code",
      "metadata": {
        "colab": {
          "base_uri": "https://localhost:8080/"
        },
        "id": "QY9zyAXjefIf",
        "outputId": "58ad0556-f7cc-435a-ff8e-da32056d294b"
      },
      "source": [
        "# Prueba con textos de datos de reserva\n",
        "\n",
        "text1=datos_reserva[\"Text\"][15]\n",
        "text2=datos_reserva[\"Text\"][25]\n",
        "text3=datos_reserva[\"Text\"][57]\n",
        "\n",
        "print(\"Texto 1: \", text1)\n",
        "print(\"Categoria real: \",datos_trabajo[\"label\"][15])\n",
        "\n",
        "print(\"Texto 2: \", text2)\n",
        "print(\"Categoria real: \",datos_reserva[\"label\"][25])\n",
        "\n",
        "print(\"Texto 3: \", text3)\n",
        "print(\"Categoria real: \",datos_reserva[\"label\"][57])"
      ],
      "execution_count": null,
      "outputs": [
        {
          "output_type": "stream",
          "text": [
            "Texto 1:   Having a beard increases your chances of getting coronavirus.\n",
            "Categoria real:  False\n",
            "Texto 2:   China “stole coronavirus from Canada and weaponized it into a Bioweapon.”\n",
            "Categoria real:  False\n",
            "Texto 3:  India reported a record daily increase of novel coronavirus cases on Friday and became the world's fourth worst-hit country, raising the prospect of the return of a lockdown just days after it was lifted.\n",
            "Categoria real:  True\n"
          ],
          "name": "stdout"
        }
      ]
    },
    {
      "cell_type": "code",
      "metadata": {
        "colab": {
          "base_uri": "https://localhost:8080/",
          "height": 648
        },
        "id": "iVw_Ea2a9dT-",
        "outputId": "8153fe37-9651-42b9-dd2a-c884a75fc790"
      },
      "source": [
        "datos_reserva.head(6)"
      ],
      "execution_count": null,
      "outputs": [
        {
          "output_type": "execute_result",
          "data": {
            "text/html": [
              "<div>\n",
              "<style scoped>\n",
              "    .dataframe tbody tr th:only-of-type {\n",
              "        vertical-align: middle;\n",
              "    }\n",
              "\n",
              "    .dataframe tbody tr th {\n",
              "        vertical-align: top;\n",
              "    }\n",
              "\n",
              "    .dataframe thead th {\n",
              "        text-align: right;\n",
              "    }\n",
              "</style>\n",
              "<table border=\"1\" class=\"dataframe\">\n",
              "  <thead>\n",
              "    <tr style=\"text-align: right;\">\n",
              "      <th></th>\n",
              "      <th>Text</th>\n",
              "      <th>country</th>\n",
              "      <th>lang</th>\n",
              "      <th>label</th>\n",
              "      <th>URL</th>\n",
              "      <th>date</th>\n",
              "      <th>verificado_por</th>\n",
              "    </tr>\n",
              "  </thead>\n",
              "  <tbody>\n",
              "    <tr>\n",
              "      <th>0</th>\n",
              "      <td>Existence of a vaccination summit may be a si...</td>\n",
              "      <td>Georgia</td>\n",
              "      <td>English</td>\n",
              "      <td>False</td>\n",
              "      <td>http://mythdetector.ge/en/myth/are-vaccines-te...</td>\n",
              "      <td>2020/06/11</td>\n",
              "      <td>Myth Detector</td>\n",
              "    </tr>\n",
              "    <tr>\n",
              "      <th>1</th>\n",
              "      <td>The reproduction rate for the coronavirus in G...</td>\n",
              "      <td>United States</td>\n",
              "      <td>English</td>\n",
              "      <td>True</td>\n",
              "      <td>https://reuters.com</td>\n",
              "      <td>NaN</td>\n",
              "      <td>Reuters</td>\n",
              "    </tr>\n",
              "    <tr>\n",
              "      <th>2</th>\n",
              "      <td>3,500 Italians potentially infected with the n...</td>\n",
              "      <td>Brazil</td>\n",
              "      <td>English</td>\n",
              "      <td>False</td>\n",
              "      <td>https://aosfatos.org/noticias/e-falso-que-3500...</td>\n",
              "      <td>2020-02-29 00:00:00</td>\n",
              "      <td>Aos Fatos</td>\n",
              "    </tr>\n",
              "    <tr>\n",
              "      <th>3</th>\n",
              "      <td>The Indian Army has been called to control sev...</td>\n",
              "      <td>India</td>\n",
              "      <td>English</td>\n",
              "      <td>False</td>\n",
              "      <td>https://www.boomlive.in/fake-news/false-army-c...</td>\n",
              "      <td>2020-04-03 00:00:00</td>\n",
              "      <td>BOOM FactCheck</td>\n",
              "    </tr>\n",
              "    <tr>\n",
              "      <th>4</th>\n",
              "      <td>Says Queen Elizabeth said Philippine President...</td>\n",
              "      <td>United States</td>\n",
              "      <td>English</td>\n",
              "      <td>False</td>\n",
              "      <td>https://www.politifact.com/factchecks/2020/apr...</td>\n",
              "      <td>2020-04-06 00:00:00</td>\n",
              "      <td>PolitiFact</td>\n",
              "    </tr>\n",
              "    <tr>\n",
              "      <th>5</th>\n",
              "      <td>The U.S. Centers for Disease Control and Preve...</td>\n",
              "      <td>United States</td>\n",
              "      <td>English</td>\n",
              "      <td>True</td>\n",
              "      <td>https://reuters.com</td>\n",
              "      <td>NaN</td>\n",
              "      <td>Reuters</td>\n",
              "    </tr>\n",
              "  </tbody>\n",
              "</table>\n",
              "</div>"
            ],
            "text/plain": [
              "                                                Text  ...  verificado_por\n",
              "0   Existence of a vaccination summit may be a si...  ...   Myth Detector\n",
              "1  The reproduction rate for the coronavirus in G...  ...         Reuters\n",
              "2  3,500 Italians potentially infected with the n...  ...       Aos Fatos\n",
              "3  The Indian Army has been called to control sev...  ...  BOOM FactCheck\n",
              "4  Says Queen Elizabeth said Philippine President...  ...      PolitiFact\n",
              "5  The U.S. Centers for Disease Control and Preve...  ...         Reuters\n",
              "\n",
              "[6 rows x 7 columns]"
            ]
          },
          "metadata": {
            "tags": []
          },
          "execution_count": 118
        }
      ]
    },
    {
      "cell_type": "code",
      "metadata": {
        "id": "QWrl1avDefFm"
      },
      "source": [
        "# Función para prueba\n",
        "\n",
        "def news_alert(a, modelo_probar):\n",
        "    clf=modelo_probar\n",
        "    # Tokenizacion\n",
        "    corpus_1=[]\n",
        "    corpus_1.append(a)\n",
        "    corpus_2=pd.Series(corpus_1)\n",
        "    sequences_reserva = tokenizer.texts_to_sequences(corpus_2.values)\n",
        "    transform_vect_reserva= pad_sequences(sequences_reserva, maxlen=max_len)\n",
        "    #print(transform_vect_reserva)\n",
        "    \n",
        "    prediccion=clf.predict(transform_vect_reserva)\n",
        "    prediccion_a = [np.array(prediccion)]\n",
        "    print(prediccion)    \n",
        "\n",
        "    if prediccion == 1:\n",
        "       print(\"Alerta\")\n",
        "    else:\n",
        "      print(\"No alerta\")"
      ],
      "execution_count": null,
      "outputs": []
    },
    {
      "cell_type": "code",
      "metadata": {
        "colab": {
          "base_uri": "https://localhost:8080/"
        },
        "id": "K9CtMgKSsRwI",
        "outputId": "f1e01d82-5a79-43d4-965f-1b5d86bf03f9"
      },
      "source": [
        "clasificar_texto=text2\n",
        "print(clasificar_texto)\n",
        "\n",
        "print(\"Modelo RF\")\n",
        "print(news_alert(clasificar_texto, modelRF))"
      ],
      "execution_count": null,
      "outputs": [
        {
          "output_type": "stream",
          "text": [
            " China “stole coronavirus from Canada and weaponized it into a Bioweapon.”\n",
            "Modelo RF\n",
            "[1]\n",
            "Alerta\n",
            "None\n"
          ],
          "name": "stdout"
        }
      ]
    },
    {
      "cell_type": "code",
      "metadata": {
        "colab": {
          "base_uri": "https://localhost:8080/"
        },
        "id": "IZGYpf7BvnYT",
        "outputId": "f18888d4-59d0-4586-b7e0-69fc764f6a98"
      },
      "source": [
        "# Prueba con función\n",
        "\n",
        "# 1 alerta\n",
        "# 0 no alerta\n",
        "\n",
        "clasificar_texto=text1\n",
        "print(clasificar_texto)\n",
        "\n",
        "print(\"Modelo RF\")\n",
        "print(news_alert(clasificar_texto, modelRF))\n",
        "\n",
        "print(\" \")\n",
        "print(\"Modelo LOG\")\n",
        "print(news_alert(clasificar_texto, modelLOG))\n",
        "\n",
        "print(\" \")\n",
        "print(\"Modelo SVC\")\n",
        "print(news_alert(clasificar_texto, modelSVC))\n",
        "\n",
        "print(\" \")\n",
        "print(\"Modelo NB\")\n",
        "print(news_alert(clasificar_texto, modelNB))\n"
      ],
      "execution_count": null,
      "outputs": [
        {
          "output_type": "stream",
          "text": [
            " Having a beard increases your chances of getting coronavirus.\n",
            "Modelo RF\n",
            "[1]\n",
            "Alerta\n",
            "None\n",
            " \n",
            "Modelo LOG\n",
            "[1]\n",
            "Alerta\n",
            "None\n",
            " \n",
            "Modelo SVC\n",
            "[1]\n",
            "Alerta\n",
            "None\n",
            " \n",
            "Modelo NB\n",
            "[1]\n",
            "Alerta\n",
            "None\n"
          ],
          "name": "stdout"
        }
      ]
    },
    {
      "cell_type": "code",
      "metadata": {
        "colab": {
          "base_uri": "https://localhost:8080/"
        },
        "id": "73JmqazU-PTc",
        "outputId": "3bcd3f4a-e140-4403-dfe3-2e90dee34804"
      },
      "source": [
        "news_alert(clasificar_texto, modelLOG)"
      ],
      "execution_count": null,
      "outputs": [
        {
          "output_type": "stream",
          "text": [
            "[1]\n",
            "Alerta\n"
          ],
          "name": "stdout"
        }
      ]
    },
    {
      "cell_type": "markdown",
      "metadata": {
        "id": "x1RIX7ynesF4"
      },
      "source": [
        "#### Generación de archivos de modelos de aprendizaje automático"
      ]
    },
    {
      "cell_type": "code",
      "metadata": {
        "colab": {
          "base_uri": "https://localhost:8080/"
        },
        "id": "ttGet7pbxGal",
        "outputId": "f894e785-4ab4-452e-e33c-b441ef8955d5"
      },
      "source": [
        "## Guardo los modelos en archivos\n",
        "\n",
        "\n",
        "filename = 'SVC_model.pkl'\n",
        "joblib.dump(modelSVC, filename)\n",
        "\n",
        "filename = 'NB_model.pkl'\n",
        "joblib.dump(modelNB, filename)\n",
        "\n",
        "filename = 'LOG_model.pkl'\n",
        "joblib.dump(modelLOG, filename)\n",
        "\n",
        "filename = 'RF_model.pkl'\n",
        "joblib.dump(modelRF, filename)\n",
        "\n",
        "filename = 'tokenizer.pkl'\n",
        "joblib.dump(tokenizer, filename)\n"
      ],
      "execution_count": null,
      "outputs": [
        {
          "output_type": "execute_result",
          "data": {
            "text/plain": [
              "['tokenizer.pkl']"
            ]
          },
          "metadata": {
            "tags": []
          },
          "execution_count": 123
        }
      ]
    },
    {
      "cell_type": "markdown",
      "metadata": {
        "id": "kon8-h4Ab4dy"
      },
      "source": [
        "### Comparación de modelos de aprendizaje profundo"
      ]
    },
    {
      "cell_type": "markdown",
      "metadata": {
        "id": "9A8ijRAklkaX"
      },
      "source": [
        "#### Modelo base inicial"
      ]
    },
    {
      "cell_type": "code",
      "metadata": {
        "id": "EqluEIBJlIG-"
      },
      "source": [
        "# Parámetros de la red\n",
        "epochs = 20\n",
        "emb_dim = 128\n",
        "batch_size = 256"
      ],
      "execution_count": null,
      "outputs": []
    },
    {
      "cell_type": "code",
      "metadata": {
        "colab": {
          "base_uri": "https://localhost:8080/"
        },
        "id": "Dvnb5fZ5ru5w",
        "outputId": "37340c7a-f321-404f-d483-81c768597ae9"
      },
      "source": [
        "# Creación del modelo y compilación\n",
        "\n",
        "model_base = tf.keras.Sequential([\n",
        "    tf.keras.layers.Embedding(n_most_common_words, emb_dim, input_length=X.shape[1]),\n",
        "    tf.keras.layers.Flatten(),\n",
        "    tf.keras.layers.Dense(32, activation='relu'),\n",
        "    tf.keras.layers.Dense(1, activation='sigmoid')\n",
        "])\n",
        "model_base.summary()\n",
        "\n",
        "# Compilación\n",
        "\n",
        "model_base.compile(optimizer='adam', loss='binary_crossentropy', metrics=['acc'])"
      ],
      "execution_count": null,
      "outputs": [
        {
          "output_type": "stream",
          "text": [
            "Model: \"sequential_35\"\n",
            "_________________________________________________________________\n",
            "Layer (type)                 Output Shape              Param #   \n",
            "=================================================================\n",
            "embedding_35 (Embedding)     (None, 300, 128)          1280000   \n",
            "_________________________________________________________________\n",
            "flatten_36 (Flatten)         (None, 38400)             0         \n",
            "_________________________________________________________________\n",
            "dense_69 (Dense)             (None, 32)                1228832   \n",
            "_________________________________________________________________\n",
            "dense_70 (Dense)             (None, 1)                 33        \n",
            "=================================================================\n",
            "Total params: 2,508,865\n",
            "Trainable params: 2,508,865\n",
            "Non-trainable params: 0\n",
            "_________________________________________________________________\n"
          ],
          "name": "stdout"
        }
      ]
    },
    {
      "cell_type": "code",
      "metadata": {
        "colab": {
          "base_uri": "https://localhost:8080/"
        },
        "id": "z0dlDAoVsvQn",
        "outputId": "4a706596-10fb-48d8-8397-83aecf4c9017"
      },
      "source": [
        "# Entrenamiento\n",
        "\n",
        "start=time.clock()\n",
        "\n",
        "\n",
        "history_base = model_base.fit(x_train, y_train, epochs=epochs, batch_size=batch_size,validation_split=0.2,callbacks=[EarlyStopping(monitor='val_loss',patience=7, min_delta=0.0001)])\n",
        "\n",
        "end = time.clock()\n",
        "tiempo_base=(end-start)/60\n",
        "print(\"Tiempo de entrenamiento: \", tiempo_base, \" minutos\")"
      ],
      "execution_count": null,
      "outputs": [
        {
          "output_type": "stream",
          "text": [
            "Epoch 1/20\n",
            "16/16 [==============================] - 1s 78ms/step - loss: 0.3723 - acc: 0.8935 - val_loss: 0.3003 - val_acc: 0.9043\n",
            "Epoch 2/20\n",
            "16/16 [==============================] - 1s 70ms/step - loss: 0.2935 - acc: 0.8966 - val_loss: 0.2580 - val_acc: 0.9043\n",
            "Epoch 3/20\n",
            "16/16 [==============================] - 1s 70ms/step - loss: 0.2431 - acc: 0.8966 - val_loss: 0.2205 - val_acc: 0.9043\n",
            "Epoch 4/20\n",
            "16/16 [==============================] - 1s 71ms/step - loss: 0.1907 - acc: 0.9014 - val_loss: 0.1911 - val_acc: 0.9104\n",
            "Epoch 5/20\n",
            "16/16 [==============================] - 1s 71ms/step - loss: 0.1500 - acc: 0.9399 - val_loss: 0.1765 - val_acc: 0.9175\n",
            "Epoch 6/20\n",
            "16/16 [==============================] - 1s 69ms/step - loss: 0.1226 - acc: 0.9631 - val_loss: 0.1709 - val_acc: 0.9206\n",
            "Epoch 7/20\n",
            "16/16 [==============================] - 1s 71ms/step - loss: 0.1040 - acc: 0.9773 - val_loss: 0.1766 - val_acc: 0.9165\n",
            "Epoch 8/20\n",
            "16/16 [==============================] - 1s 71ms/step - loss: 0.0894 - acc: 0.9799 - val_loss: 0.1546 - val_acc: 0.9358\n",
            "Epoch 9/20\n",
            "16/16 [==============================] - 1s 70ms/step - loss: 0.0819 - acc: 0.9893 - val_loss: 0.1822 - val_acc: 0.9236\n",
            "Epoch 10/20\n",
            "16/16 [==============================] - 1s 70ms/step - loss: 0.0765 - acc: 0.9918 - val_loss: 0.1785 - val_acc: 0.9257\n",
            "Epoch 11/20\n",
            "16/16 [==============================] - 1s 70ms/step - loss: 0.0731 - acc: 0.9959 - val_loss: 0.1984 - val_acc: 0.9236\n",
            "Epoch 12/20\n",
            "16/16 [==============================] - 1s 70ms/step - loss: 0.0708 - acc: 0.9977 - val_loss: 0.2023 - val_acc: 0.9246\n",
            "Epoch 13/20\n",
            "16/16 [==============================] - 1s 70ms/step - loss: 0.0693 - acc: 0.9985 - val_loss: 0.2058 - val_acc: 0.9246\n",
            "Epoch 14/20\n",
            "16/16 [==============================] - 1s 70ms/step - loss: 0.0680 - acc: 0.9987 - val_loss: 0.2176 - val_acc: 0.9236\n",
            "Epoch 15/20\n",
            "16/16 [==============================] - 1s 71ms/step - loss: 0.0668 - acc: 0.9985 - val_loss: 0.2190 - val_acc: 0.9246\n",
            "Tiempo de entrenamiento:  0.5520559666666638  minutos\n"
          ],
          "name": "stdout"
        }
      ]
    },
    {
      "cell_type": "code",
      "metadata": {
        "colab": {
          "base_uri": "https://localhost:8080/",
          "height": 295
        },
        "id": "NcFYevP-svNH",
        "outputId": "7d86b850-e020-40ab-cbb4-665c6f105832"
      },
      "source": [
        "# Resultados\n",
        "\n",
        "# Accuracy\n",
        "plot_acc(history_base)"
      ],
      "execution_count": null,
      "outputs": [
        {
          "output_type": "display_data",
          "data": {
            "image/png": "[encoded data removed]",
            "text/plain": [
              "<Figure size 432x288 with 1 Axes>"
            ]
          },
          "metadata": {
            "tags": [],
            "needs_background": "light"
          }
        }
      ]
    },
    {
      "cell_type": "code",
      "metadata": {
        "colab": {
          "base_uri": "https://localhost:8080/",
          "height": 295
        },
        "id": "n6axh2Qsv36v",
        "outputId": "9be99acb-0f9b-47a8-cc7b-0337fcd6b561"
      },
      "source": [
        "# Loss\n",
        "plot_loss(history_base)"
      ],
      "execution_count": null,
      "outputs": [
        {
          "output_type": "display_data",
          "data": {
            "image/png": "[encoded data removed]",
            "text/plain": [
              "<Figure size 432x288 with 1 Axes>"
            ]
          },
          "metadata": {
            "tags": [],
            "needs_background": "light"
          }
        }
      ]
    },
    {
      "cell_type": "markdown",
      "metadata": {
        "id": "0Rtp6lKjworM"
      },
      "source": [
        "#### Modelo redes convolucionales - CNN"
      ]
    },
    {
      "cell_type": "code",
      "metadata": {
        "id": "L34cRp69v33Y"
      },
      "source": [
        "# Parámetros de la red\n",
        "epochs = 20\n",
        "emb_dim = 128\n",
        "batch_size = 256"
      ],
      "execution_count": null,
      "outputs": []
    },
    {
      "cell_type": "code",
      "metadata": {
        "colab": {
          "base_uri": "https://localhost:8080/"
        },
        "id": "k_KNMYnTlIE7",
        "outputId": "2a55e983-f37f-4c37-cf33-f6b44855b3df"
      },
      "source": [
        "# Creación del modelo y compilación\n",
        "\n",
        "model_CNN = tf.keras.Sequential([\n",
        "    tf.keras.layers.Embedding(n_most_common_words, emb_dim, input_length=X.shape[1]),\n",
        "    tf.keras.layers.Conv1D(8, 2, activation='relu'),\n",
        "    tf.keras.layers.GlobalMaxPooling1D(),\n",
        "    tf.keras.layers.Flatten(),\n",
        "    #tf.keras.layers.Dropout(0.3),\n",
        "    tf.keras.layers.Dense(32, activation='relu'),\n",
        "    tf.keras.layers.Dense(1, activation='sigmoid')\n",
        "])\n",
        "model_CNN.summary()\n",
        "\n",
        "# Compilación\n",
        "\n",
        "model_CNN.compile(optimizer='adam', loss='binary_crossentropy', metrics=['acc'])"
      ],
      "execution_count": null,
      "outputs": [
        {
          "output_type": "stream",
          "text": [
            "Model: \"sequential_36\"\n",
            "_________________________________________________________________\n",
            "Layer (type)                 Output Shape              Param #   \n",
            "=================================================================\n",
            "embedding_36 (Embedding)     (None, 300, 128)          1280000   \n",
            "_________________________________________________________________\n",
            "conv1d_5 (Conv1D)            (None, 299, 8)            2056      \n",
            "_________________________________________________________________\n",
            "global_max_pooling1d_5 (Glob (None, 8)                 0         \n",
            "_________________________________________________________________\n",
            "flatten_37 (Flatten)         (None, 8)                 0         \n",
            "_________________________________________________________________\n",
            "dense_71 (Dense)             (None, 32)                288       \n",
            "_________________________________________________________________\n",
            "dense_72 (Dense)             (None, 1)                 33        \n",
            "=================================================================\n",
            "Total params: 1,282,377\n",
            "Trainable params: 1,282,377\n",
            "Non-trainable params: 0\n",
            "_________________________________________________________________\n"
          ],
          "name": "stdout"
        }
      ]
    },
    {
      "cell_type": "code",
      "metadata": {
        "colab": {
          "base_uri": "https://localhost:8080/"
        },
        "id": "Ip4oWqGwlIAd",
        "outputId": "ecb2d4a7-7e84-4398-b714-c4efcf7513df"
      },
      "source": [
        "# Entrenamiento\n",
        "\n",
        "start=time.clock()\n",
        "\n",
        "\n",
        "history_CNN = model_CNN.fit(x_train, y_train, epochs=epochs, batch_size=batch_size,validation_split=0.2,callbacks=[EarlyStopping(monitor='val_loss',patience=7, min_delta=0.0001)])\n",
        "\n",
        "end = time.clock()\n",
        "tiempo_CNN=(end-start)/60\n",
        "print(\"Tiempo de entrenamiento: \", tiempo_CNN, \" minutos\")"
      ],
      "execution_count": null,
      "outputs": [
        {
          "output_type": "stream",
          "text": [
            "Epoch 1/20\n",
            "16/16 [==============================] - 2s 108ms/step - loss: 0.6104 - acc: 0.8380 - val_loss: 0.5265 - val_acc: 0.8371\n",
            "Epoch 2/20\n",
            "16/16 [==============================] - 2s 100ms/step - loss: 0.4585 - acc: 0.8380 - val_loss: 0.4110 - val_acc: 0.8371\n",
            "Epoch 3/20\n",
            "16/16 [==============================] - 2s 100ms/step - loss: 0.3804 - acc: 0.8380 - val_loss: 0.3807 - val_acc: 0.8371\n",
            "Epoch 4/20\n",
            "16/16 [==============================] - 2s 98ms/step - loss: 0.3432 - acc: 0.8380 - val_loss: 0.3438 - val_acc: 0.8371\n",
            "Epoch 5/20\n",
            "16/16 [==============================] - 2s 99ms/step - loss: 0.2979 - acc: 0.8418 - val_loss: 0.3013 - val_acc: 0.8635\n",
            "Epoch 6/20\n",
            "16/16 [==============================] - 2s 99ms/step - loss: 0.2434 - acc: 0.8912 - val_loss: 0.2593 - val_acc: 0.9053\n",
            "Epoch 7/20\n",
            "16/16 [==============================] - 2s 98ms/step - loss: 0.1850 - acc: 0.9172 - val_loss: 0.2246 - val_acc: 0.9094\n",
            "Epoch 8/20\n",
            "16/16 [==============================] - 2s 99ms/step - loss: 0.1325 - acc: 0.9465 - val_loss: 0.2003 - val_acc: 0.9236\n",
            "Epoch 9/20\n",
            "16/16 [==============================] - 2s 100ms/step - loss: 0.0923 - acc: 0.9697 - val_loss: 0.1849 - val_acc: 0.9277\n",
            "Epoch 10/20\n",
            "16/16 [==============================] - 2s 98ms/step - loss: 0.0637 - acc: 0.9837 - val_loss: 0.1746 - val_acc: 0.9338\n",
            "Epoch 11/20\n",
            "16/16 [==============================] - 2s 99ms/step - loss: 0.0438 - acc: 0.9908 - val_loss: 0.1731 - val_acc: 0.9348\n",
            "Epoch 12/20\n",
            "16/16 [==============================] - 2s 98ms/step - loss: 0.0306 - acc: 0.9941 - val_loss: 0.1694 - val_acc: 0.9358\n",
            "Epoch 13/20\n",
            "16/16 [==============================] - 2s 99ms/step - loss: 0.0219 - acc: 0.9972 - val_loss: 0.1709 - val_acc: 0.9379\n",
            "Epoch 14/20\n",
            "16/16 [==============================] - 2s 99ms/step - loss: 0.0163 - acc: 0.9977 - val_loss: 0.1724 - val_acc: 0.9338\n",
            "Epoch 15/20\n",
            "16/16 [==============================] - 2s 101ms/step - loss: 0.0126 - acc: 0.9987 - val_loss: 0.1757 - val_acc: 0.9358\n",
            "Epoch 16/20\n",
            "16/16 [==============================] - 2s 98ms/step - loss: 0.0099 - acc: 0.9990 - val_loss: 0.1800 - val_acc: 0.9358\n",
            "Epoch 17/20\n",
            "16/16 [==============================] - 2s 99ms/step - loss: 0.0083 - acc: 0.9987 - val_loss: 0.1829 - val_acc: 0.9358\n",
            "Epoch 18/20\n",
            "16/16 [==============================] - 2s 99ms/step - loss: 0.0071 - acc: 0.9985 - val_loss: 0.1854 - val_acc: 0.9358\n",
            "Epoch 19/20\n",
            "16/16 [==============================] - 2s 100ms/step - loss: 0.0060 - acc: 0.9985 - val_loss: 0.1880 - val_acc: 0.9379\n",
            "Tiempo de entrenamiento:  0.9895856833333406  minutos\n"
          ],
          "name": "stdout"
        }
      ]
    },
    {
      "cell_type": "code",
      "metadata": {
        "colab": {
          "base_uri": "https://localhost:8080/",
          "height": 295
        },
        "id": "F76ibw_7DV8g",
        "outputId": "75f547d6-3727-4352-9381-30d4a7262c51"
      },
      "source": [
        "# Resultados\n",
        "\n",
        "# Accuracy\n",
        "plot_acc(history_CNN)"
      ],
      "execution_count": null,
      "outputs": [
        {
          "output_type": "display_data",
          "data": {
            "image/png": "[encoded data removed]",
            "text/plain": [
              "<Figure size 432x288 with 1 Axes>"
            ]
          },
          "metadata": {
            "tags": [],
            "needs_background": "light"
          }
        }
      ]
    },
    {
      "cell_type": "code",
      "metadata": {
        "colab": {
          "base_uri": "https://localhost:8080/",
          "height": 295
        },
        "id": "IiE_CYf6wIKp",
        "outputId": "97ddd748-dd44-4b20-a0ce-4b8bdb933801"
      },
      "source": [
        "# Loss\n",
        "\n",
        "plot_loss(history_CNN)"
      ],
      "execution_count": null,
      "outputs": [
        {
          "output_type": "display_data",
          "data": {
            "image/png": "[encoded data removed]",
            "text/plain": [
              "<Figure size 432x288 with 1 Axes>"
            ]
          },
          "metadata": {
            "tags": [],
            "needs_background": "light"
          }
        }
      ]
    },
    {
      "cell_type": "markdown",
      "metadata": {
        "id": "YEC8LEvTw9U7"
      },
      "source": [
        "#### Modelo redes recurrentes - RNN"
      ]
    },
    {
      "cell_type": "code",
      "metadata": {
        "id": "oBG_JUQHxHyp"
      },
      "source": [
        "# Parámetros de la red\n",
        "epochs = 20\n",
        "emb_dim = 128\n",
        "batch_size = 256"
      ],
      "execution_count": null,
      "outputs": []
    },
    {
      "cell_type": "code",
      "metadata": {
        "colab": {
          "base_uri": "https://localhost:8080/"
        },
        "id": "p5-b9dbQxQFV",
        "outputId": "724a0ece-3f62-43a0-c6cf-7eb9abc2138e"
      },
      "source": [
        "# Creación del modelo y compilación\n",
        "\n",
        "model_RNN = tf.keras.Sequential([\n",
        "    tf.keras.layers.Embedding(n_most_common_words, emb_dim, input_length=X.shape[1]),\n",
        "    tf.keras.layers.SpatialDropout1D(0.1),\n",
        "    tf.keras.layers.LSTM(64),\n",
        "    tf.keras.layers.Flatten(),\n",
        "    tf.keras.layers.Dropout(0.3),\n",
        "    tf.keras.layers.Dense(32, activation='relu'),\n",
        "    tf.keras.layers.Dense(1, activation='sigmoid')\n",
        "])\n",
        "model_RNN.summary()\n",
        "\n",
        "# Compilación\n",
        "\n",
        "model_RNN.compile(optimizer='adam', loss='binary_crossentropy', metrics=['acc'])"
      ],
      "execution_count": null,
      "outputs": [
        {
          "output_type": "stream",
          "text": [
            "Model: \"sequential_43\"\n",
            "_________________________________________________________________\n",
            "Layer (type)                 Output Shape              Param #   \n",
            "=================================================================\n",
            "embedding_43 (Embedding)     (None, 300, 128)          1280000   \n",
            "_________________________________________________________________\n",
            "spatial_dropout1d_14 (Spatia (None, 300, 128)          0         \n",
            "_________________________________________________________________\n",
            "lstm_18 (LSTM)               (None, 64)                49408     \n",
            "_________________________________________________________________\n",
            "flatten_44 (Flatten)         (None, 64)                0         \n",
            "_________________________________________________________________\n",
            "dropout_29 (Dropout)         (None, 64)                0         \n",
            "_________________________________________________________________\n",
            "dense_85 (Dense)             (None, 32)                2080      \n",
            "_________________________________________________________________\n",
            "dense_86 (Dense)             (None, 1)                 33        \n",
            "=================================================================\n",
            "Total params: 1,331,521\n",
            "Trainable params: 1,331,521\n",
            "Non-trainable params: 0\n",
            "_________________________________________________________________\n"
          ],
          "name": "stdout"
        }
      ]
    },
    {
      "cell_type": "code",
      "metadata": {
        "colab": {
          "base_uri": "https://localhost:8080/"
        },
        "id": "7n5Jir8rxXkr",
        "outputId": "bdc1370b-3624-4916-94d3-938f51ca33a7"
      },
      "source": [
        "# Entrenamiento\n",
        "start=time.clock()\n",
        "\n",
        "history_RNN = model_RNN.fit(x_train, y_train, epochs=epochs, batch_size=batch_size,validation_split=0.2,callbacks=[EarlyStopping(monitor='val_loss',patience=7, min_delta=0.0001)])\n",
        "\n",
        "end = time.clock()\n",
        "tiempo_RNN=(end-start)/60\n",
        "print(\"Tiempo de entrenamiento: \", tiempo_RNN, \" minutos\")\n"
      ],
      "execution_count": null,
      "outputs": [
        {
          "output_type": "stream",
          "text": [
            "Epoch 1/20\n",
            "16/16 [==============================] - 13s 803ms/step - loss: 0.5422 - acc: 0.8207 - val_loss: 0.3988 - val_acc: 0.8371\n",
            "Epoch 2/20\n",
            "16/16 [==============================] - 13s 786ms/step - loss: 0.3655 - acc: 0.8752 - val_loss: 0.3140 - val_acc: 0.9022\n",
            "Epoch 3/20\n",
            "16/16 [==============================] - 12s 781ms/step - loss: 0.2451 - acc: 0.9154 - val_loss: 0.2040 - val_acc: 0.9328\n",
            "Epoch 4/20\n",
            "16/16 [==============================] - 12s 780ms/step - loss: 0.1432 - acc: 0.9552 - val_loss: 0.1579 - val_acc: 0.9409\n",
            "Epoch 5/20\n",
            "16/16 [==============================] - 13s 784ms/step - loss: 0.0803 - acc: 0.9730 - val_loss: 0.1313 - val_acc: 0.9593\n",
            "Epoch 6/20\n",
            "16/16 [==============================] - 13s 783ms/step - loss: 0.0410 - acc: 0.9850 - val_loss: 0.1480 - val_acc: 0.9562\n",
            "Epoch 7/20\n",
            "16/16 [==============================] - 13s 787ms/step - loss: 0.0223 - acc: 0.9934 - val_loss: 0.1733 - val_acc: 0.9532\n",
            "Epoch 8/20\n",
            "16/16 [==============================] - 13s 795ms/step - loss: 0.0116 - acc: 0.9977 - val_loss: 0.1999 - val_acc: 0.9521\n",
            "Epoch 9/20\n",
            "16/16 [==============================] - 13s 784ms/step - loss: 0.0063 - acc: 0.9987 - val_loss: 0.2247 - val_acc: 0.9440\n",
            "Epoch 10/20\n",
            "16/16 [==============================] - 13s 781ms/step - loss: 0.0063 - acc: 0.9985 - val_loss: 0.2515 - val_acc: 0.9440\n",
            "Epoch 11/20\n",
            "16/16 [==============================] - 13s 789ms/step - loss: 0.0055 - acc: 0.9990 - val_loss: 0.2687 - val_acc: 0.9460\n",
            "Epoch 12/20\n",
            "16/16 [==============================] - 13s 784ms/step - loss: 0.0047 - acc: 0.9990 - val_loss: 0.2457 - val_acc: 0.9440\n",
            "Tiempo de entrenamiento:  4.992576116666669  minutos\n"
          ],
          "name": "stdout"
        }
      ]
    },
    {
      "cell_type": "code",
      "metadata": {
        "colab": {
          "base_uri": "https://localhost:8080/",
          "height": 295
        },
        "id": "9f2rk2EQxb2A",
        "outputId": "9411d1f2-8492-4728-94ab-b9d6f8e24ff2"
      },
      "source": [
        "# Resultados\n",
        "\n",
        "# Accuracy\n",
        "plot_acc(history_RNN)"
      ],
      "execution_count": null,
      "outputs": [
        {
          "output_type": "display_data",
          "data": {
            "image/png": "[encoded data removed]",
            "text/plain": [
              "<Figure size 432x288 with 1 Axes>"
            ]
          },
          "metadata": {
            "tags": [],
            "needs_background": "light"
          }
        }
      ]
    },
    {
      "cell_type": "code",
      "metadata": {
        "colab": {
          "base_uri": "https://localhost:8080/",
          "height": 295
        },
        "id": "rsYVxlUkxf-V",
        "outputId": "cb4cab2a-2ac3-492a-d0d8-1b5016e58a6e"
      },
      "source": [
        "# Loss\n",
        "\n",
        "plot_loss(history_RNN)"
      ],
      "execution_count": null,
      "outputs": [
        {
          "output_type": "display_data",
          "data": {
            "image/png": "[encoded data removed]",
            "text/plain": [
              "<Figure size 432x288 with 1 Axes>"
            ]
          },
          "metadata": {
            "tags": [],
            "needs_background": "light"
          }
        }
      ]
    },
    {
      "cell_type": "markdown",
      "metadata": {
        "id": "ZbiQCgsPz9Fy"
      },
      "source": [
        "#### Comparación de los modelos"
      ]
    },
    {
      "cell_type": "code",
      "metadata": {
        "colab": {
          "base_uri": "https://localhost:8080/",
          "height": 295
        },
        "id": "PF-l8j3R0Afq",
        "outputId": "aa29526b-00bb-4290-fe78-6a443dd7129a"
      },
      "source": [
        "# Comparación Base vs CNN - Accuracy\n",
        "plot_compare_accs(history_base, history_CNN, 'NN', 'CNN', 'ACCURACY')"
      ],
      "execution_count": null,
      "outputs": [
        {
          "output_type": "display_data",
          "data": {
            "image/png": "[encoded data removed]",
            "text/plain": [
              "<Figure size 432x288 with 1 Axes>"
            ]
          },
          "metadata": {
            "tags": [],
            "needs_background": "light"
          }
        }
      ]
    },
    {
      "cell_type": "code",
      "metadata": {
        "colab": {
          "base_uri": "https://localhost:8080/",
          "height": 295
        },
        "id": "3EOPPhZ70Eao",
        "outputId": "ed8801c2-9467-44c1-81b4-7420fc7f0990"
      },
      "source": [
        "# Comparación Base vs CNN - Loss\n",
        "plot_compare_losses(history_base, history_CNN, 'NN', 'CNN', 'LOSS')"
      ],
      "execution_count": null,
      "outputs": [
        {
          "output_type": "display_data",
          "data": {
            "image/png": "[encoded data removed]",
            "text/plain": [
              "<Figure size 432x288 with 1 Axes>"
            ]
          },
          "metadata": {
            "tags": [],
            "needs_background": "light"
          }
        }
      ]
    },
    {
      "cell_type": "code",
      "metadata": {
        "colab": {
          "base_uri": "https://localhost:8080/",
          "height": 295
        },
        "id": "I6GiI6-b0OuD",
        "outputId": "2220ce24-64f8-42e4-9d67-7134c7d51c18"
      },
      "source": [
        "# Comparación CNN vs RNN - Accuracy\n",
        "plot_compare_accs(history_CNN, history_RNN, 'CNN', 'RNN', 'ACCURACY')"
      ],
      "execution_count": null,
      "outputs": [
        {
          "output_type": "display_data",
          "data": {
            "image/png": "[encoded data removed]",
            "text/plain": [
              "<Figure size 432x288 with 1 Axes>"
            ]
          },
          "metadata": {
            "tags": [],
            "needs_background": "light"
          }
        }
      ]
    },
    {
      "cell_type": "code",
      "metadata": {
        "colab": {
          "base_uri": "https://localhost:8080/",
          "height": 295
        },
        "id": "RAzTpc3R0UEr",
        "outputId": "e9ff770d-e3fd-46e6-e56b-a084fa7e6957"
      },
      "source": [
        "# Comparación CNN vs RNN - Loss\n",
        "plot_compare_losses(history_CNN, history_RNN, 'CNN', 'RNN', 'LOSS')"
      ],
      "execution_count": null,
      "outputs": [
        {
          "output_type": "display_data",
          "data": {
            "image/png": "[encoded data removed]",
            "text/plain": [
              "<Figure size 432x288 with 1 Axes>"
            ]
          },
          "metadata": {
            "tags": [],
            "needs_background": "light"
          }
        }
      ]
    },
    {
      "cell_type": "code",
      "metadata": {
        "colab": {
          "base_uri": "https://localhost:8080/",
          "height": 295
        },
        "id": "ILNlHv7KtZAm",
        "outputId": "1a9f8c29-9d98-4756-8f4b-1ba6a254f6ef"
      },
      "source": [
        "# Comparación de los 3 modelos - Accuracy\r\n",
        "plot_compare_accs3(history_base, history_CNN, history_RNN, 'Base', 'CNN', 'RNN', 'ACCURACY')"
      ],
      "execution_count": null,
      "outputs": [
        {
          "output_type": "display_data",
          "data": {
            "image/png": "[encoded data removed]",
            "text/plain": [
              "<Figure size 432x288 with 1 Axes>"
            ]
          },
          "metadata": {
            "tags": [],
            "needs_background": "light"
          }
        }
      ]
    },
    {
      "cell_type": "code",
      "metadata": {
        "colab": {
          "base_uri": "https://localhost:8080/",
          "height": 295
        },
        "id": "ix9d7XwUtYqZ",
        "outputId": "b6baf9d2-ff83-4654-da50-28125229a716"
      },
      "source": [
        "# Comparación de los 3 modelos - Loss\r\n",
        "plot_compare_losses3(history_base, history_CNN, history_RNN, 'Base', 'CNN', 'RNN', 'LOSS')"
      ],
      "execution_count": null,
      "outputs": [
        {
          "output_type": "display_data",
          "data": {
            "image/png": "[encoded data removed]",
            "text/plain": [
              "<Figure size 432x288 with 1 Axes>"
            ]
          },
          "metadata": {
            "tags": [],
            "needs_background": "light"
          }
        }
      ]
    },
    {
      "cell_type": "markdown",
      "metadata": {
        "id": "Dm1P1ZZs0l0F"
      },
      "source": [
        "#### Prueba de modelos de aprendizaje profundo"
      ]
    },
    {
      "cell_type": "code",
      "metadata": {
        "colab": {
          "base_uri": "https://localhost:8080/"
        },
        "id": "a8zQyQbQ1pQz",
        "outputId": "ae7c2245-8b66-493d-e797-f98491d7de53"
      },
      "source": [
        "# Prueba con textos de datos de reserva\n",
        "\n",
        "text1=datos_reserva[\"Text\"][120]\n",
        "text2=datos_reserva[\"Text\"][18]\n",
        "text3=datos_reserva[\"Text\"][88]\n",
        "\n",
        "print(\"Texto 1: \", text1)\n",
        "print(\"Categoria real: \",datos_reserva[\"label\"][120])\n",
        "\n",
        "print(\"Texto 2: \", text2)\n",
        "print(\"Categoria real: \",datos_reserva[\"label\"][18])\n",
        "\n",
        "print(\"Texto 3: \", text3)\n",
        "print(\"Categoria real: \",datos_reserva[\"label\"][88])"
      ],
      "execution_count": null,
      "outputs": [
        {
          "output_type": "stream",
          "text": [
            "Texto 1:  Nearly 300,000 more people have died in the United States in 2020 during the coronavirus pandemic than would be expected based on historical trends, with at least two-thirds due to COVID-19, a government report released on Tuesday showed, adding that COVID deaths likely were undercounted.\n",
            "Categoria real:  True\n",
            "Texto 2:  A video purportedly showing COVID-19 victims in body bags strewn across the floor of a New York hospital was shared several thousand times in multiple languages on social media.\n",
            "Categoria real:  False\n",
            "Texto 3:  New cases of COVID-19 in England were rising by around 35,200 per day last week, up from 27,900 the week before, although there were tentative signs of a levelling-off around this rate, an official estimate showed on Friday.\n",
            "Categoria real:  True\n"
          ],
          "name": "stdout"
        }
      ]
    },
    {
      "cell_type": "code",
      "metadata": {
        "id": "-Ek7W-X203rF"
      },
      "source": [
        "# Función para prueba\n",
        "\n",
        "def news_alert(a, modelo_probar):\n",
        "    clf=modelo_probar\n",
        "    # Tokenizacion\n",
        "    corpus_1=[]\n",
        "    corpus_1.append(a)\n",
        "    corpus_2=pd.Series(corpus_1)\n",
        "    sequences_reserva = tokenizer.texts_to_sequences(corpus_2.values)\n",
        "    transform_vect_reserva= pad_sequences(sequences_reserva, maxlen=max_len)\n",
        "    #print(transform_vect_reserva)\n",
        "    \n",
        "    prediccion=clf.predict(transform_vect_reserva)\n",
        "    prediccion_a = [np.array(prediccion)]\n",
        "    print(prediccion)    \n",
        "\n",
        "    if prediccion > 0.5:\n",
        "       print(\"Alerta\")\n",
        "    else:\n",
        "      print(\"No alerta\")"
      ],
      "execution_count": null,
      "outputs": []
    },
    {
      "cell_type": "code",
      "metadata": {
        "colab": {
          "base_uri": "https://localhost:8080/"
        },
        "id": "kXx61QdZ03nx",
        "outputId": "14fcc241-d4d7-481b-ac61-ab835871a1d0"
      },
      "source": [
        "# Prueba Única\n",
        "\n",
        "test=datos_reserva[\"Text\"][18]\n",
        "  \n",
        "corpus_t=[]\n",
        "corpus_t.append(test)\n",
        "corpus_t=pd.Series(corpus_t)\n",
        "  \n",
        "  \n",
        "sequences_reserva = tokenizer.texts_to_sequences(corpus_t.values)\n",
        "transform_vect_reserva= pad_sequences(sequences_reserva, maxlen=max_len)\n",
        "\n",
        "transform_vect_reserva"
      ],
      "execution_count": null,
      "outputs": [
        {
          "output_type": "execute_result",
          "data": {
            "text/plain": [
              "array([[   0,    0,    0,    0,    0,    0,    0,    0,    0,    0,    0,\n",
              "           0,    0,    0,    0,    0,    0,    0,    0,    0,    0,    0,\n",
              "           0,    0,    0,    0,    0,    0,    0,    0,    0,    0,    0,\n",
              "           0,    0,    0,    0,    0,    0,    0,    0,    0,    0,    0,\n",
              "           0,    0,    0,    0,    0,    0,    0,    0,    0,    0,    0,\n",
              "           0,    0,    0,    0,    0,    0,    0,    0,    0,    0,    0,\n",
              "           0,    0,    0,    0,    0,    0,    0,    0,    0,    0,    0,\n",
              "           0,    0,    0,    0,    0,    0,    0,    0,    0,    0,    0,\n",
              "           0,    0,    0,    0,    0,    0,    0,    0,    0,    0,    0,\n",
              "           0,    0,    0,    0,    0,    0,    0,    0,    0,    0,    0,\n",
              "           0,    0,    0,    0,    0,    0,    0,    0,    0,    0,    0,\n",
              "           0,    0,    0,    0,    0,    0,    0,    0,    0,    0,    0,\n",
              "           0,    0,    0,    0,    0,    0,    0,    0,    0,    0,    0,\n",
              "           0,    0,    0,    0,    0,    0,    0,    0,    0,    0,    0,\n",
              "           0,    0,    0,    0,    0,    0,    0,    0,    0,    0,    0,\n",
              "           0,    0,    0,    0,    0,    0,    0,    0,    0,    0,    0,\n",
              "           0,    0,    0,    0,    0,    0,    0,    0,    0,    0,    0,\n",
              "           0,    0,    0,    0,    0,    0,    0,    0,    0,    0,    0,\n",
              "           0,    0,    0,    0,    0,    0,    0,    0,    0,    0,    0,\n",
              "           0,    0,    0,    0,    0,    0,    0,    0,    0,    0,    0,\n",
              "           0,    0,    0,    0,    0,    0,    0,    0,    0,    0,    0,\n",
              "           0,    0,    0,    0,    0,    0,    0,    0,    0,    0,    0,\n",
              "           0,    0,    0,    0,    0,    0,    0,    0,    0,    0,    0,\n",
              "           0,    0,    0,    0,    0,    0,    0,    0,    0,    0,    0,\n",
              "           0,    0,    0,    0,    0,    0,    0,    5,   49, 2365,  363,\n",
              "          15,   14,  624,    4,  424, 1686, 7431,  239,    1, 1955,    3,\n",
              "           5,   25,  648,   57,   28,  197,  536, 2063,  188,    4,  318,\n",
              "           8,  171,   74]], dtype=int32)"
            ]
          },
          "metadata": {
            "tags": []
          },
          "execution_count": 147
        }
      ]
    },
    {
      "cell_type": "code",
      "metadata": {
        "colab": {
          "base_uri": "https://localhost:8080/"
        },
        "id": "OVrHsoPo1ZdU",
        "outputId": "692e4ffd-e674-4e9f-bd08-48c053494db1"
      },
      "source": [
        "X_reserva[120]"
      ],
      "execution_count": null,
      "outputs": [
        {
          "output_type": "execute_result",
          "data": {
            "text/plain": [
              "array([   0,    0,    0,    0,    0,    0,    0,    0,    0,    0,    0,\n",
              "          0,    0,    0,    0,    0,    0,    0,    0,    0,    0,    0,\n",
              "          0,    0,    0,    0,    0,    0,    0,    0,    0,    0,    0,\n",
              "          0,    0,    0,    0,    0,    0,    0,    0,    0,    0,    0,\n",
              "          0,    0,    0,    0,    0,    0,    0,    0,    0,    0,    0,\n",
              "          0,    0,    0,    0,    0,    0,    0,    0,    0,    0,    0,\n",
              "          0,    0,    0,    0,    0,    0,    0,    0,    0,    0,    0,\n",
              "          0,    0,    0,    0,    0,    0,    0,    0,    0,    0,    0,\n",
              "          0,    0,    0,    0,    0,    0,    0,    0,    0,    0,    0,\n",
              "          0,    0,    0,    0,    0,    0,    0,    0,    0,    0,    0,\n",
              "          0,    0,    0,    0,    0,    0,    0,    0,    0,    0,    0,\n",
              "          0,    0,    0,    0,    0,    0,    0,    0,    0,    0,    0,\n",
              "          0,    0,    0,    0,    0,    0,    0,    0,    0,    0,    0,\n",
              "          0,    0,    0,    0,    0,    0,    0,    0,    0,    0,    0,\n",
              "          0,    0,    0,    0,    0,    0,    0,    0,    0,    0,    0,\n",
              "          0,    0,    0,    0,    0,    0,    0,    0,    0,    0,    0,\n",
              "          0,    0,    0,    0,    0,    0,    0,    0,    0,    0,    0,\n",
              "          0,    0,    0,    0,    0,    0,    0,    0,    0,    0,    0,\n",
              "          0,    0,    0,    0,    0,    0,    0,    0,    0,    0,    0,\n",
              "          0,    0,    0,    0,    0,    0,    0,    0,    0,    0,    0,\n",
              "          0,    0,    0,    0,    0,    0,    0,    0,    0,    0,    0,\n",
              "          0,    0,    0,    0,    0,    0,    0,    0,    0,    0,    0,\n",
              "          0,    0,    0,    0,    0,    0,    0,    0,    0,    0,    0,\n",
              "          0,  562, 1228,   95,   35,   24,   21,  157,    4,    1,  156,\n",
              "        131,    4,  312,  102,    1,    7,   61,   51,   80,   22,  700,\n",
              "        388,    8, 6242,   16,   23,  351,   63, 4467,  119,    2,   15,\n",
              "         14,    5,   46,  582,  584,    8,   85,  243,  892,   11,   15,\n",
              "         83,  383,   47], dtype=int32)"
            ]
          },
          "metadata": {
            "tags": []
          },
          "execution_count": 150
        }
      ]
    },
    {
      "cell_type": "code",
      "metadata": {
        "id": "0t3H4Re9TrN5"
      },
      "source": [
        "prediccion222=model_base.predict(transform_vect_reserva)"
      ],
      "execution_count": null,
      "outputs": []
    },
    {
      "cell_type": "code",
      "metadata": {
        "colab": {
          "base_uri": "https://localhost:8080/"
        },
        "id": "0h-TkbMkTvnD",
        "outputId": "f08c03da-4d63-45f7-c7ab-03070e2dac74"
      },
      "source": [
        "len(prediccion222[0])"
      ],
      "execution_count": null,
      "outputs": [
        {
          "output_type": "execute_result",
          "data": {
            "text/plain": [
              "1"
            ]
          },
          "metadata": {
            "tags": []
          },
          "execution_count": 152
        }
      ]
    },
    {
      "cell_type": "code",
      "metadata": {
        "colab": {
          "base_uri": "https://localhost:8080/"
        },
        "id": "q_ftkZXVWD4T",
        "outputId": "bd826f4b-3d92-4731-86df-77e9f1b29cb7"
      },
      "source": [
        "model_RNN.predict(transform_vect_reserva)"
      ],
      "execution_count": null,
      "outputs": [
        {
          "output_type": "execute_result",
          "data": {
            "text/plain": [
              "array([[0.9999782]], dtype=float32)"
            ]
          },
          "metadata": {
            "tags": []
          },
          "execution_count": 153
        }
      ]
    },
    {
      "cell_type": "code",
      "metadata": {
        "colab": {
          "base_uri": "https://localhost:8080/"
        },
        "id": "6ooTkvxU1ZVb",
        "outputId": "0e170818-fcf1-4f36-d6ce-4d3dd6edb228"
      },
      "source": [
        "# Prueba con función\n",
        "\n",
        "clasificar_texto=text2\n",
        "print(clasificar_texto)\n",
        "\n",
        "print(\"Modelo NN\")\n",
        "print(news_alert(clasificar_texto, model_base))\n",
        "\n",
        "print(\" \")\n",
        "print(\"Modelo CNN\")\n",
        "print(news_alert(clasificar_texto, model_CNN))\n",
        "\n",
        "print(\" \")\n",
        "print(\"Modelo RNN\")\n",
        "print(news_alert(clasificar_texto, model_RNN))"
      ],
      "execution_count": null,
      "outputs": [
        {
          "output_type": "stream",
          "text": [
            "A video purportedly showing COVID-19 victims in body bags strewn across the floor of a New York hospital was shared several thousand times in multiple languages on social media.\n",
            "Modelo NN\n",
            "[[0.99997747]]\n",
            "Alerta\n",
            "None\n",
            " \n",
            "Modelo CNN\n",
            "[[0.9986323]]\n",
            "Alerta\n",
            "None\n",
            " \n",
            "Modelo RNN\n",
            "[[0.9999782]]\n",
            "Alerta\n",
            "None\n"
          ],
          "name": "stdout"
        }
      ]
    },
    {
      "cell_type": "markdown",
      "metadata": {
        "id": "FuSFLql90rNk"
      },
      "source": [
        "#### Generación de archivos de modelos de aprendizaje profundo"
      ]
    },
    {
      "cell_type": "code",
      "metadata": {
        "id": "nfsM15YU0w34"
      },
      "source": [
        "## Guardo los modelos en archivos\n",
        "\n",
        "\n",
        "model_base.save('model_base.h5') \n",
        "\n",
        "model_CNN.save('model_CNN.h5') \n",
        "\n",
        "model_RNN.save('model_RNN.h5') "
      ],
      "execution_count": null,
      "outputs": []
    }
  ]
}