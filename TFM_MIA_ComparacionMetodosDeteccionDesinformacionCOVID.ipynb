{
  "nbformat": 4,
  "nbformat_minor": 0,
  "metadata": {
    "colab": {
      "name": "TFM_MIA_ComparacionMetodosDeteccionDesinformacionCOVID",
      "provenance": [],
      "collapsed_sections": [],
      "mount_file_id": "1CinOxTVpDT-25XKQKX3W9lH7hCeQzOYd",
      "authorship_tag": "ABX9TyN9ocgkfjVR4Su60Uj9Dbjo",
      "include_colab_link": true
    },
    "kernelspec": {
      "name": "python3",
      "display_name": "Python 3"
    }
  },
  "cells": [
    {
      "cell_type": "markdown",
      "metadata": {
        "id": "view-in-github",
        "colab_type": "text"
      },
      "source": [
        "<a href=\"https://colab.research.google.com/github/jorgecif/CovidMisinformationDetection/blob/main/TFM_MIA_ComparacionMetodosDeteccionDesinformacionCOVID.ipynb\" target=\"_parent\"><img src=\"https://colab.research.google.com/assets/colab-badge.svg\" alt=\"Open In Colab\"/></a>"
      ]
    },
    {
      "cell_type": "markdown",
      "metadata": {
        "id": "lKRG-YkxAAh5"
      },
      "source": [
        "# **Detección de desinformación relacionada con COVID19** - Comparación de modelos de aprendizaje automático y aprendizaje profundo\n",
        "\n",
        "\n",
        "> Por: Jorge Orlando Cifuentes Cifuentes\n",
        "\n",
        "\n"
      ]
    },
    {
      "cell_type": "markdown",
      "metadata": {
        "id": "Ylc1iyYChHwo"
      },
      "source": [
        "**Modelos a comparar**\n",
        "\n",
        "*   Aprendizaje automático: Naïve Bayes, Random Forest, Logistic, SVM\n",
        "*   Aprendizaje profundo: Redes neuronales básicas, redes neuronales convolucionales, redes neuronales recurrentes.\n"
      ]
    },
    {
      "cell_type": "markdown",
      "metadata": {
        "id": "yx7FUXUlCBtf"
      },
      "source": [
        "### Librerías y funciones"
      ]
    },
    {
      "cell_type": "code",
      "metadata": {
        "id": "n7FiZIspB_9s"
      },
      "source": [
        "# Generales\n",
        "import warnings\n",
        "warnings.filterwarnings('ignore')\n",
        "#import csv\n",
        "#import tensorflow as tf\n",
        "import pandas as pd\n",
        "import numpy as np\n",
        "import joblib # Para exportar el modelo\n",
        "\n",
        "\n",
        "# Gráficas\n",
        "import matplotlib.pyplot as plt\n",
        "import seaborn as sns\n",
        "\n",
        "\n",
        "\n",
        "# Machine learning\n",
        "from sklearn.feature_extraction.text import CountVectorizer\n",
        "from sklearn.linear_model import LogisticRegression # Logistic\n",
        "from sklearn.ensemble import RandomForestClassifier # Random Forest\n",
        "from sklearn.svm import LinearSVC # Support Vector\n",
        "from sklearn.naive_bayes import MultinomialNB # Naive Bayes\n",
        "from sklearn.model_selection import cross_val_score\n",
        "from sklearn.model_selection import train_test_split\n",
        "\n",
        "# Machine learning\n",
        "from sklearn.feature_extraction.text import CountVectorizer\n",
        "from sklearn.model_selection import cross_val_score\n",
        "from sklearn.model_selection import train_test_split\n",
        "from keras.layers import Dense, Input, GlobalMaxPooling1D, LSTM\n",
        "from keras.layers import Conv1D, MaxPooling1D, Embedding, Dropout, Activation, Flatten\n",
        "\n",
        "\n",
        "from sklearn.feature_extraction.text import CountVectorizer\n",
        "from keras.preprocessing.text import Tokenizer\n",
        "from keras.preprocessing.sequence import pad_sequences\n",
        "from keras.utils.np_utils import to_categorical\n",
        "from keras.models import Model\n",
        "from keras.models import Sequential\n",
        "from keras.callbacks import EarlyStopping\n",
        "\n",
        "\n",
        "import tensorflow as tf\n",
        "from tensorflow.keras import layers\n",
        "from tensorflow.keras import Model\n"
      ],
      "execution_count": 1,
      "outputs": []
    },
    {
      "cell_type": "code",
      "metadata": {
        "id": "dXyRjtTWmBLV"
      },
      "source": [
        "# Funciones para comparar modelos\n",
        "\n",
        "def plot_acc(history, title=\"Model Accuracy\"):\n",
        "    \"\"\"Imprime una gráfica mostrando la accuracy por epoch obtenida en un entrenamiento\"\"\"\n",
        "    plt.plot(history.history['acc']) # Modifico \"acc\" por \"accuracy\"\n",
        "    plt.plot(history.history['val_acc']) # Modifico \"val_acc\" por \"val_accuracy\"\n",
        "    plt.title(title)\n",
        "    plt.ylabel('Accuracy')\n",
        "    plt.xlabel('Epoch')\n",
        "    plt.legend(['Train', 'Val'], loc='upper left')\n",
        "    plt.show()\n",
        "    \n",
        "def plot_loss(history, title=\"Model Loss\"):\n",
        "    \"\"\"Imprime una gráfica mostrando la pérdida por epoch obtenida en un entrenamiento\"\"\"\n",
        "    plt.plot(history.history['loss'])\n",
        "    plt.plot(history.history['val_loss'])\n",
        "    plt.title(title)\n",
        "    plt.ylabel('Loss')\n",
        "    plt.xlabel('Epoch')\n",
        "    plt.legend(['Train', 'Val'], loc='upper right')\n",
        "    plt.show()\n",
        "    \n",
        "def plot_compare_losses(history1, history2, name1=\"Red 1\",\n",
        "                        name2=\"Red 2\", title=\"Graph title\"):\n",
        "    \"\"\"Compara losses de dos entrenamientos con nombres name1 y name2\"\"\"\n",
        "    plt.plot(history1.history['loss'], color=\"green\")\n",
        "    plt.plot(history1.history['val_loss'], 'r--', color=\"green\")\n",
        "    plt.plot(history2.history['loss'], color=\"blue\")\n",
        "    plt.plot(history2.history['val_loss'], 'r--', color=\"blue\")\n",
        "    plt.title(title)\n",
        "    plt.ylabel('Loss')\n",
        "    plt.xlabel('Epoch')\n",
        "    plt.legend(['Train ' + name1, 'Val ' + name1, \n",
        "                'Train ' + name2, 'Val ' + name2],\n",
        "               loc='upper right')\n",
        "    plt.show()\n",
        "    \n",
        "def plot_compare_accs(history1, history2, name1=\"Red 1\",\n",
        "                      name2=\"Red 2\", title=\"Graph title\"):\n",
        "    \"\"\"Compara accuracies de dos entrenamientos con nombres name1 y name2\"\"\"\n",
        "    plt.plot(history1.history['acc'], color=\"green\")\n",
        "    plt.plot(history1.history['val_acc'], 'r--', color=\"green\")\n",
        "    plt.plot(history2.history['acc'], color=\"blue\")\n",
        "    plt.plot(history2.history['val_acc'], 'r--', color=\"blue\")\n",
        "    plt.title(title)\n",
        "    plt.ylabel('Accuracy')\n",
        "    plt.xlabel('Epoch')\n",
        "    plt.legend(['Train ' + name1, 'Val ' + name1, \n",
        "                'Train ' + name2, 'Val ' + name2], \n",
        "               loc='lower right')\n",
        "    plt.show()\n",
        "\n",
        "# Función para visualizar imagen almacenada en los datos\n",
        "def visualize_example(x):\n",
        "    plt.figure()\n",
        "    plt.imshow(x)\n",
        "    plt.colorbar()\n",
        "    plt.grid(False)\n",
        "    plt.show()"
      ],
      "execution_count": 2,
      "outputs": []
    },
    {
      "cell_type": "markdown",
      "metadata": {
        "id": "ZfmfhxSOCH_f"
      },
      "source": [
        "### Carga de datos"
      ]
    },
    {
      "cell_type": "code",
      "metadata": {
        "id": "r4Gu6usy63PS",
        "colab": {
          "base_uri": "https://localhost:8080/",
          "height": 231
        },
        "outputId": "23649fae-f975-426a-9af6-6ff620f012f2"
      },
      "source": [
        "# Carga de datos\n",
        "url_datos = 'https://github.com/jorgecif/CovidMisinformationDetection/blob/main/data/CovidHeadlinesDataset.xlsx?raw=true' # 1000 datos por categoría\n",
        "\n",
        "datos = pd.read_excel(url_datos)\n",
        "\n",
        "print(\"Se han cargado \", datos.shape[0], \" noticias\")\n",
        "\n",
        "# Muestra de los datos\n",
        "print(len(datos))\n",
        "datos.head()\n"
      ],
      "execution_count": 3,
      "outputs": [
        {
          "output_type": "stream",
          "text": [
            "Se han cargado  21721  noticias\n",
            "21721\n"
          ],
          "name": "stdout"
        },
        {
          "output_type": "execute_result",
          "data": {
            "text/html": [
              "<div>\n",
              "<style scoped>\n",
              "    .dataframe tbody tr th:only-of-type {\n",
              "        vertical-align: middle;\n",
              "    }\n",
              "\n",
              "    .dataframe tbody tr th {\n",
              "        vertical-align: top;\n",
              "    }\n",
              "\n",
              "    .dataframe thead th {\n",
              "        text-align: right;\n",
              "    }\n",
              "</style>\n",
              "<table border=\"1\" class=\"dataframe\">\n",
              "  <thead>\n",
              "    <tr style=\"text-align: right;\">\n",
              "      <th></th>\n",
              "      <th>Text</th>\n",
              "      <th>country</th>\n",
              "      <th>lang</th>\n",
              "      <th>label</th>\n",
              "      <th>URL</th>\n",
              "      <th>date</th>\n",
              "      <th>verificado_por</th>\n",
              "    </tr>\n",
              "  </thead>\n",
              "  <tbody>\n",
              "    <tr>\n",
              "      <th>0</th>\n",
              "      <td>Britain’s Death Toll from the Coronavirus Riva...</td>\n",
              "      <td>United Kingdom</td>\n",
              "      <td>English</td>\n",
              "      <td>True</td>\n",
              "      <td>https://www.snopes.com/ap/2020/05/05/britains-...</td>\n",
              "      <td>2020-02-02 00:00:00</td>\n",
              "      <td>snopes</td>\n",
              "    </tr>\n",
              "    <tr>\n",
              "      <th>1</th>\n",
              "      <td>Timeline Reset: CDC Confirms Weeks-Earlier Cal...</td>\n",
              "      <td>United States</td>\n",
              "      <td>English</td>\n",
              "      <td>True</td>\n",
              "      <td>https://www.snopes.com/ap/2020/04/22/timeline-...</td>\n",
              "      <td>2020-06-03 00:00:00</td>\n",
              "      <td>snopes</td>\n",
              "    </tr>\n",
              "    <tr>\n",
              "      <th>2</th>\n",
              "      <td>Dentists, Hair Salons, Beaches: Lockdowns Ease...</td>\n",
              "      <td>United States</td>\n",
              "      <td>English</td>\n",
              "      <td>True</td>\n",
              "      <td>https://www.snopes.com/ap/2020/04/20/dentists-...</td>\n",
              "      <td>2020-08-03 00:00:00</td>\n",
              "      <td>snopes</td>\n",
              "    </tr>\n",
              "    <tr>\n",
              "      <th>3</th>\n",
              "      <td>33 Million Have Sought US Unemployment Aid Sin...</td>\n",
              "      <td>United States</td>\n",
              "      <td>English</td>\n",
              "      <td>True</td>\n",
              "      <td>https://www.snopes.com/ap/2020/05/07/33-millio...</td>\n",
              "      <td>2020-09-03 00:00:00</td>\n",
              "      <td>snopes</td>\n",
              "    </tr>\n",
              "    <tr>\n",
              "      <th>4</th>\n",
              "      <td>United States ‘Wasted’ Months Before Preparing...</td>\n",
              "      <td>United States</td>\n",
              "      <td>English</td>\n",
              "      <td>True</td>\n",
              "      <td>https://www.snopes.com/ap/2020/04/05/u-s-waste...</td>\n",
              "      <td>2020-03-04 00:00:00</td>\n",
              "      <td>snopes</td>\n",
              "    </tr>\n",
              "  </tbody>\n",
              "</table>\n",
              "</div>"
            ],
            "text/plain": [
              "                                                Text  ... verificado_por\n",
              "0  Britain’s Death Toll from the Coronavirus Riva...  ...         snopes\n",
              "1  Timeline Reset: CDC Confirms Weeks-Earlier Cal...  ...         snopes\n",
              "2  Dentists, Hair Salons, Beaches: Lockdowns Ease...  ...         snopes\n",
              "3  33 Million Have Sought US Unemployment Aid Sin...  ...         snopes\n",
              "4  United States ‘Wasted’ Months Before Preparing...  ...         snopes\n",
              "\n",
              "[5 rows x 7 columns]"
            ]
          },
          "metadata": {
            "tags": []
          },
          "execution_count": 3
        }
      ]
    },
    {
      "cell_type": "code",
      "metadata": {
        "id": "jXwKQcHdbscV",
        "colab": {
          "base_uri": "https://localhost:8080/"
        },
        "outputId": "38f17dfb-d1e0-4b1f-bff7-bd19c0b42710"
      },
      "source": [
        "# Verifico si hay valores nulos\n",
        "datos.info() "
      ],
      "execution_count": 4,
      "outputs": [
        {
          "output_type": "stream",
          "text": [
            "<class 'pandas.core.frame.DataFrame'>\n",
            "RangeIndex: 21721 entries, 0 to 21720\n",
            "Data columns (total 7 columns):\n",
            " #   Column          Non-Null Count  Dtype \n",
            "---  ------          --------------  ----- \n",
            " 0   Text            21721 non-null  object\n",
            " 1   country         21721 non-null  object\n",
            " 2   lang            21721 non-null  object\n",
            " 3   label           21721 non-null  bool  \n",
            " 4   URL             21623 non-null  object\n",
            " 5   date            15183 non-null  object\n",
            " 6   verificado_por  21721 non-null  object\n",
            "dtypes: bool(1), object(6)\n",
            "memory usage: 1.0+ MB\n"
          ],
          "name": "stdout"
        }
      ]
    },
    {
      "cell_type": "code",
      "metadata": {
        "id": "fZcw5Y39bsgr",
        "colab": {
          "base_uri": "https://localhost:8080/"
        },
        "outputId": "2c2d075c-f799-4be3-c57a-f426f5618aae"
      },
      "source": [
        "#Elimino duplicados de todas las columnas\n",
        "\n",
        "datos2 = datos.drop_duplicates()\n",
        "print(len(datos2))\n",
        "\n",
        "# Elimino ambiguedades\n",
        "\n",
        "datos3=datos2.drop_duplicates(['Text'], keep='first') # Elimino ambieguedades\n",
        "print(len(datos3))"
      ],
      "execution_count": 5,
      "outputs": [
        {
          "output_type": "stream",
          "text": [
            "20966\n",
            "18696\n"
          ],
          "name": "stdout"
        }
      ]
    },
    {
      "cell_type": "code",
      "metadata": {
        "id": "w35gYmHRbxoV",
        "colab": {
          "base_uri": "https://localhost:8080/",
          "height": 346
        },
        "outputId": "f0e4d203-bbf9-46b8-dbc9-c837ec590b28"
      },
      "source": [
        "# Revuelvo los registros\n",
        "datos3 = datos3.sample(frac = 1, random_state= 88) \n",
        "datos3=datos3.reset_index()\n",
        "datos3=datos3.drop([\"index\"], axis=1)\n",
        "\n",
        "# Muestra de los datos\n",
        "datos3.head(10)\n",
        "#print(len(datos))"
      ],
      "execution_count": 6,
      "outputs": [
        {
          "output_type": "execute_result",
          "data": {
            "text/html": [
              "<div>\n",
              "<style scoped>\n",
              "    .dataframe tbody tr th:only-of-type {\n",
              "        vertical-align: middle;\n",
              "    }\n",
              "\n",
              "    .dataframe tbody tr th {\n",
              "        vertical-align: top;\n",
              "    }\n",
              "\n",
              "    .dataframe thead th {\n",
              "        text-align: right;\n",
              "    }\n",
              "</style>\n",
              "<table border=\"1\" class=\"dataframe\">\n",
              "  <thead>\n",
              "    <tr style=\"text-align: right;\">\n",
              "      <th></th>\n",
              "      <th>Text</th>\n",
              "      <th>country</th>\n",
              "      <th>lang</th>\n",
              "      <th>label</th>\n",
              "      <th>URL</th>\n",
              "      <th>date</th>\n",
              "      <th>verificado_por</th>\n",
              "    </tr>\n",
              "  </thead>\n",
              "  <tbody>\n",
              "    <tr>\n",
              "      <th>0</th>\n",
              "      <td>A Chinese woman in Mombasa was attacked and ki...</td>\n",
              "      <td>Kenya</td>\n",
              "      <td>English</td>\n",
              "      <td>False</td>\n",
              "      <td>https://pesacheck.org/hoax-reports-that-a-chin...</td>\n",
              "      <td>2020-03-21 00:00:00</td>\n",
              "      <td>PesaCheck</td>\n",
              "    </tr>\n",
              "    <tr>\n",
              "      <th>1</th>\n",
              "      <td>This video shows fishes overflowing out of th...</td>\n",
              "      <td>India</td>\n",
              "      <td>Marathi</td>\n",
              "      <td>False</td>\n",
              "      <td>https://marathi.factcrescendo.com/old-video-fr...</td>\n",
              "      <td>2020/04/22</td>\n",
              "      <td>FactCrescendo</td>\n",
              "    </tr>\n",
              "    <tr>\n",
              "      <th>2</th>\n",
              "      <td>Initial data from clinical trials testing whet...</td>\n",
              "      <td>United States</td>\n",
              "      <td>English</td>\n",
              "      <td>True</td>\n",
              "      <td>https://reuters.com</td>\n",
              "      <td>NaN</td>\n",
              "      <td>Reuters</td>\n",
              "    </tr>\n",
              "    <tr>\n",
              "      <th>3</th>\n",
              "      <td>Authorities in Moscow said a QR-code system wo...</td>\n",
              "      <td>United States</td>\n",
              "      <td>English</td>\n",
              "      <td>True</td>\n",
              "      <td>https://reuters.com</td>\n",
              "      <td>NaN</td>\n",
              "      <td>Reuters</td>\n",
              "    </tr>\n",
              "    <tr>\n",
              "      <th>4</th>\n",
              "      <td>Studies show the coronavirus was engineered t...</td>\n",
              "      <td>United States</td>\n",
              "      <td>English</td>\n",
              "      <td>False</td>\n",
              "      <td>https://leadstories.com/hoax-alert/2020/03/Fac...</td>\n",
              "      <td>2020/02/19</td>\n",
              "      <td>LeadStories</td>\n",
              "    </tr>\n",
              "    <tr>\n",
              "      <th>5</th>\n",
              "      <td>As the architect of Sweden's unorthodox respon...</td>\n",
              "      <td>United States</td>\n",
              "      <td>English</td>\n",
              "      <td>True</td>\n",
              "      <td>https://reuters.com</td>\n",
              "      <td>NaN</td>\n",
              "      <td>Reuters</td>\n",
              "    </tr>\n",
              "    <tr>\n",
              "      <th>6</th>\n",
              "      <td>New York schools add a COVID-19 vaccine to th...</td>\n",
              "      <td>United States</td>\n",
              "      <td>English</td>\n",
              "      <td>False</td>\n",
              "      <td>https://leadstories.com/hoax-alert/2020/05/fac...</td>\n",
              "      <td>2020/04/19</td>\n",
              "      <td>LeadStories</td>\n",
              "    </tr>\n",
              "    <tr>\n",
              "      <th>7</th>\n",
              "      <td>Dr Anil Jasinghe is appointed as the Vice Chai...</td>\n",
              "      <td>Sri Lanka</td>\n",
              "      <td>Sinhala</td>\n",
              "      <td>False</td>\n",
              "      <td>https://srilanka.factcrescendo.com/2020/04/06/...</td>\n",
              "      <td>2020-04-06 00:00:00</td>\n",
              "      <td>FactCrescendo</td>\n",
              "    </tr>\n",
              "    <tr>\n",
              "      <th>8</th>\n",
              "      <td>Diagnostic services provider LabCorp said on T...</td>\n",
              "      <td>United States</td>\n",
              "      <td>English</td>\n",
              "      <td>True</td>\n",
              "      <td>https://reuters.com</td>\n",
              "      <td>NaN</td>\n",
              "      <td>Reuters</td>\n",
              "    </tr>\n",
              "    <tr>\n",
              "      <th>9</th>\n",
              "      <td>Equity indices in the green, FMCG and IT stock...</td>\n",
              "      <td>India</td>\n",
              "      <td>English</td>\n",
              "      <td>True</td>\n",
              "      <td>https://www.afghanistannews.net/news/264217872...</td>\n",
              "      <td>2020-01-22 00:00:00</td>\n",
              "      <td>afghanistannews.net</td>\n",
              "    </tr>\n",
              "  </tbody>\n",
              "</table>\n",
              "</div>"
            ],
            "text/plain": [
              "                                                Text  ...       verificado_por\n",
              "0  A Chinese woman in Mombasa was attacked and ki...  ...            PesaCheck\n",
              "1   This video shows fishes overflowing out of th...  ...        FactCrescendo\n",
              "2  Initial data from clinical trials testing whet...  ...              Reuters\n",
              "3  Authorities in Moscow said a QR-code system wo...  ...              Reuters\n",
              "4   Studies show the coronavirus was engineered t...  ...          LeadStories\n",
              "5  As the architect of Sweden's unorthodox respon...  ...              Reuters\n",
              "6   New York schools add a COVID-19 vaccine to th...  ...          LeadStories\n",
              "7  Dr Anil Jasinghe is appointed as the Vice Chai...  ...        FactCrescendo\n",
              "8  Diagnostic services provider LabCorp said on T...  ...              Reuters\n",
              "9  Equity indices in the green, FMCG and IT stock...  ...  afghanistannews.net\n",
              "\n",
              "[10 rows x 7 columns]"
            ]
          },
          "metadata": {
            "tags": []
          },
          "execution_count": 6
        }
      ]
    },
    {
      "cell_type": "code",
      "metadata": {
        "colab": {
          "base_uri": "https://localhost:8080/",
          "height": 167
        },
        "id": "pMVIwcbR9CG9",
        "outputId": "9059548b-c892-4fb3-b07e-dfc3f75b322a"
      },
      "source": [
        "# Descripción de los datos\n",
        "\n",
        "datos3.describe(include=\"all\")"
      ],
      "execution_count": 7,
      "outputs": [
        {
          "output_type": "execute_result",
          "data": {
            "text/html": [
              "<div>\n",
              "<style scoped>\n",
              "    .dataframe tbody tr th:only-of-type {\n",
              "        vertical-align: middle;\n",
              "    }\n",
              "\n",
              "    .dataframe tbody tr th {\n",
              "        vertical-align: top;\n",
              "    }\n",
              "\n",
              "    .dataframe thead th {\n",
              "        text-align: right;\n",
              "    }\n",
              "</style>\n",
              "<table border=\"1\" class=\"dataframe\">\n",
              "  <thead>\n",
              "    <tr style=\"text-align: right;\">\n",
              "      <th></th>\n",
              "      <th>Text</th>\n",
              "      <th>country</th>\n",
              "      <th>lang</th>\n",
              "      <th>label</th>\n",
              "      <th>URL</th>\n",
              "      <th>date</th>\n",
              "      <th>verificado_por</th>\n",
              "    </tr>\n",
              "  </thead>\n",
              "  <tbody>\n",
              "    <tr>\n",
              "      <th>count</th>\n",
              "      <td>18696</td>\n",
              "      <td>18696</td>\n",
              "      <td>18696</td>\n",
              "      <td>18696</td>\n",
              "      <td>18619</td>\n",
              "      <td>12894</td>\n",
              "      <td>18696</td>\n",
              "    </tr>\n",
              "    <tr>\n",
              "      <th>unique</th>\n",
              "      <td>18696</td>\n",
              "      <td>127</td>\n",
              "      <td>50</td>\n",
              "      <td>2</td>\n",
              "      <td>8226</td>\n",
              "      <td>315</td>\n",
              "      <td>130</td>\n",
              "    </tr>\n",
              "    <tr>\n",
              "      <th>top</th>\n",
              "      <td>Photo shows food being distributed to Rwandans...</td>\n",
              "      <td>United States</td>\n",
              "      <td>English</td>\n",
              "      <td>False</td>\n",
              "      <td>https://reuters.com</td>\n",
              "      <td>2020-04-03 00:00:00</td>\n",
              "      <td>Reuters</td>\n",
              "    </tr>\n",
              "    <tr>\n",
              "      <th>freq</th>\n",
              "      <td>1</td>\n",
              "      <td>7637</td>\n",
              "      <td>12468</td>\n",
              "      <td>11921</td>\n",
              "      <td>5651</td>\n",
              "      <td>680</td>\n",
              "      <td>5651</td>\n",
              "    </tr>\n",
              "  </tbody>\n",
              "</table>\n",
              "</div>"
            ],
            "text/plain": [
              "                                                     Text  ... verificado_por\n",
              "count                                               18696  ...          18696\n",
              "unique                                              18696  ...            130\n",
              "top     Photo shows food being distributed to Rwandans...  ...        Reuters\n",
              "freq                                                    1  ...           5651\n",
              "\n",
              "[4 rows x 7 columns]"
            ]
          },
          "metadata": {
            "tags": []
          },
          "execution_count": 7
        }
      ]
    },
    {
      "cell_type": "markdown",
      "metadata": {
        "id": "iwbD8NQy0iD8"
      },
      "source": [
        "### Exploración inicial de los datos"
      ]
    },
    {
      "cell_type": "code",
      "metadata": {
        "colab": {
          "base_uri": "https://localhost:8080/",
          "height": 1000
        },
        "id": "aXesedXt3WzO",
        "outputId": "378f822e-3b10-4202-af20-7deadea42e47"
      },
      "source": [
        "# Reviso las 10 primeras categorías de cada variable categórica\n",
        "\n",
        "for col in datos3.columns:\n",
        "    print('-' * 40 + col + '-' * 40 , end=' - ')\n",
        "    display(datos3[col].value_counts().head(10))"
      ],
      "execution_count": 8,
      "outputs": [
        {
          "output_type": "stream",
          "text": [
            "----------------------------------------Text---------------------------------------- - "
          ],
          "name": "stdout"
        },
        {
          "output_type": "display_data",
          "data": {
            "text/plain": [
              "Photo shows food being distributed to Rwandans during coronavirus lockdown.                                                                                                                                                                                  1\n",
              "The World Health Organization on Tuesday acknowledged \"evidence emerging\" of the airborne spread of the novel coronavirus, after a group of scientists urged the global body to update its guidance on how the respiratory disease passes between people.    1\n",
              "Brazil's total COVID-19 death toll blew past that of Italy on Thursday, as the Health Ministry reported 1,437 deaths in the last 24 hours and 30,925 additional coronavirus cases.                                                                           1\n",
              " Japanese Nobel laureate Tasuku Honjo, who worked in Wuhan for four years, claimed that SARS-CoV-2 was human-made.                                                                                                                                           1\n",
              " German physician Wolfgang Wodarg claims the coronavirus is harmless.                                                                                                                                                                                        1\n",
              "Did Trump Tweet in 2009 That He Would ‘Never Let Thousands of Americans Die From a Pandemic’?                                                                                                                                                                1\n",
              "Bollywood superstar Aamir Khan donated Rs. 250 crore to tackle the novel coronavirus outbreak.                                                                                                                                                               1\n",
              " A viral message listing false and unrelated statements about coronavirus has falsely been attributed to the United Nations International Children’s Emergency Fund (UNICEF).                                                                                1\n",
              "News about COVID-19 can only be shared after seeking the government’s permission.                                                                                                                                                                            1\n",
              " The USA are counting on alternative medicine like chlorine dioxide or hydroxychloroquine instead of vaccines.                                                                                                                                               1\n",
              "Name: Text, dtype: int64"
            ]
          },
          "metadata": {
            "tags": []
          }
        },
        {
          "output_type": "stream",
          "text": [
            "----------------------------------------country---------------------------------------- - "
          ],
          "name": "stdout"
        },
        {
          "output_type": "display_data",
          "data": {
            "text/plain": [
              "United States    7637\n",
              "India            2380\n",
              "Spain             889\n",
              "Brazil            714\n",
              "France            500\n",
              "Philippines       385\n",
              "Colombia          340\n",
              "Australia         302\n",
              "Italy             298\n",
              "China             289\n",
              "Name: country, dtype: int64"
            ]
          },
          "metadata": {
            "tags": []
          }
        },
        {
          "output_type": "stream",
          "text": [
            "----------------------------------------lang---------------------------------------- - "
          ],
          "name": "stdout"
        },
        {
          "output_type": "display_data",
          "data": {
            "text/plain": [
              "English       12468\n",
              "Spanish        1808\n",
              "Portuguese      690\n",
              "French          601\n",
              "tl              505\n",
              "Hindi           280\n",
              "Italian         222\n",
              "Arabic          136\n",
              "Indonesian      115\n",
              "Malayalam       114\n",
              "Name: lang, dtype: int64"
            ]
          },
          "metadata": {
            "tags": []
          }
        },
        {
          "output_type": "stream",
          "text": [
            "----------------------------------------label---------------------------------------- - "
          ],
          "name": "stdout"
        },
        {
          "output_type": "display_data",
          "data": {
            "text/plain": [
              "False    11921\n",
              "True      6775\n",
              "Name: label, dtype: int64"
            ]
          },
          "metadata": {
            "tags": []
          }
        },
        {
          "output_type": "stream",
          "text": [
            "----------------------------------------URL---------------------------------------- - "
          ],
          "name": "stdout"
        },
        {
          "output_type": "display_data",
          "data": {
            "text/plain": [
              "https://reuters.com                                                                                                                              5651\n",
              "http://www.ecuadorchequea.com/las-mentiras-sobre-el-covid-19-en-ecuador/                                                                           14\n",
              "https://observers.france24.com/fr/20200130-intox-chine-soupe-chauve-souris-rumeur-origine-coronavirus                                               7\n",
              "http://news.jtbc.joins.com/html/040/NB11932040.html                                                                                                 5\n",
              "https://factcheck.afp.com/story-originated-parody-account-no-driver-threatening-spread-covid-19-across-nigeria                                      4\n",
              "https://factcheck.afp.com/graphic-purported-quote-philippine-vice-president-leni-robredo-has-been-doctored                                          4\n",
              "https://piaui.folha.uol.com.br/lupa/2020/01/27/verificamos-coronavirus-infectou-28-milhoes-matou-112-mil-china/                                     4\n",
              "http://www.ecuadorchequea.com/las-mentiras-sobre-el-covid-19-en-ecuador/?fbclid=IwAR3bwAz0dMLw03No-V2hs3mNm5Nvl8V_p0AnNV7GbLCEh9do16WHgMrsBiE       4\n",
              "https://www.newtral.es/el-washington-post-no-ha-confirmado-el-origen-del-paciente-cero-del-coronavirus/20200418/                                    4\n",
              "http://u.afp.com/japanmedicalteam                                                                                                                   3\n",
              "Name: URL, dtype: int64"
            ]
          },
          "metadata": {
            "tags": []
          }
        },
        {
          "output_type": "stream",
          "text": [
            "----------------------------------------date---------------------------------------- - "
          ],
          "name": "stdout"
        },
        {
          "output_type": "display_data",
          "data": {
            "text/plain": [
              "2020-04-03 00:00:00    680\n",
              "2020-03-17 00:00:00    126\n",
              "2020-04-02 00:00:00    126\n",
              "2020/03/17             126\n",
              "2020-03-23 00:00:00    125\n",
              "2020-03-16 00:00:00    124\n",
              "2020/03/23             117\n",
              "2020-03-27 00:00:00    114\n",
              "2020-03-24 00:00:00    113\n",
              "2020/04/02             111\n",
              "Name: date, dtype: int64"
            ]
          },
          "metadata": {
            "tags": []
          }
        },
        {
          "output_type": "stream",
          "text": [
            "----------------------------------------verificado_por---------------------------------------- - "
          ],
          "name": "stdout"
        },
        {
          "output_type": "display_data",
          "data": {
            "text/plain": [
              "Reuters                5651\n",
              "AFP                     971\n",
              "FactCrescendo           759\n",
              "PolitiFact              543\n",
              "Factly                  428\n",
              "adelaidenow.au          413\n",
              "BOOM FactCheck          404\n",
              "LeadStories             399\n",
              "Maldita.es              386\n",
              "afghanistannews.net     355\n",
              "Name: verificado_por, dtype: int64"
            ]
          },
          "metadata": {
            "tags": []
          }
        }
      ]
    },
    {
      "cell_type": "code",
      "metadata": {
        "id": "vqQvSFW8Udjd"
      },
      "source": [
        "# Filtro primeros 10 de cada variable \n",
        "\n",
        "verificado_10=datos3[\"verificado_por\"].value_counts().head(10)\n",
        "lang_10=datos3[\"lang\"].value_counts().head(10)\n",
        "country_10=datos3[\"country\"].value_counts().head(10)"
      ],
      "execution_count": 9,
      "outputs": []
    },
    {
      "cell_type": "code",
      "metadata": {
        "colab": {
          "base_uri": "https://localhost:8080/",
          "height": 1000
        },
        "id": "OMqgTgcBaelW",
        "outputId": "b31f1c21-34f4-4015-8364-142265c6bff7"
      },
      "source": [
        "# Grafico datos\n",
        "\n",
        "fig = plt.figure(figsize=(12,5))\n",
        "ax = fig.add_axes([0,0,1,1])\n",
        "ax = verificado_10.plot.bar(x='lab', y='val', rot=0)\n",
        "\n",
        "fig = plt.figure(figsize=(12,5))\n",
        "ax = fig.add_axes([0,0,1,1])\n",
        "ax = lang_10.plot.bar(x='lab', y='val', rot=0)\n",
        "\n",
        "fig = plt.figure(figsize=(12,5))\n",
        "ax = fig.add_axes([0,0,1,1])\n",
        "ax = country_10.plot.bar(x='lab', y='val', rot=0)"
      ],
      "execution_count": 10,
      "outputs": [
        {
          "output_type": "display_data",
          "data": {
            "image/png": "[encoded data removed]",
            "text/plain": [
              "<Figure size 864x360 with 1 Axes>"
            ]
          },
          "metadata": {
            "tags": [],
            "needs_background": "light"
          }
        },
        {
          "output_type": "display_data",
          "data": {
            "image/png": "[encoded data removed]",
            "text/plain": [
              "<Figure size 864x360 with 1 Axes>"
            ]
          },
          "metadata": {
            "tags": [],
            "needs_background": "light"
          }
        },
        {
          "output_type": "display_data",
          "data": {
            "image/png": "[encoded data removed]",
            "text/plain": [
              "<Figure size 864x360 with 1 Axes>"
            ]
          },
          "metadata": {
            "tags": [],
            "needs_background": "light"
          }
        }
      ]
    },
    {
      "cell_type": "code",
      "metadata": {
        "colab": {
          "base_uri": "https://localhost:8080/",
          "height": 333
        },
        "id": "d5LTbxp42JtG",
        "outputId": "5f38ca5f-378a-4934-cdc5-4f2a0a710d36"
      },
      "source": [
        "# Distribución de las categorías datos\n",
        "plt.figure(figsize=(12,5))\n",
        "sns.countplot(\"label\", data=datos3)\n",
        "plt.show()"
      ],
      "execution_count": 11,
      "outputs": [
        {
          "output_type": "display_data",
          "data": {
            "image/png": "[encoded data removed]",
            "text/plain": [
              "<Figure size 864x360 with 1 Axes>"
            ]
          },
          "metadata": {
            "tags": [],
            "needs_background": "light"
          }
        }
      ]
    },
    {
      "cell_type": "code",
      "metadata": {
        "colab": {
          "base_uri": "https://localhost:8080/"
        },
        "id": "lVjgOesGxR0e",
        "outputId": "2542b980-da3e-4535-8ae8-84a9358a4b82"
      },
      "source": [
        "# Filtro datos sólo en inglés\n",
        "datos_ingles=datos3[datos3['lang']==\"English\"]\n",
        "len(datos_ingles)"
      ],
      "execution_count": 12,
      "outputs": [
        {
          "output_type": "execute_result",
          "data": {
            "text/plain": [
              "12468"
            ]
          },
          "metadata": {
            "tags": []
          },
          "execution_count": 12
        }
      ]
    },
    {
      "cell_type": "code",
      "metadata": {
        "colab": {
          "base_uri": "https://localhost:8080/",
          "height": 333
        },
        "id": "qdkmMzh4xRw7",
        "outputId": "5047e7a8-ffee-4b13-db6a-066961e97353"
      },
      "source": [
        "# Distribución de las categorías datos de trabajo filtrados en idioma inglés\n",
        "plt.figure(figsize=(12,5))\n",
        "sns.countplot(\"label\", data=datos_ingles)\n",
        "plt.show()"
      ],
      "execution_count": 13,
      "outputs": [
        {
          "output_type": "display_data",
          "data": {
            "image/png": "[encoded data removed]",
            "text/plain": [
              "<Figure size 864x360 with 1 Axes>"
            ]
          },
          "metadata": {
            "tags": [],
            "needs_background": "light"
          }
        }
      ]
    },
    {
      "cell_type": "markdown",
      "metadata": {
        "id": "b0YxikXhadx4"
      },
      "source": [
        "### Creación de conjuntos de datos"
      ]
    },
    {
      "cell_type": "code",
      "metadata": {
        "id": "h82UN9hVlTV8",
        "colab": {
          "base_uri": "https://localhost:8080/"
        },
        "outputId": "98440820-b00e-45b1-d2e3-aebafd06a6fc"
      },
      "source": [
        "# Reservo unos datos para pruebas finales (datos que no se tocan)\n",
        "\n",
        "datos_trabajo,datos_reserva = train_test_split(datos_ingles, test_size=0.1, random_state=88 )\n",
        "datos_trabajo=datos_trabajo.reset_index()\n",
        "datos_trabajo=datos_trabajo.drop([\"index\"], axis=1)\n",
        "\n",
        "datos_reserva=datos_reserva.reset_index()\n",
        "datos_reserva=datos_reserva.drop([\"index\"], axis=1)\n",
        "\n",
        "print(\"Datos para trabajar: \", len(datos_trabajo))\n",
        "print(\"Datos reservados para pruebas finales \", len(datos_reserva))\n",
        "\n"
      ],
      "execution_count": 14,
      "outputs": [
        {
          "output_type": "stream",
          "text": [
            "Datos para trabajar:  11221\n",
            "Datos reservados para pruebas finales  1247\n"
          ],
          "name": "stdout"
        }
      ]
    },
    {
      "cell_type": "code",
      "metadata": {
        "colab": {
          "base_uri": "https://localhost:8080/",
          "height": 333
        },
        "id": "af4c1x4YvUzI",
        "outputId": "0f378ed9-ff37-41e4-cf33-5c45b1969ea4"
      },
      "source": [
        "# Distribución de las categorías datos de trabajo\n",
        "plt.figure(figsize=(12,5))\n",
        "sns.countplot(\"label\", data=datos_trabajo)\n",
        "plt.show()"
      ],
      "execution_count": 15,
      "outputs": [
        {
          "output_type": "display_data",
          "data": {
            "image/png": "[encoded data removed]",
            "text/plain": [
              "<Figure size 864x360 with 1 Axes>"
            ]
          },
          "metadata": {
            "tags": [],
            "needs_background": "light"
          }
        }
      ]
    },
    {
      "cell_type": "code",
      "metadata": {
        "id": "o7XwsgoynpFV",
        "colab": {
          "base_uri": "https://localhost:8080/",
          "height": 333
        },
        "outputId": "e7555fda-e0eb-4283-e5c0-289767a32827"
      },
      "source": [
        "# Distribución de las categorías datos reservados\n",
        "plt.figure(figsize=(12,5))\n",
        "sns.countplot(\"label\", data=datos_reserva)\n",
        "plt.show()"
      ],
      "execution_count": 16,
      "outputs": [
        {
          "output_type": "display_data",
          "data": {
            "image/png": "[encoded data removed]",
            "text/plain": [
              "<Figure size 864x360 with 1 Axes>"
            ]
          },
          "metadata": {
            "tags": [],
            "needs_background": "light"
          }
        }
      ]
    },
    {
      "cell_type": "code",
      "metadata": {
        "colab": {
          "base_uri": "https://localhost:8080/",
          "height": 346
        },
        "id": "xwucc8uoEw6O",
        "outputId": "9c0e40be-e0d2-4532-ebe7-21d150b91146"
      },
      "source": [
        "datos_trabajo.head(10)"
      ],
      "execution_count": 17,
      "outputs": [
        {
          "output_type": "execute_result",
          "data": {
            "text/html": [
              "<div>\n",
              "<style scoped>\n",
              "    .dataframe tbody tr th:only-of-type {\n",
              "        vertical-align: middle;\n",
              "    }\n",
              "\n",
              "    .dataframe tbody tr th {\n",
              "        vertical-align: top;\n",
              "    }\n",
              "\n",
              "    .dataframe thead th {\n",
              "        text-align: right;\n",
              "    }\n",
              "</style>\n",
              "<table border=\"1\" class=\"dataframe\">\n",
              "  <thead>\n",
              "    <tr style=\"text-align: right;\">\n",
              "      <th></th>\n",
              "      <th>Text</th>\n",
              "      <th>country</th>\n",
              "      <th>lang</th>\n",
              "      <th>label</th>\n",
              "      <th>URL</th>\n",
              "      <th>date</th>\n",
              "      <th>verificado_por</th>\n",
              "    </tr>\n",
              "  </thead>\n",
              "  <tbody>\n",
              "    <tr>\n",
              "      <th>0</th>\n",
              "      <td>Britain is not \"anywhere close\" to the scenari...</td>\n",
              "      <td>United States</td>\n",
              "      <td>English</td>\n",
              "      <td>True</td>\n",
              "      <td>https://reuters.com</td>\n",
              "      <td>NaN</td>\n",
              "      <td>Reuters</td>\n",
              "    </tr>\n",
              "    <tr>\n",
              "      <th>1</th>\n",
              "      <td>A video of Chinese people fighting for Muslim...</td>\n",
              "      <td>Indonesia</td>\n",
              "      <td>English</td>\n",
              "      <td>False</td>\n",
              "      <td>https://s.id/fhqAe</td>\n",
              "      <td>2020/03/12</td>\n",
              "      <td>TEMPO</td>\n",
              "    </tr>\n",
              "    <tr>\n",
              "      <th>2</th>\n",
              "      <td>The reproductive number of COVID-19 in England...</td>\n",
              "      <td>United States</td>\n",
              "      <td>English</td>\n",
              "      <td>True</td>\n",
              "      <td>https://reuters.com</td>\n",
              "      <td>NaN</td>\n",
              "      <td>Reuters</td>\n",
              "    </tr>\n",
              "    <tr>\n",
              "      <th>3</th>\n",
              "      <td>Peru's miners are revving up stalled operation...</td>\n",
              "      <td>United States</td>\n",
              "      <td>English</td>\n",
              "      <td>True</td>\n",
              "      <td>https://reuters.com</td>\n",
              "      <td>NaN</td>\n",
              "      <td>Reuters</td>\n",
              "    </tr>\n",
              "    <tr>\n",
              "      <th>4</th>\n",
              "      <td>More than 150 patients were evacuated on Satur...</td>\n",
              "      <td>United States</td>\n",
              "      <td>English</td>\n",
              "      <td>True</td>\n",
              "      <td>https://reuters.com</td>\n",
              "      <td>NaN</td>\n",
              "      <td>Reuters</td>\n",
              "    </tr>\n",
              "    <tr>\n",
              "      <th>5</th>\n",
              "      <td>Thai department of health published an infogr...</td>\n",
              "      <td>Thailand</td>\n",
              "      <td>English</td>\n",
              "      <td>False</td>\n",
              "      <td>http://u.afp.com/ThaiFaceMasks</td>\n",
              "      <td>2020/02/07</td>\n",
              "      <td>AFP</td>\n",
              "    </tr>\n",
              "    <tr>\n",
              "      <th>6</th>\n",
              "      <td>A picture claims that an Italian man committe...</td>\n",
              "      <td>India</td>\n",
              "      <td>English</td>\n",
              "      <td>False</td>\n",
              "      <td>https://www.boomlive.in/fake-news/dated-photos...</td>\n",
              "      <td>2020/03/26</td>\n",
              "      <td>BOOM FactCheck</td>\n",
              "    </tr>\n",
              "    <tr>\n",
              "      <th>7</th>\n",
              "      <td>Viral picture message in Nigeria suggests form...</td>\n",
              "      <td>Nigeria</td>\n",
              "      <td>English</td>\n",
              "      <td>False</td>\n",
              "      <td>https://dubawa.org/and-another-one-what-did-ob...</td>\n",
              "      <td>2020-03-02 00:00:00</td>\n",
              "      <td>Dubawa</td>\n",
              "    </tr>\n",
              "    <tr>\n",
              "      <th>8</th>\n",
              "      <td>Publication broadcasts a video of “the market ...</td>\n",
              "      <td>North Macedonia</td>\n",
              "      <td>English</td>\n",
              "      <td>False</td>\n",
              "      <td>https://truthmeter.mk/the-market-of-terror-is-...</td>\n",
              "      <td>2020-01-30 00:00:00</td>\n",
              "      <td>Vistinomer</td>\n",
              "    </tr>\n",
              "    <tr>\n",
              "      <th>9</th>\n",
              "      <td>Diagnostic services provider LabCorp said on T...</td>\n",
              "      <td>United States</td>\n",
              "      <td>English</td>\n",
              "      <td>True</td>\n",
              "      <td>https://reuters.com</td>\n",
              "      <td>NaN</td>\n",
              "      <td>Reuters</td>\n",
              "    </tr>\n",
              "  </tbody>\n",
              "</table>\n",
              "</div>"
            ],
            "text/plain": [
              "                                                Text  ...  verificado_por\n",
              "0  Britain is not \"anywhere close\" to the scenari...  ...         Reuters\n",
              "1   A video of Chinese people fighting for Muslim...  ...           TEMPO\n",
              "2  The reproductive number of COVID-19 in England...  ...         Reuters\n",
              "3  Peru's miners are revving up stalled operation...  ...         Reuters\n",
              "4  More than 150 patients were evacuated on Satur...  ...         Reuters\n",
              "5   Thai department of health published an infogr...  ...             AFP\n",
              "6   A picture claims that an Italian man committe...  ...  BOOM FactCheck\n",
              "7  Viral picture message in Nigeria suggests form...  ...          Dubawa\n",
              "8  Publication broadcasts a video of “the market ...  ...      Vistinomer\n",
              "9  Diagnostic services provider LabCorp said on T...  ...         Reuters\n",
              "\n",
              "[10 rows x 7 columns]"
            ]
          },
          "metadata": {
            "tags": []
          },
          "execution_count": 17
        }
      ]
    },
    {
      "cell_type": "markdown",
      "metadata": {
        "id": "P2No5GI7ZpcV"
      },
      "source": [
        "###  Preparación de los datos"
      ]
    },
    {
      "cell_type": "code",
      "metadata": {
        "id": "m63fl0tFxGhF",
        "colab": {
          "base_uri": "https://localhost:8080/"
        },
        "outputId": "9206a30c-b2f5-432f-ad06-f7654faaea36"
      },
      "source": [
        "# Convierto categorías en números - datos de trabajo\n",
        "\n",
        "category_dict = {value:index for index, value in enumerate(datos_trabajo[\"label\"].unique())} # Extraigo categorías de todos los datos\n",
        "\n",
        "\n",
        "# Extraigo datos de titulares\n",
        "corpus_trabajo = datos_trabajo[\"Text\"]\n",
        "results_trabajo = datos_trabajo[\"label\"].map(category_dict)\n",
        "#category_dict_trabajo\n",
        "datos_trabajo[\"label\"]"
      ],
      "execution_count": 18,
      "outputs": [
        {
          "output_type": "execute_result",
          "data": {
            "text/plain": [
              "0         True\n",
              "1        False\n",
              "2         True\n",
              "3         True\n",
              "4         True\n",
              "         ...  \n",
              "11216    False\n",
              "11217    False\n",
              "11218    False\n",
              "11219     True\n",
              "11220     True\n",
              "Name: label, Length: 11221, dtype: bool"
            ]
          },
          "metadata": {
            "tags": []
          },
          "execution_count": 18
        }
      ]
    },
    {
      "cell_type": "code",
      "metadata": {
        "colab": {
          "base_uri": "https://localhost:8080/"
        },
        "id": "SB4fudC6x0bn",
        "outputId": "a9bd6621-5b6e-48ab-f74a-94e36c3fb709"
      },
      "source": [
        "category_dict"
      ],
      "execution_count": 19,
      "outputs": [
        {
          "output_type": "execute_result",
          "data": {
            "text/plain": [
              "{False: 1, True: 0}"
            ]
          },
          "metadata": {
            "tags": []
          },
          "execution_count": 19
        }
      ]
    },
    {
      "cell_type": "code",
      "metadata": {
        "colab": {
          "base_uri": "https://localhost:8080/"
        },
        "id": "qUUrUfAraIBy",
        "outputId": "9751cb1e-f39d-4c8e-d002-5b9862f5f81e"
      },
      "source": [
        "corpus_trabajo"
      ],
      "execution_count": 20,
      "outputs": [
        {
          "output_type": "execute_result",
          "data": {
            "text/plain": [
              "0        Britain is not \"anywhere close\" to the scenari...\n",
              "1         A video of Chinese people fighting for Muslim...\n",
              "2        The reproductive number of COVID-19 in England...\n",
              "3        Peru's miners are revving up stalled operation...\n",
              "4        More than 150 patients were evacuated on Satur...\n",
              "                               ...                        \n",
              "11216    A Twitter post claimed Cristiano Ronaldo is tr...\n",
              "11217     News graphic saying Indian prime minister has...\n",
              "11218     The WHO declared COVID-19 is the abbreviation...\n",
              "11219    The toilet paper panic has officially spread.W...\n",
              "11220    The U.S. government on Wednesday said it will ...\n",
              "Name: Text, Length: 11221, dtype: object"
            ]
          },
          "metadata": {
            "tags": []
          },
          "execution_count": 20
        }
      ]
    },
    {
      "cell_type": "code",
      "metadata": {
        "colab": {
          "base_uri": "https://localhost:8080/"
        },
        "id": "zCIiNwX4aH-i",
        "outputId": "8edb91cd-4fa4-4017-e1ff-f3de46c4e362"
      },
      "source": [
        "# Convierto categorías en números - datos de trabajo\n",
        "\n",
        "# Extraigo datos de titulares\n",
        "corpus_trabajo = datos_trabajo[\"Text\"]\n",
        "results_trabajo = datos_trabajo[\"label\"].map(category_dict)\n",
        "#category_dict_trabajo\n",
        "datos_trabajo[\"label\"]"
      ],
      "execution_count": 21,
      "outputs": [
        {
          "output_type": "execute_result",
          "data": {
            "text/plain": [
              "0         True\n",
              "1        False\n",
              "2         True\n",
              "3         True\n",
              "4         True\n",
              "         ...  \n",
              "11216    False\n",
              "11217    False\n",
              "11218    False\n",
              "11219     True\n",
              "11220     True\n",
              "Name: label, Length: 11221, dtype: bool"
            ]
          },
          "metadata": {
            "tags": []
          },
          "execution_count": 21
        }
      ]
    },
    {
      "cell_type": "code",
      "metadata": {
        "colab": {
          "base_uri": "https://localhost:8080/"
        },
        "id": "fSSzkm2Mad4A",
        "outputId": "b1f7e123-a750-4352-a128-c849811ac1e8"
      },
      "source": [
        "results_trabajo"
      ],
      "execution_count": 22,
      "outputs": [
        {
          "output_type": "execute_result",
          "data": {
            "text/plain": [
              "0        0\n",
              "1        1\n",
              "2        0\n",
              "3        0\n",
              "4        0\n",
              "        ..\n",
              "11216    1\n",
              "11217    1\n",
              "11218    1\n",
              "11219    0\n",
              "11220    0\n",
              "Name: label, Length: 11221, dtype: int64"
            ]
          },
          "metadata": {
            "tags": []
          },
          "execution_count": 22
        }
      ]
    },
    {
      "cell_type": "code",
      "metadata": {
        "id": "cGJA4sYvady2"
      },
      "source": [
        "# Convierto categorías en números - datos de reserva\n",
        "\n",
        "# Extraigo datos de titulares\n",
        "corpus_reserva = datos_reserva[\"Text\"]\n",
        "\n",
        "# Construyo mapa de categorías\n",
        "results_reserva = datos_reserva[\"label\"].map(category_dict) # Mapeo categorías con el mismo diccionario (category_dict)"
      ],
      "execution_count": 23,
      "outputs": []
    },
    {
      "cell_type": "code",
      "metadata": {
        "colab": {
          "base_uri": "https://localhost:8080/"
        },
        "id": "HwfnYtfeadwA",
        "outputId": "6dea333d-cc6f-40b9-97cf-122420eb2f4d"
      },
      "source": [
        "datos_reserva[\"label\"]"
      ],
      "execution_count": 24,
      "outputs": [
        {
          "output_type": "execute_result",
          "data": {
            "text/plain": [
              "0       False\n",
              "1        True\n",
              "2       False\n",
              "3       False\n",
              "4       False\n",
              "        ...  \n",
              "1242     True\n",
              "1243     True\n",
              "1244    False\n",
              "1245     True\n",
              "1246     True\n",
              "Name: label, Length: 1247, dtype: bool"
            ]
          },
          "metadata": {
            "tags": []
          },
          "execution_count": 24
        }
      ]
    },
    {
      "cell_type": "code",
      "metadata": {
        "colab": {
          "base_uri": "https://localhost:8080/"
        },
        "id": "w8_9UlqVadsq",
        "outputId": "fbdc0b87-0c8c-415a-f344-2dd29b8f9473"
      },
      "source": [
        "results_reserva"
      ],
      "execution_count": 25,
      "outputs": [
        {
          "output_type": "execute_result",
          "data": {
            "text/plain": [
              "0       1\n",
              "1       0\n",
              "2       1\n",
              "3       1\n",
              "4       1\n",
              "       ..\n",
              "1242    0\n",
              "1243    0\n",
              "1244    1\n",
              "1245    0\n",
              "1246    0\n",
              "Name: label, Length: 1247, dtype: int64"
            ]
          },
          "metadata": {
            "tags": []
          },
          "execution_count": 25
        }
      ]
    },
    {
      "cell_type": "code",
      "metadata": {
        "colab": {
          "base_uri": "https://localhost:8080/"
        },
        "id": "YFqiwQrpaH63",
        "outputId": "1d282910-f825-4e95-ca15-12827a2bc84b"
      },
      "source": [
        "# Parámetros\n",
        "n_most_common_words = 10000\n",
        "max_len = 300\n",
        "\n",
        "\n",
        "# Creo tokenizador con todos los datos\n",
        "corpus = datos3[\"Text\"]\n",
        "tokenizer = Tokenizer(num_words=n_most_common_words, filters='!\"#$%&()*+,-./:;<=>?@[\\]^_`{|}~', lower=True)\n",
        "tokenizer.fit_on_texts(corpus.values)\n",
        "word_index = tokenizer.word_index\n",
        "print('Se encontraron %s tokens únicos' % len(word_index))"
      ],
      "execution_count": 26,
      "outputs": [
        {
          "output_type": "stream",
          "text": [
            "Se encontraron 28811 tokens únicos\n"
          ],
          "name": "stdout"
        }
      ]
    },
    {
      "cell_type": "code",
      "metadata": {
        "id": "JM_iB75Haxo-"
      },
      "source": [
        "# Tokenización datos de trabajo\n",
        "\n",
        "corpus_trabajo = datos_trabajo[\"Text\"]\n",
        "sequences = tokenizer.texts_to_sequences(corpus_trabajo.values)\n",
        "X = pad_sequences(sequences, maxlen=max_len)"
      ],
      "execution_count": 27,
      "outputs": []
    },
    {
      "cell_type": "code",
      "metadata": {
        "id": "XGpCjsSFaxmc"
      },
      "source": [
        "# Tokenización datos de reserva para pruebas\n",
        "\n",
        "corpus_reserva = datos_reserva[\"Text\"]\n",
        "sequences_reserva = tokenizer.texts_to_sequences(corpus_reserva.values)\n",
        "X_reserva = pad_sequences(sequences_reserva, maxlen=max_len)"
      ],
      "execution_count": 28,
      "outputs": []
    },
    {
      "cell_type": "code",
      "metadata": {
        "colab": {
          "base_uri": "https://localhost:8080/"
        },
        "id": "0-8X2HFGaxjD",
        "outputId": "7fef95db-805b-4ef7-df4b-800bcb8e6bb0"
      },
      "source": [
        "X_reserva[120]"
      ],
      "execution_count": 29,
      "outputs": [
        {
          "output_type": "execute_result",
          "data": {
            "text/plain": [
              "array([   0,    0,    0,    0,    0,    0,    0,    0,    0,    0,    0,\n",
              "          0,    0,    0,    0,    0,    0,    0,    0,    0,    0,    0,\n",
              "          0,    0,    0,    0,    0,    0,    0,    0,    0,    0,    0,\n",
              "          0,    0,    0,    0,    0,    0,    0,    0,    0,    0,    0,\n",
              "          0,    0,    0,    0,    0,    0,    0,    0,    0,    0,    0,\n",
              "          0,    0,    0,    0,    0,    0,    0,    0,    0,    0,    0,\n",
              "          0,    0,    0,    0,    0,    0,    0,    0,    0,    0,    0,\n",
              "          0,    0,    0,    0,    0,    0,    0,    0,    0,    0,    0,\n",
              "          0,    0,    0,    0,    0,    0,    0,    0,    0,    0,    0,\n",
              "          0,    0,    0,    0,    0,    0,    0,    0,    0,    0,    0,\n",
              "          0,    0,    0,    0,    0,    0,    0,    0,    0,    0,    0,\n",
              "          0,    0,    0,    0,    0,    0,    0,    0,    0,    0,    0,\n",
              "          0,    0,    0,    0,    0,    0,    0,    0,    0,    0,    0,\n",
              "          0,    0,    0,    0,    0,    0,    0,    0,    0,    0,    0,\n",
              "          0,    0,    0,    0,    0,    0,    0,    0,    0,    0,    0,\n",
              "          0,    0,    0,    0,    0,    0,    0,    0,    0,    0,    0,\n",
              "          0,    0,    0,    0,    0,    0,    0,    0,    0,    0,    0,\n",
              "          0,    0,    0,    0,    0,    0,    0,    0,    0,    0,    0,\n",
              "          0,    0,    0,    0,    0,    0,    0,    0,    0,    0,    0,\n",
              "          0,    0,    0,    0,    0,    0,    0,    0,    0,    0,    0,\n",
              "          0,    0,    0,    0,    0,    0,    0,    0,    0,    0,    0,\n",
              "          0,    0,    0,    0,    0,    0,    0,    0,    0,    0,    0,\n",
              "          0,    0,    0,    0,    0,    0,    0,    0,    0,    0,    0,\n",
              "          0,  562, 1228,   95,   35,   24,   21,  157,    4,    1,  156,\n",
              "        131,    4,  312,  102,    1,    7,   61,   51,   80,   22,  700,\n",
              "        388,    8, 6242,   16,   23,  351,   63, 4467,  119,    2,   15,\n",
              "         14,    5,   46,  582,  584,    8,   85,  243,  892,   11,   15,\n",
              "         83,  383,   47], dtype=int32)"
            ]
          },
          "metadata": {
            "tags": []
          },
          "execution_count": 29
        }
      ]
    },
    {
      "cell_type": "markdown",
      "metadata": {
        "id": "6hEMsv62bV8F"
      },
      "source": [
        "### Train - Test split"
      ]
    },
    {
      "cell_type": "code",
      "metadata": {
        "id": "YER0INmkbJfE"
      },
      "source": [
        "# Train - Test Split\n",
        "\n",
        "x_train,x_test, y_train,y_test = train_test_split(X, results_trabajo, test_size=0.2, random_state=88 )"
      ],
      "execution_count": 30,
      "outputs": []
    },
    {
      "cell_type": "code",
      "metadata": {
        "colab": {
          "base_uri": "https://localhost:8080/",
          "height": 324
        },
        "id": "qXf_GRQgbJbj",
        "outputId": "356bb444-4fd4-45af-e285-6c96d08d3219"
      },
      "source": [
        "# Visualizo el balance de las clases luego de la división para verificar que no exista un desbalance\n",
        "df_y_train = pd.DataFrame({'yTrain': y_train})\n",
        "\n",
        "df_y_test = pd.DataFrame({'yTest': y_test})\n",
        "\n",
        "\n",
        "fig, axes = plt.subplots(ncols=2, nrows=1, figsize=(18, 10))\n",
        "plt.subplot(2, 2, 1).set_title('yTrain')\n",
        "df_y_train[\"yTrain\"].value_counts().plot(kind='bar')\n",
        "\n",
        "plt.subplot(2, 2, 2).set_title('yTest')\n",
        "df_y_test[\"yTest\"].value_counts().plot(kind='bar')"
      ],
      "execution_count": 31,
      "outputs": [
        {
          "output_type": "execute_result",
          "data": {
            "text/plain": [
              "<matplotlib.axes._subplots.AxesSubplot at 0x7fe6f51bdef0>"
            ]
          },
          "metadata": {
            "tags": []
          },
          "execution_count": 31
        },
        {
          "output_type": "display_data",
          "data": {
            "image/png": "[encoded data removed]",
            "text/plain": [
              "<Figure size 1296x720 with 2 Axes>"
            ]
          },
          "metadata": {
            "tags": [],
            "needs_background": "light"
          }
        }
      ]
    },
    {
      "cell_type": "markdown",
      "metadata": {
        "id": "vU2VJGUsbmMf"
      },
      "source": [
        "### Comparación de modelos de aprendizaje automático\n"
      ]
    },
    {
      "cell_type": "code",
      "metadata": {
        "id": "s3ETvEccbXzB"
      },
      "source": [
        "# Comparación de modelos\n",
        "# Listado de modelos\n",
        "models = [\n",
        "    RandomForestClassifier(n_estimators=200, max_depth=3, random_state=0),\n",
        "    LinearSVC(),\n",
        "    MultinomialNB(),\n",
        "    LogisticRegression(random_state=0),\n",
        "    ]"
      ],
      "execution_count": 32,
      "outputs": []
    },
    {
      "cell_type": "code",
      "metadata": {
        "id": "vvk93kQ-bXvv"
      },
      "source": [
        "CV = 5\n",
        "cv_df = pd.DataFrame(index=range(CV * len(models)))\n",
        "entries = []\n",
        "for model in models:\n",
        "  model_name = model.__class__.__name__\n",
        "  accuracies = cross_val_score(model, x_train, y_train, scoring='accuracy', cv=CV)\n",
        "  for fold_idx, accuracy in enumerate(accuracies):\n",
        "    entries.append((model_name, fold_idx, accuracy))\n",
        "cv_df = pd.DataFrame(entries, columns=['model_name', 'fold_idx', 'accuracy'])"
      ],
      "execution_count": 33,
      "outputs": []
    },
    {
      "cell_type": "code",
      "metadata": {
        "colab": {
          "base_uri": "https://localhost:8080/",
          "height": 280
        },
        "id": "i2nXD3i2bXsp",
        "outputId": "41e1ef06-8eae-4152-b282-72ea5ac0551a"
      },
      "source": [
        "# Gráfico comparativo de la precisión estimada de los modelos\n",
        "import seaborn as sns\n",
        "sns.boxplot(x='model_name', y='accuracy', data=cv_df)\n",
        "sns.stripplot(x='model_name', y='accuracy', data=cv_df, \n",
        "              size=8, jitter=True, edgecolor=\"gray\", linewidth=2)\n",
        "plt.show()"
      ],
      "execution_count": 34,
      "outputs": [
        {
          "output_type": "display_data",
          "data": {
            "image/png": "[encoded data removed]",
            "text/plain": [
              "<Figure size 432x288 with 1 Axes>"
            ]
          },
          "metadata": {
            "tags": [],
            "needs_background": "light"
          }
        }
      ]
    },
    {
      "cell_type": "markdown",
      "metadata": {
        "id": "8UDHmPa32Ubr"
      },
      "source": [
        "#### Modelo Random Forest"
      ]
    },
    {
      "cell_type": "code",
      "metadata": {
        "colab": {
          "base_uri": "https://localhost:8080/",
          "height": 441
        },
        "id": "XqxGhMQlbXpp",
        "outputId": "5249a5ec-800e-4fd0-d9e2-84c7e44a9aeb"
      },
      "source": [
        "# Modelo RandomForest\n",
        "from sklearn.metrics import confusion_matrix\n",
        "\n",
        "modelRF = RandomForestClassifier(n_estimators=200, max_depth=3, random_state=0)\n",
        "modelRF.fit(x_train, y_train)\n",
        "y_pred = modelRF.predict(x_test)\n",
        "\n",
        "conf_mat = confusion_matrix(y_test, y_pred)\n",
        "fig, ax = plt.subplots(figsize=(10,7))\n",
        "sns.heatmap(conf_mat, annot=True, fmt='d',\n",
        "            xticklabels=category_dict, yticklabels=category_dict)\n",
        "plt.ylabel('Actual')\n",
        "plt.xlabel('Predicted')\n",
        "plt.show()"
      ],
      "execution_count": 35,
      "outputs": [
        {
          "output_type": "display_data",
          "data": {
            "image/png": "[encoded data removed]",
            "text/plain": [
              "<Figure size 720x504 with 2 Axes>"
            ]
          },
          "metadata": {
            "tags": [],
            "needs_background": "light"
          }
        }
      ]
    },
    {
      "cell_type": "markdown",
      "metadata": {
        "id": "k3xsHCEg2YBq"
      },
      "source": [
        "#### Modelo logistic"
      ]
    },
    {
      "cell_type": "code",
      "metadata": {
        "colab": {
          "base_uri": "https://localhost:8080/",
          "height": 441
        },
        "id": "yvEzs_Hpduto",
        "outputId": "052a9bef-8f9f-46e4-d1e3-d90cb71cf709"
      },
      "source": [
        "# Modelo Logistic\n",
        "from sklearn.metrics import confusion_matrix\n",
        "\n",
        "modelLOG = LogisticRegression(random_state=0)\n",
        "modelLOG.fit(x_train, y_train)\n",
        "y_pred = modelLOG.predict(x_test)\n",
        "\n",
        "conf_mat = confusion_matrix(y_test, y_pred)\n",
        "fig, ax = plt.subplots(figsize=(10,7))\n",
        "sns.heatmap(conf_mat, annot=True, fmt='d',\n",
        "            xticklabels=category_dict, yticklabels=category_dict)\n",
        "plt.ylabel('Actual')\n",
        "plt.xlabel('Predicted')\n",
        "plt.show()"
      ],
      "execution_count": 36,
      "outputs": [
        {
          "output_type": "display_data",
          "data": {
            "image/png": "[encoded data removed]",
            "text/plain": [
              "<Figure size 720x504 with 2 Axes>"
            ]
          },
          "metadata": {
            "tags": [],
            "needs_background": "light"
          }
        }
      ]
    },
    {
      "cell_type": "markdown",
      "metadata": {
        "id": "yvbrx6St2a1h"
      },
      "source": [
        "#### Modelo vector de soporte lineal"
      ]
    },
    {
      "cell_type": "code",
      "metadata": {
        "colab": {
          "base_uri": "https://localhost:8080/",
          "height": 441
        },
        "id": "cekRRPGqdumR",
        "outputId": "d4637bba-6653-4df3-8786-f9452cb1d8f5"
      },
      "source": [
        "# Modelo Vector Soporte Lineal\n",
        "from sklearn.metrics import confusion_matrix\n",
        "\n",
        "modelSVC = LinearSVC()\n",
        "modelSVC.fit(x_train, y_train)\n",
        "y_pred = modelSVC.predict(x_test)\n",
        "\n",
        "conf_mat = confusion_matrix(y_test, y_pred)\n",
        "fig, ax = plt.subplots(figsize=(10,7))\n",
        "sns.heatmap(conf_mat, annot=True, fmt='d',\n",
        "            xticklabels=category_dict, yticklabels=category_dict)\n",
        "plt.ylabel('Actual')\n",
        "plt.xlabel('Predicted')\n",
        "plt.show()"
      ],
      "execution_count": 37,
      "outputs": [
        {
          "output_type": "display_data",
          "data": {
            "image/png": "[encoded data removed]",
            "text/plain": [
              "<Figure size 720x504 with 2 Axes>"
            ]
          },
          "metadata": {
            "tags": [],
            "needs_background": "light"
          }
        }
      ]
    },
    {
      "cell_type": "markdown",
      "metadata": {
        "id": "pqFei9E42ejX"
      },
      "source": [
        "#### Modelo Naïve Bayes"
      ]
    },
    {
      "cell_type": "code",
      "metadata": {
        "colab": {
          "base_uri": "https://localhost:8080/",
          "height": 441
        },
        "id": "QTmpFRv9duiu",
        "outputId": "63ce5382-eb0d-4833-f33d-2721e571c2c2"
      },
      "source": [
        "# Modelo Multinomial Naive Bayes\n",
        "from sklearn.metrics import confusion_matrix\n",
        "\n",
        "modelNB = MultinomialNB()\n",
        "modelNB.fit(x_train, y_train)\n",
        "y_pred = modelNB.predict(x_test)\n",
        "\n",
        "conf_mat = confusion_matrix(y_test, y_pred)\n",
        "fig, ax = plt.subplots(figsize=(10,7))\n",
        "sns.heatmap(conf_mat, annot=True, fmt='d',\n",
        "            xticklabels=category_dict, yticklabels=category_dict)\n",
        "plt.ylabel('Actual')\n",
        "plt.xlabel('Predicted')\n",
        "plt.show()"
      ],
      "execution_count": 38,
      "outputs": [
        {
          "output_type": "display_data",
          "data": {
            "image/png": "[encoded data removed]",
            "text/plain": [
              "<Figure size 720x504 with 2 Axes>"
            ]
          },
          "metadata": {
            "tags": [],
            "needs_background": "light"
          }
        }
      ]
    },
    {
      "cell_type": "markdown",
      "metadata": {
        "id": "D8LNbfpQef_a"
      },
      "source": [
        "#### Prueba de modelos de aprendizaje automático"
      ]
    },
    {
      "cell_type": "code",
      "metadata": {
        "colab": {
          "base_uri": "https://localhost:8080/",
          "height": 914
        },
        "id": "GpQLduLC8DxM",
        "outputId": "38bfac65-f5e0-4d05-d7e5-134e3b927ba1"
      },
      "source": [
        "datos_reserva[datos_reserva[\"label\"]==True].head(29)"
      ],
      "execution_count": 39,
      "outputs": [
        {
          "output_type": "execute_result",
          "data": {
            "text/html": [
              "<div>\n",
              "<style scoped>\n",
              "    .dataframe tbody tr th:only-of-type {\n",
              "        vertical-align: middle;\n",
              "    }\n",
              "\n",
              "    .dataframe tbody tr th {\n",
              "        vertical-align: top;\n",
              "    }\n",
              "\n",
              "    .dataframe thead th {\n",
              "        text-align: right;\n",
              "    }\n",
              "</style>\n",
              "<table border=\"1\" class=\"dataframe\">\n",
              "  <thead>\n",
              "    <tr style=\"text-align: right;\">\n",
              "      <th></th>\n",
              "      <th>Text</th>\n",
              "      <th>country</th>\n",
              "      <th>lang</th>\n",
              "      <th>label</th>\n",
              "      <th>URL</th>\n",
              "      <th>date</th>\n",
              "      <th>verificado_por</th>\n",
              "    </tr>\n",
              "  </thead>\n",
              "  <tbody>\n",
              "    <tr>\n",
              "      <th>1</th>\n",
              "      <td>The reproduction rate for the coronavirus in G...</td>\n",
              "      <td>United States</td>\n",
              "      <td>English</td>\n",
              "      <td>True</td>\n",
              "      <td>https://reuters.com</td>\n",
              "      <td>NaN</td>\n",
              "      <td>Reuters</td>\n",
              "    </tr>\n",
              "    <tr>\n",
              "      <th>5</th>\n",
              "      <td>The U.S. Centers for Disease Control and Preve...</td>\n",
              "      <td>United States</td>\n",
              "      <td>English</td>\n",
              "      <td>True</td>\n",
              "      <td>https://reuters.com</td>\n",
              "      <td>NaN</td>\n",
              "      <td>Reuters</td>\n",
              "    </tr>\n",
              "    <tr>\n",
              "      <th>6</th>\n",
              "      <td>Brazil's health regulator Anvisa on Tuesday au...</td>\n",
              "      <td>United States</td>\n",
              "      <td>English</td>\n",
              "      <td>True</td>\n",
              "      <td>https://reuters.com</td>\n",
              "      <td>NaN</td>\n",
              "      <td>Reuters</td>\n",
              "    </tr>\n",
              "    <tr>\n",
              "      <th>13</th>\n",
              "      <td>Southwest Airlines  said on Wednesday it was e...</td>\n",
              "      <td>United States</td>\n",
              "      <td>English</td>\n",
              "      <td>True</td>\n",
              "      <td>https://reuters.com</td>\n",
              "      <td>NaN</td>\n",
              "      <td>Reuters</td>\n",
              "    </tr>\n",
              "    <tr>\n",
              "      <th>16</th>\n",
              "      <td>The United Kingdom's chief medical officers ha...</td>\n",
              "      <td>United States</td>\n",
              "      <td>English</td>\n",
              "      <td>True</td>\n",
              "      <td>https://reuters.com</td>\n",
              "      <td>NaN</td>\n",
              "      <td>Reuters</td>\n",
              "    </tr>\n",
              "    <tr>\n",
              "      <th>19</th>\n",
              "      <td>One January lunchtime in a car parts company, ...</td>\n",
              "      <td>United States</td>\n",
              "      <td>English</td>\n",
              "      <td>True</td>\n",
              "      <td>https://reuters.com</td>\n",
              "      <td>NaN</td>\n",
              "      <td>Reuters</td>\n",
              "    </tr>\n",
              "    <tr>\n",
              "      <th>20</th>\n",
              "      <td>China Virus Toll Rises to Nine As Pandemic Fea...</td>\n",
              "      <td>China</td>\n",
              "      <td>English</td>\n",
              "      <td>True</td>\n",
              "      <td>https://www.afghanistannews.net/news/263789036...</td>\n",
              "      <td>2020-03-02 00:00:00</td>\n",
              "      <td>afghanistannews.net</td>\n",
              "    </tr>\n",
              "    <tr>\n",
              "      <th>23</th>\n",
              "      <td>French healthcare workers protested against ex...</td>\n",
              "      <td>United States</td>\n",
              "      <td>English</td>\n",
              "      <td>True</td>\n",
              "      <td>https://reuters.com</td>\n",
              "      <td>NaN</td>\n",
              "      <td>Reuters</td>\n",
              "    </tr>\n",
              "    <tr>\n",
              "      <th>24</th>\n",
              "      <td>Several large drugmakers including Merck &amp; Co ...</td>\n",
              "      <td>United States</td>\n",
              "      <td>English</td>\n",
              "      <td>True</td>\n",
              "      <td>https://reuters.com</td>\n",
              "      <td>NaN</td>\n",
              "      <td>Reuters</td>\n",
              "    </tr>\n",
              "    <tr>\n",
              "      <th>26</th>\n",
              "      <td>Singapore's Tychan, a biotechnology firm backe...</td>\n",
              "      <td>United States</td>\n",
              "      <td>English</td>\n",
              "      <td>True</td>\n",
              "      <td>https://reuters.com</td>\n",
              "      <td>NaN</td>\n",
              "      <td>Reuters</td>\n",
              "    </tr>\n",
              "    <tr>\n",
              "      <th>27</th>\n",
              "      <td>Georgia declared a state of emergency on Satur...</td>\n",
              "      <td>United States</td>\n",
              "      <td>English</td>\n",
              "      <td>True</td>\n",
              "      <td>https://reuters.com</td>\n",
              "      <td>NaN</td>\n",
              "      <td>Reuters</td>\n",
              "    </tr>\n",
              "    <tr>\n",
              "      <th>32</th>\n",
              "      <td>400,000 dead: nightmare virus scenarioHow coro...</td>\n",
              "      <td>China</td>\n",
              "      <td>English</td>\n",
              "      <td>True</td>\n",
              "      <td>https://www.adelaidenow.com.au/lifestyle/healt...</td>\n",
              "      <td>2020-10-03 00:00:00</td>\n",
              "      <td>adelaidenow.au</td>\n",
              "    </tr>\n",
              "    <tr>\n",
              "      <th>34</th>\n",
              "      <td>Dow Jones drops 969 points as investors flee m...</td>\n",
              "      <td>United States</td>\n",
              "      <td>English</td>\n",
              "      <td>True</td>\n",
              "      <td>https://www.afghanistannews.net/news/264225195...</td>\n",
              "      <td>2020-02-03 00:00:00</td>\n",
              "      <td>afghanistannews.net</td>\n",
              "    </tr>\n",
              "    <tr>\n",
              "      <th>35</th>\n",
              "      <td>On the day he nearly lost his job for supporti...</td>\n",
              "      <td>United States</td>\n",
              "      <td>English</td>\n",
              "      <td>True</td>\n",
              "      <td>https://reuters.com</td>\n",
              "      <td>NaN</td>\n",
              "      <td>Reuters</td>\n",
              "    </tr>\n",
              "    <tr>\n",
              "      <th>36</th>\n",
              "      <td>The problem of increasing COVID-19 cases in En...</td>\n",
              "      <td>United States</td>\n",
              "      <td>English</td>\n",
              "      <td>True</td>\n",
              "      <td>https://reuters.com</td>\n",
              "      <td>NaN</td>\n",
              "      <td>Reuters</td>\n",
              "    </tr>\n",
              "    <tr>\n",
              "      <th>37</th>\n",
              "      <td>The city of Jena in eastern Germany has decide...</td>\n",
              "      <td>United States</td>\n",
              "      <td>English</td>\n",
              "      <td>True</td>\n",
              "      <td>https://reuters.com</td>\n",
              "      <td>NaN</td>\n",
              "      <td>Reuters</td>\n",
              "    </tr>\n",
              "    <tr>\n",
              "      <th>38</th>\n",
              "      <td>England's test and trace scheme needs improvem...</td>\n",
              "      <td>United States</td>\n",
              "      <td>English</td>\n",
              "      <td>True</td>\n",
              "      <td>https://reuters.com</td>\n",
              "      <td>NaN</td>\n",
              "      <td>Reuters</td>\n",
              "    </tr>\n",
              "    <tr>\n",
              "      <th>40</th>\n",
              "      <td>Chinese health authorities began on Wednesday ...</td>\n",
              "      <td>United States</td>\n",
              "      <td>English</td>\n",
              "      <td>True</td>\n",
              "      <td>https://reuters.com</td>\n",
              "      <td>NaN</td>\n",
              "      <td>Reuters</td>\n",
              "    </tr>\n",
              "    <tr>\n",
              "      <th>43</th>\n",
              "      <td>Italian Prime Minister Giuseppe Conte said tig...</td>\n",
              "      <td>United States</td>\n",
              "      <td>English</td>\n",
              "      <td>True</td>\n",
              "      <td>https://reuters.com</td>\n",
              "      <td>NaN</td>\n",
              "      <td>Reuters</td>\n",
              "    </tr>\n",
              "    <tr>\n",
              "      <th>47</th>\n",
              "      <td>Was March 2020 the First March Since 2002 With...</td>\n",
              "      <td>United States</td>\n",
              "      <td>English</td>\n",
              "      <td>True</td>\n",
              "      <td>https://www.snopes.com/fact-check/march-2020-s...</td>\n",
              "      <td>2020-03-04 00:00:00</td>\n",
              "      <td>snopes</td>\n",
              "    </tr>\n",
              "    <tr>\n",
              "      <th>49</th>\n",
              "      <td>British Prime Minister Boris Johnson said on W...</td>\n",
              "      <td>United States</td>\n",
              "      <td>English</td>\n",
              "      <td>True</td>\n",
              "      <td>https://reuters.com</td>\n",
              "      <td>NaN</td>\n",
              "      <td>Reuters</td>\n",
              "    </tr>\n",
              "    <tr>\n",
              "      <th>51</th>\n",
              "      <td>Italy will likely extend a state of emergency ...</td>\n",
              "      <td>United States</td>\n",
              "      <td>English</td>\n",
              "      <td>True</td>\n",
              "      <td>https://reuters.com</td>\n",
              "      <td>NaN</td>\n",
              "      <td>Reuters</td>\n",
              "    </tr>\n",
              "    <tr>\n",
              "      <th>52</th>\n",
              "      <td>Grace Dowell, a 63-year-old grandmother, has s...</td>\n",
              "      <td>United States</td>\n",
              "      <td>English</td>\n",
              "      <td>True</td>\n",
              "      <td>https://reuters.com</td>\n",
              "      <td>NaN</td>\n",
              "      <td>Reuters</td>\n",
              "    </tr>\n",
              "    <tr>\n",
              "      <th>53</th>\n",
              "      <td>President Donald Trump said on Friday the U.S....</td>\n",
              "      <td>United States</td>\n",
              "      <td>English</td>\n",
              "      <td>True</td>\n",
              "      <td>https://reuters.com</td>\n",
              "      <td>NaN</td>\n",
              "      <td>Reuters</td>\n",
              "    </tr>\n",
              "    <tr>\n",
              "      <th>55</th>\n",
              "      <td>Initial tests in mice of a potential COVID-19 ...</td>\n",
              "      <td>United States</td>\n",
              "      <td>English</td>\n",
              "      <td>True</td>\n",
              "      <td>https://reuters.com</td>\n",
              "      <td>NaN</td>\n",
              "      <td>Reuters</td>\n",
              "    </tr>\n",
              "    <tr>\n",
              "      <th>57</th>\n",
              "      <td>India reported a record daily increase of nove...</td>\n",
              "      <td>United States</td>\n",
              "      <td>English</td>\n",
              "      <td>True</td>\n",
              "      <td>https://reuters.com</td>\n",
              "      <td>NaN</td>\n",
              "      <td>Reuters</td>\n",
              "    </tr>\n",
              "    <tr>\n",
              "      <th>58</th>\n",
              "      <td>Shares of Norway's BerGenBio more than doubled...</td>\n",
              "      <td>United States</td>\n",
              "      <td>English</td>\n",
              "      <td>True</td>\n",
              "      <td>https://reuters.com</td>\n",
              "      <td>NaN</td>\n",
              "      <td>Reuters</td>\n",
              "    </tr>\n",
              "    <tr>\n",
              "      <th>61</th>\n",
              "      <td>The city of Moscow's health department said on...</td>\n",
              "      <td>United States</td>\n",
              "      <td>English</td>\n",
              "      <td>True</td>\n",
              "      <td>https://reuters.com</td>\n",
              "      <td>NaN</td>\n",
              "      <td>Reuters</td>\n",
              "    </tr>\n",
              "    <tr>\n",
              "      <th>62</th>\n",
              "      <td>Britain’s Death Toll from the Coronavirus Riva...</td>\n",
              "      <td>United Kingdom</td>\n",
              "      <td>English</td>\n",
              "      <td>True</td>\n",
              "      <td>https://www.snopes.com/ap/2020/05/05/britains-...</td>\n",
              "      <td>2020-02-02 00:00:00</td>\n",
              "      <td>snopes</td>\n",
              "    </tr>\n",
              "  </tbody>\n",
              "</table>\n",
              "</div>"
            ],
            "text/plain": [
              "                                                 Text  ...       verificado_por\n",
              "1   The reproduction rate for the coronavirus in G...  ...              Reuters\n",
              "5   The U.S. Centers for Disease Control and Preve...  ...              Reuters\n",
              "6   Brazil's health regulator Anvisa on Tuesday au...  ...              Reuters\n",
              "13  Southwest Airlines  said on Wednesday it was e...  ...              Reuters\n",
              "16  The United Kingdom's chief medical officers ha...  ...              Reuters\n",
              "19  One January lunchtime in a car parts company, ...  ...              Reuters\n",
              "20  China Virus Toll Rises to Nine As Pandemic Fea...  ...  afghanistannews.net\n",
              "23  French healthcare workers protested against ex...  ...              Reuters\n",
              "24  Several large drugmakers including Merck & Co ...  ...              Reuters\n",
              "26  Singapore's Tychan, a biotechnology firm backe...  ...              Reuters\n",
              "27  Georgia declared a state of emergency on Satur...  ...              Reuters\n",
              "32  400,000 dead: nightmare virus scenarioHow coro...  ...       adelaidenow.au\n",
              "34  Dow Jones drops 969 points as investors flee m...  ...  afghanistannews.net\n",
              "35  On the day he nearly lost his job for supporti...  ...              Reuters\n",
              "36  The problem of increasing COVID-19 cases in En...  ...              Reuters\n",
              "37  The city of Jena in eastern Germany has decide...  ...              Reuters\n",
              "38  England's test and trace scheme needs improvem...  ...              Reuters\n",
              "40  Chinese health authorities began on Wednesday ...  ...              Reuters\n",
              "43  Italian Prime Minister Giuseppe Conte said tig...  ...              Reuters\n",
              "47  Was March 2020 the First March Since 2002 With...  ...               snopes\n",
              "49  British Prime Minister Boris Johnson said on W...  ...              Reuters\n",
              "51  Italy will likely extend a state of emergency ...  ...              Reuters\n",
              "52  Grace Dowell, a 63-year-old grandmother, has s...  ...              Reuters\n",
              "53  President Donald Trump said on Friday the U.S....  ...              Reuters\n",
              "55  Initial tests in mice of a potential COVID-19 ...  ...              Reuters\n",
              "57  India reported a record daily increase of nove...  ...              Reuters\n",
              "58  Shares of Norway's BerGenBio more than doubled...  ...              Reuters\n",
              "61  The city of Moscow's health department said on...  ...              Reuters\n",
              "62  Britain’s Death Toll from the Coronavirus Riva...  ...               snopes\n",
              "\n",
              "[29 rows x 7 columns]"
            ]
          },
          "metadata": {
            "tags": []
          },
          "execution_count": 39
        }
      ]
    },
    {
      "cell_type": "code",
      "metadata": {
        "colab": {
          "base_uri": "https://localhost:8080/",
          "height": 914
        },
        "id": "A62AVGXnze38",
        "outputId": "966fb469-e7d0-49e1-de65-4b225dc3cfa8"
      },
      "source": [
        "datos_reserva.head(29)"
      ],
      "execution_count": 40,
      "outputs": [
        {
          "output_type": "execute_result",
          "data": {
            "text/html": [
              "<div>\n",
              "<style scoped>\n",
              "    .dataframe tbody tr th:only-of-type {\n",
              "        vertical-align: middle;\n",
              "    }\n",
              "\n",
              "    .dataframe tbody tr th {\n",
              "        vertical-align: top;\n",
              "    }\n",
              "\n",
              "    .dataframe thead th {\n",
              "        text-align: right;\n",
              "    }\n",
              "</style>\n",
              "<table border=\"1\" class=\"dataframe\">\n",
              "  <thead>\n",
              "    <tr style=\"text-align: right;\">\n",
              "      <th></th>\n",
              "      <th>Text</th>\n",
              "      <th>country</th>\n",
              "      <th>lang</th>\n",
              "      <th>label</th>\n",
              "      <th>URL</th>\n",
              "      <th>date</th>\n",
              "      <th>verificado_por</th>\n",
              "    </tr>\n",
              "  </thead>\n",
              "  <tbody>\n",
              "    <tr>\n",
              "      <th>0</th>\n",
              "      <td>Existence of a vaccination summit may be a si...</td>\n",
              "      <td>Georgia</td>\n",
              "      <td>English</td>\n",
              "      <td>False</td>\n",
              "      <td>http://mythdetector.ge/en/myth/are-vaccines-te...</td>\n",
              "      <td>2020/06/11</td>\n",
              "      <td>Myth Detector</td>\n",
              "    </tr>\n",
              "    <tr>\n",
              "      <th>1</th>\n",
              "      <td>The reproduction rate for the coronavirus in G...</td>\n",
              "      <td>United States</td>\n",
              "      <td>English</td>\n",
              "      <td>True</td>\n",
              "      <td>https://reuters.com</td>\n",
              "      <td>NaN</td>\n",
              "      <td>Reuters</td>\n",
              "    </tr>\n",
              "    <tr>\n",
              "      <th>2</th>\n",
              "      <td>3,500 Italians potentially infected with the n...</td>\n",
              "      <td>Brazil</td>\n",
              "      <td>English</td>\n",
              "      <td>False</td>\n",
              "      <td>https://aosfatos.org/noticias/e-falso-que-3500...</td>\n",
              "      <td>2020-02-29 00:00:00</td>\n",
              "      <td>Aos Fatos</td>\n",
              "    </tr>\n",
              "    <tr>\n",
              "      <th>3</th>\n",
              "      <td>The Indian Army has been called to control sev...</td>\n",
              "      <td>India</td>\n",
              "      <td>English</td>\n",
              "      <td>False</td>\n",
              "      <td>https://www.boomlive.in/fake-news/false-army-c...</td>\n",
              "      <td>2020-04-03 00:00:00</td>\n",
              "      <td>BOOM FactCheck</td>\n",
              "    </tr>\n",
              "    <tr>\n",
              "      <th>4</th>\n",
              "      <td>Says Queen Elizabeth said Philippine President...</td>\n",
              "      <td>United States</td>\n",
              "      <td>English</td>\n",
              "      <td>False</td>\n",
              "      <td>https://www.politifact.com/factchecks/2020/apr...</td>\n",
              "      <td>2020-04-06 00:00:00</td>\n",
              "      <td>PolitiFact</td>\n",
              "    </tr>\n",
              "    <tr>\n",
              "      <th>5</th>\n",
              "      <td>The U.S. Centers for Disease Control and Preve...</td>\n",
              "      <td>United States</td>\n",
              "      <td>English</td>\n",
              "      <td>True</td>\n",
              "      <td>https://reuters.com</td>\n",
              "      <td>NaN</td>\n",
              "      <td>Reuters</td>\n",
              "    </tr>\n",
              "    <tr>\n",
              "      <th>6</th>\n",
              "      <td>Brazil's health regulator Anvisa on Tuesday au...</td>\n",
              "      <td>United States</td>\n",
              "      <td>English</td>\n",
              "      <td>True</td>\n",
              "      <td>https://reuters.com</td>\n",
              "      <td>NaN</td>\n",
              "      <td>Reuters</td>\n",
              "    </tr>\n",
              "    <tr>\n",
              "      <th>7</th>\n",
              "      <td>Ugandan President Kaguta Museveni and Prime M...</td>\n",
              "      <td>Uganda</td>\n",
              "      <td>English</td>\n",
              "      <td>False</td>\n",
              "      <td>https://pesacheck.org/false-ugandan-president-...</td>\n",
              "      <td>2020/06/09</td>\n",
              "      <td>PesaCheck</td>\n",
              "    </tr>\n",
              "    <tr>\n",
              "      <th>8</th>\n",
              "      <td>A video has been viewed thousands of times on...</td>\n",
              "      <td>Malaysia</td>\n",
              "      <td>English</td>\n",
              "      <td>False</td>\n",
              "      <td>https://factcheck.afp.com/video-shows-safety-d...</td>\n",
              "      <td>2020/04/09</td>\n",
              "      <td>AFP</td>\n",
              "    </tr>\n",
              "    <tr>\n",
              "      <th>9</th>\n",
              "      <td>“Bill Gates Explains That The COVID Vaccine W...</td>\n",
              "      <td>United States</td>\n",
              "      <td>English</td>\n",
              "      <td>False</td>\n",
              "      <td>https://www.politifact.com/factchecks/2020/may...</td>\n",
              "      <td>2020/05/20</td>\n",
              "      <td>PolitiFact</td>\n",
              "    </tr>\n",
              "    <tr>\n",
              "      <th>10</th>\n",
              "      <td>The head of Coordinated Emergences, Fernando ...</td>\n",
              "      <td>Spain</td>\n",
              "      <td>English</td>\n",
              "      <td>False</td>\n",
              "      <td>https://maldita.es/malditobulo/2020/03/10/fern...</td>\n",
              "      <td>2020-02-25 00:00:00</td>\n",
              "      <td>maldita.es</td>\n",
              "    </tr>\n",
              "    <tr>\n",
              "      <th>11</th>\n",
              "      <td>Tokyo Olympics logo has been redesigned on th...</td>\n",
              "      <td>India</td>\n",
              "      <td>English</td>\n",
              "      <td>False</td>\n",
              "      <td>https://www.indiatoday.in/fact-check/story/no-...</td>\n",
              "      <td>2020/03/24</td>\n",
              "      <td>India Today</td>\n",
              "    </tr>\n",
              "    <tr>\n",
              "      <th>12</th>\n",
              "      <td>A graphic has been shared thousands of times ...</td>\n",
              "      <td>Australia</td>\n",
              "      <td>English</td>\n",
              "      <td>False</td>\n",
              "      <td>https://factcheck.afp.com/gargling-warm-salt-w...</td>\n",
              "      <td>2020/03/14</td>\n",
              "      <td>AFP</td>\n",
              "    </tr>\n",
              "    <tr>\n",
              "      <th>13</th>\n",
              "      <td>Southwest Airlines  said on Wednesday it was e...</td>\n",
              "      <td>United States</td>\n",
              "      <td>English</td>\n",
              "      <td>True</td>\n",
              "      <td>https://reuters.com</td>\n",
              "      <td>NaN</td>\n",
              "      <td>Reuters</td>\n",
              "    </tr>\n",
              "    <tr>\n",
              "      <th>14</th>\n",
              "      <td>The Indian Army has been called to control se...</td>\n",
              "      <td>India</td>\n",
              "      <td>English</td>\n",
              "      <td>False</td>\n",
              "      <td>https://www.boomlive.in/fake-news/false-army-c...</td>\n",
              "      <td>2020/03/29</td>\n",
              "      <td>BOOM FactCheck</td>\n",
              "    </tr>\n",
              "    <tr>\n",
              "      <th>15</th>\n",
              "      <td>Having a beard increases your chances of gett...</td>\n",
              "      <td>United States</td>\n",
              "      <td>English</td>\n",
              "      <td>False</td>\n",
              "      <td>https://youtu.be/2CBGeQmJuow</td>\n",
              "      <td>2020/03/17</td>\n",
              "      <td>MediaWise</td>\n",
              "    </tr>\n",
              "    <tr>\n",
              "      <th>16</th>\n",
              "      <td>The United Kingdom's chief medical officers ha...</td>\n",
              "      <td>United States</td>\n",
              "      <td>English</td>\n",
              "      <td>True</td>\n",
              "      <td>https://reuters.com</td>\n",
              "      <td>NaN</td>\n",
              "      <td>Reuters</td>\n",
              "    </tr>\n",
              "    <tr>\n",
              "      <th>17</th>\n",
              "      <td>Kenyan President Uhuru gives artists Sh 2 bill...</td>\n",
              "      <td>Kenya</td>\n",
              "      <td>English</td>\n",
              "      <td>False</td>\n",
              "      <td>https://pesacheck.org/false-kenyan-artists-wil...</td>\n",
              "      <td>2020-04-09 00:00:00</td>\n",
              "      <td>PesaCheck</td>\n",
              "    </tr>\n",
              "    <tr>\n",
              "      <th>18</th>\n",
              "      <td>A video purportedly showing COVID-19 victims i...</td>\n",
              "      <td>United States</td>\n",
              "      <td>English</td>\n",
              "      <td>False</td>\n",
              "      <td>https://factcheck.afp.com/covid-19-corpses-vid...</td>\n",
              "      <td>2020-04-01 00:00:00</td>\n",
              "      <td>AFP</td>\n",
              "    </tr>\n",
              "    <tr>\n",
              "      <th>19</th>\n",
              "      <td>One January lunchtime in a car parts company, ...</td>\n",
              "      <td>United States</td>\n",
              "      <td>English</td>\n",
              "      <td>True</td>\n",
              "      <td>https://reuters.com</td>\n",
              "      <td>NaN</td>\n",
              "      <td>Reuters</td>\n",
              "    </tr>\n",
              "    <tr>\n",
              "      <th>20</th>\n",
              "      <td>China Virus Toll Rises to Nine As Pandemic Fea...</td>\n",
              "      <td>China</td>\n",
              "      <td>English</td>\n",
              "      <td>True</td>\n",
              "      <td>https://www.afghanistannews.net/news/263789036...</td>\n",
              "      <td>2020-03-02 00:00:00</td>\n",
              "      <td>afghanistannews.net</td>\n",
              "    </tr>\n",
              "    <tr>\n",
              "      <th>21</th>\n",
              "      <td>South African food production company Unileve...</td>\n",
              "      <td>South Africa</td>\n",
              "      <td>English</td>\n",
              "      <td>False</td>\n",
              "      <td>https://verificado.com.mx/hidroxicloroquina-pa...</td>\n",
              "      <td>2020-04-22 00:00:00</td>\n",
              "      <td>AfricaCheck</td>\n",
              "    </tr>\n",
              "    <tr>\n",
              "      <th>22</th>\n",
              "      <td>Infected taxi driver demands money from his g...</td>\n",
              "      <td>Nigeria</td>\n",
              "      <td>English</td>\n",
              "      <td>False</td>\n",
              "      <td>https://factcheck.afp.com/story-originated-par...</td>\n",
              "      <td>2020/02/25</td>\n",
              "      <td>AFP</td>\n",
              "    </tr>\n",
              "    <tr>\n",
              "      <th>23</th>\n",
              "      <td>French healthcare workers protested against ex...</td>\n",
              "      <td>United States</td>\n",
              "      <td>English</td>\n",
              "      <td>True</td>\n",
              "      <td>https://reuters.com</td>\n",
              "      <td>NaN</td>\n",
              "      <td>Reuters</td>\n",
              "    </tr>\n",
              "    <tr>\n",
              "      <th>24</th>\n",
              "      <td>Several large drugmakers including Merck &amp; Co ...</td>\n",
              "      <td>United States</td>\n",
              "      <td>English</td>\n",
              "      <td>True</td>\n",
              "      <td>https://reuters.com</td>\n",
              "      <td>NaN</td>\n",
              "      <td>Reuters</td>\n",
              "    </tr>\n",
              "    <tr>\n",
              "      <th>25</th>\n",
              "      <td>China “stole coronavirus from Canada and weap...</td>\n",
              "      <td>United States</td>\n",
              "      <td>English</td>\n",
              "      <td>False</td>\n",
              "      <td>https://www.politifact.com/facebook-fact-check...</td>\n",
              "      <td>2020/01/27</td>\n",
              "      <td>PolitiFact</td>\n",
              "    </tr>\n",
              "    <tr>\n",
              "      <th>26</th>\n",
              "      <td>Singapore's Tychan, a biotechnology firm backe...</td>\n",
              "      <td>United States</td>\n",
              "      <td>English</td>\n",
              "      <td>True</td>\n",
              "      <td>https://reuters.com</td>\n",
              "      <td>NaN</td>\n",
              "      <td>Reuters</td>\n",
              "    </tr>\n",
              "    <tr>\n",
              "      <th>27</th>\n",
              "      <td>Georgia declared a state of emergency on Satur...</td>\n",
              "      <td>United States</td>\n",
              "      <td>English</td>\n",
              "      <td>True</td>\n",
              "      <td>https://reuters.com</td>\n",
              "      <td>NaN</td>\n",
              "      <td>Reuters</td>\n",
              "    </tr>\n",
              "    <tr>\n",
              "      <th>28</th>\n",
              "      <td>A news publication reports the Royal Palace c...</td>\n",
              "      <td>Nigeria</td>\n",
              "      <td>English</td>\n",
              "      <td>False</td>\n",
              "      <td>https://dubawa.org/what-is-the-queen-of-englan...</td>\n",
              "      <td>2020/03/28</td>\n",
              "      <td>Dubawa</td>\n",
              "    </tr>\n",
              "  </tbody>\n",
              "</table>\n",
              "</div>"
            ],
            "text/plain": [
              "                                                 Text  ...       verificado_por\n",
              "0    Existence of a vaccination summit may be a si...  ...        Myth Detector\n",
              "1   The reproduction rate for the coronavirus in G...  ...              Reuters\n",
              "2   3,500 Italians potentially infected with the n...  ...            Aos Fatos\n",
              "3   The Indian Army has been called to control sev...  ...       BOOM FactCheck\n",
              "4   Says Queen Elizabeth said Philippine President...  ...           PolitiFact\n",
              "5   The U.S. Centers for Disease Control and Preve...  ...              Reuters\n",
              "6   Brazil's health regulator Anvisa on Tuesday au...  ...              Reuters\n",
              "7    Ugandan President Kaguta Museveni and Prime M...  ...            PesaCheck\n",
              "8    A video has been viewed thousands of times on...  ...                  AFP\n",
              "9    “Bill Gates Explains That The COVID Vaccine W...  ...           PolitiFact\n",
              "10   The head of Coordinated Emergences, Fernando ...  ...           maldita.es\n",
              "11   Tokyo Olympics logo has been redesigned on th...  ...          India Today\n",
              "12   A graphic has been shared thousands of times ...  ...                  AFP\n",
              "13  Southwest Airlines  said on Wednesday it was e...  ...              Reuters\n",
              "14   The Indian Army has been called to control se...  ...       BOOM FactCheck\n",
              "15   Having a beard increases your chances of gett...  ...            MediaWise\n",
              "16  The United Kingdom's chief medical officers ha...  ...              Reuters\n",
              "17  Kenyan President Uhuru gives artists Sh 2 bill...  ...            PesaCheck\n",
              "18  A video purportedly showing COVID-19 victims i...  ...                  AFP\n",
              "19  One January lunchtime in a car parts company, ...  ...              Reuters\n",
              "20  China Virus Toll Rises to Nine As Pandemic Fea...  ...  afghanistannews.net\n",
              "21   South African food production company Unileve...  ...          AfricaCheck\n",
              "22   Infected taxi driver demands money from his g...  ...                  AFP\n",
              "23  French healthcare workers protested against ex...  ...              Reuters\n",
              "24  Several large drugmakers including Merck & Co ...  ...              Reuters\n",
              "25   China “stole coronavirus from Canada and weap...  ...           PolitiFact\n",
              "26  Singapore's Tychan, a biotechnology firm backe...  ...              Reuters\n",
              "27  Georgia declared a state of emergency on Satur...  ...              Reuters\n",
              "28   A news publication reports the Royal Palace c...  ...               Dubawa\n",
              "\n",
              "[29 rows x 7 columns]"
            ]
          },
          "metadata": {
            "tags": []
          },
          "execution_count": 40
        }
      ]
    },
    {
      "cell_type": "code",
      "metadata": {
        "colab": {
          "base_uri": "https://localhost:8080/"
        },
        "id": "QY9zyAXjefIf",
        "outputId": "75ccc1b7-e6e3-4c34-c5e4-4f483922e377"
      },
      "source": [
        "# Prueba con textos de datos de reserva\n",
        "\n",
        "text1=datos_reserva[\"Text\"][15]\n",
        "text2=datos_reserva[\"Text\"][25]\n",
        "text3=datos_reserva[\"Text\"][57]\n",
        "\n",
        "print(\"Texto 1: \", text1)\n",
        "print(\"Categoria real: \",datos_trabajo[\"label\"][15])\n",
        "\n",
        "print(\"Texto 2: \", text2)\n",
        "print(\"Categoria real: \",datos_reserva[\"label\"][25])\n",
        "\n",
        "print(\"Texto 3: \", text3)\n",
        "print(\"Categoria real: \",datos_reserva[\"label\"][57])"
      ],
      "execution_count": 41,
      "outputs": [
        {
          "output_type": "stream",
          "text": [
            "Texto 1:   Having a beard increases your chances of getting coronavirus.\n",
            "Categoria real:  False\n",
            "Texto 2:   China “stole coronavirus from Canada and weaponized it into a Bioweapon.”\n",
            "Categoria real:  False\n",
            "Texto 3:  India reported a record daily increase of novel coronavirus cases on Friday and became the world's fourth worst-hit country, raising the prospect of the return of a lockdown just days after it was lifted.\n",
            "Categoria real:  True\n"
          ],
          "name": "stdout"
        }
      ]
    },
    {
      "cell_type": "code",
      "metadata": {
        "colab": {
          "base_uri": "https://localhost:8080/",
          "height": 227
        },
        "id": "iVw_Ea2a9dT-",
        "outputId": "0544bf01-ee06-4432-cd99-3f598a180efe"
      },
      "source": [
        "datos_reserva.head(6)"
      ],
      "execution_count": 42,
      "outputs": [
        {
          "output_type": "execute_result",
          "data": {
            "text/html": [
              "<div>\n",
              "<style scoped>\n",
              "    .dataframe tbody tr th:only-of-type {\n",
              "        vertical-align: middle;\n",
              "    }\n",
              "\n",
              "    .dataframe tbody tr th {\n",
              "        vertical-align: top;\n",
              "    }\n",
              "\n",
              "    .dataframe thead th {\n",
              "        text-align: right;\n",
              "    }\n",
              "</style>\n",
              "<table border=\"1\" class=\"dataframe\">\n",
              "  <thead>\n",
              "    <tr style=\"text-align: right;\">\n",
              "      <th></th>\n",
              "      <th>Text</th>\n",
              "      <th>country</th>\n",
              "      <th>lang</th>\n",
              "      <th>label</th>\n",
              "      <th>URL</th>\n",
              "      <th>date</th>\n",
              "      <th>verificado_por</th>\n",
              "    </tr>\n",
              "  </thead>\n",
              "  <tbody>\n",
              "    <tr>\n",
              "      <th>0</th>\n",
              "      <td>Existence of a vaccination summit may be a si...</td>\n",
              "      <td>Georgia</td>\n",
              "      <td>English</td>\n",
              "      <td>False</td>\n",
              "      <td>http://mythdetector.ge/en/myth/are-vaccines-te...</td>\n",
              "      <td>2020/06/11</td>\n",
              "      <td>Myth Detector</td>\n",
              "    </tr>\n",
              "    <tr>\n",
              "      <th>1</th>\n",
              "      <td>The reproduction rate for the coronavirus in G...</td>\n",
              "      <td>United States</td>\n",
              "      <td>English</td>\n",
              "      <td>True</td>\n",
              "      <td>https://reuters.com</td>\n",
              "      <td>NaN</td>\n",
              "      <td>Reuters</td>\n",
              "    </tr>\n",
              "    <tr>\n",
              "      <th>2</th>\n",
              "      <td>3,500 Italians potentially infected with the n...</td>\n",
              "      <td>Brazil</td>\n",
              "      <td>English</td>\n",
              "      <td>False</td>\n",
              "      <td>https://aosfatos.org/noticias/e-falso-que-3500...</td>\n",
              "      <td>2020-02-29 00:00:00</td>\n",
              "      <td>Aos Fatos</td>\n",
              "    </tr>\n",
              "    <tr>\n",
              "      <th>3</th>\n",
              "      <td>The Indian Army has been called to control sev...</td>\n",
              "      <td>India</td>\n",
              "      <td>English</td>\n",
              "      <td>False</td>\n",
              "      <td>https://www.boomlive.in/fake-news/false-army-c...</td>\n",
              "      <td>2020-04-03 00:00:00</td>\n",
              "      <td>BOOM FactCheck</td>\n",
              "    </tr>\n",
              "    <tr>\n",
              "      <th>4</th>\n",
              "      <td>Says Queen Elizabeth said Philippine President...</td>\n",
              "      <td>United States</td>\n",
              "      <td>English</td>\n",
              "      <td>False</td>\n",
              "      <td>https://www.politifact.com/factchecks/2020/apr...</td>\n",
              "      <td>2020-04-06 00:00:00</td>\n",
              "      <td>PolitiFact</td>\n",
              "    </tr>\n",
              "    <tr>\n",
              "      <th>5</th>\n",
              "      <td>The U.S. Centers for Disease Control and Preve...</td>\n",
              "      <td>United States</td>\n",
              "      <td>English</td>\n",
              "      <td>True</td>\n",
              "      <td>https://reuters.com</td>\n",
              "      <td>NaN</td>\n",
              "      <td>Reuters</td>\n",
              "    </tr>\n",
              "  </tbody>\n",
              "</table>\n",
              "</div>"
            ],
            "text/plain": [
              "                                                Text  ...  verificado_por\n",
              "0   Existence of a vaccination summit may be a si...  ...   Myth Detector\n",
              "1  The reproduction rate for the coronavirus in G...  ...         Reuters\n",
              "2  3,500 Italians potentially infected with the n...  ...       Aos Fatos\n",
              "3  The Indian Army has been called to control sev...  ...  BOOM FactCheck\n",
              "4  Says Queen Elizabeth said Philippine President...  ...      PolitiFact\n",
              "5  The U.S. Centers for Disease Control and Preve...  ...         Reuters\n",
              "\n",
              "[6 rows x 7 columns]"
            ]
          },
          "metadata": {
            "tags": []
          },
          "execution_count": 42
        }
      ]
    },
    {
      "cell_type": "code",
      "metadata": {
        "id": "QWrl1avDefFm"
      },
      "source": [
        "# Función para prueba\n",
        "\n",
        "def news_alert(a, modelo_probar):\n",
        "    clf=modelo_probar\n",
        "    # Tokenizacion\n",
        "    corpus_1=[]\n",
        "    corpus_1.append(a)\n",
        "    corpus_2=pd.Series(corpus_1)\n",
        "    sequences_reserva = tokenizer.texts_to_sequences(corpus_2.values)\n",
        "    transform_vect_reserva= pad_sequences(sequences_reserva, maxlen=max_len)\n",
        "    #print(transform_vect_reserva)\n",
        "    \n",
        "    prediccion=clf.predict(transform_vect_reserva)\n",
        "    prediccion_a = [np.array(prediccion)]\n",
        "    print(prediccion)    \n",
        "\n",
        "    if prediccion == 1:\n",
        "       print(\"Alerta\")\n",
        "    else:\n",
        "      print(\"No alerta\")"
      ],
      "execution_count": 43,
      "outputs": []
    },
    {
      "cell_type": "code",
      "metadata": {
        "colab": {
          "base_uri": "https://localhost:8080/"
        },
        "id": "K9CtMgKSsRwI",
        "outputId": "49f5c8ac-213c-4df2-83ae-9d8eef4aee6f"
      },
      "source": [
        "clasificar_texto=text2\n",
        "print(clasificar_texto)\n",
        "\n",
        "print(\"Modelo RF\")\n",
        "print(news_alert(clasificar_texto, modelRF))"
      ],
      "execution_count": 44,
      "outputs": [
        {
          "output_type": "stream",
          "text": [
            " China “stole coronavirus from Canada and weaponized it into a Bioweapon.”\n",
            "Modelo RF\n",
            "[1]\n",
            "Alerta\n",
            "None\n"
          ],
          "name": "stdout"
        }
      ]
    },
    {
      "cell_type": "code",
      "metadata": {
        "colab": {
          "base_uri": "https://localhost:8080/"
        },
        "id": "IZGYpf7BvnYT",
        "outputId": "3ad17957-444b-4bac-f15b-7739cc358dc8"
      },
      "source": [
        "# Prueba con función\n",
        "\n",
        "# 1 alerta\n",
        "# 0 no alerta\n",
        "\n",
        "clasificar_texto=text1\n",
        "print(clasificar_texto)\n",
        "\n",
        "print(\"Modelo RF\")\n",
        "print(news_alert(clasificar_texto, modelRF))\n",
        "\n",
        "print(\" \")\n",
        "print(\"Modelo LOG\")\n",
        "print(news_alert(clasificar_texto, modelLOG))\n",
        "\n",
        "print(\" \")\n",
        "print(\"Modelo SVC\")\n",
        "print(news_alert(clasificar_texto, modelSVC))\n",
        "\n",
        "print(\" \")\n",
        "print(\"Modelo NB\")\n",
        "print(news_alert(clasificar_texto, modelNB))\n"
      ],
      "execution_count": 45,
      "outputs": [
        {
          "output_type": "stream",
          "text": [
            " Having a beard increases your chances of getting coronavirus.\n",
            "Modelo RF\n",
            "[1]\n",
            "Alerta\n",
            "None\n",
            " \n",
            "Modelo LOG\n",
            "[1]\n",
            "Alerta\n",
            "None\n",
            " \n",
            "Modelo SVC\n",
            "[1]\n",
            "Alerta\n",
            "None\n",
            " \n",
            "Modelo NB\n",
            "[1]\n",
            "Alerta\n",
            "None\n"
          ],
          "name": "stdout"
        }
      ]
    },
    {
      "cell_type": "code",
      "metadata": {
        "colab": {
          "base_uri": "https://localhost:8080/"
        },
        "id": "73JmqazU-PTc",
        "outputId": "49f2cc20-6616-4644-e003-8d96c4cd686b"
      },
      "source": [
        "news_alert(clasificar_texto, modelLOG)"
      ],
      "execution_count": 46,
      "outputs": [
        {
          "output_type": "stream",
          "text": [
            "[1]\n",
            "Alerta\n"
          ],
          "name": "stdout"
        }
      ]
    },
    {
      "cell_type": "markdown",
      "metadata": {
        "id": "x1RIX7ynesF4"
      },
      "source": [
        "#### Generación de archivos de modelos de aprendizaje automático"
      ]
    },
    {
      "cell_type": "code",
      "metadata": {
        "id": "ttGet7pbxGal",
        "colab": {
          "base_uri": "https://localhost:8080/"
        },
        "outputId": "ac8c49df-a87b-49cb-e99d-b33920b24598"
      },
      "source": [
        "## Guardo los modelos en archivos\n",
        "\n",
        "\n",
        "filename = 'SVC_model.pkl'\n",
        "joblib.dump(modelSVC, filename)\n",
        "\n",
        "filename = 'NB_model.pkl'\n",
        "joblib.dump(modelNB, filename)\n",
        "\n",
        "filename = 'LOG_model.pkl'\n",
        "joblib.dump(modelLOG, filename)\n",
        "\n",
        "filename = 'RF_model.pkl'\n",
        "joblib.dump(modelRF, filename)\n",
        "\n",
        "filename = 'tokenizer.pkl'\n",
        "joblib.dump(tokenizer, filename)\n"
      ],
      "execution_count": 47,
      "outputs": [
        {
          "output_type": "execute_result",
          "data": {
            "text/plain": [
              "['tokenizer.pkl']"
            ]
          },
          "metadata": {
            "tags": []
          },
          "execution_count": 47
        }
      ]
    },
    {
      "cell_type": "markdown",
      "metadata": {
        "id": "kon8-h4Ab4dy"
      },
      "source": [
        "### Comparación de modelos de aprendizaje profundo"
      ]
    },
    {
      "cell_type": "markdown",
      "metadata": {
        "id": "9A8ijRAklkaX"
      },
      "source": [
        "#### Modelo base inicial"
      ]
    },
    {
      "cell_type": "code",
      "metadata": {
        "id": "EqluEIBJlIG-"
      },
      "source": [
        "# Parámetros de la red\n",
        "epochs = 10\n",
        "emb_dim = 128\n",
        "batch_size = 32"
      ],
      "execution_count": 48,
      "outputs": []
    },
    {
      "cell_type": "code",
      "metadata": {
        "colab": {
          "base_uri": "https://localhost:8080/"
        },
        "id": "Dvnb5fZ5ru5w",
        "outputId": "a68b41bf-a294-4d1a-f972-847088fde663"
      },
      "source": [
        "# Creación del modelo y compilación\n",
        "\n",
        "model_base = tf.keras.Sequential([\n",
        "    tf.keras.layers.Embedding(n_most_common_words, emb_dim, input_length=X.shape[1]),\n",
        "    tf.keras.layers.Flatten(),\n",
        "    tf.keras.layers.Dense(4, activation='relu'),\n",
        "    tf.keras.layers.Dropout(0.5),\n",
        "    tf.keras.layers.Dense(4, activation='relu'),\n",
        "    tf.keras.layers.Dense(1, activation='sigmoid')\n",
        "])\n",
        "model_base.summary()\n",
        "\n",
        "# Compilación\n",
        "\n",
        "model_base.compile(optimizer='adam', loss='binary_crossentropy', metrics=['acc'])"
      ],
      "execution_count": 49,
      "outputs": [
        {
          "output_type": "stream",
          "text": [
            "Model: \"sequential\"\n",
            "_________________________________________________________________\n",
            "Layer (type)                 Output Shape              Param #   \n",
            "=================================================================\n",
            "embedding (Embedding)        (None, 300, 128)          1280000   \n",
            "_________________________________________________________________\n",
            "flatten (Flatten)            (None, 38400)             0         \n",
            "_________________________________________________________________\n",
            "dense (Dense)                (None, 4)                 153604    \n",
            "_________________________________________________________________\n",
            "dropout (Dropout)            (None, 4)                 0         \n",
            "_________________________________________________________________\n",
            "dense_1 (Dense)              (None, 4)                 20        \n",
            "_________________________________________________________________\n",
            "dense_2 (Dense)              (None, 1)                 5         \n",
            "=================================================================\n",
            "Total params: 1,433,629\n",
            "Trainable params: 1,433,629\n",
            "Non-trainable params: 0\n",
            "_________________________________________________________________\n"
          ],
          "name": "stdout"
        }
      ]
    },
    {
      "cell_type": "code",
      "metadata": {
        "colab": {
          "base_uri": "https://localhost:8080/"
        },
        "id": "z0dlDAoVsvQn",
        "outputId": "fb08e0d3-9254-456d-dc3a-8b33cc81b802"
      },
      "source": [
        "# Entrenamiento\n",
        "\n",
        "history_base = model_base.fit(x_train, y_train, epochs=epochs, batch_size=batch_size,validation_split=0.2,callbacks=[EarlyStopping(monitor='val_loss',patience=7, min_delta=0.0001)])"
      ],
      "execution_count": 50,
      "outputs": [
        {
          "output_type": "stream",
          "text": [
            "Epoch 1/10\n",
            "225/225 [==============================] - 4s 16ms/step - loss: 0.6765 - acc: 0.5405 - val_loss: 0.6674 - val_acc: 0.5496\n",
            "Epoch 2/10\n",
            "225/225 [==============================] - 3s 15ms/step - loss: 0.6712 - acc: 0.5408 - val_loss: 0.6672 - val_acc: 0.5496\n",
            "Epoch 3/10\n",
            "225/225 [==============================] - 3s 15ms/step - loss: 0.6717 - acc: 0.5408 - val_loss: 0.6671 - val_acc: 0.5496\n",
            "Epoch 4/10\n",
            "225/225 [==============================] - 3s 15ms/step - loss: 0.6704 - acc: 0.5408 - val_loss: 0.6672 - val_acc: 0.5496\n",
            "Epoch 5/10\n",
            "225/225 [==============================] - 3s 15ms/step - loss: 0.6702 - acc: 0.5408 - val_loss: 0.6671 - val_acc: 0.5496\n",
            "Epoch 6/10\n",
            "225/225 [==============================] - 4s 16ms/step - loss: 0.6709 - acc: 0.5408 - val_loss: 0.6672 - val_acc: 0.5496\n",
            "Epoch 7/10\n",
            "225/225 [==============================] - 3s 15ms/step - loss: 0.6698 - acc: 0.5408 - val_loss: 0.6672 - val_acc: 0.5496\n",
            "Epoch 8/10\n",
            "225/225 [==============================] - 4s 16ms/step - loss: 0.6705 - acc: 0.5408 - val_loss: 0.6672 - val_acc: 0.5496\n",
            "Epoch 9/10\n",
            "225/225 [==============================] - 4s 16ms/step - loss: 0.6699 - acc: 0.5408 - val_loss: 0.6672 - val_acc: 0.5496\n"
          ],
          "name": "stdout"
        }
      ]
    },
    {
      "cell_type": "code",
      "metadata": {
        "colab": {
          "base_uri": "https://localhost:8080/",
          "height": 295
        },
        "id": "NcFYevP-svNH",
        "outputId": "2eba9362-78fd-4df4-d64d-833aff886525"
      },
      "source": [
        "# Resultados\n",
        "\n",
        "# Accuracy\n",
        "plot_acc(history_base)"
      ],
      "execution_count": 51,
      "outputs": [
        {
          "output_type": "display_data",
          "data": {
            "image/png": "[encoded data removed]",
            "text/plain": [
              "<Figure size 432x288 with 1 Axes>"
            ]
          },
          "metadata": {
            "tags": [],
            "needs_background": "light"
          }
        }
      ]
    },
    {
      "cell_type": "code",
      "metadata": {
        "colab": {
          "base_uri": "https://localhost:8080/",
          "height": 295
        },
        "id": "n6axh2Qsv36v",
        "outputId": "66de4b40-1ca0-4563-80ff-e5760e4be1d4"
      },
      "source": [
        "# Loss\n",
        "plot_loss(history_base)"
      ],
      "execution_count": 52,
      "outputs": [
        {
          "output_type": "display_data",
          "data": {
            "image/png": "[encoded data removed]",
            "text/plain": [
              "<Figure size 432x288 with 1 Axes>"
            ]
          },
          "metadata": {
            "tags": [],
            "needs_background": "light"
          }
        }
      ]
    },
    {
      "cell_type": "markdown",
      "metadata": {
        "id": "0Rtp6lKjworM"
      },
      "source": [
        "#### Modelo redes convolucionales - CNN"
      ]
    },
    {
      "cell_type": "code",
      "metadata": {
        "id": "L34cRp69v33Y"
      },
      "source": [
        "# Parámetros de la red\n",
        "epochs = 20\n",
        "emb_dim = 128\n",
        "batch_size = 32"
      ],
      "execution_count": 53,
      "outputs": []
    },
    {
      "cell_type": "code",
      "metadata": {
        "colab": {
          "base_uri": "https://localhost:8080/"
        },
        "id": "k_KNMYnTlIE7",
        "outputId": "31eb2fbd-ed0e-4f11-eee3-cd2a430e5a2c"
      },
      "source": [
        "# Creación del modelo y compilación\n",
        "\n",
        "model_CNN = tf.keras.Sequential([\n",
        "    tf.keras.layers.Embedding(n_most_common_words, emb_dim, input_length=X.shape[1]),\n",
        "    tf.keras.layers.Conv1D(128, 4, activation='relu'),\n",
        "    tf.keras.layers.GlobalMaxPooling1D(),\n",
        "    tf.keras.layers.Flatten(),\n",
        "    tf.keras.layers.Dropout(0.2),\n",
        "    tf.keras.layers.Dense(64, activation='relu'),\n",
        "    tf.keras.layers.Dense(1, activation='sigmoid')\n",
        "])\n",
        "model_CNN.summary()\n",
        "\n",
        "# Compilación\n",
        "\n",
        "model_CNN.compile(optimizer='adam', loss='binary_crossentropy', metrics=['acc'])"
      ],
      "execution_count": 54,
      "outputs": [
        {
          "output_type": "stream",
          "text": [
            "Model: \"sequential_1\"\n",
            "_________________________________________________________________\n",
            "Layer (type)                 Output Shape              Param #   \n",
            "=================================================================\n",
            "embedding_1 (Embedding)      (None, 300, 128)          1280000   \n",
            "_________________________________________________________________\n",
            "conv1d (Conv1D)              (None, 297, 128)          65664     \n",
            "_________________________________________________________________\n",
            "global_max_pooling1d (Global (None, 128)               0         \n",
            "_________________________________________________________________\n",
            "flatten_1 (Flatten)          (None, 128)               0         \n",
            "_________________________________________________________________\n",
            "dropout_1 (Dropout)          (None, 128)               0         \n",
            "_________________________________________________________________\n",
            "dense_3 (Dense)              (None, 64)                8256      \n",
            "_________________________________________________________________\n",
            "dense_4 (Dense)              (None, 1)                 65        \n",
            "=================================================================\n",
            "Total params: 1,353,985\n",
            "Trainable params: 1,353,985\n",
            "Non-trainable params: 0\n",
            "_________________________________________________________________\n"
          ],
          "name": "stdout"
        }
      ]
    },
    {
      "cell_type": "code",
      "metadata": {
        "colab": {
          "base_uri": "https://localhost:8080/"
        },
        "id": "Ip4oWqGwlIAd",
        "outputId": "2b134247-2c64-4a4f-b6bb-9aaf1613acd7"
      },
      "source": [
        "# Entrenamiento\n",
        "\n",
        "history_CNN = model_CNN.fit(x_train, y_train, epochs=epochs, batch_size=batch_size,validation_split=0.2,callbacks=[EarlyStopping(monitor='val_loss',patience=7, min_delta=0.0001)])"
      ],
      "execution_count": 55,
      "outputs": [
        {
          "output_type": "stream",
          "text": [
            "Epoch 1/20\n",
            "225/225 [==============================] - 23s 101ms/step - loss: 0.2945 - acc: 0.8603 - val_loss: 0.1246 - val_acc: 0.9538\n",
            "Epoch 2/20\n",
            "225/225 [==============================] - 22s 99ms/step - loss: 0.0722 - acc: 0.9756 - val_loss: 0.1182 - val_acc: 0.9555\n",
            "Epoch 3/20\n",
            "225/225 [==============================] - 22s 99ms/step - loss: 0.0170 - acc: 0.9948 - val_loss: 0.1372 - val_acc: 0.9605\n",
            "Epoch 4/20\n",
            "225/225 [==============================] - 23s 100ms/step - loss: 0.0051 - acc: 0.9989 - val_loss: 0.1557 - val_acc: 0.9605\n",
            "Epoch 5/20\n",
            "225/225 [==============================] - 22s 99ms/step - loss: 0.0030 - acc: 0.9996 - val_loss: 0.1644 - val_acc: 0.9633\n",
            "Epoch 6/20\n",
            "225/225 [==============================] - 22s 100ms/step - loss: 0.0015 - acc: 0.9997 - val_loss: 0.1759 - val_acc: 0.9649\n",
            "Epoch 7/20\n",
            "225/225 [==============================] - 22s 100ms/step - loss: 0.0014 - acc: 0.9999 - val_loss: 0.1804 - val_acc: 0.9627\n",
            "Epoch 8/20\n",
            "225/225 [==============================] - 24s 105ms/step - loss: 8.3513e-04 - acc: 0.9999 - val_loss: 0.1943 - val_acc: 0.9577\n",
            "Epoch 9/20\n",
            "225/225 [==============================] - 23s 101ms/step - loss: 0.0019 - acc: 0.9997 - val_loss: 0.1923 - val_acc: 0.9582\n"
          ],
          "name": "stdout"
        }
      ]
    },
    {
      "cell_type": "code",
      "metadata": {
        "id": "F76ibw_7DV8g",
        "colab": {
          "base_uri": "https://localhost:8080/",
          "height": 295
        },
        "outputId": "3f6c2c94-5b69-4349-b52a-9c4ce50b54b2"
      },
      "source": [
        "# Resultados\n",
        "\n",
        "# Accuracy\n",
        "plot_acc(history_CNN)"
      ],
      "execution_count": 56,
      "outputs": [
        {
          "output_type": "display_data",
          "data": {
            "image/png": "[encoded data removed]",
            "text/plain": [
              "<Figure size 432x288 with 1 Axes>"
            ]
          },
          "metadata": {
            "tags": [],
            "needs_background": "light"
          }
        }
      ]
    },
    {
      "cell_type": "code",
      "metadata": {
        "colab": {
          "base_uri": "https://localhost:8080/",
          "height": 295
        },
        "id": "IiE_CYf6wIKp",
        "outputId": "b5e8212f-d9bf-45c0-c34c-4a84f769c55d"
      },
      "source": [
        "# Loss\n",
        "\n",
        "plot_loss(history_CNN)"
      ],
      "execution_count": 57,
      "outputs": [
        {
          "output_type": "display_data",
          "data": {
            "image/png": "[encoded data removed]",
            "text/plain": [
              "<Figure size 432x288 with 1 Axes>"
            ]
          },
          "metadata": {
            "tags": [],
            "needs_background": "light"
          }
        }
      ]
    },
    {
      "cell_type": "markdown",
      "metadata": {
        "id": "YEC8LEvTw9U7"
      },
      "source": [
        "#### Modelo redes recurrentes - RNN"
      ]
    },
    {
      "cell_type": "code",
      "metadata": {
        "id": "oBG_JUQHxHyp"
      },
      "source": [
        "# Parámetros de la red\n",
        "epochs = 20\n",
        "emb_dim = 128\n",
        "batch_size = 32"
      ],
      "execution_count": 58,
      "outputs": []
    },
    {
      "cell_type": "code",
      "metadata": {
        "colab": {
          "base_uri": "https://localhost:8080/"
        },
        "id": "p5-b9dbQxQFV",
        "outputId": "345b0693-b20e-4df9-c9db-817d51dff67e"
      },
      "source": [
        "# Creación del modelo y compilación\n",
        "\n",
        "model_RNN = tf.keras.Sequential([\n",
        "    tf.keras.layers.Embedding(n_most_common_words, emb_dim, input_length=X.shape[1]),\n",
        "    tf.keras.layers.SpatialDropout1D(0.7),\n",
        "    tf.keras.layers.LSTM(64, dropout=0.7, recurrent_dropout=0.7),\n",
        "    tf.keras.layers.Flatten(),\n",
        "    tf.keras.layers.Dropout(0.2),\n",
        "    tf.keras.layers.Dense(64, activation='relu'),\n",
        "    tf.keras.layers.Dense(1, activation='sigmoid')\n",
        "])\n",
        "model_RNN.summary()\n",
        "\n",
        "# Compilación\n",
        "\n",
        "model_RNN.compile(optimizer='adam', loss='binary_crossentropy', metrics=['acc'])"
      ],
      "execution_count": 59,
      "outputs": [
        {
          "output_type": "stream",
          "text": [
            "Model: \"sequential_2\"\n",
            "_________________________________________________________________\n",
            "Layer (type)                 Output Shape              Param #   \n",
            "=================================================================\n",
            "embedding_2 (Embedding)      (None, 300, 128)          1280000   \n",
            "_________________________________________________________________\n",
            "spatial_dropout1d (SpatialDr (None, 300, 128)          0         \n",
            "_________________________________________________________________\n",
            "lstm (LSTM)                  (None, 64)                49408     \n",
            "_________________________________________________________________\n",
            "flatten_2 (Flatten)          (None, 64)                0         \n",
            "_________________________________________________________________\n",
            "dropout_2 (Dropout)          (None, 64)                0         \n",
            "_________________________________________________________________\n",
            "dense_5 (Dense)              (None, 64)                4160      \n",
            "_________________________________________________________________\n",
            "dense_6 (Dense)              (None, 1)                 65        \n",
            "=================================================================\n",
            "Total params: 1,333,633\n",
            "Trainable params: 1,333,633\n",
            "Non-trainable params: 0\n",
            "_________________________________________________________________\n"
          ],
          "name": "stdout"
        }
      ]
    },
    {
      "cell_type": "code",
      "metadata": {
        "colab": {
          "base_uri": "https://localhost:8080/"
        },
        "id": "7n5Jir8rxXkr",
        "outputId": "b7cffca3-9319-4144-8200-70b6358ce2f9"
      },
      "source": [
        "# Entrenamiento\n",
        "\n",
        "history_RNN = model_RNN.fit(x_train, y_train, epochs=epochs, batch_size=batch_size,validation_split=0.2,callbacks=[EarlyStopping(monitor='val_loss',patience=7, min_delta=0.0001)])"
      ],
      "execution_count": 60,
      "outputs": [
        {
          "output_type": "stream",
          "text": [
            "Epoch 1/20\n",
            "225/225 [==============================] - 96s 426ms/step - loss: 0.3972 - acc: 0.8221 - val_loss: 0.1953 - val_acc: 0.9287\n",
            "Epoch 2/20\n",
            "225/225 [==============================] - 96s 424ms/step - loss: 0.2026 - acc: 0.9220 - val_loss: 0.1565 - val_acc: 0.9393\n",
            "Epoch 3/20\n",
            "225/225 [==============================] - 95s 421ms/step - loss: 0.1548 - acc: 0.9404 - val_loss: 0.1177 - val_acc: 0.9577\n",
            "Epoch 4/20\n",
            "225/225 [==============================] - 95s 421ms/step - loss: 0.1254 - acc: 0.9533 - val_loss: 0.1095 - val_acc: 0.9610\n",
            "Epoch 5/20\n",
            "225/225 [==============================] - 94s 419ms/step - loss: 0.1029 - acc: 0.9625 - val_loss: 0.0965 - val_acc: 0.9655\n",
            "Epoch 6/20\n",
            "225/225 [==============================] - 94s 419ms/step - loss: 0.0889 - acc: 0.9652 - val_loss: 0.1007 - val_acc: 0.9621\n",
            "Epoch 7/20\n",
            "225/225 [==============================] - 94s 418ms/step - loss: 0.0816 - acc: 0.9716 - val_loss: 0.0905 - val_acc: 0.9655\n",
            "Epoch 8/20\n",
            "225/225 [==============================] - 94s 418ms/step - loss: 0.0607 - acc: 0.9762 - val_loss: 0.0984 - val_acc: 0.9627\n",
            "Epoch 9/20\n",
            "225/225 [==============================] - 94s 416ms/step - loss: 0.0581 - acc: 0.9792 - val_loss: 0.0941 - val_acc: 0.9655\n",
            "Epoch 10/20\n",
            "225/225 [==============================] - 94s 417ms/step - loss: 0.0532 - acc: 0.9806 - val_loss: 0.0973 - val_acc: 0.9638\n",
            "Epoch 11/20\n",
            "225/225 [==============================] - 93s 414ms/step - loss: 0.0460 - acc: 0.9833 - val_loss: 0.1015 - val_acc: 0.9605\n",
            "Epoch 12/20\n",
            "225/225 [==============================] - 94s 417ms/step - loss: 0.0429 - acc: 0.9845 - val_loss: 0.1155 - val_acc: 0.9671\n",
            "Epoch 13/20\n",
            "225/225 [==============================] - 94s 417ms/step - loss: 0.0379 - acc: 0.9865 - val_loss: 0.1057 - val_acc: 0.9633\n",
            "Epoch 14/20\n",
            "225/225 [==============================] - 93s 413ms/step - loss: 0.0342 - acc: 0.9872 - val_loss: 0.1297 - val_acc: 0.9660\n"
          ],
          "name": "stdout"
        }
      ]
    },
    {
      "cell_type": "code",
      "metadata": {
        "colab": {
          "base_uri": "https://localhost:8080/",
          "height": 295
        },
        "id": "9f2rk2EQxb2A",
        "outputId": "8dc2367f-a9a2-40cd-cf89-aefe54a9879b"
      },
      "source": [
        "# Resultados\n",
        "\n",
        "# Accuracy\n",
        "plot_acc(history_RNN)"
      ],
      "execution_count": 61,
      "outputs": [
        {
          "output_type": "display_data",
          "data": {
            "image/png": "[encoded data removed]",
            "text/plain": [
              "<Figure size 432x288 with 1 Axes>"
            ]
          },
          "metadata": {
            "tags": [],
            "needs_background": "light"
          }
        }
      ]
    },
    {
      "cell_type": "code",
      "metadata": {
        "colab": {
          "base_uri": "https://localhost:8080/",
          "height": 295
        },
        "id": "rsYVxlUkxf-V",
        "outputId": "72f7be2f-a5d0-4329-8583-af07708604c3"
      },
      "source": [
        "# Loss\n",
        "\n",
        "plot_loss(history_RNN)"
      ],
      "execution_count": 62,
      "outputs": [
        {
          "output_type": "display_data",
          "data": {
            "image/png": "[encoded data removed]",
            "text/plain": [
              "<Figure size 432x288 with 1 Axes>"
            ]
          },
          "metadata": {
            "tags": [],
            "needs_background": "light"
          }
        }
      ]
    },
    {
      "cell_type": "markdown",
      "metadata": {
        "id": "ZbiQCgsPz9Fy"
      },
      "source": [
        "#### Comparación de los modelos"
      ]
    },
    {
      "cell_type": "code",
      "metadata": {
        "colab": {
          "base_uri": "https://localhost:8080/",
          "height": 295
        },
        "id": "PF-l8j3R0Afq",
        "outputId": "b129dff1-2e17-48dd-8d28-8d9a65117fa0"
      },
      "source": [
        "# Comparación Base vs CNN - Accuracy\n",
        "plot_compare_accs(history_base, history_CNN, 'NN', 'CNN', 'ACCURACY')"
      ],
      "execution_count": 63,
      "outputs": [
        {
          "output_type": "display_data",
          "data": {
            "image/png": "[encoded data removed]",
            "text/plain": [
              "<Figure size 432x288 with 1 Axes>"
            ]
          },
          "metadata": {
            "tags": [],
            "needs_background": "light"
          }
        }
      ]
    },
    {
      "cell_type": "code",
      "metadata": {
        "colab": {
          "base_uri": "https://localhost:8080/",
          "height": 295
        },
        "id": "3EOPPhZ70Eao",
        "outputId": "c10cccf0-9a6c-4452-e2c1-8244096e85e3"
      },
      "source": [
        "# Comparación Base vs CNN - Loss\n",
        "plot_compare_losses(history_base, history_CNN, 'NN', 'CNN', 'LOSS')"
      ],
      "execution_count": 64,
      "outputs": [
        {
          "output_type": "display_data",
          "data": {
            "image/png": "[encoded data removed]",
            "text/plain": [
              "<Figure size 432x288 with 1 Axes>"
            ]
          },
          "metadata": {
            "tags": [],
            "needs_background": "light"
          }
        }
      ]
    },
    {
      "cell_type": "code",
      "metadata": {
        "colab": {
          "base_uri": "https://localhost:8080/",
          "height": 295
        },
        "id": "I6GiI6-b0OuD",
        "outputId": "7d67392e-280f-47d6-d10e-cb7230763867"
      },
      "source": [
        "# Comparación CNN vs RNN - Accuracy\n",
        "plot_compare_accs(history_CNN, history_RNN, 'CNN', 'RNN', 'ACCURACY')"
      ],
      "execution_count": 65,
      "outputs": [
        {
          "output_type": "display_data",
          "data": {
            "image/png": "[encoded data removed]",
            "text/plain": [
              "<Figure size 432x288 with 1 Axes>"
            ]
          },
          "metadata": {
            "tags": [],
            "needs_background": "light"
          }
        }
      ]
    },
    {
      "cell_type": "code",
      "metadata": {
        "colab": {
          "base_uri": "https://localhost:8080/",
          "height": 295
        },
        "id": "RAzTpc3R0UEr",
        "outputId": "9349b7a5-46b9-4564-e2aa-6e312f75d116"
      },
      "source": [
        "# Comparación CNN vs RNN - Loss\n",
        "plot_compare_losses(history_CNN, history_RNN, 'CNN', 'RNN', 'LOSS')"
      ],
      "execution_count": 66,
      "outputs": [
        {
          "output_type": "display_data",
          "data": {
            "image/png": "[encoded data removed]",
            "text/plain": [
              "<Figure size 432x288 with 1 Axes>"
            ]
          },
          "metadata": {
            "tags": [],
            "needs_background": "light"
          }
        }
      ]
    },
    {
      "cell_type": "markdown",
      "metadata": {
        "id": "Dm1P1ZZs0l0F"
      },
      "source": [
        "#### Prueba de modelos de aprendizaje profundo"
      ]
    },
    {
      "cell_type": "code",
      "metadata": {
        "colab": {
          "base_uri": "https://localhost:8080/"
        },
        "id": "a8zQyQbQ1pQz",
        "outputId": "32ad3966-51f7-4983-8d3c-dc68af4a6ee9"
      },
      "source": [
        "# Prueba con textos de datos de reserva\n",
        "\n",
        "text1=datos_reserva[\"Text\"][120]\n",
        "text2=datos_reserva[\"Text\"][18]\n",
        "text3=datos_reserva[\"Text\"][88]\n",
        "\n",
        "print(\"Texto 1: \", text1)\n",
        "print(\"Categoria real: \",datos_reserva[\"label\"][120])\n",
        "\n",
        "print(\"Texto 2: \", text2)\n",
        "print(\"Categoria real: \",datos_reserva[\"label\"][18])\n",
        "\n",
        "print(\"Texto 3: \", text3)\n",
        "print(\"Categoria real: \",datos_reserva[\"label\"][88])"
      ],
      "execution_count": 67,
      "outputs": [
        {
          "output_type": "stream",
          "text": [
            "Texto 1:  Nearly 300,000 more people have died in the United States in 2020 during the coronavirus pandemic than would be expected based on historical trends, with at least two-thirds due to COVID-19, a government report released on Tuesday showed, adding that COVID deaths likely were undercounted.\n",
            "Categoria real:  True\n",
            "Texto 2:  A video purportedly showing COVID-19 victims in body bags strewn across the floor of a New York hospital was shared several thousand times in multiple languages on social media.\n",
            "Categoria real:  False\n",
            "Texto 3:  New cases of COVID-19 in England were rising by around 35,200 per day last week, up from 27,900 the week before, although there were tentative signs of a levelling-off around this rate, an official estimate showed on Friday.\n",
            "Categoria real:  True\n"
          ],
          "name": "stdout"
        }
      ]
    },
    {
      "cell_type": "code",
      "metadata": {
        "id": "-Ek7W-X203rF"
      },
      "source": [
        "# Función para prueba\n",
        "\n",
        "def news_alert(a, modelo_probar):\n",
        "    clf=modelo_probar\n",
        "    # Tokenizacion\n",
        "    corpus_1=[]\n",
        "    corpus_1.append(a)\n",
        "    corpus_2=pd.Series(corpus_1)\n",
        "    sequences_reserva = tokenizer.texts_to_sequences(corpus_2.values)\n",
        "    transform_vect_reserva= pad_sequences(sequences_reserva, maxlen=max_len)\n",
        "    #print(transform_vect_reserva)\n",
        "    \n",
        "    prediccion=clf.predict(transform_vect_reserva)\n",
        "    prediccion_a = [np.array(prediccion)]\n",
        "    print(prediccion)    \n",
        "\n",
        "    if prediccion > 0.5:\n",
        "       print(\"Alerta\")\n",
        "    else:\n",
        "      print(\"No alerta\")"
      ],
      "execution_count": 68,
      "outputs": []
    },
    {
      "cell_type": "code",
      "metadata": {
        "colab": {
          "base_uri": "https://localhost:8080/"
        },
        "id": "kXx61QdZ03nx",
        "outputId": "f2f9f863-84fa-48d9-d298-995c08642d64"
      },
      "source": [
        "# Prueba Única\n",
        "\n",
        "test=datos_reserva[\"Text\"][18]\n",
        "  \n",
        "corpus_t=[]\n",
        "corpus_t.append(test)\n",
        "corpus_t=pd.Series(corpus_t)\n",
        "  \n",
        "  \n",
        "sequences_reserva = tokenizer.texts_to_sequences(corpus_t.values)\n",
        "transform_vect_reserva= pad_sequences(sequences_reserva, maxlen=max_len)\n",
        "\n",
        "transform_vect_reserva"
      ],
      "execution_count": 69,
      "outputs": [
        {
          "output_type": "execute_result",
          "data": {
            "text/plain": [
              "array([[   0,    0,    0,    0,    0,    0,    0,    0,    0,    0,    0,\n",
              "           0,    0,    0,    0,    0,    0,    0,    0,    0,    0,    0,\n",
              "           0,    0,    0,    0,    0,    0,    0,    0,    0,    0,    0,\n",
              "           0,    0,    0,    0,    0,    0,    0,    0,    0,    0,    0,\n",
              "           0,    0,    0,    0,    0,    0,    0,    0,    0,    0,    0,\n",
              "           0,    0,    0,    0,    0,    0,    0,    0,    0,    0,    0,\n",
              "           0,    0,    0,    0,    0,    0,    0,    0,    0,    0,    0,\n",
              "           0,    0,    0,    0,    0,    0,    0,    0,    0,    0,    0,\n",
              "           0,    0,    0,    0,    0,    0,    0,    0,    0,    0,    0,\n",
              "           0,    0,    0,    0,    0,    0,    0,    0,    0,    0,    0,\n",
              "           0,    0,    0,    0,    0,    0,    0,    0,    0,    0,    0,\n",
              "           0,    0,    0,    0,    0,    0,    0,    0,    0,    0,    0,\n",
              "           0,    0,    0,    0,    0,    0,    0,    0,    0,    0,    0,\n",
              "           0,    0,    0,    0,    0,    0,    0,    0,    0,    0,    0,\n",
              "           0,    0,    0,    0,    0,    0,    0,    0,    0,    0,    0,\n",
              "           0,    0,    0,    0,    0,    0,    0,    0,    0,    0,    0,\n",
              "           0,    0,    0,    0,    0,    0,    0,    0,    0,    0,    0,\n",
              "           0,    0,    0,    0,    0,    0,    0,    0,    0,    0,    0,\n",
              "           0,    0,    0,    0,    0,    0,    0,    0,    0,    0,    0,\n",
              "           0,    0,    0,    0,    0,    0,    0,    0,    0,    0,    0,\n",
              "           0,    0,    0,    0,    0,    0,    0,    0,    0,    0,    0,\n",
              "           0,    0,    0,    0,    0,    0,    0,    0,    0,    0,    0,\n",
              "           0,    0,    0,    0,    0,    0,    0,    0,    0,    0,    0,\n",
              "           0,    0,    0,    0,    0,    0,    0,    0,    0,    0,    0,\n",
              "           0,    0,    0,    0,    0,    0,    0,    5,   49, 2365,  363,\n",
              "          15,   14,  624,    4,  424, 1686, 7431,  239,    1, 1955,    3,\n",
              "           5,   25,  648,   57,   28,  197,  536, 2063,  188,    4,  318,\n",
              "           8,  171,   74]], dtype=int32)"
            ]
          },
          "metadata": {
            "tags": []
          },
          "execution_count": 69
        }
      ]
    },
    {
      "cell_type": "code",
      "metadata": {
        "colab": {
          "base_uri": "https://localhost:8080/",
          "height": 35
        },
        "id": "A881KSylTCIL",
        "outputId": "6ad7ecd6-d1da-4c1a-c509-7e6b6317000c"
      },
      "source": [
        "datos_reserva[\"Text\"][18]"
      ],
      "execution_count": 70,
      "outputs": [
        {
          "output_type": "execute_result",
          "data": {
            "application/vnd.google.colaboratory.intrinsic+json": {
              "type": "string"
            },
            "text/plain": [
              "'A video purportedly showing COVID-19 victims in body bags strewn across the floor of a New York hospital was shared several thousand times in multiple languages on social media.'"
            ]
          },
          "metadata": {
            "tags": []
          },
          "execution_count": 70
        }
      ]
    },
    {
      "cell_type": "code",
      "metadata": {
        "id": "JtP8S7TbfUq7"
      },
      "source": [
        ""
      ],
      "execution_count": 70,
      "outputs": []
    },
    {
      "cell_type": "code",
      "metadata": {
        "colab": {
          "base_uri": "https://localhost:8080/"
        },
        "id": "HDOynfRFTPJP",
        "outputId": "e32a582e-cebb-40bb-e751-53f416c7abe9"
      },
      "source": [
        "transform_vect_reserva"
      ],
      "execution_count": 71,
      "outputs": [
        {
          "output_type": "execute_result",
          "data": {
            "text/plain": [
              "array([[   0,    0,    0,    0,    0,    0,    0,    0,    0,    0,    0,\n",
              "           0,    0,    0,    0,    0,    0,    0,    0,    0,    0,    0,\n",
              "           0,    0,    0,    0,    0,    0,    0,    0,    0,    0,    0,\n",
              "           0,    0,    0,    0,    0,    0,    0,    0,    0,    0,    0,\n",
              "           0,    0,    0,    0,    0,    0,    0,    0,    0,    0,    0,\n",
              "           0,    0,    0,    0,    0,    0,    0,    0,    0,    0,    0,\n",
              "           0,    0,    0,    0,    0,    0,    0,    0,    0,    0,    0,\n",
              "           0,    0,    0,    0,    0,    0,    0,    0,    0,    0,    0,\n",
              "           0,    0,    0,    0,    0,    0,    0,    0,    0,    0,    0,\n",
              "           0,    0,    0,    0,    0,    0,    0,    0,    0,    0,    0,\n",
              "           0,    0,    0,    0,    0,    0,    0,    0,    0,    0,    0,\n",
              "           0,    0,    0,    0,    0,    0,    0,    0,    0,    0,    0,\n",
              "           0,    0,    0,    0,    0,    0,    0,    0,    0,    0,    0,\n",
              "           0,    0,    0,    0,    0,    0,    0,    0,    0,    0,    0,\n",
              "           0,    0,    0,    0,    0,    0,    0,    0,    0,    0,    0,\n",
              "           0,    0,    0,    0,    0,    0,    0,    0,    0,    0,    0,\n",
              "           0,    0,    0,    0,    0,    0,    0,    0,    0,    0,    0,\n",
              "           0,    0,    0,    0,    0,    0,    0,    0,    0,    0,    0,\n",
              "           0,    0,    0,    0,    0,    0,    0,    0,    0,    0,    0,\n",
              "           0,    0,    0,    0,    0,    0,    0,    0,    0,    0,    0,\n",
              "           0,    0,    0,    0,    0,    0,    0,    0,    0,    0,    0,\n",
              "           0,    0,    0,    0,    0,    0,    0,    0,    0,    0,    0,\n",
              "           0,    0,    0,    0,    0,    0,    0,    0,    0,    0,    0,\n",
              "           0,    0,    0,    0,    0,    0,    0,    0,    0,    0,    0,\n",
              "           0,    0,    0,    0,    0,    0,    0,    5,   49, 2365,  363,\n",
              "          15,   14,  624,    4,  424, 1686, 7431,  239,    1, 1955,    3,\n",
              "           5,   25,  648,   57,   28,  197,  536, 2063,  188,    4,  318,\n",
              "           8,  171,   74]], dtype=int32)"
            ]
          },
          "metadata": {
            "tags": []
          },
          "execution_count": 71
        }
      ]
    },
    {
      "cell_type": "code",
      "metadata": {
        "colab": {
          "base_uri": "https://localhost:8080/"
        },
        "id": "OVrHsoPo1ZdU",
        "outputId": "54691cdd-902c-4481-a216-600a0c81bc42"
      },
      "source": [
        "X_reserva[120]"
      ],
      "execution_count": 72,
      "outputs": [
        {
          "output_type": "execute_result",
          "data": {
            "text/plain": [
              "array([   0,    0,    0,    0,    0,    0,    0,    0,    0,    0,    0,\n",
              "          0,    0,    0,    0,    0,    0,    0,    0,    0,    0,    0,\n",
              "          0,    0,    0,    0,    0,    0,    0,    0,    0,    0,    0,\n",
              "          0,    0,    0,    0,    0,    0,    0,    0,    0,    0,    0,\n",
              "          0,    0,    0,    0,    0,    0,    0,    0,    0,    0,    0,\n",
              "          0,    0,    0,    0,    0,    0,    0,    0,    0,    0,    0,\n",
              "          0,    0,    0,    0,    0,    0,    0,    0,    0,    0,    0,\n",
              "          0,    0,    0,    0,    0,    0,    0,    0,    0,    0,    0,\n",
              "          0,    0,    0,    0,    0,    0,    0,    0,    0,    0,    0,\n",
              "          0,    0,    0,    0,    0,    0,    0,    0,    0,    0,    0,\n",
              "          0,    0,    0,    0,    0,    0,    0,    0,    0,    0,    0,\n",
              "          0,    0,    0,    0,    0,    0,    0,    0,    0,    0,    0,\n",
              "          0,    0,    0,    0,    0,    0,    0,    0,    0,    0,    0,\n",
              "          0,    0,    0,    0,    0,    0,    0,    0,    0,    0,    0,\n",
              "          0,    0,    0,    0,    0,    0,    0,    0,    0,    0,    0,\n",
              "          0,    0,    0,    0,    0,    0,    0,    0,    0,    0,    0,\n",
              "          0,    0,    0,    0,    0,    0,    0,    0,    0,    0,    0,\n",
              "          0,    0,    0,    0,    0,    0,    0,    0,    0,    0,    0,\n",
              "          0,    0,    0,    0,    0,    0,    0,    0,    0,    0,    0,\n",
              "          0,    0,    0,    0,    0,    0,    0,    0,    0,    0,    0,\n",
              "          0,    0,    0,    0,    0,    0,    0,    0,    0,    0,    0,\n",
              "          0,    0,    0,    0,    0,    0,    0,    0,    0,    0,    0,\n",
              "          0,    0,    0,    0,    0,    0,    0,    0,    0,    0,    0,\n",
              "          0,  562, 1228,   95,   35,   24,   21,  157,    4,    1,  156,\n",
              "        131,    4,  312,  102,    1,    7,   61,   51,   80,   22,  700,\n",
              "        388,    8, 6242,   16,   23,  351,   63, 4467,  119,    2,   15,\n",
              "         14,    5,   46,  582,  584,    8,   85,  243,  892,   11,   15,\n",
              "         83,  383,   47], dtype=int32)"
            ]
          },
          "metadata": {
            "tags": []
          },
          "execution_count": 72
        }
      ]
    },
    {
      "cell_type": "code",
      "metadata": {
        "id": "0t3H4Re9TrN5"
      },
      "source": [
        "prediccion222=model_base.predict(transform_vect_reserva)"
      ],
      "execution_count": 73,
      "outputs": []
    },
    {
      "cell_type": "code",
      "metadata": {
        "colab": {
          "base_uri": "https://localhost:8080/"
        },
        "id": "0h-TkbMkTvnD",
        "outputId": "1f44ebae-b9b5-4ab1-e6dd-c255b131cfe6"
      },
      "source": [
        "len(prediccion222[0])"
      ],
      "execution_count": 74,
      "outputs": [
        {
          "output_type": "execute_result",
          "data": {
            "text/plain": [
              "1"
            ]
          },
          "metadata": {
            "tags": []
          },
          "execution_count": 74
        }
      ]
    },
    {
      "cell_type": "code",
      "metadata": {
        "colab": {
          "base_uri": "https://localhost:8080/"
        },
        "id": "q_ftkZXVWD4T",
        "outputId": "f94fe42f-618c-49ae-aa4d-5118a861f1ec"
      },
      "source": [
        "model_RNN.predict(transform_vect_reserva)"
      ],
      "execution_count": 75,
      "outputs": [
        {
          "output_type": "execute_result",
          "data": {
            "text/plain": [
              "array([[0.99997294]], dtype=float32)"
            ]
          },
          "metadata": {
            "tags": []
          },
          "execution_count": 75
        }
      ]
    },
    {
      "cell_type": "code",
      "metadata": {
        "colab": {
          "base_uri": "https://localhost:8080/"
        },
        "id": "6ooTkvxU1ZVb",
        "outputId": "1780736d-1a6e-4344-d1a5-d3d2dd5d38f5"
      },
      "source": [
        "# Prueba con función\n",
        "\n",
        "clasificar_texto=text2\n",
        "print(clasificar_texto)\n",
        "\n",
        "print(\"Modelo NN\")\n",
        "print(news_alert(clasificar_texto, model_base))\n",
        "\n",
        "print(\" \")\n",
        "print(\"Modelo CNN\")\n",
        "print(news_alert(clasificar_texto, model_CNN))\n",
        "\n",
        "print(\" \")\n",
        "print(\"Modelo RNN\")\n",
        "print(news_alert(clasificar_texto, model_RNN))"
      ],
      "execution_count": 76,
      "outputs": [
        {
          "output_type": "stream",
          "text": [
            "A video purportedly showing COVID-19 victims in body bags strewn across the floor of a New York hospital was shared several thousand times in multiple languages on social media.\n",
            "Modelo NN\n",
            "[[0.4744293]]\n",
            "No alerta\n",
            "None\n",
            " \n",
            "Modelo CNN\n",
            "[[0.99999964]]\n",
            "Alerta\n",
            "None\n",
            " \n",
            "Modelo RNN\n",
            "[[0.99997294]]\n",
            "Alerta\n",
            "None\n"
          ],
          "name": "stdout"
        }
      ]
    },
    {
      "cell_type": "markdown",
      "metadata": {
        "id": "FuSFLql90rNk"
      },
      "source": [
        "#### Generación de archivos de modelos de aprendizaje profundo"
      ]
    },
    {
      "cell_type": "code",
      "metadata": {
        "id": "nfsM15YU0w34"
      },
      "source": [
        "## Guardo los modelos en archivos\n",
        "\n",
        "\n",
        "model_base.save('model_base.h5') \n",
        "\n",
        "model_CNN.save('model_CNN.h5') \n",
        "\n",
        "model_RNN.save('model_RNN.h5') "
      ],
      "execution_count": 77,
      "outputs": []
    }
  ]
}